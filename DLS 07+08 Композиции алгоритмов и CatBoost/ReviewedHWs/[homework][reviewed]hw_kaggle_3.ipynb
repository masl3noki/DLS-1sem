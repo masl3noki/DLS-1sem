{
  "nbformat": 4,
  "nbformat_minor": 0,
  "metadata": {
    "colab": {
      "provenance": []
    },
    "kernelspec": {
      "name": "python3",
      "display_name": "Python 3"
    },
    "language_info": {
      "name": "python"
    }
  },
  "cells": [
    {
      "cell_type": "markdown",
      "metadata": {
        "id": "TK7oX5qdEEYr"
      },
      "source": [
        "# Домашнее задание. Решение конкурса на kaggle.com\n",
        "\n",
        "Это домашнее задание посвящено полноценному решению задачи машинного обучения."
      ]
    },
    {
      "cell_type": "markdown",
      "metadata": {
        "id": "zlB-owfaEEYs"
      },
      "source": [
        "Есть две части этого домашнего задания:\n",
        "\n",
        "### Отправить ваши предсказания в Stepik.\n",
        "За прохождение определенных порогов будут начисляться баллы. Эта часть оценивается из 5 баллов.\n",
        "\n",
        "1) $1.00 \\geqslant score \\geqslant 0.84$ --- 5 баллов\n",
        "\n",
        "2) $0.84 > score \\geqslant 0.77$ --- 4 балла\n",
        "\n",
        "3) $0.77 > score \\geqslant 0.70$ --- 3 балла\n",
        "\n",
        "4) $0.70 > score \\geqslant 0.65$ --- 2 балла\n",
        "\n",
        "5) $0.65 > score \\geqslant 0.6$ --- 1 балл\n",
        "\n",
        "6) $0.60 > score$ --- 0 баллов\n",
        "\n",
        "Для этого мы предварительно разделили данные в задании на две части.\n",
        "* `train.csv`. На этом наборе данных вам необходимо создать и обучить модель. Подробное описание файла есть в ноутбуке.\n",
        "* `test.csv`. В каждой строчке файла `test.csv` указаны признаки тестовых объектов. Предсказания для этого набора необходимо записать в файл submission.csv и сдать в соответствующий шаг на Stepik. Количество попыток ограничено 100 штук.\n",
        "\n",
        "Отправлять в Stepik вы будете файл с ответами `my_submission.csv`. В этом файле вам необходимо для каждого объекта из датасета предсказать вероятность класса 1. Мы подготовили для вас файл с примером посылки `submission.csv`. Ваш файл должен быть оформлен таким же образом. В ноутбуке есть пример оформления файла посылки. Для отправки файла с предсказаниями на Stepik есть отдельный шаг.\n",
        "\n",
        "### Сделать полноценный отчет о вашей работе.\n",
        "Опишите, как вы обработали данные, какие модели попробовали и какие результаты получились (максимум 10 баллов). За каждую выполненную часть будет начислено определенное количество баллов. В этом пункте вам необходимо отправить файл в формате .ipynb на Stepik --- для этого в домашнем задании есть отдельный шаг. Этот пункт оценивается из 10 баллов.\n",
        "\n",
        "**Вторая часть будет проверяться в формате peer-review. Т.е. вашу посылку на Stepik будут проверять 3 других студента, и медианное значение их оценок будет выставлено. Чтобы получить баллы, вам также нужно будет проверить трех других учеников. Это станет доступно после того, как вы сдадите задание сами.**\n",
        "\n",
        "### Контест на Kaggle\n",
        "Для вашего удобства мы подготовили [контест на Kaggle](https://www.kaggle.com/c/advanced-dls-spring-2021/). Тестирующая система на Kaggle выдает те же баллы, что и Stepik. Мы рекомендуем в качестве основной тестирующей системы использовать именно Kaggle, а затем сдать лучшую посылку на Stepik. Так вы привыкните работать с Kaggle.\n",
        "\n",
        "Проблема для российских пользователей Kaggle заключается в том, что подтверждение аккаунта по номеру телефона работает с перебоями или не работает вообще. Без подтвержденного номера телефона вы не сможете совершать посылки в kaggle. Если у вас возникла такая проблема, мы советуем следующие шаги:\n",
        "* Попробовать зарегистрировать аккаунт с аутентификацией через gmail. В таком случае, аккаунт должен работать без подтверждения номера телефона.\n",
        "* Если у вас есть не российский номер, используйте его для верификации аккаунта.\n",
        "* Если на номер телефона не приходит смс для верификации аккаунта, обратитесь в службу поддержки kaggle. Они с переменным успехом умеют подтверждать аккаунты вручную.\n",
        "* Если все же подтвердить аккаунт и получить доступ к сдаче заданий не удалось, используйте только сдачу в Stepik.\n",
        "\n",
        "### Несколько замечаний по выполнению работы\n",
        "* Во всех пунктах указания это минимальный набор вещей, которые стоит сделать. Если вы можете сделать какой-то шаг лучше или добавить что-то свое --- дерзайте!\n",
        "* Пожалуйста, перед сдачей ноутбука убедитесь, что работа чистая и понятная. Это значительно облегчит проверку и повысит ваши ожидаемые баллы.\n",
        "* Если у вас будут проблемы с решением или хочется совета, то пишите в наш чат в телеграме.\n",
        "\n",
        "\n",
        "Данные: [train.csv](https://drive.google.com/file/d/1ERwQ5odiK1Zvi1LtjpkzCMUswYsAX8_K/view?usp=share_link),\n",
        "[test.csv](https://drive.google.com/file/d/1fGw_-RFwvn_LEdt91Jq-7A-wzG6mmH8r/view?usp=share_link), [submission.csv](https://drive.google.com/file/d/199Mt4OYZNaelT83U-HGDsEYs2YcUGQ6y/view?usp=share_link).\n",
        "\n",
        "Если ссылки на данные не работают, их можно скачать [на Kaggle](https://www.kaggle.com/competitions/advanced-dls-spring-2021/data)."
      ]
    },
    {
      "cell_type": "markdown",
      "metadata": {
        "id": "Tu_JvqcBEN8Y"
      },
      "source": [
        "# Как проверять?\n",
        "\n",
        "Ставьте полный балл, если выполнены все рекомендации или сделано что-то более интересное и сложное. За каждый отсустствующий пункт из рекомендации снижайте 1 балл.\n",
        "\n",
        "**Если решение верное, но не удовлетворяет вашим эстетическим предпочтениям, за это баллы снижать не нужно.**"
      ]
    },
    {
      "cell_type": "markdown",
      "metadata": {
        "id": "ninJ63mJEEYt"
      },
      "source": [
        "# Метрика\n",
        "\n",
        "Перед решением любой задачи важно понимать, как будет оцениваться ваше решение. В данном случае мы используем стандартную для задачи классификации метрику ROC-AUC. Ее можно вычислить, используя только предсказанные вероятности и истинные классы без конкретного порога классификации + она раотает даже если классы в данных сильно несбалансированны (примеров одного класса в десятки раз больше примеров длугого). Именно поэтому она очень удобна для соревнований.\n",
        "\n",
        "Посчитать ее легко:\n"
      ]
    },
    {
      "cell_type": "markdown",
      "metadata": {
        "id": "IrDNNkNTEEYz"
      },
      "source": [
        "# Первая часть. Исследование"
      ]
    },
    {
      "cell_type": "code",
      "source": [
        "!pip install catboost"
      ],
      "metadata": {
        "id": "vQslK0IJ8ABp"
      },
      "execution_count": null,
      "outputs": []
    },
    {
      "cell_type": "code",
      "metadata": {
        "id": "lzLqEeZKEEYz"
      },
      "source": [
        "import pandas as pd\n",
        "import numpy as np\n",
        "import seaborn as sns\n",
        "from matplotlib import pyplot as plt\n",
        "\n",
        "import plotly.express as px\n",
        "import plotly.graph_objects as go\n",
        "\n",
        "from sklearn.metrics import roc_auc_score\n",
        "from scipy.stats import chi2_contingency\n",
        "\n",
        "from catboost import CatBoostClassifier, Pool\n",
        "from sklearn.model_selection import train_test_split\n",
        "from sklearn.metrics import make_scorer\n",
        "\n",
        "from sklearn.linear_model import LogisticRegressionCV\n",
        "from sklearn.ensemble import RandomForestClassifier\n",
        "from sklearn.model_selection import train_test_split, GridSearchCV\n",
        "from sklearn.svm import SVC\n",
        "\n",
        "from google.colab import files"
      ],
      "execution_count": 1,
      "outputs": []
    },
    {
      "cell_type": "markdown",
      "metadata": {
        "id": "LOlxdURSEEY3"
      },
      "source": [
        "## Загрузка данных (2 балла)\n",
        "\n",
        "1) Посмотрите на случайные строчки.\n",
        "\n",
        "2) Посмотрите, есть ли в датасете незаполненные значения (nan'ы) с помощью data.isna() или data.info() и, если нужно, замените их на что-то. Будет хорошо, если вы построите табличку с количеством nan в каждой колонке."
      ]
    },
    {
      "cell_type": "code",
      "source": [
        "!gdown 1ERwQ5odiK1Zvi1LtjpkzCMUswYsAX8_K  # train.csv\n",
        "!gdown 1fGw_-RFwvn_LEdt91Jq-7A-wzG6mmH8r  # test.csv\n",
        "!gdown 199Mt4OYZNaelT83U-HGDsEYs2YcUGQ6y  # submission.csv"
      ],
      "metadata": {
        "id": "XULA1f3ch6RL"
      },
      "execution_count": null,
      "outputs": []
    },
    {
      "cell_type": "code",
      "metadata": {
        "id": "pw-Brue9EEY3"
      },
      "source": [
        "data = pd.read_csv('./train.csv')\n",
        "data_test = pd.read_csv('./test.csv')"
      ],
      "execution_count": 158,
      "outputs": []
    },
    {
      "cell_type": "code",
      "source": [
        "# 1)\n",
        "data.sample(n=5)"
      ],
      "metadata": {
        "colab": {
          "base_uri": "https://localhost:8080/",
          "height": 295
        },
        "id": "KU9YxNjGQd9k",
        "outputId": "de6398c0-f2ea-4640-989f-a72c364ac861"
      },
      "execution_count": null,
      "outputs": [
        {
          "output_type": "execute_result",
          "data": {
            "text/plain": [
              "      ClientPeriod  MonthlySpending TotalSpent     Sex  IsSeniorCitizen  \\\n",
              "782              3            74.40     229.55    Male                0   \n",
              "2390            23            40.65      947.4    Male                0   \n",
              "1976            21            61.65     1393.6    Male                0   \n",
              "1590            62            70.75    4263.45  Female                0   \n",
              "123             52            61.35    3169.55    Male                0   \n",
              "\n",
              "     HasPartner HasChild HasPhoneService HasMultiplePhoneNumbers  \\\n",
              "782          No       No             Yes                     Yes   \n",
              "2390         No      Yes              No        No phone service   \n",
              "1976         No       No             Yes                      No   \n",
              "1590        Yes      Yes             Yes                      No   \n",
              "123         Yes       No             Yes                     Yes   \n",
              "\n",
              "     HasInternetService HasOnlineSecurityService HasOnlineBackup  \\\n",
              "782         Fiber optic                       No              No   \n",
              "2390                DSL                      Yes             Yes   \n",
              "1976                DSL                       No              No   \n",
              "1590                DSL                      Yes              No   \n",
              "123                 DSL                       No             Yes   \n",
              "\n",
              "     HasDeviceProtection HasTechSupportAccess HasOnlineTV  \\\n",
              "782                   No                   No          No   \n",
              "2390                  No                  Yes          No   \n",
              "1976                 Yes                   No          No   \n",
              "1590                 Yes                  Yes         Yes   \n",
              "123                   No                  Yes          No   \n",
              "\n",
              "     HasMovieSubscription HasContractPhone IsBillingPaperless  \\\n",
              "782                    No   Month-to-month                Yes   \n",
              "2390                   No         One year                 No   \n",
              "1976                  Yes   Month-to-month                 No   \n",
              "1590                   No         One year                Yes   \n",
              "123                    No   Month-to-month                 No   \n",
              "\n",
              "                  PaymentMethod  Churn  \n",
              "782            Electronic check      1  \n",
              "2390  Bank transfer (automatic)      0  \n",
              "1976               Mailed check      0  \n",
              "1590  Bank transfer (automatic)      0  \n",
              "123   Bank transfer (automatic)      0  "
            ],
            "text/html": [
              "\n",
              "  <div id=\"df-4c84b441-9a07-43cd-aea0-e1aa7183bda1\" class=\"colab-df-container\">\n",
              "    <div>\n",
              "<style scoped>\n",
              "    .dataframe tbody tr th:only-of-type {\n",
              "        vertical-align: middle;\n",
              "    }\n",
              "\n",
              "    .dataframe tbody tr th {\n",
              "        vertical-align: top;\n",
              "    }\n",
              "\n",
              "    .dataframe thead th {\n",
              "        text-align: right;\n",
              "    }\n",
              "</style>\n",
              "<table border=\"1\" class=\"dataframe\">\n",
              "  <thead>\n",
              "    <tr style=\"text-align: right;\">\n",
              "      <th></th>\n",
              "      <th>ClientPeriod</th>\n",
              "      <th>MonthlySpending</th>\n",
              "      <th>TotalSpent</th>\n",
              "      <th>Sex</th>\n",
              "      <th>IsSeniorCitizen</th>\n",
              "      <th>HasPartner</th>\n",
              "      <th>HasChild</th>\n",
              "      <th>HasPhoneService</th>\n",
              "      <th>HasMultiplePhoneNumbers</th>\n",
              "      <th>HasInternetService</th>\n",
              "      <th>HasOnlineSecurityService</th>\n",
              "      <th>HasOnlineBackup</th>\n",
              "      <th>HasDeviceProtection</th>\n",
              "      <th>HasTechSupportAccess</th>\n",
              "      <th>HasOnlineTV</th>\n",
              "      <th>HasMovieSubscription</th>\n",
              "      <th>HasContractPhone</th>\n",
              "      <th>IsBillingPaperless</th>\n",
              "      <th>PaymentMethod</th>\n",
              "      <th>Churn</th>\n",
              "    </tr>\n",
              "  </thead>\n",
              "  <tbody>\n",
              "    <tr>\n",
              "      <th>782</th>\n",
              "      <td>3</td>\n",
              "      <td>74.40</td>\n",
              "      <td>229.55</td>\n",
              "      <td>Male</td>\n",
              "      <td>0</td>\n",
              "      <td>No</td>\n",
              "      <td>No</td>\n",
              "      <td>Yes</td>\n",
              "      <td>Yes</td>\n",
              "      <td>Fiber optic</td>\n",
              "      <td>No</td>\n",
              "      <td>No</td>\n",
              "      <td>No</td>\n",
              "      <td>No</td>\n",
              "      <td>No</td>\n",
              "      <td>No</td>\n",
              "      <td>Month-to-month</td>\n",
              "      <td>Yes</td>\n",
              "      <td>Electronic check</td>\n",
              "      <td>1</td>\n",
              "    </tr>\n",
              "    <tr>\n",
              "      <th>2390</th>\n",
              "      <td>23</td>\n",
              "      <td>40.65</td>\n",
              "      <td>947.4</td>\n",
              "      <td>Male</td>\n",
              "      <td>0</td>\n",
              "      <td>No</td>\n",
              "      <td>Yes</td>\n",
              "      <td>No</td>\n",
              "      <td>No phone service</td>\n",
              "      <td>DSL</td>\n",
              "      <td>Yes</td>\n",
              "      <td>Yes</td>\n",
              "      <td>No</td>\n",
              "      <td>Yes</td>\n",
              "      <td>No</td>\n",
              "      <td>No</td>\n",
              "      <td>One year</td>\n",
              "      <td>No</td>\n",
              "      <td>Bank transfer (automatic)</td>\n",
              "      <td>0</td>\n",
              "    </tr>\n",
              "    <tr>\n",
              "      <th>1976</th>\n",
              "      <td>21</td>\n",
              "      <td>61.65</td>\n",
              "      <td>1393.6</td>\n",
              "      <td>Male</td>\n",
              "      <td>0</td>\n",
              "      <td>No</td>\n",
              "      <td>No</td>\n",
              "      <td>Yes</td>\n",
              "      <td>No</td>\n",
              "      <td>DSL</td>\n",
              "      <td>No</td>\n",
              "      <td>No</td>\n",
              "      <td>Yes</td>\n",
              "      <td>No</td>\n",
              "      <td>No</td>\n",
              "      <td>Yes</td>\n",
              "      <td>Month-to-month</td>\n",
              "      <td>No</td>\n",
              "      <td>Mailed check</td>\n",
              "      <td>0</td>\n",
              "    </tr>\n",
              "    <tr>\n",
              "      <th>1590</th>\n",
              "      <td>62</td>\n",
              "      <td>70.75</td>\n",
              "      <td>4263.45</td>\n",
              "      <td>Female</td>\n",
              "      <td>0</td>\n",
              "      <td>Yes</td>\n",
              "      <td>Yes</td>\n",
              "      <td>Yes</td>\n",
              "      <td>No</td>\n",
              "      <td>DSL</td>\n",
              "      <td>Yes</td>\n",
              "      <td>No</td>\n",
              "      <td>Yes</td>\n",
              "      <td>Yes</td>\n",
              "      <td>Yes</td>\n",
              "      <td>No</td>\n",
              "      <td>One year</td>\n",
              "      <td>Yes</td>\n",
              "      <td>Bank transfer (automatic)</td>\n",
              "      <td>0</td>\n",
              "    </tr>\n",
              "    <tr>\n",
              "      <th>123</th>\n",
              "      <td>52</td>\n",
              "      <td>61.35</td>\n",
              "      <td>3169.55</td>\n",
              "      <td>Male</td>\n",
              "      <td>0</td>\n",
              "      <td>Yes</td>\n",
              "      <td>No</td>\n",
              "      <td>Yes</td>\n",
              "      <td>Yes</td>\n",
              "      <td>DSL</td>\n",
              "      <td>No</td>\n",
              "      <td>Yes</td>\n",
              "      <td>No</td>\n",
              "      <td>Yes</td>\n",
              "      <td>No</td>\n",
              "      <td>No</td>\n",
              "      <td>Month-to-month</td>\n",
              "      <td>No</td>\n",
              "      <td>Bank transfer (automatic)</td>\n",
              "      <td>0</td>\n",
              "    </tr>\n",
              "  </tbody>\n",
              "</table>\n",
              "</div>\n",
              "    <div class=\"colab-df-buttons\">\n",
              "\n",
              "  <div class=\"colab-df-container\">\n",
              "    <button class=\"colab-df-convert\" onclick=\"convertToInteractive('df-4c84b441-9a07-43cd-aea0-e1aa7183bda1')\"\n",
              "            title=\"Convert this dataframe to an interactive table.\"\n",
              "            style=\"display:none;\">\n",
              "\n",
              "  <svg xmlns=\"http://www.w3.org/2000/svg\" height=\"24px\" viewBox=\"0 -960 960 960\">\n",
              "    <path d=\"M120-120v-720h720v720H120Zm60-500h600v-160H180v160Zm220 220h160v-160H400v160Zm0 220h160v-160H400v160ZM180-400h160v-160H180v160Zm440 0h160v-160H620v160ZM180-180h160v-160H180v160Zm440 0h160v-160H620v160Z\"/>\n",
              "  </svg>\n",
              "    </button>\n",
              "\n",
              "  <style>\n",
              "    .colab-df-container {\n",
              "      display:flex;\n",
              "      gap: 12px;\n",
              "    }\n",
              "\n",
              "    .colab-df-convert {\n",
              "      background-color: #E8F0FE;\n",
              "      border: none;\n",
              "      border-radius: 50%;\n",
              "      cursor: pointer;\n",
              "      display: none;\n",
              "      fill: #1967D2;\n",
              "      height: 32px;\n",
              "      padding: 0 0 0 0;\n",
              "      width: 32px;\n",
              "    }\n",
              "\n",
              "    .colab-df-convert:hover {\n",
              "      background-color: #E2EBFA;\n",
              "      box-shadow: 0px 1px 2px rgba(60, 64, 67, 0.3), 0px 1px 3px 1px rgba(60, 64, 67, 0.15);\n",
              "      fill: #174EA6;\n",
              "    }\n",
              "\n",
              "    .colab-df-buttons div {\n",
              "      margin-bottom: 4px;\n",
              "    }\n",
              "\n",
              "    [theme=dark] .colab-df-convert {\n",
              "      background-color: #3B4455;\n",
              "      fill: #D2E3FC;\n",
              "    }\n",
              "\n",
              "    [theme=dark] .colab-df-convert:hover {\n",
              "      background-color: #434B5C;\n",
              "      box-shadow: 0px 1px 3px 1px rgba(0, 0, 0, 0.15);\n",
              "      filter: drop-shadow(0px 1px 2px rgba(0, 0, 0, 0.3));\n",
              "      fill: #FFFFFF;\n",
              "    }\n",
              "  </style>\n",
              "\n",
              "    <script>\n",
              "      const buttonEl =\n",
              "        document.querySelector('#df-4c84b441-9a07-43cd-aea0-e1aa7183bda1 button.colab-df-convert');\n",
              "      buttonEl.style.display =\n",
              "        google.colab.kernel.accessAllowed ? 'block' : 'none';\n",
              "\n",
              "      async function convertToInteractive(key) {\n",
              "        const element = document.querySelector('#df-4c84b441-9a07-43cd-aea0-e1aa7183bda1');\n",
              "        const dataTable =\n",
              "          await google.colab.kernel.invokeFunction('convertToInteractive',\n",
              "                                                    [key], {});\n",
              "        if (!dataTable) return;\n",
              "\n",
              "        const docLinkHtml = 'Like what you see? Visit the ' +\n",
              "          '<a target=\"_blank\" href=https://colab.research.google.com/notebooks/data_table.ipynb>data table notebook</a>'\n",
              "          + ' to learn more about interactive tables.';\n",
              "        element.innerHTML = '';\n",
              "        dataTable['output_type'] = 'display_data';\n",
              "        await google.colab.output.renderOutput(dataTable, element);\n",
              "        const docLink = document.createElement('div');\n",
              "        docLink.innerHTML = docLinkHtml;\n",
              "        element.appendChild(docLink);\n",
              "      }\n",
              "    </script>\n",
              "  </div>\n",
              "\n",
              "\n",
              "<div id=\"df-fccba433-785e-40eb-9082-980ea7765382\">\n",
              "  <button class=\"colab-df-quickchart\" onclick=\"quickchart('df-fccba433-785e-40eb-9082-980ea7765382')\"\n",
              "            title=\"Suggest charts.\"\n",
              "            style=\"display:none;\">\n",
              "\n",
              "<svg xmlns=\"http://www.w3.org/2000/svg\" height=\"24px\"viewBox=\"0 0 24 24\"\n",
              "     width=\"24px\">\n",
              "    <g>\n",
              "        <path d=\"M19 3H5c-1.1 0-2 .9-2 2v14c0 1.1.9 2 2 2h14c1.1 0 2-.9 2-2V5c0-1.1-.9-2-2-2zM9 17H7v-7h2v7zm4 0h-2V7h2v10zm4 0h-2v-4h2v4z\"/>\n",
              "    </g>\n",
              "</svg>\n",
              "  </button>\n",
              "\n",
              "<style>\n",
              "  .colab-df-quickchart {\n",
              "      --bg-color: #E8F0FE;\n",
              "      --fill-color: #1967D2;\n",
              "      --hover-bg-color: #E2EBFA;\n",
              "      --hover-fill-color: #174EA6;\n",
              "      --disabled-fill-color: #AAA;\n",
              "      --disabled-bg-color: #DDD;\n",
              "  }\n",
              "\n",
              "  [theme=dark] .colab-df-quickchart {\n",
              "      --bg-color: #3B4455;\n",
              "      --fill-color: #D2E3FC;\n",
              "      --hover-bg-color: #434B5C;\n",
              "      --hover-fill-color: #FFFFFF;\n",
              "      --disabled-bg-color: #3B4455;\n",
              "      --disabled-fill-color: #666;\n",
              "  }\n",
              "\n",
              "  .colab-df-quickchart {\n",
              "    background-color: var(--bg-color);\n",
              "    border: none;\n",
              "    border-radius: 50%;\n",
              "    cursor: pointer;\n",
              "    display: none;\n",
              "    fill: var(--fill-color);\n",
              "    height: 32px;\n",
              "    padding: 0;\n",
              "    width: 32px;\n",
              "  }\n",
              "\n",
              "  .colab-df-quickchart:hover {\n",
              "    background-color: var(--hover-bg-color);\n",
              "    box-shadow: 0 1px 2px rgba(60, 64, 67, 0.3), 0 1px 3px 1px rgba(60, 64, 67, 0.15);\n",
              "    fill: var(--button-hover-fill-color);\n",
              "  }\n",
              "\n",
              "  .colab-df-quickchart-complete:disabled,\n",
              "  .colab-df-quickchart-complete:disabled:hover {\n",
              "    background-color: var(--disabled-bg-color);\n",
              "    fill: var(--disabled-fill-color);\n",
              "    box-shadow: none;\n",
              "  }\n",
              "\n",
              "  .colab-df-spinner {\n",
              "    border: 2px solid var(--fill-color);\n",
              "    border-color: transparent;\n",
              "    border-bottom-color: var(--fill-color);\n",
              "    animation:\n",
              "      spin 1s steps(1) infinite;\n",
              "  }\n",
              "\n",
              "  @keyframes spin {\n",
              "    0% {\n",
              "      border-color: transparent;\n",
              "      border-bottom-color: var(--fill-color);\n",
              "      border-left-color: var(--fill-color);\n",
              "    }\n",
              "    20% {\n",
              "      border-color: transparent;\n",
              "      border-left-color: var(--fill-color);\n",
              "      border-top-color: var(--fill-color);\n",
              "    }\n",
              "    30% {\n",
              "      border-color: transparent;\n",
              "      border-left-color: var(--fill-color);\n",
              "      border-top-color: var(--fill-color);\n",
              "      border-right-color: var(--fill-color);\n",
              "    }\n",
              "    40% {\n",
              "      border-color: transparent;\n",
              "      border-right-color: var(--fill-color);\n",
              "      border-top-color: var(--fill-color);\n",
              "    }\n",
              "    60% {\n",
              "      border-color: transparent;\n",
              "      border-right-color: var(--fill-color);\n",
              "    }\n",
              "    80% {\n",
              "      border-color: transparent;\n",
              "      border-right-color: var(--fill-color);\n",
              "      border-bottom-color: var(--fill-color);\n",
              "    }\n",
              "    90% {\n",
              "      border-color: transparent;\n",
              "      border-bottom-color: var(--fill-color);\n",
              "    }\n",
              "  }\n",
              "</style>\n",
              "\n",
              "  <script>\n",
              "    async function quickchart(key) {\n",
              "      const quickchartButtonEl =\n",
              "        document.querySelector('#' + key + ' button');\n",
              "      quickchartButtonEl.disabled = true;  // To prevent multiple clicks.\n",
              "      quickchartButtonEl.classList.add('colab-df-spinner');\n",
              "      try {\n",
              "        const charts = await google.colab.kernel.invokeFunction(\n",
              "            'suggestCharts', [key], {});\n",
              "      } catch (error) {\n",
              "        console.error('Error during call to suggestCharts:', error);\n",
              "      }\n",
              "      quickchartButtonEl.classList.remove('colab-df-spinner');\n",
              "      quickchartButtonEl.classList.add('colab-df-quickchart-complete');\n",
              "    }\n",
              "    (() => {\n",
              "      let quickchartButtonEl =\n",
              "        document.querySelector('#df-fccba433-785e-40eb-9082-980ea7765382 button');\n",
              "      quickchartButtonEl.style.display =\n",
              "        google.colab.kernel.accessAllowed ? 'block' : 'none';\n",
              "    })();\n",
              "  </script>\n",
              "</div>\n",
              "    </div>\n",
              "  </div>\n"
            ]
          },
          "metadata": {},
          "execution_count": 5
        }
      ]
    },
    {
      "cell_type": "code",
      "source": [
        "# 2)\n",
        "data.info()"
      ],
      "metadata": {
        "colab": {
          "base_uri": "https://localhost:8080/"
        },
        "id": "NjypqjBJQ1Op",
        "outputId": "ebd4e49b-6662-4b38-a449-de5fe348600a"
      },
      "execution_count": null,
      "outputs": [
        {
          "output_type": "stream",
          "name": "stdout",
          "text": [
            "<class 'pandas.core.frame.DataFrame'>\n",
            "RangeIndex: 5282 entries, 0 to 5281\n",
            "Data columns (total 20 columns):\n",
            " #   Column                    Non-Null Count  Dtype  \n",
            "---  ------                    --------------  -----  \n",
            " 0   ClientPeriod              5282 non-null   int64  \n",
            " 1   MonthlySpending           5282 non-null   float64\n",
            " 2   TotalSpent                5282 non-null   object \n",
            " 3   Sex                       5282 non-null   object \n",
            " 4   IsSeniorCitizen           5282 non-null   int64  \n",
            " 5   HasPartner                5282 non-null   object \n",
            " 6   HasChild                  5282 non-null   object \n",
            " 7   HasPhoneService           5282 non-null   object \n",
            " 8   HasMultiplePhoneNumbers   5282 non-null   object \n",
            " 9   HasInternetService        5282 non-null   object \n",
            " 10  HasOnlineSecurityService  5282 non-null   object \n",
            " 11  HasOnlineBackup           5282 non-null   object \n",
            " 12  HasDeviceProtection       5282 non-null   object \n",
            " 13  HasTechSupportAccess      5282 non-null   object \n",
            " 14  HasOnlineTV               5282 non-null   object \n",
            " 15  HasMovieSubscription      5282 non-null   object \n",
            " 16  HasContractPhone          5282 non-null   object \n",
            " 17  IsBillingPaperless        5282 non-null   object \n",
            " 18  PaymentMethod             5282 non-null   object \n",
            " 19  Churn                     5282 non-null   int64  \n",
            "dtypes: float64(1), int64(3), object(16)\n",
            "memory usage: 825.4+ KB\n"
          ]
        }
      ]
    },
    {
      "cell_type": "code",
      "source": [
        "pd.DataFrame(data.isna().sum()).rename(columns={0: 'nan_sum'})"
      ],
      "metadata": {
        "id": "ACnBu7KJR3cN"
      },
      "execution_count": null,
      "outputs": []
    },
    {
      "cell_type": "code",
      "source": [
        "# nan нет однако в TotalSpent есть пропуски отмеченные как ' ' пробелы\n",
        "(data['TotalSpent'] == ' ').sum()"
      ],
      "metadata": {
        "colab": {
          "base_uri": "https://localhost:8080/"
        },
        "id": "wCRsU0x6Q9rP",
        "outputId": "52e6aa0a-2069-476c-f249-6e78067ce4be"
      },
      "execution_count": null,
      "outputs": [
        {
          "output_type": "execute_result",
          "data": {
            "text/plain": [
              "9"
            ]
          },
          "metadata": {},
          "execution_count": 8
        }
      ]
    },
    {
      "cell_type": "code",
      "metadata": {
        "id": "KgnkkF5bEEY9"
      },
      "source": [
        "# Числовые признаки\n",
        "num_cols = [\n",
        "    'ClientPeriod',\n",
        "    'MonthlySpending',\n",
        "    'TotalSpent'\n",
        "]\n",
        "\n",
        "# Категориальные признаки\n",
        "cat_cols = [\n",
        "    'Sex',\n",
        "    'IsSeniorCitizen',\n",
        "    'HasPartner',\n",
        "    'HasChild',\n",
        "    'HasPhoneService',\n",
        "    'HasMultiplePhoneNumbers',\n",
        "    'HasInternetService',\n",
        "    'HasOnlineSecurityService',\n",
        "    'HasOnlineBackup',\n",
        "    'HasDeviceProtection',\n",
        "    'HasTechSupportAccess',\n",
        "    'HasOnlineTV',\n",
        "    'HasMovieSubscription',\n",
        "    'HasContractPhone',\n",
        "    'IsBillingPaperless',\n",
        "    'PaymentMethod'\n",
        "]\n",
        "\n",
        "feature_cols = num_cols + cat_cols\n",
        "target_col = 'Churn'"
      ],
      "execution_count": 10,
      "outputs": []
    },
    {
      "cell_type": "code",
      "metadata": {
        "id": "tHC6gWabEEZA"
      },
      "source": [
        "data['TotalSpent'] = data['TotalSpent'].apply(lambda x: float(x) if x != ' ' else np.NaN)\n",
        "data['TotalSpent'].fillna(data['TotalSpent'].median(), inplace=True)"
      ],
      "execution_count": 159,
      "outputs": []
    },
    {
      "cell_type": "code",
      "source": [
        "data_test['TotalSpent'] = data_test['TotalSpent'].apply(lambda x: float(x) if x != ' ' else np.NaN)\n",
        "data_test['TotalSpent'].fillna(data_test['TotalSpent'].median(), inplace=True)"
      ],
      "metadata": {
        "id": "UKixO6maeldg"
      },
      "execution_count": 160,
      "outputs": []
    },
    {
      "cell_type": "markdown",
      "source": [
        "Замена пропусков в TotalSpent на медиану"
      ],
      "metadata": {
        "id": "wnvk89nr8FPb"
      }
    },
    {
      "cell_type": "markdown",
      "metadata": {
        "id": "dK370bPCEEZD"
      },
      "source": [
        "## Анализ данных (3 балла)\n",
        "\n",
        "1) Для численных призанков постройте гистограмму (*plt.hist(...)*) или boxplot (*plt.boxplot(...)*). Для категориальных посчитайте количество каждого значения для каждого признака. Для каждой колонки надо сделать *data.value_counts()* и построить bar диаграммы *plt.bar(...)* или круговые диаграммы *plt.pie(...)* (хорошо, елси вы сможете это сделать на одном гарфике с помощью *plt.subplots(...)*).\n",
        "\n",
        "2) Посмотрите на распределение целевой переменной и скажите, являются ли классы несбалансированными.\n",
        "\n",
        "3) (Если будет желание) Поиграйте с разными библиотеками для визуализации - *sns*, *pandas_visual_analysis*, etc.\n",
        "\n",
        "Второй пункт очень важен, потому что существуют задачи классификации с несбалансированными классами. Например, это может значить, что в датасете намного больше примеров 0 класса. В таких случаях нужно 1) не использовать accuracy как метрику 2) использовать методы борьбы с imbalanced dataset (обычно если датасет сильно несбалансирован, т.е. класса 1 в 20 раз меньше класса 0)."
      ]
    },
    {
      "cell_type": "code",
      "metadata": {
        "id": "NZkbgFJZEEZE",
        "colab": {
          "base_uri": "https://localhost:8080/",
          "height": 1000
        },
        "outputId": "65e231a6-15c7-457e-aa28-877ace0a3bc0"
      },
      "source": [
        "# 1)\n",
        "for col in num_cols:\n",
        "  fig = px.box(data[col], x=col)\n",
        "  fig.show()"
      ],
      "execution_count": null,
      "outputs": [
        {
          "output_type": "display_data",
          "data": {
            "text/html": [
              "<html>\n",
              "<head><meta charset=\"utf-8\" /></head>\n",
              "<body>\n",
              "    <div>            <script src=\"https://cdnjs.cloudflare.com/ajax/libs/mathjax/2.7.5/MathJax.js?config=TeX-AMS-MML_SVG\"></script><script type=\"text/javascript\">if (window.MathJax && window.MathJax.Hub && window.MathJax.Hub.Config) {window.MathJax.Hub.Config({SVG: {font: \"STIX-Web\"}});}</script>                <script type=\"text/javascript\">window.PlotlyConfig = {MathJaxConfig: 'local'};</script>\n",
              "        <script charset=\"utf-8\" src=\"https://cdn.plot.ly/plotly-2.24.1.min.js\"></script>                <div id=\"8c4fe264-244f-45b0-b9c7-6929ee6c8fc7\" class=\"plotly-graph-div\" style=\"height:525px; width:100%;\"></div>            <script type=\"text/javascript\">                                    window.PLOTLYENV=window.PLOTLYENV || {};                                    if (document.getElementById(\"8c4fe264-244f-45b0-b9c7-6929ee6c8fc7\")) {                    Plotly.newPlot(                        \"8c4fe264-244f-45b0-b9c7-6929ee6c8fc7\",                        [{\"alignmentgroup\":\"True\",\"hovertemplate\":\"ClientPeriod=%{x}\\u003cextra\\u003e\\u003c\\u002fextra\\u003e\",\"legendgroup\":\"\",\"marker\":{\"color\":\"#636efa\"},\"name\":\"\",\"notched\":false,\"offsetgroup\":\"\",\"orientation\":\"h\",\"showlegend\":false,\"x\":[55,72,1,32,60,25,27,1,50,72,16,70,69,26,38,30,52,71,59,52,61,7,20,48,55,38,61,22,2,25,21,32,44,7,66,58,46,45,22,5,4,3,62,62,3,66,3,6,39,52,3,1,68,26,66,51,30,60,40,59,48,38,51,1,10,22,3,1,61,43,1,12,20,60,35,45,3,1,16,31,48,4,31,60,67,8,72,11,69,1,7,7,35,8,70,10,67,52,72,29,37,7,46,1,25,33,31,71,14,32,15,1,2,47,7,7,1,2,23,65,52,3,13,52,67,32,7,41,53,13,72,26,15,55,5,7,38,5,9,65,64,51,15,9,64,2,21,47,1,8,16,2,42,52,34,27,4,50,40,21,12,25,20,52,16,17,23,71,46,20,1,10,1,69,1,33,14,39,72,67,18,25,53,17,62,42,1,20,1,46,63,30,27,53,29,1,66,18,22,5,35,3,6,72,56,60,1,38,58,1,64,54,15,54,56,52,9,3,31,1,2,72,18,4,1,31,16,4,42,4,6,53,52,8,66,22,22,41,53,11,25,22,6,2,60,30,68,66,16,71,43,48,4,42,53,13,15,70,71,9,71,17,70,1,24,71,58,71,37,70,34,55,35,3,43,71,4,5,26,72,38,22,30,71,1,15,70,68,62,47,71,22,12,50,47,4,1,3,5,45,28,15,3,72,39,54,64,44,16,71,64,4,21,26,37,39,2,18,34,32,32,4,7,61,29,13,1,3,49,1,19,5,2,64,44,1,30,58,27,4,47,72,1,7,33,4,10,13,68,8,31,25,6,18,4,12,33,68,3,48,27,1,42,8,71,72,13,40,28,5,2,56,46,7,35,23,21,65,1,61,12,11,23,33,13,71,72,39,56,5,7,6,10,56,72,38,71,15,57,9,2,66,3,72,47,22,1,49,68,1,46,72,8,4,32,2,2,8,58,1,63,69,54,51,48,6,71,72,46,50,63,41,71,58,18,12,4,31,23,51,35,52,1,1,72,7,72,8,46,30,38,68,66,12,60,67,72,13,3,47,70,48,4,1,62,23,71,9,66,1,8,45,59,69,43,49,72,20,70,61,2,58,51,17,2,67,3,33,72,17,22,12,2,16,9,59,42,16,32,42,65,52,1,1,37,37,70,23,16,18,23,14,55,44,70,63,37,63,1,6,47,37,72,24,30,43,3,56,9,52,22,27,64,72,72,64,36,71,20,8,65,7,72,7,9,2,51,15,65,66,5,71,27,1,35,1,72,1,65,3,24,42,24,37,21,70,56,71,34,48,2,6,46,33,29,63,2,10,23,53,42,62,1,1,9,57,20,36,1,52,2,67,67,11,1,66,60,43,18,12,1,23,2,54,3,15,31,51,72,66,34,1,31,18,22,4,12,60,15,52,60,6,5,56,62,1,37,54,11,71,9,40,72,70,7,59,35,43,3,69,19,50,70,2,12,40,41,62,1,38,72,47,72,23,64,19,54,9,66,50,6,53,23,22,50,70,70,6,66,4,72,12,60,7,33,72,14,63,56,53,9,61,6,17,72,68,7,14,71,3,28,1,8,1,13,55,47,21,31,72,67,36,11,72,19,60,46,2,71,52,70,39,9,7,68,30,49,42,11,11,72,70,56,1,61,25,72,64,72,2,3,42,69,21,35,71,18,2,71,58,51,37,68,72,48,7,57,69,1,1,1,46,9,51,71,1,15,4,1,1,70,18,58,51,67,24,47,27,27,7,29,11,22,3,72,1,67,56,10,31,72,72,3,43,9,2,32,23,61,32,24,23,53,18,70,47,29,29,36,59,3,52,38,54,71,45,6,39,61,29,42,15,39,72,34,47,15,25,69,64,69,2,4,32,72,35,42,24,68,17,49,5,12,50,10,63,4,6,1,58,51,31,46,9,48,45,8,70,46,40,7,24,70,18,72,7,1,29,17,28,68,30,72,1,13,15,70,61,72,2,36,21,64,10,10,2,1,71,1,1,71,1,4,42,4,71,1,13,44,36,16,72,9,8,69,12,3,53,6,1,64,1,27,52,59,43,72,62,67,67,72,47,15,18,55,12,1,42,72,15,8,72,19,11,39,56,31,70,22,36,62,64,13,39,20,69,7,68,61,42,54,13,23,3,72,38,54,71,1,3,16,1,6,43,71,10,50,21,11,35,54,1,54,48,72,21,38,11,2,4,14,29,52,45,7,12,36,12,4,72,1,33,1,52,66,8,3,71,65,20,46,58,61,4,19,2,25,72,5,2,46,9,52,1,15,8,11,40,69,1,12,1,27,72,3,20,26,62,36,64,72,8,67,19,18,68,10,33,33,34,55,28,42,1,5,32,1,22,69,42,1,2,7,37,19,29,64,16,0,68,1,26,57,71,70,9,63,15,32,54,1,55,2,5,30,58,50,16,1,72,18,13,4,1,4,23,47,26,72,63,72,8,45,10,54,34,64,6,8,56,36,64,30,41,63,70,41,72,14,19,66,35,5,2,28,9,2,59,9,19,65,71,1,52,17,55,1,30,31,39,35,7,12,17,54,48,1,35,24,55,70,65,55,17,55,13,27,25,62,12,1,12,31,72,14,65,11,55,69,20,61,11,72,36,1,24,61,11,3,7,69,43,20,27,72,18,59,64,48,21,35,26,18,1,20,38,51,70,41,70,34,20,12,66,34,72,63,25,65,8,41,43,1,23,67,68,58,47,1,48,12,12,59,2,72,64,37,36,1,28,1,17,30,54,24,7,11,1,43,34,61,6,1,3,44,25,6,10,19,3,40,49,38,15,70,71,1,56,11,6,46,1,13,54,12,13,21,3,1,63,47,29,62,43,1,66,56,30,51,12,43,7,68,72,59,17,34,72,58,70,14,71,8,72,35,4,3,27,9,2,6,2,9,1,12,18,38,18,5,7,7,64,66,51,30,18,39,19,72,72,72,28,45,1,3,38,2,32,1,72,68,7,35,32,7,68,4,64,34,35,72,44,46,58,1,10,8,71,26,72,1,22,6,18,3,27,68,14,2,68,62,9,25,14,10,72,72,50,37,11,3,35,49,52,63,65,41,15,70,10,29,72,72,69,22,41,52,26,7,1,72,14,34,45,1,8,72,66,19,24,63,29,9,2,1,17,8,10,17,63,33,7,31,29,21,21,64,26,43,57,33,1,71,19,20,1,71,69,22,67,63,4,10,33,46,71,40,37,10,5,37,3,44,71,42,1,34,42,7,71,1,15,8,5,65,10,16,22,68,8,71,35,24,58,27,27,1,28,9,48,71,51,4,4,12,10,9,1,3,3,2,57,3,30,71,66,40,21,59,3,2,25,50,20,1,45,2,24,67,19,30,12,62,71,16,1,8,4,72,7,39,42,44,69,16,72,22,72,68,57,35,22,72,15,64,72,52,23,24,38,45,9,16,14,72,1,19,7,1,47,58,3,52,1,29,16,43,32,3,56,72,29,40,9,48,50,11,68,67,7,33,3,8,56,16,14,1,61,15,9,32,43,71,55,41,72,70,24,68,5,4,11,2,7,68,19,2,4,1,35,72,67,2,8,28,40,29,35,34,23,64,48,8,21,15,40,63,18,26,23,62,16,61,57,26,5,53,10,58,43,7,69,24,67,66,11,6,28,4,32,71,64,8,42,24,71,8,34,56,38,3,46,5,59,64,22,53,72,26,70,2,3,60,19,17,32,1,38,14,48,23,1,48,46,60,5,65,1,3,48,72,30,27,11,3,67,28,5,60,67,35,43,45,71,15,6,43,50,39,9,5,3,35,45,59,56,1,1,22,60,70,52,13,58,51,41,35,3,36,28,65,45,17,60,25,3,66,2,70,1,1,71,31,30,53,1,66,0,55,2,9,30,61,4,41,4,1,30,37,16,4,13,36,60,59,4,13,19,61,68,7,2,7,53,68,31,59,40,12,9,9,43,31,41,42,53,67,22,62,66,53,26,4,55,21,57,71,40,16,12,54,1,72,12,31,68,2,1,27,72,21,65,7,1,20,69,43,16,35,70,63,6,71,27,65,67,9,49,53,54,2,10,51,1,25,70,1,72,41,1,4,1,18,3,40,4,3,1,53,43,3,54,17,34,30,8,7,44,26,40,1,50,54,70,26,50,15,70,71,19,55,1,10,22,70,59,19,67,57,2,10,31,8,29,5,17,71,70,1,30,21,17,1,9,8,24,26,67,28,52,72,51,24,1,72,19,22,53,57,40,56,72,21,72,1,35,61,50,17,2,3,21,65,54,15,29,1,4,5,60,32,43,1,65,30,72,13,1,1,24,9,34,47,2,44,8,24,33,32,72,50,12,2,5,38,9,29,3,1,12,31,33,1,57,72,30,42,4,19,2,3,3,14,70,1,44,24,15,25,56,1,41,39,56,56,28,16,72,13,53,22,48,47,3,57,55,60,12,1,1,58,20,16,57,37,14,52,72,1,2,72,27,37,57,2,68,21,14,58,68,1,70,1,30,61,24,2,41,37,43,1,59,1,59,5,63,72,1,14,8,19,1,20,33,72,2,18,35,2,70,4,2,1,11,13,46,70,24,54,32,24,26,5,1,1,64,19,68,12,56,15,49,7,51,67,61,1,12,49,1,20,66,1,17,60,71,12,53,12,1,1,39,19,52,32,21,4,28,2,2,59,62,64,42,13,25,1,23,70,10,23,49,6,7,35,59,2,55,37,42,1,41,72,63,69,15,52,69,16,71,32,3,1,6,1,27,45,18,17,5,51,39,13,63,59,10,12,11,1,11,6,33,17,44,19,7,8,31,27,12,33,72,7,63,38,17,11,9,12,37,72,46,4,45,2,6,11,52,16,43,57,17,7,33,50,22,65,65,7,37,29,56,12,67,9,72,51,63,41,10,2,51,72,1,4,1,64,33,40,8,5,6,1,3,6,67,33,9,61,58,33,42,46,45,5,2,16,72,44,2,69,14,23,22,67,3,1,17,17,20,18,56,39,34,2,9,9,10,46,10,15,67,13,41,62,2,1,1,47,31,1,1,63,37,29,43,44,26,13,54,56,1,22,11,34,11,32,72,1,15,35,28,3,30,66,12,24,50,5,15,70,26,25,61,65,71,2,30,46,68,1,3,69,51,62,37,27,19,1,1,70,20,4,63,72,23,72,60,71,47,6,60,22,34,20,9,27,72,22,20,70,72,50,53,12,57,32,63,70,70,29,71,69,26,3,52,72,72,69,1,72,33,29,24,49,11,12,6,60,1,8,17,13,2,9,15,72,45,33,5,1,2,6,49,16,69,56,53,58,17,57,8,36,5,12,1,13,9,1,45,21,10,6,24,52,24,6,40,17,48,67,42,23,72,49,2,62,22,53,17,3,1,72,62,14,55,1,57,64,47,15,51,67,7,2,11,6,71,23,55,23,35,20,25,4,3,26,36,71,14,57,45,26,24,11,68,4,9,4,30,44,3,40,62,13,10,72,15,65,38,47,70,28,8,72,71,54,69,49,1,58,4,62,9,48,63,1,25,39,22,15,59,3,55,21,65,60,1,35,43,10,31,15,37,4,4,21,48,38,10,2,40,12,6,60,61,5,7,13,58,72,22,72,72,16,37,63,51,45,11,43,23,18,48,58,1,72,10,28,3,72,50,72,25,2,49,14,2,68,72,1,20,19,10,5,1,18,52,46,2,55,3,33,26,72,34,71,39,72,72,70,1,61,44,5,27,44,30,28,24,19,26,72,53,1,5,71,1,37,50,47,3,61,0,40,48,27,52,32,55,30,71,30,23,63,16,37,49,34,12,4,8,21,8,69,22,4,42,1,1,20,49,1,49,32,1,7,16,29,5,49,10,69,1,29,1,1,28,21,54,11,5,8,1,1,3,43,70,26,22,72,18,72,11,1,23,1,72,29,25,70,55,41,27,4,4,2,3,1,62,23,65,72,51,66,7,1,24,37,17,43,72,46,4,72,2,60,72,67,24,26,4,50,63,33,5,3,26,9,22,1,20,27,40,40,16,62,4,71,72,10,33,15,3,2,72,63,50,3,24,4,50,49,14,34,66,43,55,72,63,22,16,21,3,71,70,10,67,2,30,3,12,32,1,28,9,29,14,8,38,71,22,4,56,35,48,62,69,4,1,26,9,45,1,72,1,45,1,26,45,3,56,71,24,71,71,1,67,13,15,47,46,24,1,72,26,59,1,29,39,69,60,4,1,2,1,42,25,2,18,43,2,7,70,65,43,21,58,1,70,1,62,35,72,56,7,24,69,30,39,7,38,2,50,5,70,14,1,1,71,72,61,15,44,18,38,1,3,1,57,62,10,64,4,2,67,60,1,1,18,66,52,49,26,16,37,67,33,61,4,10,19,70,5,60,1,18,67,68,1,59,5,13,40,7,27,7,25,64,23,2,1,52,72,58,58,15,3,71,45,35,4,1,60,55,67,56,8,62,1,1,67,32,1,28,32,18,17,67,49,11,5,8,57,1,15,69,13,23,8,18,72,34,58,1,31,39,1,47,4,2,24,31,17,31,1,51,4,68,18,53,40,41,65,8,1,41,25,72,32,34,41,55,27,25,2,11,3,25,3,1,72,5,70,60,71,36,1,3,4,4,1,67,1,19,1,70,35,23,10,56,66,68,9,47,12,72,66,51,51,12,28,35,9,21,19,20,54,25,5,9,4,44,4,71,67,58,25,56,60,62,63,53,29,4,58,52,8,1,40,62,7,1,4,66,72,45,36,7,1,9,23,41,69,34,2,50,18,71,10,45,1,47,56,47,21,1,3,22,6,70,71,62,13,23,2,20,7,12,54,31,12,9,65,21,62,24,45,1,3,70,55,14,71,72,35,6,40,5,30,72,62,19,56,67,51,1,23,28,1,1,1,56,20,3,31,1,51,71,72,16,15,9,13,51,17,50,5,7,22,54,58,62,39,2,27,30,31,69,27,31,61,10,10,22,1,3,50,0,2,50,62,1,49,34,35,30,17,43,8,72,49,14,26,11,34,54,45,66,72,21,35,5,32,30,18,7,5,48,1,1,71,72,23,53,13,10,72,9,18,7,59,20,46,68,7,18,20,46,13,62,30,52,2,21,12,24,1,46,8,24,12,60,37,1,66,49,31,4,14,70,3,15,8,30,1,2,35,55,52,40,1,23,29,64,10,5,6,27,37,1,71,29,4,16,32,30,48,58,9,36,10,5,36,26,71,32,24,72,14,12,54,1,33,1,14,72,34,52,3,38,64,35,69,70,59,11,12,46,65,72,10,29,72,71,35,58,17,56,5,1,66,34,13,26,27,24,1,6,70,54,15,41,68,22,26,67,12,27,1,71,44,56,1,49,28,3,43,60,52,14,69,72,28,59,18,72,1,72,1,13,1,55,18,29,18,1,20,66,7,22,66,50,3,6,5,55,42,11,2,45,50,1,21,22,23,72,60,49,10,7,15,1,25,55,37,28,56,15,40,68,72,38,70,14,1,16,72,9,1,13,59,52,54,26,20,11,27,8,72,18,23,49,26,44,32,2,36,67,61,11,11,10,1,66,60,3,1,31,71,13,50,68,5,26,72,61,12,22,55,62,49,72,8,68,10,70,1,15,19,25,58,1,59,64,52,67,28,9,4,66,19,30,21,72,1,55,4,4,15,64,15,43,33,23,26,51,13,40,3,6,38,58,4,7,70,31,46,67,10,19,23,3,51,68,58,20,53,8,69,35,12,3,45,63,16,72,27,1,33,67,16,46,15,59,8,10,7,39,41,57,33,27,7,34,32,35,7,3,4,70,15,46,64,11,10,67,2,54,28,29,3,8,66,8,14,5,43,71,71,52,48,4,1,43,27,49,1,15,31,53,35,27,14,4,72,10,67,40,64,16,30,33,2,2,1,6,1,4,48,1,60,3,1,7,22,24,71,9,7,63,26,44,72,72,1,5,22,72,18,18,3,23,27,38,42,41,46,58,72,38,5,72,33,18,47,6,35,69,57,1,22,1,57,56,37,6,6,71,7,17,35,3,66,70,23,72,65,53,1,3,65,6,68,59,16,8,23,3,1,35,12,41,28,23,33,57,72,5,4,63,40,9,63,67,70,6,50,70,34,33,68,65,1,3,58,70,1,34,18,34,3,33,7,23,44,24,1,63,21,14,2,7,53,67,5,7,31,72,31,72,42,47,40,47,4,24,12,63,59,67,34,65,69,42,33,71,2,3,72,1,23,70,12,5,2,62,20,72,60,18,13,51,56,1,15,3,38,29,4,8,26,4,71,58,72,45,69,2,55,1,27,51,12,52,48,1,66,12,24,38,53,64,60,71,16,24,14,15,1,37,66,7,2,61,2,38,11,29,66,34,30,3,58,29,1,33,0,2,3,17,26,32,67,3,63,1,2,2,1,16,25,5,66,24,72,5,12,18,4,27,38,25,25,72,21,71,27,63,68,58,18,8,20,3,1,60,22,65,29,15,58,13,9,6,1,2,50,1,1,11,1,72,69,1,11,36,27,2,68,42,6,25,17,72,72,72,1,1,1,61,9,19,71,62,2,12,41,33,17,19,11,71,11,1,51,54,22,72,4,30,72,67,68,30,45,59,49,71,48,41,32,61,3,38,65,1,46,30,34,62,1,43,25,8,60,51,35,9,54,12,54,29,53,7,11,2,72,31,13,56,1,8,35,50,17,66,3,46,70,4,1,51,4,33,54,61,31,11,3,49,66,1,4,45,71,53,7,50,66,1,71,72,43,48,35,48,37,48,11,51,9,33,8,54,24,54,25,63,9,44,46,42,39,49,65,9,1,46,36,71,30,4,72,5,11,12,67,32,16,65,25,31,3,31,67,34,49,71,26,34,4,41,64,64,52,41,1,5,53,72,14,48,1,18,8,1,65,2,32,59,2,8,32,9,13,13,1,18,27,11,1,54,2,19,9,63,1,55,3,8,14,26,72,69,45,59,56,1,11,7,16,2,4,44,15,1,50,72,9,43,13,72,70,1,64,18,1,21,25,24,7,38,46,10,3,22,39,22,72,22,17,2,66,50,54,2,63,1,12,14,9,0,40,1,31,13,2,46,26,44,56,10,71,50,69,34,11,49,57,52,72,70,39,1,23,72,24,57,72,67,6,20,11,72,4,19,53,1,46,1,2,70,8,67,5,1,2,1,67,7,12,9,2,37,46,63,61,59,22,31,69,35,1,5,72,34,70,67,38,68,6,25,28,18,3,32,18,51,36,28,2,1,69,8,36,71,71,70,64,10,1,41,4,1,60,41,59,67,1,40,72,3,61,9,55,23,4,11,4,2,26,65,18,34,36,1,2,63,32,25,37,65,31,2,3,15,31,25,43,48,47,71,2,13,25,30,48,3,53,72,10,29,1,57,61,48,3,48,2,24,66,9,54,63,6,67,72,4,72,1,15,72,22,68,5,14,11,18,58,1,71,65,72,43,68,64,1,6,13,4,4,5,28,57,1,26,34,49,62,5,72,1,20,69,27,1,20,23,2,20,32,7,59,58,4,71,4,1,68,24,13,1,48,1,72,46,43,14,19,70,5,17,19,14,17,10,25,10,19,72,57,35,67,5,41,12,45,41,6,63,56,32,66,8,70,40,32,29,2,34,56,22,64,22,5,3,3,24,71,58,72,9,42,9,22,32,44,42,7,59,17,19,14,39,55,1,15,70,56,2,72,37,70,67,46,5,70,4,1,27,15,1,32,1,1,65,36,60,27,10,64,56,50,58,11,48,53,69,12,2,56,59,36,17,54,16,11,1,2,12,18,53,51,36,40,0,71,15,59,58,69,11,55,10,66,1,10,6,6,67,3,25,72,72,13,4,4,5,13,26,4,14,47,5,32,38,37,24,6,57,1,58,17,34,49,68,4,1,42,48,38,6,1,9,36,36,1,66,3,1,4,59,57,72,12,47,7,10,24,31,44,61,40,4,12,13,4,1,2,47,1,12,57,18,58,1,53,50,36,1,15,33,39,17,72,33,10,1,1,1,1,25,13,4,19,7,46,51,72,71,70,62,67,1,5,3,9,51,15,45,69,15,57,1,12,8,55,1,19,19,56,29,8,24,20,48,48,43,20,3,72,1,1,4,69,37,62,55,72,10,41,60,65,45,13,52,17,49,4,40,48,42,66,54,12,4,41,33,47,1,5,19,42,2,72,1,3,1,1,72,21,19,18,3,49,1,29,4,1,11,15,71,72,68,41,2,72,4,3,9,8,37,2,34,72,2,35,34,1,1,19,49,1,72,9,58,11,72,8,17,3,28,2,56,64,14,72,63,1,3,0,33,55,1,23,31,44,4,27,62,68,72,3,71,2,28,11,11,6,31,68,8,29,26,8,13,2,1,1,14,65,72,7,2,68,62,36,61,29,39,72,42,54,5,1,70,52,0,14,72,63,72,52,44,17,38,8,72,24,32,20,40,58,28,1,62,38,49,1,3,11,10,37,8,48,35,47,1,45,71,58,38,3,57,18,71,35,41,41,10,43,47,31,25,24,1,17,45,72,66,71,5,35,72,60,12,15,59,41,69,62,38,61,15,2,7,20,68,5,53,15,69,2,54,6,63,11,40,6,24,72,52,72,52,5,1,4,2,32,40,5,3,24,19,45,11,71,47,26,12,68,7,67,1,29,8,6,47,59,9,61,51,3,43,43,10,2,27,28,28,69,8,72,68,11,61,10,63,4,56,71,72,42,55,1,9,19,11,1,9,46,50,59,3,3,18,20,25,42,11,2,23,30,72,35,69,19,14,20,45,53,45,46,23,41,12,50,72,64,17,47,1,35,64,4,5,18,37,12,32,71,65,17,9,62,72,22,53,72,18,55,37,61,52,56,23,72,3,5,3,65,72,24,34,42,34,37,9,10,46,1,70,51,8,14,2,68,70,42,72,53,18,48,8,8,3,61,12,63,72,30,64,57,54,10,1,1,24,57,61,10,5,60,32,45,72,38,69,6,47,10,15,39,23,65,1,6,1,5,18,2,61,72,32,13,32,1,17,7,22,1,72,2,1,55,50,2,23,20,67,1,49,18,10,71,3,51,63,64,3,40,32,1,72,69,7,27,1,46,67,55,53,1,42,61,9,33,47,6,1,32,5,12,47,32,68,29,59,25,11,18,28,72,28,1,30,39,3,24,14,29,17,50,1,12,66,11,72,13,61,13,24,51,25,9,42,34,2,17,65,24,40,59,1,10,13,66,53,70,10,13,14,8,30,19,1,24,71,5,60,3,72,8,49,61,67,23,5,1,50,2,56,63,1,4,52,72,47,1,1,61,21,3,1,49,7,1,1,22,3,19,72,72,15,48,11,69,6,7,3,28,10,28,1,6,30,2,3,4,63,43,72,1,71,64,25,1,41,7,3,1,24,12,41,6,34,3,2,21,17,1,1,13,39,18,64,71,63,5,60,4,11,45,3,47,56,51,13,40,17,22,57,25,8,54,1,15,40,16,12,68,67,60,13,29,4,16,46,24,56,39,71,29,18,5,4,72,64,35,51,43,47,70,5,2,40,24,46,45,65,41,68,64,16,66,53,10,17,24,45,54,1,17,25,11,50,33,48,52,65,3,68,12,63,10,52,72,8,46,72,52,1,1,4,67,6,18,4,56,53,24,54,13,27,44,72,17,71,26,62,38,10,1,33,23,10,56,18,64,23,7,58,47,5,24,65,3,26,22,7,13,23,70,70,60,3,1,6,71,71,47,28,42,72,70,56,44,68,67,71,50,1,7,17,11,66,28,27,1,13,47,27,17,2,59,66,25,20,25,41,72,9,46,54,25,37,12,29,66,65,16,32,28,71,69,8,20,16,14,19,42,27,7,67,46,17,6,41,72,65,20,45,50,10,60,31,6,56,25,72,22,35,53,71,54,11,1,54,47,44,72,12,17,52,1,35,72,72,13,10,67,36,60,2,21,72,3,50,1,29,19],\"x0\":\" \",\"xaxis\":\"x\",\"y0\":\" \",\"yaxis\":\"y\",\"type\":\"box\"}],                        {\"template\":{\"data\":{\"histogram2dcontour\":[{\"type\":\"histogram2dcontour\",\"colorbar\":{\"outlinewidth\":0,\"ticks\":\"\"},\"colorscale\":[[0.0,\"#0d0887\"],[0.1111111111111111,\"#46039f\"],[0.2222222222222222,\"#7201a8\"],[0.3333333333333333,\"#9c179e\"],[0.4444444444444444,\"#bd3786\"],[0.5555555555555556,\"#d8576b\"],[0.6666666666666666,\"#ed7953\"],[0.7777777777777778,\"#fb9f3a\"],[0.8888888888888888,\"#fdca26\"],[1.0,\"#f0f921\"]]}],\"choropleth\":[{\"type\":\"choropleth\",\"colorbar\":{\"outlinewidth\":0,\"ticks\":\"\"}}],\"histogram2d\":[{\"type\":\"histogram2d\",\"colorbar\":{\"outlinewidth\":0,\"ticks\":\"\"},\"colorscale\":[[0.0,\"#0d0887\"],[0.1111111111111111,\"#46039f\"],[0.2222222222222222,\"#7201a8\"],[0.3333333333333333,\"#9c179e\"],[0.4444444444444444,\"#bd3786\"],[0.5555555555555556,\"#d8576b\"],[0.6666666666666666,\"#ed7953\"],[0.7777777777777778,\"#fb9f3a\"],[0.8888888888888888,\"#fdca26\"],[1.0,\"#f0f921\"]]}],\"heatmap\":[{\"type\":\"heatmap\",\"colorbar\":{\"outlinewidth\":0,\"ticks\":\"\"},\"colorscale\":[[0.0,\"#0d0887\"],[0.1111111111111111,\"#46039f\"],[0.2222222222222222,\"#7201a8\"],[0.3333333333333333,\"#9c179e\"],[0.4444444444444444,\"#bd3786\"],[0.5555555555555556,\"#d8576b\"],[0.6666666666666666,\"#ed7953\"],[0.7777777777777778,\"#fb9f3a\"],[0.8888888888888888,\"#fdca26\"],[1.0,\"#f0f921\"]]}],\"heatmapgl\":[{\"type\":\"heatmapgl\",\"colorbar\":{\"outlinewidth\":0,\"ticks\":\"\"},\"colorscale\":[[0.0,\"#0d0887\"],[0.1111111111111111,\"#46039f\"],[0.2222222222222222,\"#7201a8\"],[0.3333333333333333,\"#9c179e\"],[0.4444444444444444,\"#bd3786\"],[0.5555555555555556,\"#d8576b\"],[0.6666666666666666,\"#ed7953\"],[0.7777777777777778,\"#fb9f3a\"],[0.8888888888888888,\"#fdca26\"],[1.0,\"#f0f921\"]]}],\"contourcarpet\":[{\"type\":\"contourcarpet\",\"colorbar\":{\"outlinewidth\":0,\"ticks\":\"\"}}],\"contour\":[{\"type\":\"contour\",\"colorbar\":{\"outlinewidth\":0,\"ticks\":\"\"},\"colorscale\":[[0.0,\"#0d0887\"],[0.1111111111111111,\"#46039f\"],[0.2222222222222222,\"#7201a8\"],[0.3333333333333333,\"#9c179e\"],[0.4444444444444444,\"#bd3786\"],[0.5555555555555556,\"#d8576b\"],[0.6666666666666666,\"#ed7953\"],[0.7777777777777778,\"#fb9f3a\"],[0.8888888888888888,\"#fdca26\"],[1.0,\"#f0f921\"]]}],\"surface\":[{\"type\":\"surface\",\"colorbar\":{\"outlinewidth\":0,\"ticks\":\"\"},\"colorscale\":[[0.0,\"#0d0887\"],[0.1111111111111111,\"#46039f\"],[0.2222222222222222,\"#7201a8\"],[0.3333333333333333,\"#9c179e\"],[0.4444444444444444,\"#bd3786\"],[0.5555555555555556,\"#d8576b\"],[0.6666666666666666,\"#ed7953\"],[0.7777777777777778,\"#fb9f3a\"],[0.8888888888888888,\"#fdca26\"],[1.0,\"#f0f921\"]]}],\"mesh3d\":[{\"type\":\"mesh3d\",\"colorbar\":{\"outlinewidth\":0,\"ticks\":\"\"}}],\"scatter\":[{\"fillpattern\":{\"fillmode\":\"overlay\",\"size\":10,\"solidity\":0.2},\"type\":\"scatter\"}],\"parcoords\":[{\"type\":\"parcoords\",\"line\":{\"colorbar\":{\"outlinewidth\":0,\"ticks\":\"\"}}}],\"scatterpolargl\":[{\"type\":\"scatterpolargl\",\"marker\":{\"colorbar\":{\"outlinewidth\":0,\"ticks\":\"\"}}}],\"bar\":[{\"error_x\":{\"color\":\"#2a3f5f\"},\"error_y\":{\"color\":\"#2a3f5f\"},\"marker\":{\"line\":{\"color\":\"#E5ECF6\",\"width\":0.5},\"pattern\":{\"fillmode\":\"overlay\",\"size\":10,\"solidity\":0.2}},\"type\":\"bar\"}],\"scattergeo\":[{\"type\":\"scattergeo\",\"marker\":{\"colorbar\":{\"outlinewidth\":0,\"ticks\":\"\"}}}],\"scatterpolar\":[{\"type\":\"scatterpolar\",\"marker\":{\"colorbar\":{\"outlinewidth\":0,\"ticks\":\"\"}}}],\"histogram\":[{\"marker\":{\"pattern\":{\"fillmode\":\"overlay\",\"size\":10,\"solidity\":0.2}},\"type\":\"histogram\"}],\"scattergl\":[{\"type\":\"scattergl\",\"marker\":{\"colorbar\":{\"outlinewidth\":0,\"ticks\":\"\"}}}],\"scatter3d\":[{\"type\":\"scatter3d\",\"line\":{\"colorbar\":{\"outlinewidth\":0,\"ticks\":\"\"}},\"marker\":{\"colorbar\":{\"outlinewidth\":0,\"ticks\":\"\"}}}],\"scattermapbox\":[{\"type\":\"scattermapbox\",\"marker\":{\"colorbar\":{\"outlinewidth\":0,\"ticks\":\"\"}}}],\"scatterternary\":[{\"type\":\"scatterternary\",\"marker\":{\"colorbar\":{\"outlinewidth\":0,\"ticks\":\"\"}}}],\"scattercarpet\":[{\"type\":\"scattercarpet\",\"marker\":{\"colorbar\":{\"outlinewidth\":0,\"ticks\":\"\"}}}],\"carpet\":[{\"aaxis\":{\"endlinecolor\":\"#2a3f5f\",\"gridcolor\":\"white\",\"linecolor\":\"white\",\"minorgridcolor\":\"white\",\"startlinecolor\":\"#2a3f5f\"},\"baxis\":{\"endlinecolor\":\"#2a3f5f\",\"gridcolor\":\"white\",\"linecolor\":\"white\",\"minorgridcolor\":\"white\",\"startlinecolor\":\"#2a3f5f\"},\"type\":\"carpet\"}],\"table\":[{\"cells\":{\"fill\":{\"color\":\"#EBF0F8\"},\"line\":{\"color\":\"white\"}},\"header\":{\"fill\":{\"color\":\"#C8D4E3\"},\"line\":{\"color\":\"white\"}},\"type\":\"table\"}],\"barpolar\":[{\"marker\":{\"line\":{\"color\":\"#E5ECF6\",\"width\":0.5},\"pattern\":{\"fillmode\":\"overlay\",\"size\":10,\"solidity\":0.2}},\"type\":\"barpolar\"}],\"pie\":[{\"automargin\":true,\"type\":\"pie\"}]},\"layout\":{\"autotypenumbers\":\"strict\",\"colorway\":[\"#636efa\",\"#EF553B\",\"#00cc96\",\"#ab63fa\",\"#FFA15A\",\"#19d3f3\",\"#FF6692\",\"#B6E880\",\"#FF97FF\",\"#FECB52\"],\"font\":{\"color\":\"#2a3f5f\"},\"hovermode\":\"closest\",\"hoverlabel\":{\"align\":\"left\"},\"paper_bgcolor\":\"white\",\"plot_bgcolor\":\"#E5ECF6\",\"polar\":{\"bgcolor\":\"#E5ECF6\",\"angularaxis\":{\"gridcolor\":\"white\",\"linecolor\":\"white\",\"ticks\":\"\"},\"radialaxis\":{\"gridcolor\":\"white\",\"linecolor\":\"white\",\"ticks\":\"\"}},\"ternary\":{\"bgcolor\":\"#E5ECF6\",\"aaxis\":{\"gridcolor\":\"white\",\"linecolor\":\"white\",\"ticks\":\"\"},\"baxis\":{\"gridcolor\":\"white\",\"linecolor\":\"white\",\"ticks\":\"\"},\"caxis\":{\"gridcolor\":\"white\",\"linecolor\":\"white\",\"ticks\":\"\"}},\"coloraxis\":{\"colorbar\":{\"outlinewidth\":0,\"ticks\":\"\"}},\"colorscale\":{\"sequential\":[[0.0,\"#0d0887\"],[0.1111111111111111,\"#46039f\"],[0.2222222222222222,\"#7201a8\"],[0.3333333333333333,\"#9c179e\"],[0.4444444444444444,\"#bd3786\"],[0.5555555555555556,\"#d8576b\"],[0.6666666666666666,\"#ed7953\"],[0.7777777777777778,\"#fb9f3a\"],[0.8888888888888888,\"#fdca26\"],[1.0,\"#f0f921\"]],\"sequentialminus\":[[0.0,\"#0d0887\"],[0.1111111111111111,\"#46039f\"],[0.2222222222222222,\"#7201a8\"],[0.3333333333333333,\"#9c179e\"],[0.4444444444444444,\"#bd3786\"],[0.5555555555555556,\"#d8576b\"],[0.6666666666666666,\"#ed7953\"],[0.7777777777777778,\"#fb9f3a\"],[0.8888888888888888,\"#fdca26\"],[1.0,\"#f0f921\"]],\"diverging\":[[0,\"#8e0152\"],[0.1,\"#c51b7d\"],[0.2,\"#de77ae\"],[0.3,\"#f1b6da\"],[0.4,\"#fde0ef\"],[0.5,\"#f7f7f7\"],[0.6,\"#e6f5d0\"],[0.7,\"#b8e186\"],[0.8,\"#7fbc41\"],[0.9,\"#4d9221\"],[1,\"#276419\"]]},\"xaxis\":{\"gridcolor\":\"white\",\"linecolor\":\"white\",\"ticks\":\"\",\"title\":{\"standoff\":15},\"zerolinecolor\":\"white\",\"automargin\":true,\"zerolinewidth\":2},\"yaxis\":{\"gridcolor\":\"white\",\"linecolor\":\"white\",\"ticks\":\"\",\"title\":{\"standoff\":15},\"zerolinecolor\":\"white\",\"automargin\":true,\"zerolinewidth\":2},\"scene\":{\"xaxis\":{\"backgroundcolor\":\"#E5ECF6\",\"gridcolor\":\"white\",\"linecolor\":\"white\",\"showbackground\":true,\"ticks\":\"\",\"zerolinecolor\":\"white\",\"gridwidth\":2},\"yaxis\":{\"backgroundcolor\":\"#E5ECF6\",\"gridcolor\":\"white\",\"linecolor\":\"white\",\"showbackground\":true,\"ticks\":\"\",\"zerolinecolor\":\"white\",\"gridwidth\":2},\"zaxis\":{\"backgroundcolor\":\"#E5ECF6\",\"gridcolor\":\"white\",\"linecolor\":\"white\",\"showbackground\":true,\"ticks\":\"\",\"zerolinecolor\":\"white\",\"gridwidth\":2}},\"shapedefaults\":{\"line\":{\"color\":\"#2a3f5f\"}},\"annotationdefaults\":{\"arrowcolor\":\"#2a3f5f\",\"arrowhead\":0,\"arrowwidth\":1},\"geo\":{\"bgcolor\":\"white\",\"landcolor\":\"#E5ECF6\",\"subunitcolor\":\"white\",\"showland\":true,\"showlakes\":true,\"lakecolor\":\"white\"},\"title\":{\"x\":0.05},\"mapbox\":{\"style\":\"light\"}}},\"xaxis\":{\"anchor\":\"y\",\"domain\":[0.0,1.0],\"title\":{\"text\":\"ClientPeriod\"}},\"yaxis\":{\"anchor\":\"x\",\"domain\":[0.0,1.0]},\"legend\":{\"tracegroupgap\":0},\"margin\":{\"t\":60},\"boxmode\":\"group\"},                        {\"responsive\": true}                    ).then(function(){\n",
              "                            \n",
              "var gd = document.getElementById('8c4fe264-244f-45b0-b9c7-6929ee6c8fc7');\n",
              "var x = new MutationObserver(function (mutations, observer) {{\n",
              "        var display = window.getComputedStyle(gd).display;\n",
              "        if (!display || display === 'none') {{\n",
              "            console.log([gd, 'removed!']);\n",
              "            Plotly.purge(gd);\n",
              "            observer.disconnect();\n",
              "        }}\n",
              "}});\n",
              "\n",
              "// Listen for the removal of the full notebook cells\n",
              "var notebookContainer = gd.closest('#notebook-container');\n",
              "if (notebookContainer) {{\n",
              "    x.observe(notebookContainer, {childList: true});\n",
              "}}\n",
              "\n",
              "// Listen for the clearing of the current output cell\n",
              "var outputEl = gd.closest('.output');\n",
              "if (outputEl) {{\n",
              "    x.observe(outputEl, {childList: true});\n",
              "}}\n",
              "\n",
              "                        })                };                            </script>        </div>\n",
              "</body>\n",
              "</html>"
            ]
          },
          "metadata": {}
        },
        {
          "output_type": "display_data",
          "data": {
            "text/html": [
              "<html>\n",
              "<head><meta charset=\"utf-8\" /></head>\n",
              "<body>\n",
              "    <div>            <script src=\"https://cdnjs.cloudflare.com/ajax/libs/mathjax/2.7.5/MathJax.js?config=TeX-AMS-MML_SVG\"></script><script type=\"text/javascript\">if (window.MathJax && window.MathJax.Hub && window.MathJax.Hub.Config) {window.MathJax.Hub.Config({SVG: {font: \"STIX-Web\"}});}</script>                <script type=\"text/javascript\">window.PlotlyConfig = {MathJaxConfig: 'local'};</script>\n",
              "        <script charset=\"utf-8\" src=\"https://cdn.plot.ly/plotly-2.24.1.min.js\"></script>                <div id=\"4e5cca8f-b4ac-4c80-b44a-dc0c2409aa16\" class=\"plotly-graph-div\" style=\"height:525px; width:100%;\"></div>            <script type=\"text/javascript\">                                    window.PLOTLYENV=window.PLOTLYENV || {};                                    if (document.getElementById(\"4e5cca8f-b4ac-4c80-b44a-dc0c2409aa16\")) {                    Plotly.newPlot(                        \"4e5cca8f-b4ac-4c80-b44a-dc0c2409aa16\",                        [{\"alignmentgroup\":\"True\",\"hovertemplate\":\"MonthlySpending=%{x}\\u003cextra\\u003e\\u003c\\u002fextra\\u003e\",\"legendgroup\":\"\",\"marker\":{\"color\":\"#636efa\"},\"name\":\"\",\"notched\":false,\"offsetgroup\":\"\",\"orientation\":\"h\",\"showlegend\":false,\"x\":[19.5,25.85,75.9,79.3,115.25,19.8,90.15,45.7,105.95,61.2,78.75,113.05,99.5,38.85,102.6,90.05,53.75,90.3,19.85,102.7,84.9,79.0,19.5,45.3,104.15,20.25,101.05,104.6,90.0,89.7,26.05,20.35,73.85,75.15,105.2,105.5,19.2,112.2,95.9,84.85,20.85,74.45,86.1,19.2,76.95,49.4,55.15,19.7,19.9,19.2,29.75,74.45,102.1,86.65,89.4,96.4,94.3,103.75,20.15,99.5,83.45,81.0,110.05,48.45,89.8,20.25,19.75,24.4,79.8,100.0,45.85,20.05,82.4,74.85,20.1,96.75,50.5,85.7,55.85,20.9,103.25,20.5,84.75,105.9,50.55,65.45,24.15,50.55,84.9,69.65,45.75,20.25,85.95,85.2,79.25,29.6,106.6,85.35,108.3,95.9,20.15,20.65,55.0,19.3,40.65,19.45,20.1,104.05,54.25,69.75,65.6,25.7,91.4,67.45,23.5,75.35,75.35,60.95,95.1,108.05,24.55,41.35,54.45,61.35,94.1,20.05,19.45,20.0,25.1,61.8,110.75,93.85,48.85,100.0,93.9,79.65,69.0,19.95,55.35,110.35,102.1,19.85,19.65,99.45,81.25,56.7,20.75,95.05,19.2,19.5,20.6,61.2,20.7,80.85,20.35,56.15,23.9,90.1,67.45,20.85,29.2,105.95,50.0,84.1,19.35,19.9,90.6,19.7,45.55,69.8,69.9,98.5,55.8,82.45,24.8,79.0,48.8,23.8,95.1,111.2,73.15,89.5,60.6,24.1,84.5,19.55,73.65,81.45,44.35,104.45,99.7,44.5,85.2,64.15,80.15,43.85,109.25,74.7,20.55,53.8,91.5,107.95,20.7,84.45,99.75,94.15,75.35,19.6,110.65,75.3,73.05,80.6,100.15,99.05,85.6,35.45,48.75,92.0,50.4,45.3,70.95,109.15,55.95,20.35,19.75,59.7,98.75,80.85,66.5,42.4,19.45,111.8,20.1,51.3,19.7,79.2,20.85,114.5,62.85,25.0,20.95,81.7,99.95,24.45,65.85,90.4,108.45,25.3,90.8,83.2,91.65,105.1,44.8,105.2,94.85,19.45,25.25,19.2,96.35,40.75,84.2,70.8,108.15,79.55,24.7,25.45,20.3,115.05,101.9,111.95,25.6,56.8,55.6,79.25,19.2,24.45,55.9,85.55,85.7,92.65,20.2,80.0,97.0,25.05,19.95,75.65,114.75,103.25,20.05,78.9,100.45,25.25,91.3,35.4,20.05,70.9,70.6,58.7,85.4,50.25,92.35,19.75,46.1,19.85,19.85,20.1,111.15,74.85,59.4,87.95,24.4,101.7,95.4,69.05,92.95,45.05,93.85,96.05,19.6,19.8,54.2,65.6,43.9,50.7,98.6,89.05,79.35,84.75,51.8,69.35,19.9,55.7,70.7,94.6,84.8,19.65,19.65,92.85,81.3,78.45,110.85,84.5,70.6,75.4,60.9,74.4,78.15,93.8,78.45,25.5,71.05,71.05,19.5,20.25,19.4,105.3,90.65,95.1,80.0,111.8,95.6,95.45,54.5,81.25,20.85,20.7,19.95,85.05,60.9,80.15,89.5,98.25,84.8,94.25,62.1,57.75,99.15,110.8,85.0,94.35,79.2,90.6,99.25,100.6,81.9,83.3,106.3,59.8,94.8,63.95,20.65,70.55,62.25,105.35,115.75,103.65,24.75,101.1,95.25,85.3,45.85,50.55,75.1,89.7,65.0,19.25,69.5,81.35,92.2,69.6,101.1,108.1,64.1,20.15,85.95,94.95,74.2,66.05,50.3,25.7,104.8,35.75,79.85,83.85,19.95,26.35,86.1,111.6,19.25,103.05,74.5,19.5,89.9,105.2,23.75,34.0,30.5,55.25,19.3,60.15,59.6,98.15,70.6,83.4,111.65,24.35,108.05,20.2,69.1,19.3,89.1,82.45,116.25,112.95,59.85,19.45,65.1,19.95,70.3,39.65,25.15,70.95,89.6,25.25,20.65,66.25,77.55,19.6,47.4,80.8,84.0,100.3,25.0,78.6,63.95,19.45,109.55,96.55,66.0,73.8,68.95,59.75,29.45,92.55,45.0,89.55,75.15,44.55,79.05,102.55,19.05,21.15,75.9,94.25,85.35,79.2,69.4,19.75,90.8,85.9,105.5,104.45,24.8,73.0,91.2,80.05,115.65,20.75,84.9,77.8,20.05,82.65,69.05,54.9,20.35,68.8,40.2,59.0,80.0,91.0,85.3,19.8,103.95,20.1,90.25,86.45,70.3,85.85,76.85,25.75,20.45,19.9,74.65,84.1,83.3,89.45,91.95,97.65,70.45,60.9,25.3,100.4,75.1,19.25,69.5,70.1,93.8,75.1,100.15,66.1,56.15,24.45,56.2,19.9,61.2,50.15,20.1,24.9,107.65,50.4,85.95,100.3,78.6,45.4,24.7,65.3,44.85,90.55,30.4,60.6,20.35,89.3,30.75,95.8,19.35,80.3,80.15,102.1,25.6,108.25,54.75,102.0,19.95,74.25,64.95,100.75,44.35,89.65,45.6,105.1,55.3,20.5,25.1,73.85,20.05,104.25,94.4,40.45,60.6,20.1,86.05,48.35,20.45,91.3,45.35,55.0,80.55,44.45,19.75,106.05,64.2,69.25,54.35,83.25,75.8,35.0,50.95,101.15,95.7,19.65,20.55,89.35,78.95,59.8,84.95,59.55,20.3,79.5,36.05,85.45,19.5,74.55,88.7,84.7,44.25,101.1,19.7,19.65,44.3,114.35,50.1,100.2,19.45,85.65,45.05,20.6,83.75,24.25,20.2,99.55,104.1,20.45,109.2,79.1,103.5,89.65,55.45,19.5,74.6,20.55,19.15,73.8,20.4,59.05,39.45,80.6,49.85,45.5,107.35,76.65,117.15,76.6,79.05,74.35,95.0,83.6,75.35,19.35,107.25,110.5,20.4,20.25,83.55,75.4,118.75,99.55,48.8,19.9,109.25,20.85,59.9,59.2,20.25,100.25,19.95,79.4,99.35,35.1,20.65,89.7,25.6,19.55,45.9,116.8,59.55,64.75,24.45,19.4,25.6,20.4,48.4,20.7,20.4,35.5,114.7,85.0,107.95,19.8,20.9,29.6,86.65,105.35,24.15,40.1,19.1,25.4,105.0,47.85,90.45,62.15,19.85,67.7,85.4,68.65,25.45,19.8,95.95,20.0,80.7,100.35,20.65,19.8,76.9,63.8,97.05,70.1,112.95,110.55,77.15,19.9,19.2,24.9,88.4,95.15,116.05,79.7,83.2,20.05,69.85,50.75,57.8,35.2,44.1,87.35,19.25,54.8,104.1,85.9,76.1,25.05,79.3,69.35,25.25,19.1,114.5,45.75,88.4,19.8,19.75,104.2,75.4,23.3,74.4,60.4,79.75,95.65,78.9,77.15,62.15,93.95,104.15,40.1,93.45,68.35,44.05,21.3,98.8,51.6,93.6,18.4,105.9,108.1,20.45,61.0,72.9,51.0,95.75,104.7,99.0,19.85,105.2,29.7,90.7,64.7,25.05,59.6,75.35,108.9,60.8,90.6,26.3,74.85,81.0,85.3,72.1,85.3,99.0,51.1,55.9,20.05,100.85,105.3,25.25,54.9,19.8,97.45,80.8,84.4,19.65,98.7,49.65,96.6,44.95,59.5,29.9,93.9,94.0,106.5,104.4,39.3,20.05,34.25,39.15,33.6,85.25,69.35,19.1,89.2,94.8,19.9,54.45,84.3,84.9,19.65,95.05,96.5,26.05,33.6,79.55,74.95,63.7,84.1,86.8,33.9,70.1,79.85,74.7,87.25,19.55,20.05,100.2,20.4,75.65,60.15,79.15,46.35,69.95,59.9,20.4,97.35,19.75,21.15,81.15,75.0,81.95,20.05,101.55,71.85,20.1,44.0,102.1,20.75,20.55,94.6,107.0,84.85,97.95,23.65,81.35,102.95,74.4,85.3,80.2,40.2,85.1,50.25,44.0,33.55,25.1,19.6,58.2,67.8,88.2,73.5,50.65,24.45,75.25,109.5,69.5,85.25,115.55,24.4,70.45,100.45,89.0,26.0,84.55,114.9,96.5,94.2,24.95,54.15,54.15,20.0,25.25,101.15,101.5,99.4,45.65,70.4,71.4,74.9,55.3,94.35,106.8,86.45,89.7,71.05,40.4,89.7,55.0,74.35,89.8,95.4,89.4,20.35,94.65,35.65,44.5,49.4,19.35,103.95,44.25,62.55,34.5,100.15,85.85,33.15,88.45,90.6,48.55,24.25,45.55,84.05,114.3,100.85,74.25,80.7,104.3,94.3,70.6,79.8,103.95,44.55,105.0,78.55,94.7,84.3,65.6,71.65,110.0,45.15,83.8,19.85,19.35,20.25,20.05,55.8,64.15,75.75,20.5,53.95,75.5,83.7,94.9,73.65,88.8,104.05,99.15,104.4,78.85,19.6,60.5,20.25,50.3,110.2,100.6,86.15,70.4,64.35,85.45,49.9,63.7,91.7,20.1,36.25,75.35,83.3,66.9,108.3,45.4,67.75,19.3,40.2,34.95,24.85,70.2,49.95,25.75,53.0,93.85,50.35,84.5,95.65,20.05,84.45,83.5,87.75,87.65,86.2,50.55,76.25,29.85,70.05,21.25,109.45,84.15,95.6,70.15,110.65,78.2,20.2,57.2,35.9,49.25,20.45,100.05,78.95,25.2,20.6,104.9,74.5,105.15,20.0,97.2,90.05,19.7,55.0,19.45,93.15,25.1,81.05,64.5,113.2,20.0,44.6,40.35,110.8,50.1,56.1,75.1,99.25,44.8,95.5,56.05,19.9,76.5,64.05,18.95,55.0,53.5,89.3,48.75,30.1,45.05,88.8,45.85,40.3,94.5,59.85,69.0,69.45,21.05,80.5,104.3,45.0,44.3,73.45,20.75,19.1,19.85,67.05,55.25,19.9,58.6,90.5,95.0,20.2,110.75,84.05,19.75,99.7,25.0,90.15,80.9,103.9,20.3,85.1,105.35,19.25,94.2,55.6,68.15,20.85,24.0,93.15,80.9,94.2,91.5,74.65,99.45,29.3,20.35,81.45,94.65,82.0,34.8,76.1,20.05,19.8,100.25,81.95,73.55,71.65,98.55,101.15,69.75,113.65,80.55,101.1,75.55,105.85,61.65,105.95,60.8,26.0,104.75,60.35,108.65,87.1,101.6,92.55,45.15,19.65,105.05,110.25,95.3,26.9,49.8,75.15,19.2,73.3,109.15,19.85,107.7,85.0,19.85,104.5,78.65,90.45,84.85,64.7,100.45,19.65,76.1,78.5,19.95,20.2,26.45,60.85,99.9,19.7,71.25,74.5,20.5,99.3,49.5,95.1,24.9,35.2,71.35,93.85,80.3,101.75,95.0,19.9,45.3,19.55,54.6,20.95,53.1,25.35,44.0,104.1,25.0,49.95,54.6,79.9,20.85,20.5,85.5,20.0,38.6,55.55,44.8,54.8,100.3,99.7,23.95,96.0,108.15,40.1,82.85,109.25,111.35,81.5,89.85,109.95,108.85,79.6,19.5,99.0,54.65,98.65,73.0,50.7,70.3,19.55,69.05,75.45,89.25,19.95,95.5,88.8,73.75,20.1,84.1,75.6,20.45,85.2,19.5,109.2,108.1,98.85,101.3,80.55,103.45,39.7,63.7,84.7,19.95,106.15,20.0,53.55,94.6,95.0,55.1,75.5,39.65,24.75,80.35,19.4,55.0,104.9,69.9,85.5,70.2,49.85,94.25,69.15,90.35,111.5,20.05,82.5,74.5,80.05,19.35,116.25,87.15,114.3,19.45,78.65,59.15,20.1,44.6,20.05,54.4,61.4,104.4,76.75,81.45,88.05,84.8,19.55,72.15,78.45,64.45,103.7,99.5,19.25,105.0,62.15,100.45,91.6,108.75,93.55,74.55,74.9,58.4,67.8,84.3,19.7,109.75,110.25,19.95,56.3,59.85,73.5,69.0,20.35,53.65,19.7,85.2,42.3,43.3,49.4,24.8,95.3,60.6,20.8,19.7,45.0,102.6,97.1,69.9,35.65,85.65,75.3,19.35,39.35,66.4,69.2,59.95,60.2,71.7,43.55,19.55,49.5,60.0,101.3,80.1,24.7,56.45,56.2,19.7,19.85,19.6,99.15,49.8,43.9,75.55,91.65,26.1,105.35,85.0,108.05,20.4,68.1,85.25,20.5,91.15,20.25,54.3,53.95,20.0,20.4,84.05,94.45,95.0,115.15,71.35,68.6,55.75,80.0,91.55,56.75,20.25,90.0,70.9,19.2,105.75,86.45,20.4,71.1,53.8,104.65,45.8,30.1,45.4,26.3,105.7,60.5,24.1,86.05,29.35,20.15,40.65,84.8,71.1,80.5,80.6,69.85,99.0,107.5,93.2,19.75,54.55,20.5,100.05,31.0,45.35,55.55,69.5,19.5,20.05,113.3,20.55,84.35,101.4,24.1,85.45,19.45,65.1,58.65,19.6,20.45,74.85,70.4,42.1,74.4,20.15,103.8,88.15,113.25,74.55,65.65,61.15,116.05,105.25,95.0,95.5,20.3,98.35,24.8,94.25,24.75,50.2,90.15,101.25,60.0,18.85,58.5,19.35,20.4,25.75,70.35,89.35,64.2,20.05,90.05,24.5,79.65,66.25,50.1,74.95,20.4,101.0,109.55,19.6,96.95,65.55,75.3,91.55,84.4,24.55,108.75,25.2,110.0,54.2,74.9,24.9,80.35,100.3,52.0,54.1,19.65,45.2,105.55,19.8,85.35,108.15,94.5,19.8,20.3,86.2,99.4,74.8,96.0,103.75,75.15,100.2,61.25,29.05,34.2,25.05,78.25,74.9,74.35,20.25,96.75,107.45,105.4,30.25,20.85,54.3,105.75,74.2,75.35,109.8,54.25,25.0,34.7,100.6,55.95,74.2,78.85,102.6,19.55,69.5,23.85,70.75,112.95,100.7,19.75,50.35,24.95,19.4,74.15,19.55,94.3,74.65,19.1,24.6,24.85,45.55,66.35,29.45,60.0,25.2,74.75,113.15,104.05,19.55,79.9,54.95,19.85,94.45,106.35,98.7,83.45,85.7,60.75,50.55,93.35,115.1,96.7,90.8,63.1,54.75,80.4,20.0,63.6,59.85,48.8,89.15,84.15,19.65,81.85,74.3,99.0,68.75,29.85,111.45,108.9,99.8,94.85,110.0,20.0,81.35,79.65,112.4,19.8,110.5,19.5,55.3,109.9,76.55,83.6,80.95,19.95,39.85,94.1,53.3,104.15,83.05,90.75,90.65,69.75,99.1,79.35,51.0,89.85,19.25,19.2,89.75,24.9,44.15,20.5,24.85,60.2,26.0,72.95,31.05,45.3,97.8,102.6,55.25,29.9,76.35,82.85,59.95,97.05,50.3,116.05,19.5,79.4,102.45,50.15,19.8,19.6,49.55,86.7,98.05,74.85,20.25,45.1,104.05,73.35,77.75,80.65,74.55,19.7,59.8,88.95,98.4,20.5,49.9,86.45,62.8,39.0,87.1,83.2,19.25,105.9,81.25,105.65,70.15,19.9,93.7,44.95,70.75,84.05,24.7,99.5,24.55,21.0,82.95,80.8,99.45,19.75,24.6,99.3,89.3,109.1,80.45,105.25,111.05,94.65,23.75,105.65,46.3,90.8,84.6,90.45,36.0,90.45,106.0,89.6,55.3,19.35,20.4,24.25,60.0,80.45,79.2,64.1,20.35,20.5,20.1,59.75,69.1,109.4,98.05,44.65,54.0,43.95,19.55,69.95,25.75,77.3,84.0,19.65,89.85,70.55,24.75,94.65,99.3,88.2,97.75,30.4,70.3,24.4,84.2,75.8,38.1,40.05,81.05,117.6,98.8,29.95,98.1,20.1,57.65,35.15,50.15,85.65,19.95,60.1,19.85,103.0,74.75,65.65,96.65,85.35,85.35,49.85,20.25,19.5,59.45,106.0,80.15,19.75,72.1,98.9,51.55,24.95,25.4,45.25,91.25,103.3,96.8,70.85,100.25,84.3,99.35,20.2,96.8,69.2,74.3,49.2,98.9,104.35,71.15,30.6,78.75,70.4,66.85,60.35,20.2,25.35,75.3,70.35,35.0,34.7,92.1,55.65,45.8,116.2,54.4,79.2,114.0,81.15,56.25,23.45,112.1,66.4,54.45,95.85,70.1,65.1,104.55,20.25,60.25,104.15,20.4,80.05,75.35,109.65,25.1,24.9,95.4,58.85,84.85,46.0,19.5,19.8,55.0,56.5,70.05,60.8,85.65,71.9,19.4,91.85,51.2,80.45,19.55,90.75,70.1,54.15,24.95,78.3,80.35,46.0,84.8,75.6,89.55,93.8,86.1,84.7,95.05,56.3,20.4,69.95,62.3,20.1,33.75,107.95,21.1,81.7,84.85,79.95,50.15,54.65,93.05,101.5,95.25,29.65,90.6,69.8,69.85,26.4,86.3,104.0,44.6,70.95,19.7,64.85,98.5,96.85,19.75,99.65,50.75,100.55,104.75,29.75,20.1,92.0,45.3,80.6,83.05,70.55,74.05,85.3,99.65,90.4,94.1,20.45,81.1,45.7,84.3,19.7,96.4,59.6,20.35,64.7,49.15,110.15,49.95,74.9,91.95,54.75,72.25,100.6,19.85,25.75,61.65,90.45,102.1,109.05,49.8,110.5,19.75,64.5,69.9,79.65,49.6,78.35,72.1,64.85,20.15,111.1,25.3,54.15,69.7,89.6,67.2,79.15,84.8,19.85,95.9,50.9,68.9,51.45,68.4,76.4,54.4,89.65,70.0,101.75,76.05,96.0,20.35,96.2,19.85,19.95,89.75,19.75,74.0,74.9,81.0,20.65,64.0,19.7,20.9,104.65,87.3,79.6,21.05,52.7,64.65,67.4,84.8,69.15,89.55,114.1,69.35,96.05,95.6,69.65,24.45,20.0,75.05,66.7,109.45,71.0,26.4,54.9,98.9,44.9,79.2,41.15,73.85,74.0,96.15,104.55,60.4,105.7,70.35,70.7,99.5,56.15,110.3,84.3,44.8,95.9,20.05,60.0,98.7,74.75,19.8,40.65,80.5,49.75,106.9,25.45,100.2,20.5,90.6,55.65,71.65,94.55,104.95,71.9,97.65,76.5,19.35,20.15,20.1,93.7,104.05,96.6,19.95,73.85,35.9,79.5,20.4,99.85,76.45,19.85,94.8,25.0,71.95,79.7,24.45,29.75,24.0,20.45,75.3,19.55,94.5,91.25,94.4,89.15,18.8,58.85,49.55,81.15,84.8,84.5,53.75,82.3,53.65,81.55,20.05,19.15,95.0,101.5,19.8,96.1,108.4,20.2,50.05,73.85,85.85,20.4,64.9,105.05,100.7,24.25,44.85,34.4,20.45,80.6,20.15,89.4,26.5,90.65,89.5,78.95,20.0,21.2,49.05,54.9,103.1,71.45,19.95,71.5,88.5,95.25,20.5,25.5,118.2,19.25,80.6,46.2,19.8,83.85,80.75,80.1,83.15,55.15,69.65,29.65,20.0,59.55,100.0,44.95,98.45,100.4,83.35,95.55,103.15,75.15,68.95,35.1,50.15,105.6,104.15,73.25,23.95,74.95,95.3,65.05,111.25,29.7,80.2,91.85,104.2,64.4,64.8,76.85,80.0,19.7,40.4,20.25,94.4,40.7,54.35,86.65,19.9,112.35,20.3,20.45,24.8,19.5,20.55,70.8,106.4,20.4,49.85,69.95,109.85,91.2,89.65,80.2,92.95,44.45,104.15,24.75,72.6,69.5,90.5,53.75,73.95,70.2,50.6,64.8,19.75,74.45,19.6,89.95,19.55,91.7,63.3,43.65,88.95,114.35,20.55,45.9,51.05,91.25,70.95,88.1,90.45,109.3,44.6,68.95,55.65,19.95,43.95,69.6,93.3,34.2,94.95,55.05,69.05,69.6,49.9,44.45,109.5,88.7,77.85,80.3,82.3,19.5,20.35,60.5,79.1,94.9,50.8,80.6,49.45,50.2,39.4,59.9,20.35,85.15,40.05,108.2,25.4,70.45,70.35,103.85,19.3,53.45,19.3,50.65,64.95,86.45,69.05,19.1,90.65,105.75,75.25,48.8,89.05,74.35,105.4,21.05,25.0,93.35,34.3,98.75,55.35,64.05,94.55,44.75,23.95,44.05,69.95,90.2,35.4,70.75,83.3,99.1,92.0,100.15,20.15,20.25,25.05,75.55,85.15,98.35,88.45,85.35,75.85,106.95,19.15,25.15,19.6,74.5,104.8,75.6,95.5,30.2,100.35,20.35,74.4,95.0,44.95,24.0,47.95,20.15,85.15,101.05,69.1,24.8,20.75,20.0,50.9,25.1,84.4,111.95,20.15,19.9,100.15,100.65,78.75,56.1,43.3,19.85,91.35,96.1,80.45,74.0,74.0,86.9,20.2,58.6,84.3,80.0,69.9,34.65,19.65,70.5,19.7,99.65,106.4,51.65,40.65,19.15,81.0,85.9,19.0,45.45,60.05,90.85,71.1,75.1,19.6,24.65,82.0,70.0,78.0,25.8,20.7,75.85,33.65,104.1,90.65,74.6,63.9,110.8,100.8,88.85,115.75,20.35,26.0,78.95,20.55,106.05,90.1,20.15,86.6,79.05,89.4,19.8,59.75,56.25,60.3,70.5,96.75,65.0,45.55,58.55,69.4,55.1,41.1,54.2,105.35,20.6,35.1,100.15,60.05,105.85,61.4,94.0,54.95,24.45,84.6,103.45,85.9,101.1,48.55,19.5,90.05,19.85,57.15,20.9,90.35,51.1,89.15,19.55,50.8,118.6,40.0,29.8,70.15,64.9,19.55,51.1,24.1,79.2,19.75,100.3,67.25,56.15,25.5,84.8,85.1,90.0,80.65,64.4,99.25,20.15,115.8,70.3,59.0,20.0,65.25,75.15,20.7,76.15,20.1,25.25,20.05,81.5,88.15,66.75,62.05,89.95,20.6,49.55,49.2,44.4,84.3,93.25,59.9,44.65,94.75,69.55,58.45,85.75,76.8,56.95,95.5,20.45,114.55,92.0,90.25,70.0,101.15,65.4,91.4,55.45,90.4,85.15,89.9,19.7,20.85,100.5,111.9,19.05,45.1,96.5,52.3,19.55,19.8,20.15,41.9,74.55,86.45,19.7,26.2,108.1,20.25,106.5,19.8,21.0,40.35,111.25,74.75,25.1,86.7,94.45,24.1,85.3,100.45,19.35,19.85,66.25,74.05,19.65,20.55,54.7,90.65,22.95,20.45,69.1,107.05,39.2,49.5,90.4,91.05,70.4,79.7,38.9,45.9,67.95,19.9,72.85,110.5,31.35,94.45,73.6,20.2,35.75,97.35,115.6,53.8,25.05,19.7,50.5,20.3,74.95,66.25,79.4,61.55,89.05,92.3,88.35,115.15,79.5,94.6,94.75,79.55,85.1,84.45,69.5,64.55,98.8,78.45,20.6,46.0,90.4,24.85,90.7,69.1,71.4,98.7,19.55,94.25,79.6,58.2,75.15,19.45,57.6,88.8,82.65,100.55,79.5,105.2,90.05,109.9,70.3,39.6,69.65,111.3,52.5,45.45,20.7,105.05,25.25,20.6,20.15,20.0,98.1,39.55,26.25,20.35,96.8,101.9,102.65,110.1,81.0,92.05,79.9,80.1,54.2,40.25,54.65,50.75,83.9,80.55,64.8,40.6,75.7,19.8,79.85,70.15,84.4,59.6,19.95,103.8,110.6,49.05,59.45,84.2,19.15,100.05,75.4,86.55,64.6,61.4,90.05,24.8,72.35,71.3,55.65,19.9,45.9,79.5,45.25,81.05,83.85,19.4,46.35,44.45,99.25,81.85,69.7,97.95,100.65,100.5,78.9,104.3,84.7,46.0,89.9,19.8,44.2,109.75,74.35,25.4,75.3,102.15,85.45,95.85,85.7,18.8,104.75,91.05,24.1,84.4,76.9,19.9,90.6,99.0,20.0,96.1,38.25,78.85,75.7,115.55,20.3,113.75,60.15,75.55,75.25,108.75,80.55,20.05,24.75,89.55,18.9,20.25,19.15,44.6,19.65,78.8,20.05,54.85,68.95,84.2,109.55,28.5,19.55,89.25,90.15,69.75,89.1,81.6,79.35,110.5,86.8,84.85,105.0,66.3,51.05,69.55,84.25,70.7,71.05,21.05,115.15,95.8,70.1,75.55,77.35,97.0,85.55,79.75,24.85,20.15,104.85,29.7,105.35,84.5,65.2,89.8,20.0,96.9,20.4,76.4,54.2,89.9,93.55,99.75,49.85,100.8,80.95,103.7,80.7,54.85,40.2,85.25,34.05,79.4,95.45,85.95,100.0,93.9,99.15,79.0,49.9,89.6,36.15,117.2,51.2,72.1,104.1,95.25,42.35,78.55,24.5,44.75,89.1,65.8,91.1,19.65,35.05,50.5,20.3,25.3,59.9,96.3,19.6,116.3,84.55,91.0,75.35,50.7,99.65,96.75,79.7,75.75,94.2,19.95,34.7,19.65,111.3,19.4,25.85,103.3,19.75,69.8,90.95,100.9,94.8,70.2,25.45,19.8,55.0,74.6,84.35,92.45,52.1,84.25,19.5,85.45,19.4,105.35,104.65,20.55,79.3,100.55,70.1,74.45,25.45,94.0,104.65,93.8,89.4,65.25,50.45,84.2,78.85,19.35,20.05,60.45,55.8,53.95,109.05,20.35,44.9,51.35,58.6,88.05,91.05,70.0,94.9,73.1,19.15,54.1,44.35,104.05,74.1,19.05,20.75,45.0,84.05,94.45,97.55,104.95,66.2,84.9,20.1,78.5,94.75,80.3,54.5,86.15,71.0,25.6,69.6,94.8,20.6,34.6,55.2,68.45,84.0,54.45,70.05,19.65,67.25,109.75,102.4,107.45,90.15,20.15,54.65,102.35,75.85,103.85,25.35,19.6,99.1,54.2,59.9,90.8,25.15,95.1,25.3,106.75,26.3,45.35,20.75,89.7,53.6,100.15,109.4,108.95,67.45,50.95,24.7,21.0,105.5,76.0,96.35,105.5,29.8,74.2,20.2,66.9,105.0,98.7,60.7,74.85,90.6,98.3,55.8,98.05,24.6,116.25,20.3,101.9,74.15,24.35,98.7,50.9,20.9,86.05,64.65,19.75,19.6,49.25,64.5,88.75,69.25,19.8,86.85,26.0,64.75,85.6,19.75,94.55,75.1,44.55,105.85,20.45,86.55,79.55,104.25,104.4,54.75,51.15,108.45,25.05,94.85,24.05,20.0,55.0,24.65,100.65,20.75,74.4,105.95,88.9,94.05,91.15,72.0,20.2,24.8,107.05,47.85,79.05,75.4,91.0,49.65,70.9,45.95,115.85,64.15,24.75,78.45,45.3,83.4,98.65,115.5,49.45,55.2,75.2,25.15,111.5,85.35,109.65,81.3,25.05,87.0,59.8,25.15,20.0,89.55,69.0,89.2,94.1,98.9,20.2,20.3,76.05,19.45,85.55,18.85,48.8,70.05,49.9,83.4,80.85,79.7,99.4,113.95,74.3,99.4,24.7,110.8,100.4,70.0,56.15,19.7,103.4,84.5,91.65,19.2,44.05,64.4,20.05,73.55,68.75,100.55,104.4,70.55,69.95,90.95,82.05,58.4,89.15,80.2,20.2,46.3,80.3,107.5,80.85,75.3,94.45,55.95,99.85,65.2,20.45,44.35,86.25,106.15,78.8,94.9,111.75,73.85,74.15,76.0,91.3,49.15,43.6,55.3,19.65,86.2,19.6,33.6,49.7,44.45,95.25,51.05,90.55,29.3,99.0,19.8,70.7,56.6,79.3,73.9,50.85,19.6,113.65,19.1,75.3,64.4,95.0,69.15,45.4,46.35,66.05,85.8,19.6,49.3,74.95,101.45,104.4,80.7,79.9,105.3,25.85,40.55,49.55,47.05,25.15,48.75,80.55,84.05,48.8,29.5,103.25,74.75,19.2,19.95,85.3,51.05,92.4,58.25,80.3,49.3,80.85,86.1,81.45,84.4,76.2,80.6,46.3,70.2,64.75,105.1,95.7,75.05,24.85,102.45,108.35,19.3,74.1,44.3,78.5,20.05,24.95,59.6,24.55,29.65,90.1,24.45,24.25,75.2,109.1,74.55,36.1,50.95,91.3,61.15,20.05,19.75,47.85,94.55,53.6,19.1,109.9,19.55,63.35,79.4,19.75,80.35,84.75,105.45,105.65,59.8,19.4,20.5,24.85,54.05,111.95,74.35,20.7,80.6,75.5,79.15,70.15,25.05,50.75,103.95,83.55,92.2,19.5,48.35,53.8,45.8,24.85,49.05,88.35,74.9,59.2,93.9,100.55,24.65,71.0,24.9,19.35,44.65,75.0,85.25,70.8,50.25,20.6,50.6,50.55,49.55,64.9,30.9,70.05,79.6,24.45,73.7,78.85,19.65,108.5,19.65,99.25,45.55,101.95,99.7,50.35,34.0,19.35,67.45,50.8,101.05,51.55,19.1,89.6,116.6,20.3,110.2,81.95,20.0,20.5,106.1,79.55,44.55,88.95,51.7,19.6,108.0,95.0,19.4,84.8,19.7,56.3,114.65,19.0,96.9,52.15,49.15,88.4,81.1,19.6,74.9,50.95,24.2,74.55,86.2,24.5,45.35,110.9,49.45,70.15,20.05,50.05,84.8,25.0,100.65,60.65,24.3,56.05,87.1,65.2,45.4,84.15,45.05,108.15,84.5,113.8,45.45,84.7,65.5,19.7,80.25,20.05,44.9,99.5,105.05,50.15,75.95,84.3,19.85,75.7,96.6,85.05,78.9,29.45,19.7,80.8,41.9,115.5,70.45,19.15,45.9,84.8,101.9,66.15,85.6,77.85,95.3,99.95,75.0,20.45,66.4,20.15,40.15,20.15,54.5,61.05,85.65,79.3,105.55,64.0,20.1,60.95,29.5,19.65,90.05,19.3,30.05,101.35,75.2,89.4,19.55,38.5,74.1,72.1,35.5,20.05,100.85,19.25,19.3,115.8,59.45,44.0,110.45,60.4,84.95,101.0,55.7,95.8,70.1,21.2,19.9,99.75,80.25,94.7,82.1,86.45,51.0,79.6,20.55,33.45,69.15,75.3,70.65,84.1,19.4,19.4,93.4,79.0,75.75,67.85,75.8,109.55,74.9,20.2,60.25,44.55,88.9,54.25,50.2,20.05,107.55,118.65,19.6,101.25,96.9,80.25,19.75,104.6,48.7,100.65,70.45,91.5,90.55,53.6,19.25,53.45,76.1,50.4,25.4,59.65,118.35,79.2,73.55,75.1,77.9,93.55,79.95,19.5,20.4,98.15,55.7,61.45,100.05,49.0,100.5,95.1,95.1,81.1,25.6,64.35,105.1,21.25,94.05,19.95,19.3,20.0,97.25,86.65,21.0,20.35,95.1,110.9,80.55,61.5,95.2,93.5,100.5,70.6,100.4,89.2,33.7,71.6,90.8,70.15,48.65,80.8,88.95,99.75,106.35,55.7,21.1,19.9,90.65,45.6,79.35,49.95,19.9,73.85,100.05,85.35,49.65,104.65,35.3,79.85,95.45,100.95,80.55,113.0,86.8,21.0,70.95,100.3,19.5,30.75,25.1,18.95,118.6,96.65,73.85,20.7,44.95,70.25,88.35,24.3,85.15,104.7,105.8,19.65,50.0,94.0,89.1,64.35,80.1,109.2,74.8,74.05,83.0,75.5,104.3,20.2,104.4,88.55,71.55,103.75,70.95,24.8,19.5,69.55,70.1,101.0,44.4,87.45,20.05,96.35,55.1,59.45,69.95,30.35,56.25,90.35,75.1,104.5,80.9,78.85,95.15,44.4,19.75,35.7,20.05,75.7,99.95,20.55,93.8,115.6,94.4,19.9,84.9,25.4,40.05,96.55,101.35,110.1,68.7,93.15,97.7,85.75,25.6,50.25,20.1,113.65,54.15,41.15,84.4,79.35,20.0,88.0,56.65,53.85,87.15,69.4,20.0,109.65,19.95,57.45,96.85,75.2,109.6,48.6,20.55,20.2,20.1,20.35,19.95,76.15,20.25,94.9,113.15,68.4,106.1,87.25,104.0,19.95,90.15,20.45,81.7,106.8,19.45,50.95,58.95,85.55,25.3,43.8,69.45,69.95,20.9,86.55,106.15,25.35,91.55,35.75,69.2,91.0,75.3,90.35,25.1,51.3,54.35,49.7,45.0,25.05,48.55,66.1,91.7,20.1,19.4,80.7,65.25,80.1,70.6,72.75,20.0,20.45,64.4,51.5,84.95,30.15,94.35,73.85,99.9,50.8,70.35,19.35,20.3,90.7,61.05,85.4,96.6,54.6,116.75,100.5,20.3,49.4,50.3,74.4,95.0,18.7,81.75,25.65,103.9,82.7,30.75,19.55,60.3,94.35,25.3,19.65,90.7,76.1,20.2,97.2,55.15,104.35,19.55,58.95,97.8,56.0,70.05,45.65,19.15,69.65,94.4,62.8,20.2,54.55,70.0,19.3,89.95,35.75,74.35,87.55,45.85,62.05,105.75,20.75,50.95,35.05,101.8,109.55,95.9,110.45,19.8,35.55,20.2,81.0,19.7,73.2,19.7,23.4,45.25,94.2,45.2,54.6,69.0,78.7,97.85,23.9,80.5,53.55,77.5,18.95,101.35,78.95,74.4,106.4,110.15,60.05,91.7,19.7,81.4,110.15,75.2,105.25,70.1,50.05,93.4,88.65,69.65,110.7,105.25,89.3,94.15,20.7,20.65,39.0,84.6,106.0,20.05,20.0,110.6,86.35,25.4,94.85,46.2,89.4,70.15,98.65,93.9,50.3,90.15,79.55,70.65,89.9,96.65,103.2,20.0,80.65,24.15,25.2,20.1,90.05,80.3,95.65,90.85,93.5,19.4,59.9,74.8,20.05,94.1,99.15,79.85,25.2,20.55,35.8,20.55,80.05,50.55,89.3,24.55,25.55,81.25,19.35,19.95,69.9,104.1,101.3,25.7,78.75,19.85,73.85,94.3,39.4,74.95,24.75,65.6,25.7,83.55,79.95,29.1,100.05,105.5,90.45,20.15,106.05,80.4,106.15,73.15,98.7,94.55,69.4,45.05,93.7,84.1,70.85,94.4,19.95,85.9,34.25,19.7,24.95,24.9,94.8,89.45,105.05,26.8,35.4,25.3,88.65,25.25,69.15,101.55,19.45,29.8,20.8,73.75,74.7,111.6,99.0,64.3,101.1,25.15,25.9,19.85,111.65,25.55,24.35,73.55,25.1,24.4,75.5,19.85,20.2,54.65,93.85,74.7,66.7,70.5,75.5,79.25,73.35,61.15,88.85,75.75,76.4,75.45,60.0,79.75,48.95,50.8,103.4,20.95,44.85,54.65,29.35,87.25,20.05,88.55,19.95,62.7,80.1,106.6,85.05,99.55,38.55,69.1,56.55,79.0,100.1,74.4,18.8,103.95,82.65,77.65,20.0,24.5,48.9,64.95,55.25,100.05,94.7,70.15,53.15,24.75,99.3,20.35,74.95,79.2,54.5,20.2,19.9,100.0,20.05,60.95,67.5,55.35,80.55,65.85,103.4,65.3,20.05,25.25,19.45,54.2,19.75,73.8,61.9,64.1,50.1,72.45,94.1,51.55,100.25,81.9,68.85,98.6,54.95,108.55,108.25,79.45,49.8,82.9,56.3,104.9,91.25,116.85,80.15,53.85,44.1,59.95,25.1,89.85,70.35,24.05,87.4,48.8,85.8,100.75,24.25,75.35,34.3,105.55,25.1,69.1,50.15,50.3,78.35,66.65,70.9,51.35,20.25,65.7,24.7,20.05,49.65,49.85,74.65,19.9,19.5,74.8,108.25,19.4,41.05,57.95,49.2,39.1,76.05,20.3,80.6,81.0,24.95,84.8,64.55,20.05,19.6,49.25,20.1,35.9,49.55,54.2,19.45,71.1,56.4,53.1,110.85,59.5,19.95,56.55,25.25,106.05,100.55,116.1,114.95,90.25,19.5,69.7,70.2,85.95,82.3,104.7,19.75,99.45,105.4,30.55,99.2,106.1,20.55,24.1,49.2,25.65,104.45,19.9,20.0,73.9,69.6,93.6,69.55,95.05,40.55,95.0,20.95,25.05,90.05,100.4,89.05,19.85,25.75,83.85,86.85,55.8,89.0,81.7,19.9,34.0,24.0,103.7,105.55,19.85,19.65,65.8,50.4,117.45,88.3,20.2,25.0,80.25,25.1,20.65,55.7,106.2,103.85,57.55,107.4,83.8,83.15,115.8,20.25,69.95,81.2,54.85,19.65,104.15,55.3,65.7,69.4,94.0,25.0,50.6,85.0,28.45,76.45,72.9,90.0,55.5,69.85,95.15,58.9,66.5,84.25,105.3,70.15,44.95,19.65,65.85,38.55,20.05,19.95,104.8,95.25,94.4,73.05,90.15,97.95,106.05,51.0,45.25,20.2,95.5,116.0,36.5,89.35,51.8,73.65,19.4,85.25,98.85,93.85,94.05,98.9,55.2,20.5,45.3,19.05,86.45,78.4,81.15,80.55,105.25,44.15,87.55,19.95,89.55,89.8,20.2,80.7,90.35,54.6,39.65,100.2,55.5,104.4,69.75,35.75,20.0,104.9,53.75,102.05,84.8,69.05,106.5,60.65,81.3,60.3,50.35,81.15,103.2,83.7,90.95,68.55,25.15,101.85,80.35,48.95,44.3,44.85,19.7,85.1,24.9,20.15,80.7,70.7,75.85,54.75,109.6,20.5,26.45,43.75,79.35,75.75,89.1,19.9,100.55,25.25,80.3,83.25,20.5,44.85,80.45,58.6,64.2,70.15,18.8,58.35,80.9,93.85,103.75,65.6,85.95,109.4,80.0,49.4,98.3,29.05,20.65,100.75,103.45,74.3,93.5,19.75,43.8,71.0,96.5,25.0,83.85,64.9,58.35,24.45,104.95,94.7,79.5,44.8,84.6,95.35,19.8,90.75,98.0,19.3,80.4,80.85,114.65,96.15,95.15,19.1,20.3,20.4,39.05,60.05,85.5,94.8,50.85,25.35,109.7,30.2,79.85,86.1,105.2,20.1,19.7,73.55,92.15,85.0,55.55,78.65,84.85,69.35,19.65,19.9,97.75,24.3,30.15,64.4,80.15,19.45,84.6,90.1,25.25,78.1,94.8,69.35,64.85,20.2,96.55,25.15,78.95,58.75,70.3,20.75,83.55,67.65,106.65,73.0,20.95,36.45,99.45,20.65,85.4,60.9,69.2,72.9,94.7,70.7,70.5,25.7,55.35,24.8,50.7,20.35,53.35,55.65,30.25,100.5,73.6,19.6,21.05,89.45,85.25,24.4,101.3,63.75,98.1,97.0,24.25,84.65,69.7,55.3,25.2,78.3,71.1,20.35,89.85,80.85,95.95,95.7,65.4,40.2,84.45,107.55,101.25,94.2,84.8,109.9,79.85,74.6,74.6,19.3,50.45,84.6,74.3,83.25,25.15,95.6,56.9,19.1,94.45,64.05,75.35,81.0,49.35,55.45,75.55,69.35,74.25,94.0,93.35,25.9,109.95,25.05,97.55,70.3,19.4,90.25,113.6,71.1,100.95,88.8,95.65,20.65,69.7,104.25,19.4,69.7,23.55,51.25,60.0,73.6,25.1,76.4,20.15,49.35,24.25,76.25,70.45,103.7,104.8,20.45,35.45,61.35,55.15,50.9,98.15,103.05,20.15,100.6,99.6,50.25,55.8,19.05,65.7,20.0,54.3,56.75,99.8,20.1,107.35,70.55,80.85,19.8,101.75,85.55,107.45,70.45,74.75,20.2,81.7,24.3,99.85,87.7,56.8,50.15,93.65,89.55,87.8,19.65,69.2,76.5,51.1,89.45,108.95,25.4,68.6,80.2,19.8,68.65,89.85,50.85,19.2,95.25,55.05,84.75,115.8,70.4,109.95,88.85,19.75,45.3,61.55,109.2,80.55,112.9,24.1,19.85,23.15,90.25,86.55,70.5,89.45,25.7,79.65,94.45,113.35,92.9,104.9,79.8,55.2,24.6,52.55,24.5,55.7,45.65,86.8,73.55,25.7,74.45,80.65,89.1,24.95,25.45,86.05,85.45,70.35,106.1,74.95,20.45,80.8,80.45,88.85,54.4,84.9,98.65,65.5,80.0,49.95,50.55,19.25,95.6,92.7,20.8,20.75,54.4,54.1,94.0,55.8,25.0,35.6,81.9,24.65,20.65,82.45,39.5,69.8,67.95,39.9,56.05,86.0,97.7,24.2,68.75,63.9,77.55,86.75,20.3,87.05,108.65,19.9,20.5,98.55,84.85,107.75,94.5,69.75,90.7,91.7,99.05,24.2,20.7,35.8,86.05,104.5,74.05,19.55,50.15,20.25,50.65,95.2,24.5,94.3,79.45,35.45,79.75,103.6,24.65,61.0,20.65,24.85,19.95,104.3,19.3,59.05,79.85,74.4,20.15,19.7,24.65,114.1,20.35,82.55,20.65,101.4,105.5,19.85,78.95,49.1,64.65,79.9,110.05,60.15,68.15,89.2,19.45,91.15,64.3,80.7,20.05,89.35,69.7,56.15,60.05,47.8,70.7,87.95,100.55,89.2,94.55,82.85,94.6,114.95,58.75,89.75,68.75,84.0,95.85,50.8,60.85,35.15,19.65,47.15,25.1,70.3,24.85,103.65,20.35,97.2,40.3,74.95,20.1,41.95,86.5,19.8,69.55,58.55,20.05,69.8,60.0,88.75,80.85,25.0,99.0,25.0,115.05,56.35,51.2,80.45,50.35,20.3,92.9,86.9,74.6,116.4,89.95,34.7,68.05,95.35,103.5,19.7,25.95,80.6,105.25,99.0,60.0,20.9,66.25,99.95,65.15,24.4,71.0,99.8,95.7,76.45,75.8,56.15,95.15,90.2,95.15,25.05,111.4,44.45,20.9,25.1,103.65,25.6,20.2,19.95,59.8,55.0,78.75,19.5,89.3,110.2,24.35,74.65,25.4,20.35,105.5,20.05,19.45,103.1,86.6,83.15,25.55,82.85,96.25,19.65,92.5,89.75,96.2,19.9,94.4,64.8,54.55,25.8,73.0,20.75,54.45,89.8,78.55,84.25,70.35,89.65,57.95,59.5,55.3,115.15,98.7,74.35,55.9,104.1,92.4,99.65,116.15,74.15,61.25,19.35,80.55,94.9,19.6,19.65,111.15,90.35,19.95,51.45,24.4,90.8,114.3,45.1,26.25,73.9,90.1,106.1,101.35,45.15,34.8,51.35,49.85,96.0,80.2,100.05,110.5,89.85,94.75,45.8,52.2,71.15,21.1,95.3,64.05,19.3,85.2,95.75,74.4,75.95,93.25,95.1,112.55,84.2,83.35,95.2,85.3,80.45,79.15,76.15,19.9,94.05,29.9,82.75,19.25,44.15,20.4,109.7,101.35,98.0,62.45,79.65,85.45,62.8,80.15,55.55,38.5,20.35,76.35,116.5,70.35,19.2,64.9,89.1,65.65,19.4,71.8,19.35,20.55,59.7,75.0,60.5,108.5,24.7,91.85,97.1,89.6,50.8,110.9,106.5,71.35,78.05,25.4,81.0,104.6,89.8,98.6,20.7,19.35,115.1,94.05,20.1,63.8,74.1,95.6,85.0,55.8,74.15,113.45,72.8,24.0,58.0,85.55,54.75,44.65,56.25,20.25,104.45,19.55,74.7,90.5,59.3,34.25,19.75,50.45,94.65,98.6,103.85,24.6,78.85,79.85,19.65,25.7,67.8,106.0,23.9,20.25,94.65,25.5,100.5,73.9,26.1,95.85,49.8,74.8,94.1,24.6,106.75,45.1,110.1,29.15,110.85,85.45,59.5,85.6,20.4,89.65,94.75,70.25,86.85,19.3,49.7,80.45,54.2,84.95,97.9,19.8,43.35,90.05,81.05,75.1,104.05,75.9,50.05,44.8,79.2,68.75,75.7,20.45,20.45,59.45,99.15,98.75,69.55,42.9,99.4,80.35,79.4,79.1,99.8,48.7,79.6,45.05,76.0,20.25,79.85,24.75,78.5,69.0,55.5,75.2,24.45,89.75,89.0,60.65,51.0,98.55,18.25,19.9,19.85,70.4,49.05,69.15,69.55,63.55,50.2,88.6,19.55,66.8,24.05,25.3,78.8,89.55,74.9,29.6,69.1,66.3,74.05,66.5,19.55,105.35,36.45,79.75,79.2,55.85,69.6,19.45,54.8,40.6,25.55,19.45,25.0,107.5,46.0,110.0,100.85,89.7,107.75,29.8,58.9,85.65,59.3,78.75,62.05,65.75,74.4,20.65,19.6,43.55,87.1,45.4,20.1,103.75,54.55,79.95,110.8,26.1,50.05,96.65,94.2,74.65,65.2,43.95,58.35,24.3,40.3,25.55,45.0,75.4,20.55,20.15,19.4,108.95,99.05,87.55,25.1,20.05,25.35,19.25,20.7,70.75,40.65,40.4,54.65,45.25,111.15,113.15,68.3,64.25,67.45,20.8,84.7,100.45,75.4,20.35,111.1,25.0,20.65,89.15,94.0,108.55,59.55,19.25,80.2,99.1,88.35,75.8,89.55,79.85,34.55,100.3,116.95,73.5,89.15,116.45,39.1,70.25,30.5,54.7,104.1,85.95,95.45,19.55,81.8,18.7,84.8,90.05,72.8,85.25,89.2,109.2,19.4,23.95,60.7,48.7,94.9,75.05,89.15,24.15,20.85,20.0,105.6,50.3,81.3,19.6,66.85,24.35,109.55,81.0,56.35,99.35,86.85,19.6,100.75,20.65,78.3,54.4,104.45,20.15,93.25,85.8,25.25,49.15,73.35,92.0,19.65,39.1,92.15,107.5,92.2,65.2,109.8,101.05,105.7,108.6,20.55,69.65,59.5,92.7,20.4,103.15,91.25,19.85,19.7,30.85,85.2,19.15,19.65,49.25,99.5,102.85,95.7,20.05,104.95,20.0,90.95,86.25,19.4,100.1,20.15,35.8,49.2,19.1,54.65,72.45,80.75,61.4,70.4,47.6,107.2,84.5,90.8,71.8,66.6,49.6,104.75,66.15,96.2,106.7,72.8,24.8,44.7,81.3,117.8,95.45,79.15,84.35,19.8,79.95,20.6,19.55,25.4,24.95,88.4,84.1,59.75,20.2,77.4,85.75,20.5,45.2,19.2,105.2,24.55,61.5,99.9,84.45,61.95,106.3,85.8,72.25,112.25,117.5,20.45,89.5,88.8,54.45,104.35,69.75,19.95,98.2,30.4,44.45,55.05,76.0,75.9],\"x0\":\" \",\"xaxis\":\"x\",\"y0\":\" \",\"yaxis\":\"y\",\"type\":\"box\"}],                        {\"template\":{\"data\":{\"histogram2dcontour\":[{\"type\":\"histogram2dcontour\",\"colorbar\":{\"outlinewidth\":0,\"ticks\":\"\"},\"colorscale\":[[0.0,\"#0d0887\"],[0.1111111111111111,\"#46039f\"],[0.2222222222222222,\"#7201a8\"],[0.3333333333333333,\"#9c179e\"],[0.4444444444444444,\"#bd3786\"],[0.5555555555555556,\"#d8576b\"],[0.6666666666666666,\"#ed7953\"],[0.7777777777777778,\"#fb9f3a\"],[0.8888888888888888,\"#fdca26\"],[1.0,\"#f0f921\"]]}],\"choropleth\":[{\"type\":\"choropleth\",\"colorbar\":{\"outlinewidth\":0,\"ticks\":\"\"}}],\"histogram2d\":[{\"type\":\"histogram2d\",\"colorbar\":{\"outlinewidth\":0,\"ticks\":\"\"},\"colorscale\":[[0.0,\"#0d0887\"],[0.1111111111111111,\"#46039f\"],[0.2222222222222222,\"#7201a8\"],[0.3333333333333333,\"#9c179e\"],[0.4444444444444444,\"#bd3786\"],[0.5555555555555556,\"#d8576b\"],[0.6666666666666666,\"#ed7953\"],[0.7777777777777778,\"#fb9f3a\"],[0.8888888888888888,\"#fdca26\"],[1.0,\"#f0f921\"]]}],\"heatmap\":[{\"type\":\"heatmap\",\"colorbar\":{\"outlinewidth\":0,\"ticks\":\"\"},\"colorscale\":[[0.0,\"#0d0887\"],[0.1111111111111111,\"#46039f\"],[0.2222222222222222,\"#7201a8\"],[0.3333333333333333,\"#9c179e\"],[0.4444444444444444,\"#bd3786\"],[0.5555555555555556,\"#d8576b\"],[0.6666666666666666,\"#ed7953\"],[0.7777777777777778,\"#fb9f3a\"],[0.8888888888888888,\"#fdca26\"],[1.0,\"#f0f921\"]]}],\"heatmapgl\":[{\"type\":\"heatmapgl\",\"colorbar\":{\"outlinewidth\":0,\"ticks\":\"\"},\"colorscale\":[[0.0,\"#0d0887\"],[0.1111111111111111,\"#46039f\"],[0.2222222222222222,\"#7201a8\"],[0.3333333333333333,\"#9c179e\"],[0.4444444444444444,\"#bd3786\"],[0.5555555555555556,\"#d8576b\"],[0.6666666666666666,\"#ed7953\"],[0.7777777777777778,\"#fb9f3a\"],[0.8888888888888888,\"#fdca26\"],[1.0,\"#f0f921\"]]}],\"contourcarpet\":[{\"type\":\"contourcarpet\",\"colorbar\":{\"outlinewidth\":0,\"ticks\":\"\"}}],\"contour\":[{\"type\":\"contour\",\"colorbar\":{\"outlinewidth\":0,\"ticks\":\"\"},\"colorscale\":[[0.0,\"#0d0887\"],[0.1111111111111111,\"#46039f\"],[0.2222222222222222,\"#7201a8\"],[0.3333333333333333,\"#9c179e\"],[0.4444444444444444,\"#bd3786\"],[0.5555555555555556,\"#d8576b\"],[0.6666666666666666,\"#ed7953\"],[0.7777777777777778,\"#fb9f3a\"],[0.8888888888888888,\"#fdca26\"],[1.0,\"#f0f921\"]]}],\"surface\":[{\"type\":\"surface\",\"colorbar\":{\"outlinewidth\":0,\"ticks\":\"\"},\"colorscale\":[[0.0,\"#0d0887\"],[0.1111111111111111,\"#46039f\"],[0.2222222222222222,\"#7201a8\"],[0.3333333333333333,\"#9c179e\"],[0.4444444444444444,\"#bd3786\"],[0.5555555555555556,\"#d8576b\"],[0.6666666666666666,\"#ed7953\"],[0.7777777777777778,\"#fb9f3a\"],[0.8888888888888888,\"#fdca26\"],[1.0,\"#f0f921\"]]}],\"mesh3d\":[{\"type\":\"mesh3d\",\"colorbar\":{\"outlinewidth\":0,\"ticks\":\"\"}}],\"scatter\":[{\"fillpattern\":{\"fillmode\":\"overlay\",\"size\":10,\"solidity\":0.2},\"type\":\"scatter\"}],\"parcoords\":[{\"type\":\"parcoords\",\"line\":{\"colorbar\":{\"outlinewidth\":0,\"ticks\":\"\"}}}],\"scatterpolargl\":[{\"type\":\"scatterpolargl\",\"marker\":{\"colorbar\":{\"outlinewidth\":0,\"ticks\":\"\"}}}],\"bar\":[{\"error_x\":{\"color\":\"#2a3f5f\"},\"error_y\":{\"color\":\"#2a3f5f\"},\"marker\":{\"line\":{\"color\":\"#E5ECF6\",\"width\":0.5},\"pattern\":{\"fillmode\":\"overlay\",\"size\":10,\"solidity\":0.2}},\"type\":\"bar\"}],\"scattergeo\":[{\"type\":\"scattergeo\",\"marker\":{\"colorbar\":{\"outlinewidth\":0,\"ticks\":\"\"}}}],\"scatterpolar\":[{\"type\":\"scatterpolar\",\"marker\":{\"colorbar\":{\"outlinewidth\":0,\"ticks\":\"\"}}}],\"histogram\":[{\"marker\":{\"pattern\":{\"fillmode\":\"overlay\",\"size\":10,\"solidity\":0.2}},\"type\":\"histogram\"}],\"scattergl\":[{\"type\":\"scattergl\",\"marker\":{\"colorbar\":{\"outlinewidth\":0,\"ticks\":\"\"}}}],\"scatter3d\":[{\"type\":\"scatter3d\",\"line\":{\"colorbar\":{\"outlinewidth\":0,\"ticks\":\"\"}},\"marker\":{\"colorbar\":{\"outlinewidth\":0,\"ticks\":\"\"}}}],\"scattermapbox\":[{\"type\":\"scattermapbox\",\"marker\":{\"colorbar\":{\"outlinewidth\":0,\"ticks\":\"\"}}}],\"scatterternary\":[{\"type\":\"scatterternary\",\"marker\":{\"colorbar\":{\"outlinewidth\":0,\"ticks\":\"\"}}}],\"scattercarpet\":[{\"type\":\"scattercarpet\",\"marker\":{\"colorbar\":{\"outlinewidth\":0,\"ticks\":\"\"}}}],\"carpet\":[{\"aaxis\":{\"endlinecolor\":\"#2a3f5f\",\"gridcolor\":\"white\",\"linecolor\":\"white\",\"minorgridcolor\":\"white\",\"startlinecolor\":\"#2a3f5f\"},\"baxis\":{\"endlinecolor\":\"#2a3f5f\",\"gridcolor\":\"white\",\"linecolor\":\"white\",\"minorgridcolor\":\"white\",\"startlinecolor\":\"#2a3f5f\"},\"type\":\"carpet\"}],\"table\":[{\"cells\":{\"fill\":{\"color\":\"#EBF0F8\"},\"line\":{\"color\":\"white\"}},\"header\":{\"fill\":{\"color\":\"#C8D4E3\"},\"line\":{\"color\":\"white\"}},\"type\":\"table\"}],\"barpolar\":[{\"marker\":{\"line\":{\"color\":\"#E5ECF6\",\"width\":0.5},\"pattern\":{\"fillmode\":\"overlay\",\"size\":10,\"solidity\":0.2}},\"type\":\"barpolar\"}],\"pie\":[{\"automargin\":true,\"type\":\"pie\"}]},\"layout\":{\"autotypenumbers\":\"strict\",\"colorway\":[\"#636efa\",\"#EF553B\",\"#00cc96\",\"#ab63fa\",\"#FFA15A\",\"#19d3f3\",\"#FF6692\",\"#B6E880\",\"#FF97FF\",\"#FECB52\"],\"font\":{\"color\":\"#2a3f5f\"},\"hovermode\":\"closest\",\"hoverlabel\":{\"align\":\"left\"},\"paper_bgcolor\":\"white\",\"plot_bgcolor\":\"#E5ECF6\",\"polar\":{\"bgcolor\":\"#E5ECF6\",\"angularaxis\":{\"gridcolor\":\"white\",\"linecolor\":\"white\",\"ticks\":\"\"},\"radialaxis\":{\"gridcolor\":\"white\",\"linecolor\":\"white\",\"ticks\":\"\"}},\"ternary\":{\"bgcolor\":\"#E5ECF6\",\"aaxis\":{\"gridcolor\":\"white\",\"linecolor\":\"white\",\"ticks\":\"\"},\"baxis\":{\"gridcolor\":\"white\",\"linecolor\":\"white\",\"ticks\":\"\"},\"caxis\":{\"gridcolor\":\"white\",\"linecolor\":\"white\",\"ticks\":\"\"}},\"coloraxis\":{\"colorbar\":{\"outlinewidth\":0,\"ticks\":\"\"}},\"colorscale\":{\"sequential\":[[0.0,\"#0d0887\"],[0.1111111111111111,\"#46039f\"],[0.2222222222222222,\"#7201a8\"],[0.3333333333333333,\"#9c179e\"],[0.4444444444444444,\"#bd3786\"],[0.5555555555555556,\"#d8576b\"],[0.6666666666666666,\"#ed7953\"],[0.7777777777777778,\"#fb9f3a\"],[0.8888888888888888,\"#fdca26\"],[1.0,\"#f0f921\"]],\"sequentialminus\":[[0.0,\"#0d0887\"],[0.1111111111111111,\"#46039f\"],[0.2222222222222222,\"#7201a8\"],[0.3333333333333333,\"#9c179e\"],[0.4444444444444444,\"#bd3786\"],[0.5555555555555556,\"#d8576b\"],[0.6666666666666666,\"#ed7953\"],[0.7777777777777778,\"#fb9f3a\"],[0.8888888888888888,\"#fdca26\"],[1.0,\"#f0f921\"]],\"diverging\":[[0,\"#8e0152\"],[0.1,\"#c51b7d\"],[0.2,\"#de77ae\"],[0.3,\"#f1b6da\"],[0.4,\"#fde0ef\"],[0.5,\"#f7f7f7\"],[0.6,\"#e6f5d0\"],[0.7,\"#b8e186\"],[0.8,\"#7fbc41\"],[0.9,\"#4d9221\"],[1,\"#276419\"]]},\"xaxis\":{\"gridcolor\":\"white\",\"linecolor\":\"white\",\"ticks\":\"\",\"title\":{\"standoff\":15},\"zerolinecolor\":\"white\",\"automargin\":true,\"zerolinewidth\":2},\"yaxis\":{\"gridcolor\":\"white\",\"linecolor\":\"white\",\"ticks\":\"\",\"title\":{\"standoff\":15},\"zerolinecolor\":\"white\",\"automargin\":true,\"zerolinewidth\":2},\"scene\":{\"xaxis\":{\"backgroundcolor\":\"#E5ECF6\",\"gridcolor\":\"white\",\"linecolor\":\"white\",\"showbackground\":true,\"ticks\":\"\",\"zerolinecolor\":\"white\",\"gridwidth\":2},\"yaxis\":{\"backgroundcolor\":\"#E5ECF6\",\"gridcolor\":\"white\",\"linecolor\":\"white\",\"showbackground\":true,\"ticks\":\"\",\"zerolinecolor\":\"white\",\"gridwidth\":2},\"zaxis\":{\"backgroundcolor\":\"#E5ECF6\",\"gridcolor\":\"white\",\"linecolor\":\"white\",\"showbackground\":true,\"ticks\":\"\",\"zerolinecolor\":\"white\",\"gridwidth\":2}},\"shapedefaults\":{\"line\":{\"color\":\"#2a3f5f\"}},\"annotationdefaults\":{\"arrowcolor\":\"#2a3f5f\",\"arrowhead\":0,\"arrowwidth\":1},\"geo\":{\"bgcolor\":\"white\",\"landcolor\":\"#E5ECF6\",\"subunitcolor\":\"white\",\"showland\":true,\"showlakes\":true,\"lakecolor\":\"white\"},\"title\":{\"x\":0.05},\"mapbox\":{\"style\":\"light\"}}},\"xaxis\":{\"anchor\":\"y\",\"domain\":[0.0,1.0],\"title\":{\"text\":\"MonthlySpending\"}},\"yaxis\":{\"anchor\":\"x\",\"domain\":[0.0,1.0]},\"legend\":{\"tracegroupgap\":0},\"margin\":{\"t\":60},\"boxmode\":\"group\"},                        {\"responsive\": true}                    ).then(function(){\n",
              "                            \n",
              "var gd = document.getElementById('4e5cca8f-b4ac-4c80-b44a-dc0c2409aa16');\n",
              "var x = new MutationObserver(function (mutations, observer) {{\n",
              "        var display = window.getComputedStyle(gd).display;\n",
              "        if (!display || display === 'none') {{\n",
              "            console.log([gd, 'removed!']);\n",
              "            Plotly.purge(gd);\n",
              "            observer.disconnect();\n",
              "        }}\n",
              "}});\n",
              "\n",
              "// Listen for the removal of the full notebook cells\n",
              "var notebookContainer = gd.closest('#notebook-container');\n",
              "if (notebookContainer) {{\n",
              "    x.observe(notebookContainer, {childList: true});\n",
              "}}\n",
              "\n",
              "// Listen for the clearing of the current output cell\n",
              "var outputEl = gd.closest('.output');\n",
              "if (outputEl) {{\n",
              "    x.observe(outputEl, {childList: true});\n",
              "}}\n",
              "\n",
              "                        })                };                            </script>        </div>\n",
              "</body>\n",
              "</html>"
            ]
          },
          "metadata": {}
        },
        {
          "output_type": "display_data",
          "data": {
            "text/html": [
              "<html>\n",
              "<head><meta charset=\"utf-8\" /></head>\n",
              "<body>\n",
              "    <div>            <script src=\"https://cdnjs.cloudflare.com/ajax/libs/mathjax/2.7.5/MathJax.js?config=TeX-AMS-MML_SVG\"></script><script type=\"text/javascript\">if (window.MathJax && window.MathJax.Hub && window.MathJax.Hub.Config) {window.MathJax.Hub.Config({SVG: {font: \"STIX-Web\"}});}</script>                <script type=\"text/javascript\">window.PlotlyConfig = {MathJaxConfig: 'local'};</script>\n",
              "        <script charset=\"utf-8\" src=\"https://cdn.plot.ly/plotly-2.24.1.min.js\"></script>                <div id=\"0d517525-d013-423f-a7b7-898e1efc2ba4\" class=\"plotly-graph-div\" style=\"height:525px; width:100%;\"></div>            <script type=\"text/javascript\">                                    window.PLOTLYENV=window.PLOTLYENV || {};                                    if (document.getElementById(\"0d517525-d013-423f-a7b7-898e1efc2ba4\")) {                    Plotly.newPlot(                        \"0d517525-d013-423f-a7b7-898e1efc2ba4\",                        [{\"alignmentgroup\":\"True\",\"hovertemplate\":\"TotalSpent=%{x}\\u003cextra\\u003e\\u003c\\u002fextra\\u003e\",\"legendgroup\":\"\",\"marker\":{\"color\":\"#636efa\"},\"name\":\"\",\"notched\":false,\"offsetgroup\":\"\",\"orientation\":\"h\",\"showlegend\":false,\"x\":[1026.35,1872.2,75.9,2570.0,6758.45,475.2,2423.4,45.7,5341.8,4390.25,1218.25,7869.05,6841.45,1025.15,4009.2,2627.2,2790.65,6287.3,1188.25,5138.1,5264.5,522.95,413.0,2145.0,5743.05,814.75,5971.25,2180.55,190.05,2187.55,565.75,707.5,3122.4,525.0,6936.85,6205.5,908.15,5031.85,2234.95,415.55,62.9,221.1,5215.25,1123.65,228.4,3251.85,159.15,111.65,791.15,1054.75,96.85,74.45,7149.35,2208.75,5976.9,4911.05,2679.7,5969.95,804.85,5961.1,3887.85,3084.9,5686.4,48.45,914.3,488.25,58.85,24.4,4914.8,4211.55,45.85,265.45,1592.35,4456.35,655.3,4442.75,147.75,85.7,857.8,689.35,5037.55,79.05,2613.4,6396.45,3260.1,554.45,1776.45,565.35,5785.65,69.65,344.2,174.7,3110.1,695.75,5731.85,299.05,7244.7,4338.6,7679.65,2745.2,785.75,150.0,2473.95,19.3,970.55,600.25,589.25,7413.55,773.2,2347.9,1010.0,25.7,193.6,3252.0,173.0,564.65,75.35,134.6,2326.05,7118.9,1331.05,107.25,706.85,3169.55,6302.8,614.45,136.75,810.3,1275.6,750.1,7751.7,2381.55,736.8,5509.3,486.85,604.7,2669.45,107.05,449.75,7246.15,6538.45,996.95,332.65,919.4,5567.55,113.55,452.2,4504.55,19.2,159.35,330.25,125.95,828.85,4079.55,673.2,1439.35,97.5,4549.45,2731.0,435.25,309.1,2655.25,1003.05,4348.65,275.9,329.75,1943.2,1301.1,2062.15,1540.35,69.9,1037.75,55.8,5555.3,24.8,2576.8,664.4,903.8,6843.15,7530.8,1305.95,2196.15,3297.0,409.9,5193.2,839.4,73.65,1671.6,44.35,4863.85,6330.4,1307.8,2151.6,3491.55,2265.25,43.85,7082.5,1294.6,469.85,283.95,3236.35,318.6,112.75,6033.1,5608.4,5811.8,75.35,717.3,6526.65,75.3,4688.65,4299.95,1415.0,5295.7,4902.8,1958.95,442.2,266.8,1580.1,45.3,137.95,7789.6,1082.8,77.5,19.75,1825.5,1587.55,302.75,2762.75,146.4,113.5,5809.75,1078.75,411.6,1253.8,1742.75,450.65,4527.45,3419.5,300.7,495.15,1820.9,547.65,47.5,3928.3,2820.65,7176.55,1673.8,1442.2,6126.1,3954.1,5083.55,169.65,4599.15,5000.2,232.1,394.85,1401.4,6766.95,359.4,5956.85,1207.0,7930.55,79.55,571.75,1813.35,1131.5,8016.6,3545.35,7795.95,917.15,3112.05,2016.45,267.6,776.25,1681.6,238.5,408.5,2067.0,6733.0,746.05,1706.45,3021.3,1873.7,19.95,1146.65,7842.3,7074.4,1263.9,3650.35,7159.7,555.4,1094.5,1748.9,951.55,273.0,70.6,168.6,425.9,2221.55,2602.9,311.6,130.15,1434.1,854.8,1079.45,6953.4,3268.05,1023.9,6365.35,1601.2,364.55,2025.1,1815.65,3415.25,1790.6,170.85,1740.7,678.8,607.7,1739.6,250.1,278.4,3088.75,2933.2,1169.35,79.35,264.85,2541.25,69.35,367.55,259.4,129.2,5948.7,3626.35,19.65,655.85,5305.05,2272.8,330.05,5275.8,6130.85,70.6,533.05,2033.85,306.6,765.15,1261.0,5333.35,215.2,2168.15,1837.7,146.3,401.95,93.4,1275.65,2989.6,6683.4,241.3,5443.65,2595.25,95.45,2301.15,585.95,1539.75,1482.3,257.0,3355.65,1785.65,385.0,161.5,5508.35,3958.85,669.0,2096.1,1282.85,1956.4,7245.9,85.0,5703.0,943.85,1020.2,2186.4,3270.25,1028.9,5894.5,7565.35,2343.85,5264.3,318.1,155.9,433.95,612.95,5794.45,8399.15,3988.5,1836.9,1504.05,5427.05,781.4,105.6,3364.55,270.7,6339.3,2879.9,412.55,69.5,4060.9,6392.85,69.6,4674.4,7774.05,504.05,91.4,2628.6,178.1,140.1,574.5,2878.55,25.7,6597.25,2492.25,4308.25,4307.1,1004.5,184.05,6045.9,8012.75,864.2,5153.5,4674.55,798.2,6342.7,6225.4,424.5,442.45,118.4,1715.65,486.2,3077.0,2094.9,4993.4,70.6,83.4,7943.45,150.85,7806.6,140.95,3255.35,602.9,3342.0,5646.6,7862.25,1384.75,3483.45,1195.95,4754.3,253.8,208.85,1798.65,1940.85,3629.2,365.65,25.25,1218.45,1533.8,5574.35,197.4,3177.25,80.8,613.4,4483.95,1510.5,5356.45,2737.05,921.3,8165.1,1901.65,4891.5,4616.05,119.75,3624.35,1459.35,1515.1,89.75,6038.55,216.75,1462.6,5730.7,1742.5,454.05,306.05,143.35,1483.25,758.6,4590.35,3058.3,284.35,3023.85,3729.75,6985.65,5481.25,24.8,73.0,3382.3,3019.1,7968.85,485.2,1398.25,1358.6,415.1,1185.0,3842.6,2549.1,1458.1,4111.35,1478.85,3707.6,80.0,531.0,4107.25,695.05,7556.9,533.9,2755.35,3574.5,235.5,4793.8,663.55,1345.85,471.55,550.1,4869.35,6129.65,6042.7,5692.65,3301.05,6687.85,1470.95,551.95,1748.55,715.0,5336.35,112.3,653.25,141.65,4539.35,1151.55,6643.5,4428.45,291.45,1730.65,1567.55,19.9,2021.2,50.15,1326.25,24.9,7082.85,137.25,2107.15,4222.95,1846.65,1593.1,467.15,4759.75,2564.95,6239.05,938.65,2985.25,35.1,577.6,1489.3,3036.75,601.6,4896.35,194.55,1068.85,514.75,5935.1,2348.45,6529.25,19.95,74.25,547.8,5985.0,927.15,3348.1,45.6,5376.4,108.65,1430.95,1672.15,926.25,20.05,6860.6,5610.25,1912.85,1156.35,223.6,86.05,1067.15,42.45,4965.0,141.5,757.1,2471.6,2181.55,1567.0,6981.35,2106.3,69.25,1647.0,1611.15,1615.1,135.75,605.75,6067.4,1451.1,1025.05,1205.05,567.8,378.4,3457.45,5150.55,59.55,755.4,4370.25,402.6,6300.85,150.35,3015.75,6301.7,5991.05,313.45,6039.9,730.4,779.25,134.5,7665.8,910.45,5038.45,1303.5,181.5,523.1,827.3,3273.55,1424.6,20.2,3734.25,7447.7,943.0,7711.45,1783.75,6548.65,1761.05,2966.95,178.85,4798.4,1067.65,124.4,4003.85,478.75,1253.5,2021.35,5460.2,3370.2,285.2,7051.95,333.6,8529.5,893.0,4663.4,533.6,3008.15,5959.3,1025.95,1263.85,6033.3,5835.5,181.8,1278.8,477.55,1322.55,8672.45,6668.0,349.8,283.75,7707.7,60.65,1654.7,59.2,174.65,100.25,243.65,4238.45,4749.15,770.4,702.05,6588.95,1784.9,620.75,521.9,8456.75,1144.6,4039.5,1066.15,61.05,1888.25,1090.65,3442.8,762.45,184.1,249.55,7849.85,2624.25,5293.2,849.9,202.3,346.45,6224.8,7511.9,1402.25,40.1,1143.8,546.85,7589.8,3147.5,6565.85,113.1,63.75,2882.25,5869.4,1493.2,809.25,1396.25,1745.5,32.7,5676.0,5681.1,1020.75,813.3,5023.0,4684.3,4692.95,467.55,6465.0,7610.1,77.15,19.9,19.2,1174.8,788.6,5000.05,8297.5,79.7,1130.0,83.3,69.85,50.75,4039.3,607.3,2413.05,4473.0,1372.9,1291.3,5135.15,2220.1,2093.4,152.95,2414.55,712.25,566.5,53.05,8331.95,45.75,5798.3,1119.9,208.25,3243.45,5480.25,1623.15,229.55,2640.55,769.1,167.3,2447.95,1759.4,3778.85,2861.45,2494.65,857.75,4872.2,1299.8,3011.65,1041.8,2807.1,1442.0,3366.05,1057.85,334.65,5839.3,781.25,3283.05,5139.65,2264.5,573.75,4134.85,5969.3,573.05,4400.75,438.25,3413.25,4746.05,852.7,2754.0,1114.55,2809.05,4263.4,5817.45,1763.55,156.4,340.85,2661.1,5016.65,2917.5,4298.45,1269.6,3848.8,337.9,4847.35,550.6,274.7,2614.1,196.75,6253.0,332.45,556.35,19.65,5812.6,2553.35,2877.95,2168.9,530.05,1388.75,4200.25,773.65,7397.0,4904.2,1637.4,96.8,828.2,2692.75,550.35,6083.1,451.1,19.1,2698.35,1563.9,543.0,3674.95,2438.6,6065.3,19.65,1290.0,1392.25,1856.4,2117.2,5810.9,151.75,2188.5,1737.45,5327.25,298.45,659.65,152.45,74.7,6328.7,19.55,20.05,7209.0,20.4,302.35,2421.6,317.25,3353.4,69.95,788.35,905.55,3457.9,294.9,1419.4,784.45,658.1,5601.4,267.0,298.35,3827.9,100.35,44.0,6688.1,20.75,583.3,5025.8,6152.3,3645.6,7114.25,1416.75,5398.6,6886.25,5360.75,4045.65,1217.25,711.95,4600.95,593.75,44.0,1445.3,1790.8,299.4,469.25,4804.65,1775.8,791.75,1905.4,1431.65,2344.5,7674.55,1498.2,3132.75,7159.05,1548.65,849.1,3801.7,1820.45,1796.55,646.85,7843.55,5673.7,4186.3,1364.75,701.05,1312.45,61.7,1841.2,3956.7,5373.1,7168.25,45.65,204.7,1212.1,74.9,324.25,3921.3,7623.2,830.85,4304.5,1524.85,422.6,3165.6,3092.65,74.35,4667.0,4445.3,6376.55,422.7,3624.3,425.1,90.05,184.4,324.8,2964.8,2276.1,2796.45,279.25,1164.3,3003.55,444.75,370.65,6441.85,48.55,838.5,45.55,4326.8,7383.7,819.55,210.3,5705.05,6725.3,1818.3,3231.05,4526.85,6423.0,220.75,2007.25,149.55,2362.1,5997.1,339.9,135.75,4874.8,416.45,4331.4,19.85,278.85,158.35,237.7,2109.35,4254.1,75.75,255.5,53.95,1893.95,6096.9,273.2,1463.5,2274.35,6590.5,3615.6,6721.6,5763.15,125.0,3870.0,383.65,913.3,7467.5,1060.2,2745.7,2406.1,2053.05,4874.7,1410.25,2763.35,91.7,85.1,1151.05,75.35,1845.9,4577.9,4586.15,45.4,116.65,144.95,1525.35,610.2,788.05,4481.0,810.2,null,3656.25,93.85,1277.5,4845.4,6856.95,1360.25,762.5,5435.0,1242.2,2766.4,4524.05,50.55,4154.55,75.6,346.4,711.9,6144.55,4164.4,1555.65,70.15,8065.65,1468.75,273.25,223.75,35.9,208.45,481.1,4871.05,2034.25,1798.9,1298.7,7732.65,606.55,4730.9,185.4,5129.45,3097.0,1274.05,340.4,159.2,5253.95,930.95,5135.35,1929.95,4689.5,1209.25,3058.15,1677.85,7882.25,709.5,1033.9,5013.0,3532.0,220.45,181.65,1522.65,164.6,162.45,3886.85,185.6,1046.5,3517.9,6388.65,48.75,1623.4,770.6,4805.3,45.85,1172.95,2979.2,2341.5,2441.7,477.05,235.8,1336.9,5278.15,2196.3,44.3,2661.1,487.05,1001.5,1328.35,4309.55,3119.9,323.15,3068.6,1201.15,2462.55,507.9,7053.35,966.55,19.75,1238.45,789.2,6716.45,1152.8,6767.1,246.3,4657.95,7240.65,375.25,5895.45,580.8,4808.7,720.05,24.0,2231.05,4932.5,999.9,242.95,521.1,7007.6,1224.05,393.15,2122.05,6747.35,1425.45,1980.3,4818.8,1036.0,350.1,3527.6,2070.05,1359.45,71.65,2031.95,3741.85,3562.5,7714.65,3263.9,6994.8,2425.4,2239.65,713.75,6975.25,2042.05,1776.0,6536.5,1404.65,6937.95,713.6,3930.55,4039.0,45.15,451.55,7171.7,7279.35,5817.7,1250.85,49.8,3772.65,239.0,828.05,6557.75,51.6,7919.8,5484.4,784.25,3684.95,78.65,2509.25,84.85,1093.1,3096.9,1008.7,1712.7,571.05,214.75,20.2,1110.05,2003.6,6241.35,113.5,71.25,217.45,865.05,2513.5,312.7,865.1,467.7,108.95,2847.2,4733.1,3058.65,1669.4,6602.9,1389.35,45.3,1080.55,617.85,109.5,2459.8,25.35,659.35,5645.8,316.2,587.45,1125.2,260.9,20.85,1328.15,4042.3,599.3,2345.55,2342.2,44.8,3465.7,5614.45,2967.35,1216.35,1062.1,4600.7,293.3,5776.45,8109.8,6519.75,1329.2,3091.75,7852.4,6287.25,5589.45,272.0,7061.65,482.25,7129.45,2471.25,214.55,220.4,520.55,651.5,158.4,487.05,47.7,829.1,88.8,871.4,401.85,3187.65,1395.05,106.9,602.55,128.6,6741.15,7181.95,4947.55,2974.5,1411.65,3994.45,710.05,4464.8,6185.15,1322.85,3152.5,886.4,53.55,279.55,3591.25,113.35,2324.7,39.65,1777.6,5375.15,168.65,2010.55,3351.55,497.3,5696.6,237.95,3210.35,3217.55,2490.15,6563.4,4915.15,902.0,4828.05,74.5,830.7,152.6,8564.75,2274.1,8058.55,19.45,1663.75,336.7,407.05,122.7,552.9,3723.65,815.55,242.8,5233.25,4983.05,801.3,2043.45,294.5,794.25,5682.25,4641.1,5071.05,3762.0,180.3,294.45,2215.45,4941.8,4627.8,6871.7,6069.25,3023.55,1107.25,4113.15,653.15,2357.75,1379.8,7758.9,7467.55,433.5,2364.0,3103.25,1905.7,506.9,20.35,3784.0,263.65,2874.45,1840.75,43.3,408.25,1874.3,6273.4,1297.8,469.65,1275.85,1228.65,897.75,184.15,69.9,646.05,659.45,720.45,307.0,2395.05,2245.4,477.55,1848.8,1834.15,1497.05,1011.5,1240.15,1265.65,2548.55,5779.6,2603.3,24.7,3985.35,1093.4,395.6,19.85,1416.5,6875.35,1049.05,3097.2,4707.85,365.4,225.55,3465.05,3969.4,7532.15,745.3,2479.25,855.3,104.3,3369.25,71.2,2390.45,3888.65,833.55,20.4,2909.95,3923.8,655.5,8078.1,71.35,1108.6,446.8,412.5,5963.95,503.25,327.45,1993.8,4911.35,156.85,7382.85,3029.1,482.8,4299.2,1389.85,2964.0,45.8,810.85,418.8,1245.05,7472.15,3121.45,73.1,308.1,381.2,220.8,328.95,84.8,213.35,232.35,155.8,4003.0,287.4,3242.5,6506.15,1344.5,2236.2,402.85,6034.85,95.05,89.5,1405.3,3418.2,403.15,20.05,5032.25,33.6,1938.05,6841.05,439.2,2509.95,227.45,3846.75,4145.25,314.45,20.45,572.45,281.0,2962.0,527.9,826.0,4327.5,3973.2,7895.15,1170.5,4664.5,1422.05,8404.9,7173.15,5535.8,3418.2,475.1,6929.4,324.15,6081.4,1859.1,2554.0,2044.95,2440.15,2193.2,867.3,539.85,295.55,275.7,1864.2,70.35,1686.85,475.0,20.05,4137.2,1497.9,251.75,3330.1,50.1,2149.05,321.4,4388.4,3608.0,59.75,5432.2,4807.45,2263.4,3673.6,732.5,1203.95,5431.9,245.15,7611.85,3838.2,541.15,847.8,253.8,832.35,2884.9,889.0,228.65,45.2,6281.45,304.6,754.65,3432.9,4156.8,1388.45,1079.05,3339.05,7285.7,5315.8,2122.45,7039.45,392.65,420.2,729.95,44.75,256.6,1629.2,1490.95,136.05,265.35,20.25,3403.4,7576.7,6989.45,63.75,161.65,1546.3,4228.55,1993.25,2636.05,3587.25,1221.55,1584.8,1604.5,819.4,1157.05,1133.9,3126.85,6296.75,389.25,1800.05,625.65,4263.45,1882.55,6018.65,1272.05,1285.8,100.4,1110.35,811.8,1079.65,3953.15,544.55,1268.85,605.25,1583.5,3027.25,740.8,161.45,1682.05,102.5,2282.95,7953.25,6605.55,161.15,3313.4,1348.5,1379.6,742.95,3549.25,5669.5,3147.15,256.75,2893.4,244.75,5386.5,7334.05,2082.95,4921.2,4685.55,1406.9,5717.85,38.0,155.65,3590.2,953.65,1496.9,2585.95,19.65,3141.7,1096.25,4744.35,1689.45,29.85,5315.1,4854.3,5985.75,462.8,7138.65,20.0,233.7,3870.3,8046.85,576.65,2857.6,226.8,196.15,7332.4,2065.4,404.2,4859.1,1311.75,1434.6,4107.3,2296.25,7365.3,1258.3,512.25,3882.3,3557.7,3877.95,661.25,305.95,244.45,617.65,903.7,5496.9,1334.0,44.15,20.5,493.4,3582.4,2006.95,3829.75,347.25,2651.2,4913.3,4213.35,1924.1,92.25,2606.35,2320.8,3921.1,4385.05,846.8,6925.9,516.3,244.65,6615.15,115.1,1397.65,19.6,49.55,6179.35,3082.1,2181.75,1048.45,45.1,6890.0,null,4266.4,144.15,622.9,625.05,3641.5,355.2,4187.75,77.6,49.9,2538.05,2278.75,679.85,341.45,1060.6,679.8,6401.25,4639.45,443.9,916.75,357.7,5860.7,3085.35,450.8,134.05,149.05,5424.25,1657.4,697.7,4903.15,3132.75,1200.15,210.65,190.1,4209.95,2823.0,4454.25,3375.9,5576.3,7321.05,2104.55,1446.8,6844.5,2546.85,2361.8,360.1,5044.8,780.15,5229.8,7723.7,3488.15,875.35,212.3,1090.6,24.25,4264.0,950.2,2497.2,4326.25,41.85,20.5,562.6,4265.0,1474.75,7227.45,713.0,44.65,1055.9,2960.1,876.15,1205.5,882.55,5498.2,5329.55,100.9,6293.45,1943.9,1715.1,6079.0,918.75,4159.45,5043.2,1621.35,132.4,253.9,4146.05,75.8,970.4,2799.75,81.05,8308.9,3959.15,29.95,396.3,20.1,992.7,99.75,2058.5,338.9,58.3,60.1,1049.6,4414.3,229.5,3566.7,1588.25,2896.6,2530.4,365.55,144.35,835.5,1507.0,4178.65,80.15,989.05,3886.05,6838.6,1295.4,1261.45,399.6,3264.45,6589.6,2012.7,5283.95,70.85,1064.65,1855.65,6944.5,1192.3,1743.05,4671.65,4166.35,103.7,1064.95,3205.6,563.65,856.35,426.35,1214.05,4748.7,4138.7,20.2,723.3,1570.7,1201.65,35.0,296.1,729.95,1400.55,1147.0,7752.3,1516.6,4016.3,8093.15,4126.2,1454.25,23.45,7965.95,1286.05,1127.35,5016.25,3913.3,2586.0,5794.65,1566.9,1258.35,7689.95,20.4,2835.9,4729.3,5551.15,382.8,49.7,293.15,1215.45,5459.2,2424.05,239.75,572.2,55.0,235.1,302.6,3603.45,2664.3,3173.35,19.4,5940.85,1561.5,5737.6,265.3,90.75,70.1,1240.25,190.25,2564.3,3825.85,84.5,3862.55,535.55,2187.15,3124.5,2723.75,5893.9,4888.7,628.65,42.9,330.15,2354.8,190.25,1009.25,313.6,21.1,858.6,2633.4,2684.85,50.15,3134.7,6735.05,2917.65,3959.35,118.5,1660.0,134.7,199.85,121.25,1180.95,7250.15,44.6,3250.45,452.55,950.75,2514.5,5219.65,19.75,4220.35,2011.4,5514.95,5841.35,790.7,318.6,6782.15,528.45,4348.1,1799.3,3420.5,3496.3,264.8,5497.05,5099.15,5475.9,255.35,81.1,45.7,4916.4,419.4,1581.2,3509.4,697.65,941.0,2550.9,7998.8,49.95,147.15,6614.9,1510.3,2575.45,5611.7,35.9,1686.15,1393.6,1266.1,5885.4,7508.55,49.8,7752.05,19.75,1888.45,4226.7,1928.7,114.7,3211.2,2658.4,2908.2,20.15,6555.2,25.3,3116.15,316.9,5538.8,4671.7,79.15,1203.9,146.6,1777.9,50.9,1370.35,1758.9,4855.35,160.8,957.1,3161.6,153.05,7069.3,318.9,174.8,20.35,1222.05,252.0,862.4,6367.2,498.1,3919.15,2303.35,1923.85,595.5,370.25,19.7,20.9,6889.8,1637.3,5461.45,262.05,3019.7,994.55,3306.85,546.95,3649.6,6373.1,7132.15,69.35,1148.1,4783.5,69.65,482.8,1374.2,75.05,1077.05,6572.85,5012.1,314.95,3045.75,1120.95,44.9,79.2,1700.9,1424.5,3877.65,3019.25,2239.4,272.15,2979.5,139.25,151.65,5861.75,3487.95,6997.3,3588.4,559.2,2448.75,20.05,1347.15,6858.9,799.65,465.45,2070.75,463.05,331.3,3756.45,1534.05,198.5,1177.95,3358.65,2421.75,71.65,3851.45,7544.3,4479.2,6743.55,1155.6,1031.7,1337.5,296.15,6585.35,3416.85,291.9,19.95,401.3,35.9,2180.55,930.45,1776.95,1233.4,108.05,4837.6,1004.35,923.85,4786.15,1493.1,301.9,269.65,250.8,75.3,223.15,575.45,2964.05,1617.5,3990.75,279.2,465.7,393.45,2545.75,2309.55,916.9,1857.3,5815.15,404.35,5029.05,678.2,343.45,1120.3,906.85,202.25,3646.8,7719.5,845.6,179.35,3371.0,167.3,107.6,716.1,5624.85,1522.7,1077.95,2572.95,592.75,150.75,2656.5,970.85,2001.5,1698.55,5931.0,676.7,2839.65,540.05,1238.65,593.05,3725.5,970.45,5025.85,1028.75,4576.3,3645.05,1021.55,38.25,1281.25,8547.15,19.25,319.15,46.2,1336.65,2716.3,3208.65,679.3,446.05,322.9,69.65,90.05,109.2,4103.9,3320.6,431.0,6145.2,5749.8,2757.85,3930.6,4594.65,3480.35,351.5,68.75,762.25,7581.5,4495.65,131.05,1713.1,1036.75,2192.9,1427.55,7511.65,91.7,80.2,1574.45,1743.5,1398.6,1166.7,4275.75,3182.95,675.6,77.15,186.15,857.25,449.3,2460.15,856.65,320.45,7388.45,275.4,775.6,1476.25,31.55,20.55,70.8,5127.95,609.1,49.85,69.95,7002.95,3247.55,2623.65,3581.6,4122.9,1183.8,1299.1,1342.15,4084.35,69.5,1910.6,608.0,2524.45,760.05,1653.45,4719.75,19.75,1145.7,686.95,2625.55,61.05,2758.15,4189.7,526.95,2072.75,5791.1,99.45,693.45,3635.15,2351.8,1767.35,5526.75,5957.9,7782.85,80.55,2038.7,2688.85,1377.7,43.95,207.4,6398.05,1782.0,5791.85,2030.75,1793.25,1394.55,49.9,44.45,7534.65,1761.45,299.2,4995.35,5980.55,470.2,1354.4,3694.45,5564.85,4615.25,288.05,4946.7,1031.4,1815.3,825.4,542.4,531.6,6316.2,880.2,2203.7,1782.05,5165.7,3454.6,5485.5,228.75,3053.0,593.2,3221.25,4523.25,5950.2,1958.45,1372.45,6322.1,2710.25,242.0,2555.05,6254.45,5237.4,6998.95,21.05,1849.2,3092.0,1004.75,2407.3,2633.95,733.95,1173.55,270.95,1506.4,44.05,562.7,1454.15,450.4,154.85,803.3,1426.4,6474.4,4459.8,682.15,109.8,25.05,166.3,503.6,4889.2,1422.1,5897.4,4261.2,5785.5,1035.5,412.6,1134.25,609.9,3886.45,402.5,1115.15,30.2,1358.85,191.1,74.4,4368.85,926.25,226.55,305.1,456.85,4461.85,2391.8,435.0,1024.7,418.25,935.9,3281.65,1097.15,1936.85,8033.1,973.35,33.7,6283.3,2415.95,3942.45,946.95,123.65,19.85,6697.2,6001.45,1137.05,4052.4,74.0,4939.25,1277.75,2723.4,1308.4,4242.35,4615.9,246.6,31.2,829.3,94.45,6951.15,2483.5,2838.55,947.4,638.0,1683.7,2199.05,73.45,141.7,1616.15,3186.7,5224.95,1013.35,1170.55,1171.3,2083.1,1732.6,851.8,1911.5,73.05,724.65,137.85,3121.1,3974.15,239.05,2635.0,6840.95,1308.1,929.45,8443.7,335.95,1654.85,2862.55,945.7,7554.05,2598.95,165.5,6350.5,5552.5,4869.5,1436.95,2934.3,56.25,3563.8,294.2,6125.4,663.05,2108.35,3503.5,69.4,1466.1,1597.05,1152.7,1559.25,1286.0,101.1,5409.75,1236.15,6725.5,3638.25,94.0,1916.0,993.15,865.55,3066.45,1269.55,3744.05,201.0,96.85,1862.9,916.0,2250.65,247.0,190.5,2092.9,1057.55,122.9,3027.4,7365.7,223.45,201.95,886.7,3795.45,1463.45,1232.9,1734.65,5401.9,313.4,3541.4,4234.15,2898.95,1121.05,888.75,3662.25,2024.1,1451.9,3035.35,5846.65,20.15,8424.9,676.15,1654.45,49.65,4478.85,3822.45,1492.1,1992.95,43.15,1211.65,299.3,162.55,6148.45,4760.3,62.05,1648.45,414.95,475.7,216.9,44.4,1537.9,4631.7,2816.65,74.9,5276.1,200.2,1955.4,2146.5,5468.45,1889.5,6707.15,790.0,8306.05,6632.75,6385.95,70.0,6383.9,2774.55,449.75,1477.65,4063.0,2555.9,2433.5,494.05,467.5,2599.95,8071.05,990.45,45.1,492.55,3765.05,19.55,677.05,930.9,1875.25,233.65,5175.3,null,1077.5,5067.45,538.2,5621.85,587.7,1210.3,1187.05,7984.15,2111.3,611.45,5309.5,1511.2,861.85,4297.95,3414.65,219.35,63.0,546.45,1565.7,164.3,1403.1,1178.75,367.95,1014.25,20.45,69.1,2172.05,1838.15,49.5,4494.65,2871.5,70.4,586.05,664.4,1332.4,350.3,1022.6,688.65,7455.45,31.35,2653.65,73.6,20.2,961.4,2119.5,6431.05,651.55,125.5,168.9,50.5,20.3,212.4,2907.35,5528.9,1581.95,1886.25,6719.9,1639.3,8349.7,868.5,94.6,2293.6,79.55,6155.4,2467.1,1752.65,4504.9,5617.75,3126.45,581.85,193.6,356.65,62.0,237.65,69.1,4487.3,2249.1,1218.65,6849.75,3974.7,3810.8,496.9,19.45,1367.75,3340.55,1470.05,4304.0,5661.7,4822.85,368.1,7624.2,144.0,2424.5,4908.25,7567.2,1208.15,1233.15,83.75,5163.3,1559.3,690.25,117.95,63.6,2510.7,373.0,605.9,20.35,1826.7,2681.15,4108.15,4469.1,1312.15,5755.8,324.3,5585.4,3937.45,411.45,1665.2,688.2,267.4,188.1,4732.35,2588.95,3876.2,58.15,2001.0,268.35,4116.15,2970.3,268.4,3470.8,7210.85,2076.2,3157.0,5986.55,1177.05,2090.25,1189.4,1857.25,174.2,4310.35,6333.4,223.9,4991.5,157.75,1653.85,45.75,505.95,2665.0,45.25,2227.1,790.15,554.25,672.7,369.3,3777.15,5924.4,1490.4,384.5,5688.05,3653.35,3771.5,6613.65,5878.9,181.6,89.9,457.3,403.35,4900.65,74.35,1797.1,75.3,4735.35,85.45,2475.35,3778.1,56.0,5510.65,6293.75,587.4,5969.3,5522.7,19.9,6056.15,1301.7,288.05,4391.45,1755.35,1772.25,75.7,8425.3,511.25,6561.25,60.15,2054.4,3017.65,7493.05,4847.05,85.5,24.75,185.55,18.9,854.9,477.6,97.1,411.25,3460.3,39.25,370.4,4858.7,5324.5,4830.25,629.35,1108.8,89.25,6237.05,69.75,5411.65,2815.25,5753.25,6139.5,620.35,2048.8,7297.75,1923.5,2066.0,521.35,3264.5,141.45,3444.85,113.85,8250.0,1346.3,70.1,75.55,5550.1,7104.2,5251.75,1111.85,1013.6,390.85,3887.25,29.7,323.25,84.5,3687.85,5629.55,198.6,6314.35,84.75,151.8,3623.95,5450.7,93.55,99.75,865.75,6690.75,4233.95,5036.3,2193.0,916.15,1448.8,5714.2,1113.95,4820.55,396.1,858.6,1888.65,6579.05,465.05,4801.1,49.9,1633.0,2434.45,8035.95,51.2,4194.85,541.9,1233.65,1716.45,522.95,761.95,333.65,2368.4,4068.0,2198.3,38.8,35.05,2566.3,1401.15,1474.35,3505.1,1426.75,55.25,8309.55,3713.95,3180.5,273.4,50.7,5941.05,5238.9,5293.4,4284.65,777.3,1244.8,34.7,19.65,7482.1,641.15,25.85,2890.65,624.15,1221.65,1612.2,6733.15,4690.65,834.7,134.75,160.05,3094.05,74.6,1302.65,6460.55,670.65,1968.1,162.15,1505.85,1363.25,3688.6,6219.6,20.55,2484.0,3895.35,70.1,3510.3,84.2,181.7,2542.45,2939.8,1539.45,1994.3,50.45,4299.75,292.8,1292.65,358.5,3184.25,2283.3,2215.4,7108.2,178.7,44.9,2075.1,1502.65,6425.65,2954.5,2416.1,3848.0,4144.9,537.35,1373.0,81.25,1133.65,228.0,461.3,67.1,45.0,6052.25,498.1,6669.05,6236.75,4692.55,3067.2,20.1,242.05,422.4,324.2,54.5,5883.85,71.0,485.9,69.6,6859.05,754.0,813.45,528.35,4014.0,5714.25,3687.75,564.4,973.1,832.3,7932.5,6471.85,5680.9,4554.85,260.7,1517.5,3626.1,647.5,2215.0,566.1,356.15,5437.1,1423.15,287.85,809.75,99.95,4060.55,116.95,7283.25,1688.9,2540.1,499.4,4952.95,3237.05,6413.65,7031.45,5718.2,1801.1,207.35,1519.0,1107.2,829.55,76.0,3915.4,6487.2,220.45,74.2,55.7,4370.25,7578.05,4525.8,2234.55,485.25,90.6,923.5,1327.85,3990.6,1678.05,3899.05,41.2,5265.5,1387.0,1654.6,973.25,2333.85,20.9,3865.6,3665.55,948.9,390.4,49.25,177.4,1885.15,418.4,1378.75,6263.8,1638.7,877.35,1868.4,39.3,1899.65,552.95,480.6,5826.65,638.55,1066.9,723.4,6812.95,2157.95,3425.35,1275.7,4964.7,25.05,335.75,1764.75,1087.25,771.95,1766.75,7334.05,700.45,434.1,4335.2,454.15,2866.45,6637.9,4284.2,382.2,1424.2,7142.5,2356.75,79.05,1643.55,2626.15,49.65,70.9,45.95,6567.9,1274.45,66.95,2435.15,45.3,4149.45,6962.85,8312.75,799.0,864.55,633.85,331.85,5703.25,1463.45,5405.8,416.3,189.95,1850.65,3246.45,1509.9,1250.1,3474.45,147.8,2383.6,2804.45,2911.3,1412.65,595.05,2227.8,1336.35,851.75,163.2,1054.6,70.05,130.1,4113.7,null,165.0,5059.75,6891.4,74.3,5025.0,780.2,3836.3,2936.25,1144.5,2499.3,130.25,7372.65,4254.85,1301.0,459.6,483.7,2088.75,1102.4,3349.1,4447.55,7325.1,2200.25,2419.0,320.4,2897.95,2570.2,964.9,574.35,384.25,1027.25,46.3,80.3,7713.55,5824.75,1702.9,5042.75,734.35,990.9,4784.45,147.55,768.05,587.1,6256.2,1641.3,4422.95,7511.3,511.25,1345.75,1588.75,4126.35,649.4,2748.7,1530.6,928.4,178.7,397.0,435.45,1218.25,44.45,4424.2,415.05,2282.55,355.9,6017.9,726.1,70.7,3789.2,3902.45,2217.15,239.55,300.4,7939.25,52.0,1147.45,581.7,2852.4,69.15,80.95,1662.05,3462.1,4433.3,808.95,49.3,1710.45,2948.6,6692.65,788.8,343.95,545.2,788.55,1390.85,49.55,3263.6,702.0,179.85,1248.9,2781.85,1536.75,1423.05,6017.65,706.6,702.9,187.75,424.15,1815.0,2349.8,4145.9,2483.05,1233.25,5727.45,1235.55,912.0,4484.05,76.2,2651.1,46.3,1046.5,4804.75,3634.8,4976.15,202.9,955.75,6654.1,3726.15,1447.9,5222.3,2666.75,874.2,264.55,1165.9,3739.8,1750.7,291.4,2656.7,1709.1,1732.95,2576.2,6393.65,1215.8,1971.5,229.4,91.3,4017.45,679.0,246.7,1190.5,2724.6,1315.35,19.1,669.45,1462.05,3409.1,1156.1,806.95,5589.3,1816.75,2715.3,6717.9,727.8,460.25,20.5,1901.0,2375.2,6418.9,74.35,1032.05,2244.95,220.6,3566.6,4224.7,1270.25,712.75,7446.9,6093.3,2568.15,1222.65,810.7,3952.45,45.8,1871.85,49.05,1222.8,74.9,3175.85,1743.9,2878.75,471.35,71.0,505.95,1240.8,322.5,1573.95,5538.35,3478.15,152.3,116.6,249.95,2832.75,2077.95,697.25,59.05,3062.45,4024.2,24.45,1558.7,1600.25,478.1,8003.8,1161.75,4920.8,402.6,700.85,1566.75,50.35,853.0,1153.25,2443.3,1386.8,5594.0,765.5,780.1,6127.6,8337.45,743.05,7689.8,1181.75,20.0,290.55,7548.6,718.55,44.55,1161.75,3005.8,1012.4,5760.65,2497.2,415.4,906.85,509.3,401.5,8333.95,348.8,2085.45,2583.75,1237.3,3912.9,2619.25,35.85,2659.45,3521.7,1445.2,824.75,893.2,270.15,45.35,7432.05,2907.55,194.2,20.05,1523.4,6152.4,332.5,5189.75,3975.9,100.2,1553.2,6230.1,3965.05,518.9,1821.95,2462.6,6825.65,3906.7,7845.8,411.75,5711.05,616.9,1341.5,80.25,284.3,839.65,2369.05,6004.85,50.15,4542.35,5289.05,1070.5,5060.85,2684.35,746.5,299.75,1983.15,386.5,2369.3,840.1,8425.15,70.45,998.1,199.75,371.9,1667.25,4392.5,1345.55,3365.85,3275.15,2292.75,1908.35,1042.65,831.75,777.35,130.75,130.5,2076.05,3478.75,321.65,523.15,7195.35,1910.75,936.85,4119.4,255.25,358.15,2169.8,54.7,1529.45,7110.75,4300.8,1871.15,1007.9,330.8,5031.0,2495.15,432.25,75.45,4740.0,1237.65,360.35,8332.15,1611.65,44.0,3655.45,3953.7,1378.25,4680.05,899.8,5655.45,551.35,222.65,173.15,4036.0,3439.0,5468.95,2603.1,2401.05,354.05,2718.3,654.55,1175.85,488.65,244.1,293.85,5979.7,289.3,958.15,5822.3,929.3,777.3,4627.65,160.75,6118.95,2068.55,558.8,170.5,343.45,6000.1,447.75,668.85,94.15,4533.9,8477.6,1387.45,5301.1,4473.45,303.7,19.75,4759.85,1421.75,4917.75,70.45,1400.3,2929.75,2879.2,677.9,1461.45,1054.8,206.6,1809.35,638.95,7804.15,3233.85,4764.0,1212.85,2351.45,3055.5,174.45,27.55,20.4,567.45,55.7,229.55,4834.0,49.0,6029.0,307.4,95.1,576.65,548.8,1558.65,7548.1,204.55,633.45,1234.8,504.2,860.85,7133.1,6094.25,21.0,122.0,2162.6,8240.85,1406.65,1087.45,292.85,2341.55,2673.45,2708.2,4303.65,3645.75,1537.85,4230.25,6397.6,2497.35,235.2,5728.55,3027.65,1836.25,4849.1,335.65,741.0,1363.45,5199.8,45.6,1730.35,49.95,1115.6,4092.85,3810.55,489.45,267.35,7288.4,264.8,1387.35,3474.05,329.95,5265.1,7987.6,1940.8,1493.75,4555.2,5200.8,19.5,82.85,1725.0,110.15,7990.05,5580.8,1284.2,137.6,996.85,229.7,88.35,821.6,979.05,4346.4,2998.0,436.9,1750.85,5438.95,6352.4,352.65,336.15,7049.75,2971.7,678.45,5243.05,5229.45,7188.5,98.35,5232.9,6306.5,2427.35,3361.05,4741.45,1600.95,19.5,222.3,4048.95,7085.5,44.4,2874.15,388.6,3190.25,154.65,1884.65,529.5,678.75,2419.55,2238.5,75.1,6590.8,1714.95,1043.8,196.9,265.8,1052.35,2545.7,95.55,554.05,3186.65,1432.55,3019.5,8220.4,4014.6,942.95,3369.05,1139.2,162.45,2263.45,1218.55,6705.7,4070.95,6368.2,3410.0,5688.45,1673.4,2203.65,620.55,8166.8,101.65,132.2,6096.45,79.35,445.3,5986.45,654.85,259.8,183.75,4237.5,416.45,7880.25,1189.9,990.85,1235.55,3901.25,5953.0,48.6,295.95,65.95,730.1,617.35,82.9,645.8,493.95,360.55,7993.3,3972.25,7657.4,3941.7,7028.5,38.15,4916.95,20.45,2212.55,5498.8,246.25,2610.65,2789.7,85.55,1672.35,540.95,1614.05,2657.55,1146.05,5632.55,6411.25,1847.55,1540.05,830.8,944.65,1430.05,75.3,3419.3,1697.7,419.35,117.05,2961.4,96.45,963.95,501.0,1912.15,6075.9,682.1,578.5,239.45,3791.6,2211.8,70.6,2447.45,null,34.8,195.65,900.5,2169.75,927.65,6341.45,196.4,6137.0,50.8,139.05,46.35,20.3,1374.9,1540.2,401.1,6424.25,1242.25,8277.05,514.0,224.5,874.8,217.1,1972.35,3605.6,383.65,2028.8,1887.0,2254.2,5831.2,805.1,1245.6,4109.0,5563.65,454.65,169.75,1781.35,257.6,20.2,5611.75,1193.05,6578.55,521.8,955.15,5458.8,764.55,657.5,323.45,19.15,145.15,4914.9,62.8,20.2,601.25,70.0,1414.8,6143.15,35.75,834.2,3078.1,1246.4,118.3,7322.5,844.45,307.6,844.45,1752.45,7887.25,6954.15,7982.5,19.8,35.55,20.2,4976.15,180.7,1441.1,1415.85,1429.65,85.5,1046.1,1841.9,1803.7,1149.65,1495.1,1105.4,1626.4,896.9,53.55,3807.35,1031.1,2317.1,5730.15,299.7,3211.9,7881.2,3994.05,6424.7,599.25,3775.85,6448.05,3678.3,7291.75,3238.4,2029.05,2979.3,5321.25,220.1,4428.6,6786.4,89.3,4408.45,587.1,716.4,2337.45,84.6,4532.3,471.7,141.6,6586.85,4267.15,949.8,890.6,2431.95,1095.65,3715.65,2862.75,5029.2,355.1,987.95,151.75,5011.15,2806.9,1244.5,5744.35,20.0,633.3,812.5,1306.3,279.5,5965.95,250.05,4664.2,6470.1,362.2,19.4,3043.6,321.9,669.45,5060.9,6010.05,2404.15,321.05,51.15,1782.0,1357.1,80.05,235.65,4192.15,1719.15,1336.1,580.1,1033.0,1269.1,69.9,7412.25,7261.25,1188.2,3682.45,739.35,3581.4,3460.95,1978.65,825.7,1234.6,593.3,826.1,680.05,4362.05,688.0,5299.65,2686.05,5825.5,163.7,4510.8,3605.2,4512.7,2730.85,4920.55,6078.75,571.45,45.05,4154.8,3021.6,4973.4,2638.1,59.25,6110.75,163.55,216.2,280.4,1680.25,3131.55,1430.25,6914.95,733.55,1077.5,77.75,2683.2,1733.15,2275.1,5070.4,1378.45,786.5,635.9,325.45,3187.65,7099.0,6375.8,3410.6,4016.2,25.15,135.0,1039.45,8022.85,372.45,1133.7,73.55,428.45,203.95,75.5,1267.05,34.75,1830.1,5574.75,165.4,579.0,2201.75,637.4,1111.65,931.55,61.15,1594.75,1929.0,838.7,75.45,3273.95,159.4,955.6,463.6,6603.0,20.95,2479.05,189.1,216.45,1258.6,505.9,6362.35,1399.35,2791.5,4693.2,5893.95,85.05,1131.2,280.0,1083.7,118.25,303.15,4378.35,1074.3,18.8,5231.3,5919.35,714.15,817.95,343.6,3527.0,4551.5,55.25,6254.2,1687.95,70.15,1183.2,692.1,2431.35,150.6,2869.85,3593.8,568.2,50.6,400.3,3835.55,417.0,4549.05,1544.05,920.5,184.1,4097.05,5236.4,3512.9,42.7,1573.05,19.45,690.5,309.35,704.3,null,2460.35,50.1,2156.25,1215.6,106.2,4753.85,2078.55,2958.95,5581.05,568.85,7616.0,5431.4,5502.55,1734.2,880.05,2780.6,5913.95,4738.3,8477.7,5600.15,2200.7,44.1,1406.0,1857.85,2165.05,4124.65,1709.15,5918.8,297.35,1727.5,1129.75,1784.5,338.1,577.15,5682.25,25.1,3168.0,50.15,92.75,5445.95,520.95,4677.1,262.3,20.25,134.35,24.7,1263.05,305.55,552.1,703.55,57.4,805.2,3548.3,6780.1,1182.55,2452.7,1271.8,1498.55,2779.5,2747.2,20.3,415.55,5750.0,894.3,5917.55,4250.1,741.5,1441.65,255.6,486.05,973.65,878.35,140.4,674.55,1247.75,2928.5,1901.25,3204.4,130.5,19.95,3952.65,186.3,3834.4,7113.75,8310.55,7711.25,5629.15,225.85,69.7,2894.55,381.3,82.3,6333.8,899.45,5623.7,7035.6,30.55,4062.2,7848.5,57.4,1551.6,447.9,1388.0,2184.85,76.65,196.35,280.85,131.65,2404.1,4459.15,1679.4,1325.85,3440.25,20.95,56.35,5817.0,3217.65,2177.45,717.5,1654.75,2674.15,156.35,154.55,1288.3,2548.65,510.8,1505.35,1183.05,4730.6,7405.5,52.0,244.8,1679.65,1527.5,5438.9,273.75,1068.15,1802.55,846.0,712.85,20.65,3171.6,6375.2,4946.05,161.45,5121.3,163.7,2033.05,7942.15,178.5,3871.85,4965.1,355.1,1335.2,7303.05,238.5,4575.35,69.4,1505.45,1738.9,1073.3,5607.75,131.05,1117.55,818.45,1527.35,3166.9,69.85,6770.85,3857.1,4811.6,3539.25,7299.65,4480.7,44.95,116.85,902.25,156.1,91.45,109.6,3046.05,5464.65,94.4,1959.5,3128.8,4917.9,6703.5,286.8,3139.8,20.2,1916.2,8182.85,1032.0,89.35,1023.85,1642.75,50.6,1734.5,3089.6,635.6,5483.9,5780.7,220.65,1500.95,196.95,19.05,5762.95,1832.4,952.3,80.55,4997.5,44.15,6463.15,927.1,3856.75,1129.1,387.4,5617.95,434.5,934.8,733.35,1369.8,934.15,1081.45,1729.35,389.8,377.55,7537.5,3196.0,3452.55,5598.3,318.5,4282.4,743.3,3541.1,2511.3,314.55,5224.5,5873.75,2633.3,5930.05,564.35,1790.15,4086.3,2596.15,1323.7,89.3,1442.6,1051.9,1873.7,1595.5,419.9,374.8,225.65,256.6,1338.15,7854.15,1191.4,1914.5,405.7,3344.1,655.9,1949.4,601.55,4398.15,1108.2,526.7,4949.1,365.8,893.55,1072.0,2224.5,3627.3,70.15,294.95,4214.25,4557.5,196.75,7346.2,2313.8,5931.75,7281.6,3769.7,232.55,6859.5,129.6,20.65,2793.55,1539.8,74.3,2970.8,19.75,43.8,4386.2,3436.1,1505.05,2310.2,685.55,3756.45,1385.85,5222.35,5430.35,795.65,2104.55,4449.75,6382.0,229.6,174.75,5270.6,1192.7,2937.65,1400.85,6049.5,1529.2,997.65,19.1,40.25,266.6,669.85,3229.65,4421.95,3565.65,2036.55,null,7904.25,469.65,4786.1,4890.5,7386.05,221.35,1140.05,693.3,6056.9,85.0,551.3,483.3,523.5,4653.25,60.65,505.45,6991.6,1643.25,382.2,253.0,319.85,86.05,1115.2,2312.55,101.9,1122.4,4535.85,341.6,2010.95,735.9,3580.3,553.0,494.95,3437.45,70.3,1185.95,1329.15,2339.3,5174.35,5163.0,85.5,36.45,4138.05,1057.0,3297.0,414.1,69.2,651.4,3512.5,2511.95,70.5,1714.55,165.2,24.8,151.3,1267.0,3090.05,3880.05,368.85,4707.1,520.0,189.45,531.55,2807.65,3704.15,1417.9,4113.1,226.2,1060.2,1334.45,96.05,84.65,135.2,2654.05,25.2,909.25,4140.1,369.6,5125.75,80.85,5036.9,4816.7,2498.4,40.2,1287.85,3645.5,3949.15,1608.15,6141.65,3694.7,797.25,74.6,74.6,19.3,50.45,2088.05,940.35,308.05,468.35,644.35,2560.1,1007.8,6921.7,4492.9,5437.75,4985.9,3321.35,55.45,413.65,191.35,639.65,4905.75,1444.65,1216.6,7634.25,369.1,5598.0,70.3,198.1,743.75,6292.7,71.1,1875.55,1672.35,5471.75,654.85,560.85,2433.9,374.5,3023.65,1173.35,2151.6,1259.35,232.5,1789.9,76.4,20.15,219.65,1641.8,2841.55,4300.45,5656.75,7470.1,242.4,1391.65,3766.2,3673.15,2298.55,1230.25,5364.8,353.65,5069.65,347.65,2023.55,2651.2,761.85,4378.9,1149.65,654.5,245.15,4259.3,670.35,5118.95,70.55,356.1,344.5,4273.45,187.45,7658.3,70.45,238.1,20.2,81.7,1778.7,1992.55,1725.95,1074.65,160.85,4520.15,89.55,2621.75,67.55,69.2,837.95,711.15,6435.25,7875.0,1620.2,2877.05,181.1,1414.65,261.25,248.4,466.6,161.95,3314.15,102.75,2839.45,8476.5,154.8,3782.4,3000.25,19.75,45.3,1093.2,5290.45,80.55,8061.5,259.8,1158.85,245.2,6369.45,649.65,1165.6,240.45,734.6,152.7,5124.6,7222.75,1337.45,7559.55,5034.05,55.2,86.35,null,740.3,3131.8,45.65,1975.85,2094.65,1110.5,294.45,2209.75,5618.3,1614.9,1866.45,244.85,6028.95,120.25,2847.4,815.5,237.3,457.1,2429.1,6132.7,475.1,2516.2,2537.0,573.15,1029.35,107.1,50.55,19.25,1273.3,5968.4,1521.2,141.1,114.1,3794.5,5757.2,1941.5,1501.75,1072.6,3219.75,1830.05,958.1,4350.1,210.75,69.8,4664.15,2020.9,null,1164.05,6869.7,1618.2,4888.2,3334.95,3471.1,1410.25,749.35,762.1,7726.35,533.5,696.8,1842.8,3303.05,6332.75,2659.4,69.75,5586.45,3479.05,4853.75,24.2,57.5,363.15,834.1,3778.0,600.15,883.35,1655.35,873.4,50.65,4285.8,1816.2,5610.15,3013.05,106.85,4438.2,1806.35,1710.15,2130.45,835.15,962.25,219.5,4451.85,890.5,1882.8,2015.35,1712.9,20.15,340.35,1138.8,8086.4,1359.5,5832.65,93.55,3496.3,7611.55,1128.1,927.35,679.55,3735.45,3326.2,7430.75,3753.2,2656.3,5500.6,340.85,168.5,445.95,1614.2,1386.9,461.7,3686.05,931.9,4176.7,92.45,3770.0,522.35,6215.35,990.3,3640.45,460.25,2283.15,8196.4,3038.55,6595.9,3482.85,424.75,95.85,202.3,111.4,1051.05,830.25,223.15,79.8,1706.45,434.8,4747.85,215.25,6910.3,1794.8,1834.95,232.4,2965.75,582.5,1311.3,69.55,1718.95,163.6,377.85,2768.65,5348.65,751.65,1498.35,5038.15,78.25,4895.1,2391.15,498.25,137.1,1411.35,487.95,2768.35,6194.1,548.9,8543.25,5974.3,383.55,4158.25,898.35,6479.4,117.8,1444.05,5708.2,7609.75,4135.0,3316.1,20.9,620.55,1931.75,723.35,24.4,672.55,4391.25,4729.75,4519.5,246.3,168.15,1779.95,1776.55,2395.7,949.85,1183.05,82.7,454.0,789.55,7634.8,901.25,1376.5,373.5,824.85,1165.55,3600.65,1050.5,4016.85,4972.1,538.5,3090.65,313.0,938.95,7544.0,1198.05,369.05,4889.3,86.6,2848.45,1714.95,319.6,512.45,391.7,3473.4,1052.4,3183.4,1397.3,6126.15,1175.6,494.05,1563.95,5265.2,452.35,2854.55,6510.45,1422.65,4589.85,2552.9,5308.7,3042.25,3389.25,1284.2,8349.45,293.65,334.8,157.55,6700.05,6786.1,2404.85,3946.9,3229.4,1993.2,683.75,653.9,1048.85,851.2,19.65,7737.55,4614.55,170.9,727.85,36.55,6302.85,8244.3,2049.05,1988.05,3958.25,1612.75,5082.8,780.5,438.4,113.95,3244.4,617.15,6109.75,5714.2,3046.15,7069.25,4925.35,5121.75,436.2,52.2,71.15,490.65,5567.45,3902.6,185.2,474.8,5742.9,2276.95,3273.8,6688.95,3691.2,7806.5,519.15,4065.0,930.4,1219.85,3201.55,1676.95,4929.55,19.9,518.75,29.9,417.75,331.35,92.65,1226.45,8129.3,3334.9,1237.85,2045.55,79.65,1451.6,418.3,1790.65,55.55,2763.0,33.2,76.35,6382.55,3533.6,37.2,1509.8,1879.25,4322.85,19.4,3472.05,309.25,187.35,4122.65,209.1,3145.15,6991.9,1642.75,257.05,3706.95,2901.8,50.8,7922.75,7348.8,515.75,2135.5,25.4,3846.35,6885.75,4959.6,5311.85,20.7,867.3,6993.65,811.65,579.4,3007.25,450.9,95.6,2642.05,300.4,741.4,5317.8,2333.05,1664.3,1734.5,5084.65,1266.35,472.25,969.85,535.35,7459.0,543.8,74.7,2595.85,2209.15,139.35,483.15,765.45,2649.15,1704.95,5017.9,24.6,876.75,5234.95,225.75,1937.4,842.25,6547.7,300.8,439.75,4812.75,630.6,918.6,3160.55,980.35,197.7,836.35,4820.15,2322.85,973.95,6252.9,45.1,1043.3,357.15,7491.75,4517.25,4144.8,813.85,251.65,1208.35,759.55,2198.9,1564.4,19.3,1167.8,5662.25,308.25,4984.85,315.3,1468.75,371.4,4547.25,4747.65,5064.45,2470.1,357.75,50.05,2230.85,172.85,3808.0,4676.7,20.45,82.85,3043.7,7422.1,4533.7,69.55,42.9,5943.65,1747.2,205.05,79.1,4872.45,340.25,79.6,45.05,1783.6,61.45,1471.75,1769.6,5602.25,994.8,2627.35,775.3,1718.2,552.65,605.45,196.9,1381.8,1008.55,534.7,19.9,119.3,2044.75,91.1,235.0,284.9,4014.2,2169.4,6201.95,19.55,4689.15,1559.15,676.35,78.8,3729.75,490.55,79.45,69.1,1559.45,872.65,2728.6,128.6,3540.65,93.7,164.5,1742.45,937.5,69.6,19.45,731.3,1494.5,467.85,1208.6,1753.0,6873.75,221.7,6668.35,399.25,1047.7,4882.8,94.4,2813.05,4824.45,3014.65,995.35,2511.55,1111.2,1692.6,1125.6,411.15,335.4,4735.2,45.4,302.45,4188.4,825.1,1043.4,7553.6,1759.55,2911.5,1162.85,2607.6,301.4,1043.35,2007.85,1346.9,1261.7,1630.4,1898.1,1242.45,1380.4,96.1,68.45,1496.45,7111.3,3395.8,4475.9,1070.15,1016.7,1715.15,86.05,39.85,2921.75,933.3,1842.7,2553.7,2933.95,4507.15,7856.0,4378.8,1024.0,4508.65,1021.8,832.05,1622.45,1747.85,929.2,6014.85,25.0,330.6,2257.75,1078.9,5610.7,2016.3,855.1,4297.6,6496.15,262.05,5293.95,1021.75,4861.45,362.6,5244.45,8594.4,632.2,4245.55,8013.55,1982.1,70.25,30.5,235.05,7040.85,514.6,1752.55,68.8,4534.45,1005.7,1990.5,4931.8,930.05,2287.25,4040.2,7878.3,358.05,1756.2,1597.4,3008.55,3616.25,786.3,89.15,800.3,473.9,198.7,6068.65,908.75,5129.3,426.65,458.1,1423.85,5124.55,389.6,1381.2,6347.55,220.95,471.85,2095.0,134.05,1033.95,1249.25,7349.35,1411.2,5774.55,272.2,25.25,295.65,5154.5,6585.2,921.55,1096.6,3875.4,7853.7,6474.45,3512.15,4860.35,6770.5,6816.95,7690.9,1070.25,69.65,415.95,1556.85,231.45,7031.3,2483.65,470.0,19.7,394.1,3969.35,501.35,351.55,90.35,5890.0,6976.75,2338.35,406.05,2566.5,879.8,6652.45,770.5,967.85,5440.9,536.35,1316.9,571.15,529.5,3632.0,4653.85,1321.3,1864.65,1992.2,3377.8,7317.1,662.65,1951.0,1167.8,979.5,962.9,4323.45,1874.45,639.7,7009.5,3249.4,475.25,276.5,3190.65,8684.8,6223.3,1520.9,3858.05,1013.2,857.2,1093.0,658.95,153.3,1468.9,2191.15,5981.65,1374.35,684.4,4155.95,6223.8,1035.7,492.0,19.2,5637.85,1160.45,2722.2,7251.7,1059.55,1070.7,5487.0,85.8,2568.55,8041.65,8670.1,254.5,863.1,5903.15,1893.5,6339.45,144.55,416.4,7015.9,82.15,2188.45,55.05,2215.25,1375.6],\"x0\":\" \",\"xaxis\":\"x\",\"y0\":\" \",\"yaxis\":\"y\",\"type\":\"box\"}],                        {\"template\":{\"data\":{\"histogram2dcontour\":[{\"type\":\"histogram2dcontour\",\"colorbar\":{\"outlinewidth\":0,\"ticks\":\"\"},\"colorscale\":[[0.0,\"#0d0887\"],[0.1111111111111111,\"#46039f\"],[0.2222222222222222,\"#7201a8\"],[0.3333333333333333,\"#9c179e\"],[0.4444444444444444,\"#bd3786\"],[0.5555555555555556,\"#d8576b\"],[0.6666666666666666,\"#ed7953\"],[0.7777777777777778,\"#fb9f3a\"],[0.8888888888888888,\"#fdca26\"],[1.0,\"#f0f921\"]]}],\"choropleth\":[{\"type\":\"choropleth\",\"colorbar\":{\"outlinewidth\":0,\"ticks\":\"\"}}],\"histogram2d\":[{\"type\":\"histogram2d\",\"colorbar\":{\"outlinewidth\":0,\"ticks\":\"\"},\"colorscale\":[[0.0,\"#0d0887\"],[0.1111111111111111,\"#46039f\"],[0.2222222222222222,\"#7201a8\"],[0.3333333333333333,\"#9c179e\"],[0.4444444444444444,\"#bd3786\"],[0.5555555555555556,\"#d8576b\"],[0.6666666666666666,\"#ed7953\"],[0.7777777777777778,\"#fb9f3a\"],[0.8888888888888888,\"#fdca26\"],[1.0,\"#f0f921\"]]}],\"heatmap\":[{\"type\":\"heatmap\",\"colorbar\":{\"outlinewidth\":0,\"ticks\":\"\"},\"colorscale\":[[0.0,\"#0d0887\"],[0.1111111111111111,\"#46039f\"],[0.2222222222222222,\"#7201a8\"],[0.3333333333333333,\"#9c179e\"],[0.4444444444444444,\"#bd3786\"],[0.5555555555555556,\"#d8576b\"],[0.6666666666666666,\"#ed7953\"],[0.7777777777777778,\"#fb9f3a\"],[0.8888888888888888,\"#fdca26\"],[1.0,\"#f0f921\"]]}],\"heatmapgl\":[{\"type\":\"heatmapgl\",\"colorbar\":{\"outlinewidth\":0,\"ticks\":\"\"},\"colorscale\":[[0.0,\"#0d0887\"],[0.1111111111111111,\"#46039f\"],[0.2222222222222222,\"#7201a8\"],[0.3333333333333333,\"#9c179e\"],[0.4444444444444444,\"#bd3786\"],[0.5555555555555556,\"#d8576b\"],[0.6666666666666666,\"#ed7953\"],[0.7777777777777778,\"#fb9f3a\"],[0.8888888888888888,\"#fdca26\"],[1.0,\"#f0f921\"]]}],\"contourcarpet\":[{\"type\":\"contourcarpet\",\"colorbar\":{\"outlinewidth\":0,\"ticks\":\"\"}}],\"contour\":[{\"type\":\"contour\",\"colorbar\":{\"outlinewidth\":0,\"ticks\":\"\"},\"colorscale\":[[0.0,\"#0d0887\"],[0.1111111111111111,\"#46039f\"],[0.2222222222222222,\"#7201a8\"],[0.3333333333333333,\"#9c179e\"],[0.4444444444444444,\"#bd3786\"],[0.5555555555555556,\"#d8576b\"],[0.6666666666666666,\"#ed7953\"],[0.7777777777777778,\"#fb9f3a\"],[0.8888888888888888,\"#fdca26\"],[1.0,\"#f0f921\"]]}],\"surface\":[{\"type\":\"surface\",\"colorbar\":{\"outlinewidth\":0,\"ticks\":\"\"},\"colorscale\":[[0.0,\"#0d0887\"],[0.1111111111111111,\"#46039f\"],[0.2222222222222222,\"#7201a8\"],[0.3333333333333333,\"#9c179e\"],[0.4444444444444444,\"#bd3786\"],[0.5555555555555556,\"#d8576b\"],[0.6666666666666666,\"#ed7953\"],[0.7777777777777778,\"#fb9f3a\"],[0.8888888888888888,\"#fdca26\"],[1.0,\"#f0f921\"]]}],\"mesh3d\":[{\"type\":\"mesh3d\",\"colorbar\":{\"outlinewidth\":0,\"ticks\":\"\"}}],\"scatter\":[{\"fillpattern\":{\"fillmode\":\"overlay\",\"size\":10,\"solidity\":0.2},\"type\":\"scatter\"}],\"parcoords\":[{\"type\":\"parcoords\",\"line\":{\"colorbar\":{\"outlinewidth\":0,\"ticks\":\"\"}}}],\"scatterpolargl\":[{\"type\":\"scatterpolargl\",\"marker\":{\"colorbar\":{\"outlinewidth\":0,\"ticks\":\"\"}}}],\"bar\":[{\"error_x\":{\"color\":\"#2a3f5f\"},\"error_y\":{\"color\":\"#2a3f5f\"},\"marker\":{\"line\":{\"color\":\"#E5ECF6\",\"width\":0.5},\"pattern\":{\"fillmode\":\"overlay\",\"size\":10,\"solidity\":0.2}},\"type\":\"bar\"}],\"scattergeo\":[{\"type\":\"scattergeo\",\"marker\":{\"colorbar\":{\"outlinewidth\":0,\"ticks\":\"\"}}}],\"scatterpolar\":[{\"type\":\"scatterpolar\",\"marker\":{\"colorbar\":{\"outlinewidth\":0,\"ticks\":\"\"}}}],\"histogram\":[{\"marker\":{\"pattern\":{\"fillmode\":\"overlay\",\"size\":10,\"solidity\":0.2}},\"type\":\"histogram\"}],\"scattergl\":[{\"type\":\"scattergl\",\"marker\":{\"colorbar\":{\"outlinewidth\":0,\"ticks\":\"\"}}}],\"scatter3d\":[{\"type\":\"scatter3d\",\"line\":{\"colorbar\":{\"outlinewidth\":0,\"ticks\":\"\"}},\"marker\":{\"colorbar\":{\"outlinewidth\":0,\"ticks\":\"\"}}}],\"scattermapbox\":[{\"type\":\"scattermapbox\",\"marker\":{\"colorbar\":{\"outlinewidth\":0,\"ticks\":\"\"}}}],\"scatterternary\":[{\"type\":\"scatterternary\",\"marker\":{\"colorbar\":{\"outlinewidth\":0,\"ticks\":\"\"}}}],\"scattercarpet\":[{\"type\":\"scattercarpet\",\"marker\":{\"colorbar\":{\"outlinewidth\":0,\"ticks\":\"\"}}}],\"carpet\":[{\"aaxis\":{\"endlinecolor\":\"#2a3f5f\",\"gridcolor\":\"white\",\"linecolor\":\"white\",\"minorgridcolor\":\"white\",\"startlinecolor\":\"#2a3f5f\"},\"baxis\":{\"endlinecolor\":\"#2a3f5f\",\"gridcolor\":\"white\",\"linecolor\":\"white\",\"minorgridcolor\":\"white\",\"startlinecolor\":\"#2a3f5f\"},\"type\":\"carpet\"}],\"table\":[{\"cells\":{\"fill\":{\"color\":\"#EBF0F8\"},\"line\":{\"color\":\"white\"}},\"header\":{\"fill\":{\"color\":\"#C8D4E3\"},\"line\":{\"color\":\"white\"}},\"type\":\"table\"}],\"barpolar\":[{\"marker\":{\"line\":{\"color\":\"#E5ECF6\",\"width\":0.5},\"pattern\":{\"fillmode\":\"overlay\",\"size\":10,\"solidity\":0.2}},\"type\":\"barpolar\"}],\"pie\":[{\"automargin\":true,\"type\":\"pie\"}]},\"layout\":{\"autotypenumbers\":\"strict\",\"colorway\":[\"#636efa\",\"#EF553B\",\"#00cc96\",\"#ab63fa\",\"#FFA15A\",\"#19d3f3\",\"#FF6692\",\"#B6E880\",\"#FF97FF\",\"#FECB52\"],\"font\":{\"color\":\"#2a3f5f\"},\"hovermode\":\"closest\",\"hoverlabel\":{\"align\":\"left\"},\"paper_bgcolor\":\"white\",\"plot_bgcolor\":\"#E5ECF6\",\"polar\":{\"bgcolor\":\"#E5ECF6\",\"angularaxis\":{\"gridcolor\":\"white\",\"linecolor\":\"white\",\"ticks\":\"\"},\"radialaxis\":{\"gridcolor\":\"white\",\"linecolor\":\"white\",\"ticks\":\"\"}},\"ternary\":{\"bgcolor\":\"#E5ECF6\",\"aaxis\":{\"gridcolor\":\"white\",\"linecolor\":\"white\",\"ticks\":\"\"},\"baxis\":{\"gridcolor\":\"white\",\"linecolor\":\"white\",\"ticks\":\"\"},\"caxis\":{\"gridcolor\":\"white\",\"linecolor\":\"white\",\"ticks\":\"\"}},\"coloraxis\":{\"colorbar\":{\"outlinewidth\":0,\"ticks\":\"\"}},\"colorscale\":{\"sequential\":[[0.0,\"#0d0887\"],[0.1111111111111111,\"#46039f\"],[0.2222222222222222,\"#7201a8\"],[0.3333333333333333,\"#9c179e\"],[0.4444444444444444,\"#bd3786\"],[0.5555555555555556,\"#d8576b\"],[0.6666666666666666,\"#ed7953\"],[0.7777777777777778,\"#fb9f3a\"],[0.8888888888888888,\"#fdca26\"],[1.0,\"#f0f921\"]],\"sequentialminus\":[[0.0,\"#0d0887\"],[0.1111111111111111,\"#46039f\"],[0.2222222222222222,\"#7201a8\"],[0.3333333333333333,\"#9c179e\"],[0.4444444444444444,\"#bd3786\"],[0.5555555555555556,\"#d8576b\"],[0.6666666666666666,\"#ed7953\"],[0.7777777777777778,\"#fb9f3a\"],[0.8888888888888888,\"#fdca26\"],[1.0,\"#f0f921\"]],\"diverging\":[[0,\"#8e0152\"],[0.1,\"#c51b7d\"],[0.2,\"#de77ae\"],[0.3,\"#f1b6da\"],[0.4,\"#fde0ef\"],[0.5,\"#f7f7f7\"],[0.6,\"#e6f5d0\"],[0.7,\"#b8e186\"],[0.8,\"#7fbc41\"],[0.9,\"#4d9221\"],[1,\"#276419\"]]},\"xaxis\":{\"gridcolor\":\"white\",\"linecolor\":\"white\",\"ticks\":\"\",\"title\":{\"standoff\":15},\"zerolinecolor\":\"white\",\"automargin\":true,\"zerolinewidth\":2},\"yaxis\":{\"gridcolor\":\"white\",\"linecolor\":\"white\",\"ticks\":\"\",\"title\":{\"standoff\":15},\"zerolinecolor\":\"white\",\"automargin\":true,\"zerolinewidth\":2},\"scene\":{\"xaxis\":{\"backgroundcolor\":\"#E5ECF6\",\"gridcolor\":\"white\",\"linecolor\":\"white\",\"showbackground\":true,\"ticks\":\"\",\"zerolinecolor\":\"white\",\"gridwidth\":2},\"yaxis\":{\"backgroundcolor\":\"#E5ECF6\",\"gridcolor\":\"white\",\"linecolor\":\"white\",\"showbackground\":true,\"ticks\":\"\",\"zerolinecolor\":\"white\",\"gridwidth\":2},\"zaxis\":{\"backgroundcolor\":\"#E5ECF6\",\"gridcolor\":\"white\",\"linecolor\":\"white\",\"showbackground\":true,\"ticks\":\"\",\"zerolinecolor\":\"white\",\"gridwidth\":2}},\"shapedefaults\":{\"line\":{\"color\":\"#2a3f5f\"}},\"annotationdefaults\":{\"arrowcolor\":\"#2a3f5f\",\"arrowhead\":0,\"arrowwidth\":1},\"geo\":{\"bgcolor\":\"white\",\"landcolor\":\"#E5ECF6\",\"subunitcolor\":\"white\",\"showland\":true,\"showlakes\":true,\"lakecolor\":\"white\"},\"title\":{\"x\":0.05},\"mapbox\":{\"style\":\"light\"}}},\"xaxis\":{\"anchor\":\"y\",\"domain\":[0.0,1.0],\"title\":{\"text\":\"TotalSpent\"}},\"yaxis\":{\"anchor\":\"x\",\"domain\":[0.0,1.0]},\"legend\":{\"tracegroupgap\":0},\"margin\":{\"t\":60},\"boxmode\":\"group\"},                        {\"responsive\": true}                    ).then(function(){\n",
              "                            \n",
              "var gd = document.getElementById('0d517525-d013-423f-a7b7-898e1efc2ba4');\n",
              "var x = new MutationObserver(function (mutations, observer) {{\n",
              "        var display = window.getComputedStyle(gd).display;\n",
              "        if (!display || display === 'none') {{\n",
              "            console.log([gd, 'removed!']);\n",
              "            Plotly.purge(gd);\n",
              "            observer.disconnect();\n",
              "        }}\n",
              "}});\n",
              "\n",
              "// Listen for the removal of the full notebook cells\n",
              "var notebookContainer = gd.closest('#notebook-container');\n",
              "if (notebookContainer) {{\n",
              "    x.observe(notebookContainer, {childList: true});\n",
              "}}\n",
              "\n",
              "// Listen for the clearing of the current output cell\n",
              "var outputEl = gd.closest('.output');\n",
              "if (outputEl) {{\n",
              "    x.observe(outputEl, {childList: true});\n",
              "}}\n",
              "\n",
              "                        })                };                            </script>        </div>\n",
              "</body>\n",
              "</html>"
            ]
          },
          "metadata": {}
        }
      ]
    },
    {
      "cell_type": "code",
      "source": [
        "# кол-во значений для категориальных\n",
        "for col in cat_cols:\n",
        "  print(f\"{col} \\n{data[col].value_counts()} \\n\")\n",
        "  d = pd.DataFrame(data[col].value_counts()).reset_index().rename(columns={'index' : col, col : 'count'})\n",
        "  fig = go.Figure(data=[go.Pie(labels=d[col], values=d['count'])])\n",
        "  fig.show()"
      ],
      "metadata": {
        "colab": {
          "base_uri": "https://localhost:8080/",
          "height": 1000
        },
        "id": "1UM4I4sjGBik",
        "outputId": "af1c0946-cb35-4fd5-fa24-40c66ac04106"
      },
      "execution_count": null,
      "outputs": [
        {
          "output_type": "stream",
          "name": "stdout",
          "text": [
            "Sex \n",
            "Male      2655\n",
            "Female    2627\n",
            "Name: Sex, dtype: int64 \n",
            "\n"
          ]
        },
        {
          "output_type": "display_data",
          "data": {
            "text/html": [
              "<html>\n",
              "<head><meta charset=\"utf-8\" /></head>\n",
              "<body>\n",
              "    <div>            <script src=\"https://cdnjs.cloudflare.com/ajax/libs/mathjax/2.7.5/MathJax.js?config=TeX-AMS-MML_SVG\"></script><script type=\"text/javascript\">if (window.MathJax && window.MathJax.Hub && window.MathJax.Hub.Config) {window.MathJax.Hub.Config({SVG: {font: \"STIX-Web\"}});}</script>                <script type=\"text/javascript\">window.PlotlyConfig = {MathJaxConfig: 'local'};</script>\n",
              "        <script charset=\"utf-8\" src=\"https://cdn.plot.ly/plotly-2.24.1.min.js\"></script>                <div id=\"d0f1afe0-882d-4e1d-9501-4745524b1999\" class=\"plotly-graph-div\" style=\"height:525px; width:100%;\"></div>            <script type=\"text/javascript\">                                    window.PLOTLYENV=window.PLOTLYENV || {};                                    if (document.getElementById(\"d0f1afe0-882d-4e1d-9501-4745524b1999\")) {                    Plotly.newPlot(                        \"d0f1afe0-882d-4e1d-9501-4745524b1999\",                        [{\"labels\":[\"Male\",\"Female\"],\"values\":[2655,2627],\"type\":\"pie\"}],                        {\"template\":{\"data\":{\"histogram2dcontour\":[{\"type\":\"histogram2dcontour\",\"colorbar\":{\"outlinewidth\":0,\"ticks\":\"\"},\"colorscale\":[[0.0,\"#0d0887\"],[0.1111111111111111,\"#46039f\"],[0.2222222222222222,\"#7201a8\"],[0.3333333333333333,\"#9c179e\"],[0.4444444444444444,\"#bd3786\"],[0.5555555555555556,\"#d8576b\"],[0.6666666666666666,\"#ed7953\"],[0.7777777777777778,\"#fb9f3a\"],[0.8888888888888888,\"#fdca26\"],[1.0,\"#f0f921\"]]}],\"choropleth\":[{\"type\":\"choropleth\",\"colorbar\":{\"outlinewidth\":0,\"ticks\":\"\"}}],\"histogram2d\":[{\"type\":\"histogram2d\",\"colorbar\":{\"outlinewidth\":0,\"ticks\":\"\"},\"colorscale\":[[0.0,\"#0d0887\"],[0.1111111111111111,\"#46039f\"],[0.2222222222222222,\"#7201a8\"],[0.3333333333333333,\"#9c179e\"],[0.4444444444444444,\"#bd3786\"],[0.5555555555555556,\"#d8576b\"],[0.6666666666666666,\"#ed7953\"],[0.7777777777777778,\"#fb9f3a\"],[0.8888888888888888,\"#fdca26\"],[1.0,\"#f0f921\"]]}],\"heatmap\":[{\"type\":\"heatmap\",\"colorbar\":{\"outlinewidth\":0,\"ticks\":\"\"},\"colorscale\":[[0.0,\"#0d0887\"],[0.1111111111111111,\"#46039f\"],[0.2222222222222222,\"#7201a8\"],[0.3333333333333333,\"#9c179e\"],[0.4444444444444444,\"#bd3786\"],[0.5555555555555556,\"#d8576b\"],[0.6666666666666666,\"#ed7953\"],[0.7777777777777778,\"#fb9f3a\"],[0.8888888888888888,\"#fdca26\"],[1.0,\"#f0f921\"]]}],\"heatmapgl\":[{\"type\":\"heatmapgl\",\"colorbar\":{\"outlinewidth\":0,\"ticks\":\"\"},\"colorscale\":[[0.0,\"#0d0887\"],[0.1111111111111111,\"#46039f\"],[0.2222222222222222,\"#7201a8\"],[0.3333333333333333,\"#9c179e\"],[0.4444444444444444,\"#bd3786\"],[0.5555555555555556,\"#d8576b\"],[0.6666666666666666,\"#ed7953\"],[0.7777777777777778,\"#fb9f3a\"],[0.8888888888888888,\"#fdca26\"],[1.0,\"#f0f921\"]]}],\"contourcarpet\":[{\"type\":\"contourcarpet\",\"colorbar\":{\"outlinewidth\":0,\"ticks\":\"\"}}],\"contour\":[{\"type\":\"contour\",\"colorbar\":{\"outlinewidth\":0,\"ticks\":\"\"},\"colorscale\":[[0.0,\"#0d0887\"],[0.1111111111111111,\"#46039f\"],[0.2222222222222222,\"#7201a8\"],[0.3333333333333333,\"#9c179e\"],[0.4444444444444444,\"#bd3786\"],[0.5555555555555556,\"#d8576b\"],[0.6666666666666666,\"#ed7953\"],[0.7777777777777778,\"#fb9f3a\"],[0.8888888888888888,\"#fdca26\"],[1.0,\"#f0f921\"]]}],\"surface\":[{\"type\":\"surface\",\"colorbar\":{\"outlinewidth\":0,\"ticks\":\"\"},\"colorscale\":[[0.0,\"#0d0887\"],[0.1111111111111111,\"#46039f\"],[0.2222222222222222,\"#7201a8\"],[0.3333333333333333,\"#9c179e\"],[0.4444444444444444,\"#bd3786\"],[0.5555555555555556,\"#d8576b\"],[0.6666666666666666,\"#ed7953\"],[0.7777777777777778,\"#fb9f3a\"],[0.8888888888888888,\"#fdca26\"],[1.0,\"#f0f921\"]]}],\"mesh3d\":[{\"type\":\"mesh3d\",\"colorbar\":{\"outlinewidth\":0,\"ticks\":\"\"}}],\"scatter\":[{\"fillpattern\":{\"fillmode\":\"overlay\",\"size\":10,\"solidity\":0.2},\"type\":\"scatter\"}],\"parcoords\":[{\"type\":\"parcoords\",\"line\":{\"colorbar\":{\"outlinewidth\":0,\"ticks\":\"\"}}}],\"scatterpolargl\":[{\"type\":\"scatterpolargl\",\"marker\":{\"colorbar\":{\"outlinewidth\":0,\"ticks\":\"\"}}}],\"bar\":[{\"error_x\":{\"color\":\"#2a3f5f\"},\"error_y\":{\"color\":\"#2a3f5f\"},\"marker\":{\"line\":{\"color\":\"#E5ECF6\",\"width\":0.5},\"pattern\":{\"fillmode\":\"overlay\",\"size\":10,\"solidity\":0.2}},\"type\":\"bar\"}],\"scattergeo\":[{\"type\":\"scattergeo\",\"marker\":{\"colorbar\":{\"outlinewidth\":0,\"ticks\":\"\"}}}],\"scatterpolar\":[{\"type\":\"scatterpolar\",\"marker\":{\"colorbar\":{\"outlinewidth\":0,\"ticks\":\"\"}}}],\"histogram\":[{\"marker\":{\"pattern\":{\"fillmode\":\"overlay\",\"size\":10,\"solidity\":0.2}},\"type\":\"histogram\"}],\"scattergl\":[{\"type\":\"scattergl\",\"marker\":{\"colorbar\":{\"outlinewidth\":0,\"ticks\":\"\"}}}],\"scatter3d\":[{\"type\":\"scatter3d\",\"line\":{\"colorbar\":{\"outlinewidth\":0,\"ticks\":\"\"}},\"marker\":{\"colorbar\":{\"outlinewidth\":0,\"ticks\":\"\"}}}],\"scattermapbox\":[{\"type\":\"scattermapbox\",\"marker\":{\"colorbar\":{\"outlinewidth\":0,\"ticks\":\"\"}}}],\"scatterternary\":[{\"type\":\"scatterternary\",\"marker\":{\"colorbar\":{\"outlinewidth\":0,\"ticks\":\"\"}}}],\"scattercarpet\":[{\"type\":\"scattercarpet\",\"marker\":{\"colorbar\":{\"outlinewidth\":0,\"ticks\":\"\"}}}],\"carpet\":[{\"aaxis\":{\"endlinecolor\":\"#2a3f5f\",\"gridcolor\":\"white\",\"linecolor\":\"white\",\"minorgridcolor\":\"white\",\"startlinecolor\":\"#2a3f5f\"},\"baxis\":{\"endlinecolor\":\"#2a3f5f\",\"gridcolor\":\"white\",\"linecolor\":\"white\",\"minorgridcolor\":\"white\",\"startlinecolor\":\"#2a3f5f\"},\"type\":\"carpet\"}],\"table\":[{\"cells\":{\"fill\":{\"color\":\"#EBF0F8\"},\"line\":{\"color\":\"white\"}},\"header\":{\"fill\":{\"color\":\"#C8D4E3\"},\"line\":{\"color\":\"white\"}},\"type\":\"table\"}],\"barpolar\":[{\"marker\":{\"line\":{\"color\":\"#E5ECF6\",\"width\":0.5},\"pattern\":{\"fillmode\":\"overlay\",\"size\":10,\"solidity\":0.2}},\"type\":\"barpolar\"}],\"pie\":[{\"automargin\":true,\"type\":\"pie\"}]},\"layout\":{\"autotypenumbers\":\"strict\",\"colorway\":[\"#636efa\",\"#EF553B\",\"#00cc96\",\"#ab63fa\",\"#FFA15A\",\"#19d3f3\",\"#FF6692\",\"#B6E880\",\"#FF97FF\",\"#FECB52\"],\"font\":{\"color\":\"#2a3f5f\"},\"hovermode\":\"closest\",\"hoverlabel\":{\"align\":\"left\"},\"paper_bgcolor\":\"white\",\"plot_bgcolor\":\"#E5ECF6\",\"polar\":{\"bgcolor\":\"#E5ECF6\",\"angularaxis\":{\"gridcolor\":\"white\",\"linecolor\":\"white\",\"ticks\":\"\"},\"radialaxis\":{\"gridcolor\":\"white\",\"linecolor\":\"white\",\"ticks\":\"\"}},\"ternary\":{\"bgcolor\":\"#E5ECF6\",\"aaxis\":{\"gridcolor\":\"white\",\"linecolor\":\"white\",\"ticks\":\"\"},\"baxis\":{\"gridcolor\":\"white\",\"linecolor\":\"white\",\"ticks\":\"\"},\"caxis\":{\"gridcolor\":\"white\",\"linecolor\":\"white\",\"ticks\":\"\"}},\"coloraxis\":{\"colorbar\":{\"outlinewidth\":0,\"ticks\":\"\"}},\"colorscale\":{\"sequential\":[[0.0,\"#0d0887\"],[0.1111111111111111,\"#46039f\"],[0.2222222222222222,\"#7201a8\"],[0.3333333333333333,\"#9c179e\"],[0.4444444444444444,\"#bd3786\"],[0.5555555555555556,\"#d8576b\"],[0.6666666666666666,\"#ed7953\"],[0.7777777777777778,\"#fb9f3a\"],[0.8888888888888888,\"#fdca26\"],[1.0,\"#f0f921\"]],\"sequentialminus\":[[0.0,\"#0d0887\"],[0.1111111111111111,\"#46039f\"],[0.2222222222222222,\"#7201a8\"],[0.3333333333333333,\"#9c179e\"],[0.4444444444444444,\"#bd3786\"],[0.5555555555555556,\"#d8576b\"],[0.6666666666666666,\"#ed7953\"],[0.7777777777777778,\"#fb9f3a\"],[0.8888888888888888,\"#fdca26\"],[1.0,\"#f0f921\"]],\"diverging\":[[0,\"#8e0152\"],[0.1,\"#c51b7d\"],[0.2,\"#de77ae\"],[0.3,\"#f1b6da\"],[0.4,\"#fde0ef\"],[0.5,\"#f7f7f7\"],[0.6,\"#e6f5d0\"],[0.7,\"#b8e186\"],[0.8,\"#7fbc41\"],[0.9,\"#4d9221\"],[1,\"#276419\"]]},\"xaxis\":{\"gridcolor\":\"white\",\"linecolor\":\"white\",\"ticks\":\"\",\"title\":{\"standoff\":15},\"zerolinecolor\":\"white\",\"automargin\":true,\"zerolinewidth\":2},\"yaxis\":{\"gridcolor\":\"white\",\"linecolor\":\"white\",\"ticks\":\"\",\"title\":{\"standoff\":15},\"zerolinecolor\":\"white\",\"automargin\":true,\"zerolinewidth\":2},\"scene\":{\"xaxis\":{\"backgroundcolor\":\"#E5ECF6\",\"gridcolor\":\"white\",\"linecolor\":\"white\",\"showbackground\":true,\"ticks\":\"\",\"zerolinecolor\":\"white\",\"gridwidth\":2},\"yaxis\":{\"backgroundcolor\":\"#E5ECF6\",\"gridcolor\":\"white\",\"linecolor\":\"white\",\"showbackground\":true,\"ticks\":\"\",\"zerolinecolor\":\"white\",\"gridwidth\":2},\"zaxis\":{\"backgroundcolor\":\"#E5ECF6\",\"gridcolor\":\"white\",\"linecolor\":\"white\",\"showbackground\":true,\"ticks\":\"\",\"zerolinecolor\":\"white\",\"gridwidth\":2}},\"shapedefaults\":{\"line\":{\"color\":\"#2a3f5f\"}},\"annotationdefaults\":{\"arrowcolor\":\"#2a3f5f\",\"arrowhead\":0,\"arrowwidth\":1},\"geo\":{\"bgcolor\":\"white\",\"landcolor\":\"#E5ECF6\",\"subunitcolor\":\"white\",\"showland\":true,\"showlakes\":true,\"lakecolor\":\"white\"},\"title\":{\"x\":0.05},\"mapbox\":{\"style\":\"light\"}}}},                        {\"responsive\": true}                    ).then(function(){\n",
              "                            \n",
              "var gd = document.getElementById('d0f1afe0-882d-4e1d-9501-4745524b1999');\n",
              "var x = new MutationObserver(function (mutations, observer) {{\n",
              "        var display = window.getComputedStyle(gd).display;\n",
              "        if (!display || display === 'none') {{\n",
              "            console.log([gd, 'removed!']);\n",
              "            Plotly.purge(gd);\n",
              "            observer.disconnect();\n",
              "        }}\n",
              "}});\n",
              "\n",
              "// Listen for the removal of the full notebook cells\n",
              "var notebookContainer = gd.closest('#notebook-container');\n",
              "if (notebookContainer) {{\n",
              "    x.observe(notebookContainer, {childList: true});\n",
              "}}\n",
              "\n",
              "// Listen for the clearing of the current output cell\n",
              "var outputEl = gd.closest('.output');\n",
              "if (outputEl) {{\n",
              "    x.observe(outputEl, {childList: true});\n",
              "}}\n",
              "\n",
              "                        })                };                            </script>        </div>\n",
              "</body>\n",
              "</html>"
            ]
          },
          "metadata": {}
        },
        {
          "output_type": "stream",
          "name": "stdout",
          "text": [
            "IsSeniorCitizen \n",
            "0    4440\n",
            "1     842\n",
            "Name: IsSeniorCitizen, dtype: int64 \n",
            "\n"
          ]
        },
        {
          "output_type": "display_data",
          "data": {
            "text/html": [
              "<html>\n",
              "<head><meta charset=\"utf-8\" /></head>\n",
              "<body>\n",
              "    <div>            <script src=\"https://cdnjs.cloudflare.com/ajax/libs/mathjax/2.7.5/MathJax.js?config=TeX-AMS-MML_SVG\"></script><script type=\"text/javascript\">if (window.MathJax && window.MathJax.Hub && window.MathJax.Hub.Config) {window.MathJax.Hub.Config({SVG: {font: \"STIX-Web\"}});}</script>                <script type=\"text/javascript\">window.PlotlyConfig = {MathJaxConfig: 'local'};</script>\n",
              "        <script charset=\"utf-8\" src=\"https://cdn.plot.ly/plotly-2.24.1.min.js\"></script>                <div id=\"2f24e6b4-fc9f-4e73-bfb7-a94a97d0c9a6\" class=\"plotly-graph-div\" style=\"height:525px; width:100%;\"></div>            <script type=\"text/javascript\">                                    window.PLOTLYENV=window.PLOTLYENV || {};                                    if (document.getElementById(\"2f24e6b4-fc9f-4e73-bfb7-a94a97d0c9a6\")) {                    Plotly.newPlot(                        \"2f24e6b4-fc9f-4e73-bfb7-a94a97d0c9a6\",                        [{\"labels\":[0,1],\"values\":[4440,842],\"type\":\"pie\"}],                        {\"template\":{\"data\":{\"histogram2dcontour\":[{\"type\":\"histogram2dcontour\",\"colorbar\":{\"outlinewidth\":0,\"ticks\":\"\"},\"colorscale\":[[0.0,\"#0d0887\"],[0.1111111111111111,\"#46039f\"],[0.2222222222222222,\"#7201a8\"],[0.3333333333333333,\"#9c179e\"],[0.4444444444444444,\"#bd3786\"],[0.5555555555555556,\"#d8576b\"],[0.6666666666666666,\"#ed7953\"],[0.7777777777777778,\"#fb9f3a\"],[0.8888888888888888,\"#fdca26\"],[1.0,\"#f0f921\"]]}],\"choropleth\":[{\"type\":\"choropleth\",\"colorbar\":{\"outlinewidth\":0,\"ticks\":\"\"}}],\"histogram2d\":[{\"type\":\"histogram2d\",\"colorbar\":{\"outlinewidth\":0,\"ticks\":\"\"},\"colorscale\":[[0.0,\"#0d0887\"],[0.1111111111111111,\"#46039f\"],[0.2222222222222222,\"#7201a8\"],[0.3333333333333333,\"#9c179e\"],[0.4444444444444444,\"#bd3786\"],[0.5555555555555556,\"#d8576b\"],[0.6666666666666666,\"#ed7953\"],[0.7777777777777778,\"#fb9f3a\"],[0.8888888888888888,\"#fdca26\"],[1.0,\"#f0f921\"]]}],\"heatmap\":[{\"type\":\"heatmap\",\"colorbar\":{\"outlinewidth\":0,\"ticks\":\"\"},\"colorscale\":[[0.0,\"#0d0887\"],[0.1111111111111111,\"#46039f\"],[0.2222222222222222,\"#7201a8\"],[0.3333333333333333,\"#9c179e\"],[0.4444444444444444,\"#bd3786\"],[0.5555555555555556,\"#d8576b\"],[0.6666666666666666,\"#ed7953\"],[0.7777777777777778,\"#fb9f3a\"],[0.8888888888888888,\"#fdca26\"],[1.0,\"#f0f921\"]]}],\"heatmapgl\":[{\"type\":\"heatmapgl\",\"colorbar\":{\"outlinewidth\":0,\"ticks\":\"\"},\"colorscale\":[[0.0,\"#0d0887\"],[0.1111111111111111,\"#46039f\"],[0.2222222222222222,\"#7201a8\"],[0.3333333333333333,\"#9c179e\"],[0.4444444444444444,\"#bd3786\"],[0.5555555555555556,\"#d8576b\"],[0.6666666666666666,\"#ed7953\"],[0.7777777777777778,\"#fb9f3a\"],[0.8888888888888888,\"#fdca26\"],[1.0,\"#f0f921\"]]}],\"contourcarpet\":[{\"type\":\"contourcarpet\",\"colorbar\":{\"outlinewidth\":0,\"ticks\":\"\"}}],\"contour\":[{\"type\":\"contour\",\"colorbar\":{\"outlinewidth\":0,\"ticks\":\"\"},\"colorscale\":[[0.0,\"#0d0887\"],[0.1111111111111111,\"#46039f\"],[0.2222222222222222,\"#7201a8\"],[0.3333333333333333,\"#9c179e\"],[0.4444444444444444,\"#bd3786\"],[0.5555555555555556,\"#d8576b\"],[0.6666666666666666,\"#ed7953\"],[0.7777777777777778,\"#fb9f3a\"],[0.8888888888888888,\"#fdca26\"],[1.0,\"#f0f921\"]]}],\"surface\":[{\"type\":\"surface\",\"colorbar\":{\"outlinewidth\":0,\"ticks\":\"\"},\"colorscale\":[[0.0,\"#0d0887\"],[0.1111111111111111,\"#46039f\"],[0.2222222222222222,\"#7201a8\"],[0.3333333333333333,\"#9c179e\"],[0.4444444444444444,\"#bd3786\"],[0.5555555555555556,\"#d8576b\"],[0.6666666666666666,\"#ed7953\"],[0.7777777777777778,\"#fb9f3a\"],[0.8888888888888888,\"#fdca26\"],[1.0,\"#f0f921\"]]}],\"mesh3d\":[{\"type\":\"mesh3d\",\"colorbar\":{\"outlinewidth\":0,\"ticks\":\"\"}}],\"scatter\":[{\"fillpattern\":{\"fillmode\":\"overlay\",\"size\":10,\"solidity\":0.2},\"type\":\"scatter\"}],\"parcoords\":[{\"type\":\"parcoords\",\"line\":{\"colorbar\":{\"outlinewidth\":0,\"ticks\":\"\"}}}],\"scatterpolargl\":[{\"type\":\"scatterpolargl\",\"marker\":{\"colorbar\":{\"outlinewidth\":0,\"ticks\":\"\"}}}],\"bar\":[{\"error_x\":{\"color\":\"#2a3f5f\"},\"error_y\":{\"color\":\"#2a3f5f\"},\"marker\":{\"line\":{\"color\":\"#E5ECF6\",\"width\":0.5},\"pattern\":{\"fillmode\":\"overlay\",\"size\":10,\"solidity\":0.2}},\"type\":\"bar\"}],\"scattergeo\":[{\"type\":\"scattergeo\",\"marker\":{\"colorbar\":{\"outlinewidth\":0,\"ticks\":\"\"}}}],\"scatterpolar\":[{\"type\":\"scatterpolar\",\"marker\":{\"colorbar\":{\"outlinewidth\":0,\"ticks\":\"\"}}}],\"histogram\":[{\"marker\":{\"pattern\":{\"fillmode\":\"overlay\",\"size\":10,\"solidity\":0.2}},\"type\":\"histogram\"}],\"scattergl\":[{\"type\":\"scattergl\",\"marker\":{\"colorbar\":{\"outlinewidth\":0,\"ticks\":\"\"}}}],\"scatter3d\":[{\"type\":\"scatter3d\",\"line\":{\"colorbar\":{\"outlinewidth\":0,\"ticks\":\"\"}},\"marker\":{\"colorbar\":{\"outlinewidth\":0,\"ticks\":\"\"}}}],\"scattermapbox\":[{\"type\":\"scattermapbox\",\"marker\":{\"colorbar\":{\"outlinewidth\":0,\"ticks\":\"\"}}}],\"scatterternary\":[{\"type\":\"scatterternary\",\"marker\":{\"colorbar\":{\"outlinewidth\":0,\"ticks\":\"\"}}}],\"scattercarpet\":[{\"type\":\"scattercarpet\",\"marker\":{\"colorbar\":{\"outlinewidth\":0,\"ticks\":\"\"}}}],\"carpet\":[{\"aaxis\":{\"endlinecolor\":\"#2a3f5f\",\"gridcolor\":\"white\",\"linecolor\":\"white\",\"minorgridcolor\":\"white\",\"startlinecolor\":\"#2a3f5f\"},\"baxis\":{\"endlinecolor\":\"#2a3f5f\",\"gridcolor\":\"white\",\"linecolor\":\"white\",\"minorgridcolor\":\"white\",\"startlinecolor\":\"#2a3f5f\"},\"type\":\"carpet\"}],\"table\":[{\"cells\":{\"fill\":{\"color\":\"#EBF0F8\"},\"line\":{\"color\":\"white\"}},\"header\":{\"fill\":{\"color\":\"#C8D4E3\"},\"line\":{\"color\":\"white\"}},\"type\":\"table\"}],\"barpolar\":[{\"marker\":{\"line\":{\"color\":\"#E5ECF6\",\"width\":0.5},\"pattern\":{\"fillmode\":\"overlay\",\"size\":10,\"solidity\":0.2}},\"type\":\"barpolar\"}],\"pie\":[{\"automargin\":true,\"type\":\"pie\"}]},\"layout\":{\"autotypenumbers\":\"strict\",\"colorway\":[\"#636efa\",\"#EF553B\",\"#00cc96\",\"#ab63fa\",\"#FFA15A\",\"#19d3f3\",\"#FF6692\",\"#B6E880\",\"#FF97FF\",\"#FECB52\"],\"font\":{\"color\":\"#2a3f5f\"},\"hovermode\":\"closest\",\"hoverlabel\":{\"align\":\"left\"},\"paper_bgcolor\":\"white\",\"plot_bgcolor\":\"#E5ECF6\",\"polar\":{\"bgcolor\":\"#E5ECF6\",\"angularaxis\":{\"gridcolor\":\"white\",\"linecolor\":\"white\",\"ticks\":\"\"},\"radialaxis\":{\"gridcolor\":\"white\",\"linecolor\":\"white\",\"ticks\":\"\"}},\"ternary\":{\"bgcolor\":\"#E5ECF6\",\"aaxis\":{\"gridcolor\":\"white\",\"linecolor\":\"white\",\"ticks\":\"\"},\"baxis\":{\"gridcolor\":\"white\",\"linecolor\":\"white\",\"ticks\":\"\"},\"caxis\":{\"gridcolor\":\"white\",\"linecolor\":\"white\",\"ticks\":\"\"}},\"coloraxis\":{\"colorbar\":{\"outlinewidth\":0,\"ticks\":\"\"}},\"colorscale\":{\"sequential\":[[0.0,\"#0d0887\"],[0.1111111111111111,\"#46039f\"],[0.2222222222222222,\"#7201a8\"],[0.3333333333333333,\"#9c179e\"],[0.4444444444444444,\"#bd3786\"],[0.5555555555555556,\"#d8576b\"],[0.6666666666666666,\"#ed7953\"],[0.7777777777777778,\"#fb9f3a\"],[0.8888888888888888,\"#fdca26\"],[1.0,\"#f0f921\"]],\"sequentialminus\":[[0.0,\"#0d0887\"],[0.1111111111111111,\"#46039f\"],[0.2222222222222222,\"#7201a8\"],[0.3333333333333333,\"#9c179e\"],[0.4444444444444444,\"#bd3786\"],[0.5555555555555556,\"#d8576b\"],[0.6666666666666666,\"#ed7953\"],[0.7777777777777778,\"#fb9f3a\"],[0.8888888888888888,\"#fdca26\"],[1.0,\"#f0f921\"]],\"diverging\":[[0,\"#8e0152\"],[0.1,\"#c51b7d\"],[0.2,\"#de77ae\"],[0.3,\"#f1b6da\"],[0.4,\"#fde0ef\"],[0.5,\"#f7f7f7\"],[0.6,\"#e6f5d0\"],[0.7,\"#b8e186\"],[0.8,\"#7fbc41\"],[0.9,\"#4d9221\"],[1,\"#276419\"]]},\"xaxis\":{\"gridcolor\":\"white\",\"linecolor\":\"white\",\"ticks\":\"\",\"title\":{\"standoff\":15},\"zerolinecolor\":\"white\",\"automargin\":true,\"zerolinewidth\":2},\"yaxis\":{\"gridcolor\":\"white\",\"linecolor\":\"white\",\"ticks\":\"\",\"title\":{\"standoff\":15},\"zerolinecolor\":\"white\",\"automargin\":true,\"zerolinewidth\":2},\"scene\":{\"xaxis\":{\"backgroundcolor\":\"#E5ECF6\",\"gridcolor\":\"white\",\"linecolor\":\"white\",\"showbackground\":true,\"ticks\":\"\",\"zerolinecolor\":\"white\",\"gridwidth\":2},\"yaxis\":{\"backgroundcolor\":\"#E5ECF6\",\"gridcolor\":\"white\",\"linecolor\":\"white\",\"showbackground\":true,\"ticks\":\"\",\"zerolinecolor\":\"white\",\"gridwidth\":2},\"zaxis\":{\"backgroundcolor\":\"#E5ECF6\",\"gridcolor\":\"white\",\"linecolor\":\"white\",\"showbackground\":true,\"ticks\":\"\",\"zerolinecolor\":\"white\",\"gridwidth\":2}},\"shapedefaults\":{\"line\":{\"color\":\"#2a3f5f\"}},\"annotationdefaults\":{\"arrowcolor\":\"#2a3f5f\",\"arrowhead\":0,\"arrowwidth\":1},\"geo\":{\"bgcolor\":\"white\",\"landcolor\":\"#E5ECF6\",\"subunitcolor\":\"white\",\"showland\":true,\"showlakes\":true,\"lakecolor\":\"white\"},\"title\":{\"x\":0.05},\"mapbox\":{\"style\":\"light\"}}}},                        {\"responsive\": true}                    ).then(function(){\n",
              "                            \n",
              "var gd = document.getElementById('2f24e6b4-fc9f-4e73-bfb7-a94a97d0c9a6');\n",
              "var x = new MutationObserver(function (mutations, observer) {{\n",
              "        var display = window.getComputedStyle(gd).display;\n",
              "        if (!display || display === 'none') {{\n",
              "            console.log([gd, 'removed!']);\n",
              "            Plotly.purge(gd);\n",
              "            observer.disconnect();\n",
              "        }}\n",
              "}});\n",
              "\n",
              "// Listen for the removal of the full notebook cells\n",
              "var notebookContainer = gd.closest('#notebook-container');\n",
              "if (notebookContainer) {{\n",
              "    x.observe(notebookContainer, {childList: true});\n",
              "}}\n",
              "\n",
              "// Listen for the clearing of the current output cell\n",
              "var outputEl = gd.closest('.output');\n",
              "if (outputEl) {{\n",
              "    x.observe(outputEl, {childList: true});\n",
              "}}\n",
              "\n",
              "                        })                };                            </script>        </div>\n",
              "</body>\n",
              "</html>"
            ]
          },
          "metadata": {}
        },
        {
          "output_type": "stream",
          "name": "stdout",
          "text": [
            "HasPartner \n",
            "No     2705\n",
            "Yes    2577\n",
            "Name: HasPartner, dtype: int64 \n",
            "\n"
          ]
        },
        {
          "output_type": "display_data",
          "data": {
            "text/html": [
              "<html>\n",
              "<head><meta charset=\"utf-8\" /></head>\n",
              "<body>\n",
              "    <div>            <script src=\"https://cdnjs.cloudflare.com/ajax/libs/mathjax/2.7.5/MathJax.js?config=TeX-AMS-MML_SVG\"></script><script type=\"text/javascript\">if (window.MathJax && window.MathJax.Hub && window.MathJax.Hub.Config) {window.MathJax.Hub.Config({SVG: {font: \"STIX-Web\"}});}</script>                <script type=\"text/javascript\">window.PlotlyConfig = {MathJaxConfig: 'local'};</script>\n",
              "        <script charset=\"utf-8\" src=\"https://cdn.plot.ly/plotly-2.24.1.min.js\"></script>                <div id=\"b8117f1d-1dfd-4988-b05b-f4c16c177b78\" class=\"plotly-graph-div\" style=\"height:525px; width:100%;\"></div>            <script type=\"text/javascript\">                                    window.PLOTLYENV=window.PLOTLYENV || {};                                    if (document.getElementById(\"b8117f1d-1dfd-4988-b05b-f4c16c177b78\")) {                    Plotly.newPlot(                        \"b8117f1d-1dfd-4988-b05b-f4c16c177b78\",                        [{\"labels\":[\"No\",\"Yes\"],\"values\":[2705,2577],\"type\":\"pie\"}],                        {\"template\":{\"data\":{\"histogram2dcontour\":[{\"type\":\"histogram2dcontour\",\"colorbar\":{\"outlinewidth\":0,\"ticks\":\"\"},\"colorscale\":[[0.0,\"#0d0887\"],[0.1111111111111111,\"#46039f\"],[0.2222222222222222,\"#7201a8\"],[0.3333333333333333,\"#9c179e\"],[0.4444444444444444,\"#bd3786\"],[0.5555555555555556,\"#d8576b\"],[0.6666666666666666,\"#ed7953\"],[0.7777777777777778,\"#fb9f3a\"],[0.8888888888888888,\"#fdca26\"],[1.0,\"#f0f921\"]]}],\"choropleth\":[{\"type\":\"choropleth\",\"colorbar\":{\"outlinewidth\":0,\"ticks\":\"\"}}],\"histogram2d\":[{\"type\":\"histogram2d\",\"colorbar\":{\"outlinewidth\":0,\"ticks\":\"\"},\"colorscale\":[[0.0,\"#0d0887\"],[0.1111111111111111,\"#46039f\"],[0.2222222222222222,\"#7201a8\"],[0.3333333333333333,\"#9c179e\"],[0.4444444444444444,\"#bd3786\"],[0.5555555555555556,\"#d8576b\"],[0.6666666666666666,\"#ed7953\"],[0.7777777777777778,\"#fb9f3a\"],[0.8888888888888888,\"#fdca26\"],[1.0,\"#f0f921\"]]}],\"heatmap\":[{\"type\":\"heatmap\",\"colorbar\":{\"outlinewidth\":0,\"ticks\":\"\"},\"colorscale\":[[0.0,\"#0d0887\"],[0.1111111111111111,\"#46039f\"],[0.2222222222222222,\"#7201a8\"],[0.3333333333333333,\"#9c179e\"],[0.4444444444444444,\"#bd3786\"],[0.5555555555555556,\"#d8576b\"],[0.6666666666666666,\"#ed7953\"],[0.7777777777777778,\"#fb9f3a\"],[0.8888888888888888,\"#fdca26\"],[1.0,\"#f0f921\"]]}],\"heatmapgl\":[{\"type\":\"heatmapgl\",\"colorbar\":{\"outlinewidth\":0,\"ticks\":\"\"},\"colorscale\":[[0.0,\"#0d0887\"],[0.1111111111111111,\"#46039f\"],[0.2222222222222222,\"#7201a8\"],[0.3333333333333333,\"#9c179e\"],[0.4444444444444444,\"#bd3786\"],[0.5555555555555556,\"#d8576b\"],[0.6666666666666666,\"#ed7953\"],[0.7777777777777778,\"#fb9f3a\"],[0.8888888888888888,\"#fdca26\"],[1.0,\"#f0f921\"]]}],\"contourcarpet\":[{\"type\":\"contourcarpet\",\"colorbar\":{\"outlinewidth\":0,\"ticks\":\"\"}}],\"contour\":[{\"type\":\"contour\",\"colorbar\":{\"outlinewidth\":0,\"ticks\":\"\"},\"colorscale\":[[0.0,\"#0d0887\"],[0.1111111111111111,\"#46039f\"],[0.2222222222222222,\"#7201a8\"],[0.3333333333333333,\"#9c179e\"],[0.4444444444444444,\"#bd3786\"],[0.5555555555555556,\"#d8576b\"],[0.6666666666666666,\"#ed7953\"],[0.7777777777777778,\"#fb9f3a\"],[0.8888888888888888,\"#fdca26\"],[1.0,\"#f0f921\"]]}],\"surface\":[{\"type\":\"surface\",\"colorbar\":{\"outlinewidth\":0,\"ticks\":\"\"},\"colorscale\":[[0.0,\"#0d0887\"],[0.1111111111111111,\"#46039f\"],[0.2222222222222222,\"#7201a8\"],[0.3333333333333333,\"#9c179e\"],[0.4444444444444444,\"#bd3786\"],[0.5555555555555556,\"#d8576b\"],[0.6666666666666666,\"#ed7953\"],[0.7777777777777778,\"#fb9f3a\"],[0.8888888888888888,\"#fdca26\"],[1.0,\"#f0f921\"]]}],\"mesh3d\":[{\"type\":\"mesh3d\",\"colorbar\":{\"outlinewidth\":0,\"ticks\":\"\"}}],\"scatter\":[{\"fillpattern\":{\"fillmode\":\"overlay\",\"size\":10,\"solidity\":0.2},\"type\":\"scatter\"}],\"parcoords\":[{\"type\":\"parcoords\",\"line\":{\"colorbar\":{\"outlinewidth\":0,\"ticks\":\"\"}}}],\"scatterpolargl\":[{\"type\":\"scatterpolargl\",\"marker\":{\"colorbar\":{\"outlinewidth\":0,\"ticks\":\"\"}}}],\"bar\":[{\"error_x\":{\"color\":\"#2a3f5f\"},\"error_y\":{\"color\":\"#2a3f5f\"},\"marker\":{\"line\":{\"color\":\"#E5ECF6\",\"width\":0.5},\"pattern\":{\"fillmode\":\"overlay\",\"size\":10,\"solidity\":0.2}},\"type\":\"bar\"}],\"scattergeo\":[{\"type\":\"scattergeo\",\"marker\":{\"colorbar\":{\"outlinewidth\":0,\"ticks\":\"\"}}}],\"scatterpolar\":[{\"type\":\"scatterpolar\",\"marker\":{\"colorbar\":{\"outlinewidth\":0,\"ticks\":\"\"}}}],\"histogram\":[{\"marker\":{\"pattern\":{\"fillmode\":\"overlay\",\"size\":10,\"solidity\":0.2}},\"type\":\"histogram\"}],\"scattergl\":[{\"type\":\"scattergl\",\"marker\":{\"colorbar\":{\"outlinewidth\":0,\"ticks\":\"\"}}}],\"scatter3d\":[{\"type\":\"scatter3d\",\"line\":{\"colorbar\":{\"outlinewidth\":0,\"ticks\":\"\"}},\"marker\":{\"colorbar\":{\"outlinewidth\":0,\"ticks\":\"\"}}}],\"scattermapbox\":[{\"type\":\"scattermapbox\",\"marker\":{\"colorbar\":{\"outlinewidth\":0,\"ticks\":\"\"}}}],\"scatterternary\":[{\"type\":\"scatterternary\",\"marker\":{\"colorbar\":{\"outlinewidth\":0,\"ticks\":\"\"}}}],\"scattercarpet\":[{\"type\":\"scattercarpet\",\"marker\":{\"colorbar\":{\"outlinewidth\":0,\"ticks\":\"\"}}}],\"carpet\":[{\"aaxis\":{\"endlinecolor\":\"#2a3f5f\",\"gridcolor\":\"white\",\"linecolor\":\"white\",\"minorgridcolor\":\"white\",\"startlinecolor\":\"#2a3f5f\"},\"baxis\":{\"endlinecolor\":\"#2a3f5f\",\"gridcolor\":\"white\",\"linecolor\":\"white\",\"minorgridcolor\":\"white\",\"startlinecolor\":\"#2a3f5f\"},\"type\":\"carpet\"}],\"table\":[{\"cells\":{\"fill\":{\"color\":\"#EBF0F8\"},\"line\":{\"color\":\"white\"}},\"header\":{\"fill\":{\"color\":\"#C8D4E3\"},\"line\":{\"color\":\"white\"}},\"type\":\"table\"}],\"barpolar\":[{\"marker\":{\"line\":{\"color\":\"#E5ECF6\",\"width\":0.5},\"pattern\":{\"fillmode\":\"overlay\",\"size\":10,\"solidity\":0.2}},\"type\":\"barpolar\"}],\"pie\":[{\"automargin\":true,\"type\":\"pie\"}]},\"layout\":{\"autotypenumbers\":\"strict\",\"colorway\":[\"#636efa\",\"#EF553B\",\"#00cc96\",\"#ab63fa\",\"#FFA15A\",\"#19d3f3\",\"#FF6692\",\"#B6E880\",\"#FF97FF\",\"#FECB52\"],\"font\":{\"color\":\"#2a3f5f\"},\"hovermode\":\"closest\",\"hoverlabel\":{\"align\":\"left\"},\"paper_bgcolor\":\"white\",\"plot_bgcolor\":\"#E5ECF6\",\"polar\":{\"bgcolor\":\"#E5ECF6\",\"angularaxis\":{\"gridcolor\":\"white\",\"linecolor\":\"white\",\"ticks\":\"\"},\"radialaxis\":{\"gridcolor\":\"white\",\"linecolor\":\"white\",\"ticks\":\"\"}},\"ternary\":{\"bgcolor\":\"#E5ECF6\",\"aaxis\":{\"gridcolor\":\"white\",\"linecolor\":\"white\",\"ticks\":\"\"},\"baxis\":{\"gridcolor\":\"white\",\"linecolor\":\"white\",\"ticks\":\"\"},\"caxis\":{\"gridcolor\":\"white\",\"linecolor\":\"white\",\"ticks\":\"\"}},\"coloraxis\":{\"colorbar\":{\"outlinewidth\":0,\"ticks\":\"\"}},\"colorscale\":{\"sequential\":[[0.0,\"#0d0887\"],[0.1111111111111111,\"#46039f\"],[0.2222222222222222,\"#7201a8\"],[0.3333333333333333,\"#9c179e\"],[0.4444444444444444,\"#bd3786\"],[0.5555555555555556,\"#d8576b\"],[0.6666666666666666,\"#ed7953\"],[0.7777777777777778,\"#fb9f3a\"],[0.8888888888888888,\"#fdca26\"],[1.0,\"#f0f921\"]],\"sequentialminus\":[[0.0,\"#0d0887\"],[0.1111111111111111,\"#46039f\"],[0.2222222222222222,\"#7201a8\"],[0.3333333333333333,\"#9c179e\"],[0.4444444444444444,\"#bd3786\"],[0.5555555555555556,\"#d8576b\"],[0.6666666666666666,\"#ed7953\"],[0.7777777777777778,\"#fb9f3a\"],[0.8888888888888888,\"#fdca26\"],[1.0,\"#f0f921\"]],\"diverging\":[[0,\"#8e0152\"],[0.1,\"#c51b7d\"],[0.2,\"#de77ae\"],[0.3,\"#f1b6da\"],[0.4,\"#fde0ef\"],[0.5,\"#f7f7f7\"],[0.6,\"#e6f5d0\"],[0.7,\"#b8e186\"],[0.8,\"#7fbc41\"],[0.9,\"#4d9221\"],[1,\"#276419\"]]},\"xaxis\":{\"gridcolor\":\"white\",\"linecolor\":\"white\",\"ticks\":\"\",\"title\":{\"standoff\":15},\"zerolinecolor\":\"white\",\"automargin\":true,\"zerolinewidth\":2},\"yaxis\":{\"gridcolor\":\"white\",\"linecolor\":\"white\",\"ticks\":\"\",\"title\":{\"standoff\":15},\"zerolinecolor\":\"white\",\"automargin\":true,\"zerolinewidth\":2},\"scene\":{\"xaxis\":{\"backgroundcolor\":\"#E5ECF6\",\"gridcolor\":\"white\",\"linecolor\":\"white\",\"showbackground\":true,\"ticks\":\"\",\"zerolinecolor\":\"white\",\"gridwidth\":2},\"yaxis\":{\"backgroundcolor\":\"#E5ECF6\",\"gridcolor\":\"white\",\"linecolor\":\"white\",\"showbackground\":true,\"ticks\":\"\",\"zerolinecolor\":\"white\",\"gridwidth\":2},\"zaxis\":{\"backgroundcolor\":\"#E5ECF6\",\"gridcolor\":\"white\",\"linecolor\":\"white\",\"showbackground\":true,\"ticks\":\"\",\"zerolinecolor\":\"white\",\"gridwidth\":2}},\"shapedefaults\":{\"line\":{\"color\":\"#2a3f5f\"}},\"annotationdefaults\":{\"arrowcolor\":\"#2a3f5f\",\"arrowhead\":0,\"arrowwidth\":1},\"geo\":{\"bgcolor\":\"white\",\"landcolor\":\"#E5ECF6\",\"subunitcolor\":\"white\",\"showland\":true,\"showlakes\":true,\"lakecolor\":\"white\"},\"title\":{\"x\":0.05},\"mapbox\":{\"style\":\"light\"}}}},                        {\"responsive\": true}                    ).then(function(){\n",
              "                            \n",
              "var gd = document.getElementById('b8117f1d-1dfd-4988-b05b-f4c16c177b78');\n",
              "var x = new MutationObserver(function (mutations, observer) {{\n",
              "        var display = window.getComputedStyle(gd).display;\n",
              "        if (!display || display === 'none') {{\n",
              "            console.log([gd, 'removed!']);\n",
              "            Plotly.purge(gd);\n",
              "            observer.disconnect();\n",
              "        }}\n",
              "}});\n",
              "\n",
              "// Listen for the removal of the full notebook cells\n",
              "var notebookContainer = gd.closest('#notebook-container');\n",
              "if (notebookContainer) {{\n",
              "    x.observe(notebookContainer, {childList: true});\n",
              "}}\n",
              "\n",
              "// Listen for the clearing of the current output cell\n",
              "var outputEl = gd.closest('.output');\n",
              "if (outputEl) {{\n",
              "    x.observe(outputEl, {childList: true});\n",
              "}}\n",
              "\n",
              "                        })                };                            </script>        </div>\n",
              "</body>\n",
              "</html>"
            ]
          },
          "metadata": {}
        },
        {
          "output_type": "stream",
          "name": "stdout",
          "text": [
            "HasChild \n",
            "No     3676\n",
            "Yes    1606\n",
            "Name: HasChild, dtype: int64 \n",
            "\n"
          ]
        },
        {
          "output_type": "display_data",
          "data": {
            "text/html": [
              "<html>\n",
              "<head><meta charset=\"utf-8\" /></head>\n",
              "<body>\n",
              "    <div>            <script src=\"https://cdnjs.cloudflare.com/ajax/libs/mathjax/2.7.5/MathJax.js?config=TeX-AMS-MML_SVG\"></script><script type=\"text/javascript\">if (window.MathJax && window.MathJax.Hub && window.MathJax.Hub.Config) {window.MathJax.Hub.Config({SVG: {font: \"STIX-Web\"}});}</script>                <script type=\"text/javascript\">window.PlotlyConfig = {MathJaxConfig: 'local'};</script>\n",
              "        <script charset=\"utf-8\" src=\"https://cdn.plot.ly/plotly-2.24.1.min.js\"></script>                <div id=\"0dbd58de-f69f-45a9-8f9a-e32e88d19661\" class=\"plotly-graph-div\" style=\"height:525px; width:100%;\"></div>            <script type=\"text/javascript\">                                    window.PLOTLYENV=window.PLOTLYENV || {};                                    if (document.getElementById(\"0dbd58de-f69f-45a9-8f9a-e32e88d19661\")) {                    Plotly.newPlot(                        \"0dbd58de-f69f-45a9-8f9a-e32e88d19661\",                        [{\"labels\":[\"No\",\"Yes\"],\"values\":[3676,1606],\"type\":\"pie\"}],                        {\"template\":{\"data\":{\"histogram2dcontour\":[{\"type\":\"histogram2dcontour\",\"colorbar\":{\"outlinewidth\":0,\"ticks\":\"\"},\"colorscale\":[[0.0,\"#0d0887\"],[0.1111111111111111,\"#46039f\"],[0.2222222222222222,\"#7201a8\"],[0.3333333333333333,\"#9c179e\"],[0.4444444444444444,\"#bd3786\"],[0.5555555555555556,\"#d8576b\"],[0.6666666666666666,\"#ed7953\"],[0.7777777777777778,\"#fb9f3a\"],[0.8888888888888888,\"#fdca26\"],[1.0,\"#f0f921\"]]}],\"choropleth\":[{\"type\":\"choropleth\",\"colorbar\":{\"outlinewidth\":0,\"ticks\":\"\"}}],\"histogram2d\":[{\"type\":\"histogram2d\",\"colorbar\":{\"outlinewidth\":0,\"ticks\":\"\"},\"colorscale\":[[0.0,\"#0d0887\"],[0.1111111111111111,\"#46039f\"],[0.2222222222222222,\"#7201a8\"],[0.3333333333333333,\"#9c179e\"],[0.4444444444444444,\"#bd3786\"],[0.5555555555555556,\"#d8576b\"],[0.6666666666666666,\"#ed7953\"],[0.7777777777777778,\"#fb9f3a\"],[0.8888888888888888,\"#fdca26\"],[1.0,\"#f0f921\"]]}],\"heatmap\":[{\"type\":\"heatmap\",\"colorbar\":{\"outlinewidth\":0,\"ticks\":\"\"},\"colorscale\":[[0.0,\"#0d0887\"],[0.1111111111111111,\"#46039f\"],[0.2222222222222222,\"#7201a8\"],[0.3333333333333333,\"#9c179e\"],[0.4444444444444444,\"#bd3786\"],[0.5555555555555556,\"#d8576b\"],[0.6666666666666666,\"#ed7953\"],[0.7777777777777778,\"#fb9f3a\"],[0.8888888888888888,\"#fdca26\"],[1.0,\"#f0f921\"]]}],\"heatmapgl\":[{\"type\":\"heatmapgl\",\"colorbar\":{\"outlinewidth\":0,\"ticks\":\"\"},\"colorscale\":[[0.0,\"#0d0887\"],[0.1111111111111111,\"#46039f\"],[0.2222222222222222,\"#7201a8\"],[0.3333333333333333,\"#9c179e\"],[0.4444444444444444,\"#bd3786\"],[0.5555555555555556,\"#d8576b\"],[0.6666666666666666,\"#ed7953\"],[0.7777777777777778,\"#fb9f3a\"],[0.8888888888888888,\"#fdca26\"],[1.0,\"#f0f921\"]]}],\"contourcarpet\":[{\"type\":\"contourcarpet\",\"colorbar\":{\"outlinewidth\":0,\"ticks\":\"\"}}],\"contour\":[{\"type\":\"contour\",\"colorbar\":{\"outlinewidth\":0,\"ticks\":\"\"},\"colorscale\":[[0.0,\"#0d0887\"],[0.1111111111111111,\"#46039f\"],[0.2222222222222222,\"#7201a8\"],[0.3333333333333333,\"#9c179e\"],[0.4444444444444444,\"#bd3786\"],[0.5555555555555556,\"#d8576b\"],[0.6666666666666666,\"#ed7953\"],[0.7777777777777778,\"#fb9f3a\"],[0.8888888888888888,\"#fdca26\"],[1.0,\"#f0f921\"]]}],\"surface\":[{\"type\":\"surface\",\"colorbar\":{\"outlinewidth\":0,\"ticks\":\"\"},\"colorscale\":[[0.0,\"#0d0887\"],[0.1111111111111111,\"#46039f\"],[0.2222222222222222,\"#7201a8\"],[0.3333333333333333,\"#9c179e\"],[0.4444444444444444,\"#bd3786\"],[0.5555555555555556,\"#d8576b\"],[0.6666666666666666,\"#ed7953\"],[0.7777777777777778,\"#fb9f3a\"],[0.8888888888888888,\"#fdca26\"],[1.0,\"#f0f921\"]]}],\"mesh3d\":[{\"type\":\"mesh3d\",\"colorbar\":{\"outlinewidth\":0,\"ticks\":\"\"}}],\"scatter\":[{\"fillpattern\":{\"fillmode\":\"overlay\",\"size\":10,\"solidity\":0.2},\"type\":\"scatter\"}],\"parcoords\":[{\"type\":\"parcoords\",\"line\":{\"colorbar\":{\"outlinewidth\":0,\"ticks\":\"\"}}}],\"scatterpolargl\":[{\"type\":\"scatterpolargl\",\"marker\":{\"colorbar\":{\"outlinewidth\":0,\"ticks\":\"\"}}}],\"bar\":[{\"error_x\":{\"color\":\"#2a3f5f\"},\"error_y\":{\"color\":\"#2a3f5f\"},\"marker\":{\"line\":{\"color\":\"#E5ECF6\",\"width\":0.5},\"pattern\":{\"fillmode\":\"overlay\",\"size\":10,\"solidity\":0.2}},\"type\":\"bar\"}],\"scattergeo\":[{\"type\":\"scattergeo\",\"marker\":{\"colorbar\":{\"outlinewidth\":0,\"ticks\":\"\"}}}],\"scatterpolar\":[{\"type\":\"scatterpolar\",\"marker\":{\"colorbar\":{\"outlinewidth\":0,\"ticks\":\"\"}}}],\"histogram\":[{\"marker\":{\"pattern\":{\"fillmode\":\"overlay\",\"size\":10,\"solidity\":0.2}},\"type\":\"histogram\"}],\"scattergl\":[{\"type\":\"scattergl\",\"marker\":{\"colorbar\":{\"outlinewidth\":0,\"ticks\":\"\"}}}],\"scatter3d\":[{\"type\":\"scatter3d\",\"line\":{\"colorbar\":{\"outlinewidth\":0,\"ticks\":\"\"}},\"marker\":{\"colorbar\":{\"outlinewidth\":0,\"ticks\":\"\"}}}],\"scattermapbox\":[{\"type\":\"scattermapbox\",\"marker\":{\"colorbar\":{\"outlinewidth\":0,\"ticks\":\"\"}}}],\"scatterternary\":[{\"type\":\"scatterternary\",\"marker\":{\"colorbar\":{\"outlinewidth\":0,\"ticks\":\"\"}}}],\"scattercarpet\":[{\"type\":\"scattercarpet\",\"marker\":{\"colorbar\":{\"outlinewidth\":0,\"ticks\":\"\"}}}],\"carpet\":[{\"aaxis\":{\"endlinecolor\":\"#2a3f5f\",\"gridcolor\":\"white\",\"linecolor\":\"white\",\"minorgridcolor\":\"white\",\"startlinecolor\":\"#2a3f5f\"},\"baxis\":{\"endlinecolor\":\"#2a3f5f\",\"gridcolor\":\"white\",\"linecolor\":\"white\",\"minorgridcolor\":\"white\",\"startlinecolor\":\"#2a3f5f\"},\"type\":\"carpet\"}],\"table\":[{\"cells\":{\"fill\":{\"color\":\"#EBF0F8\"},\"line\":{\"color\":\"white\"}},\"header\":{\"fill\":{\"color\":\"#C8D4E3\"},\"line\":{\"color\":\"white\"}},\"type\":\"table\"}],\"barpolar\":[{\"marker\":{\"line\":{\"color\":\"#E5ECF6\",\"width\":0.5},\"pattern\":{\"fillmode\":\"overlay\",\"size\":10,\"solidity\":0.2}},\"type\":\"barpolar\"}],\"pie\":[{\"automargin\":true,\"type\":\"pie\"}]},\"layout\":{\"autotypenumbers\":\"strict\",\"colorway\":[\"#636efa\",\"#EF553B\",\"#00cc96\",\"#ab63fa\",\"#FFA15A\",\"#19d3f3\",\"#FF6692\",\"#B6E880\",\"#FF97FF\",\"#FECB52\"],\"font\":{\"color\":\"#2a3f5f\"},\"hovermode\":\"closest\",\"hoverlabel\":{\"align\":\"left\"},\"paper_bgcolor\":\"white\",\"plot_bgcolor\":\"#E5ECF6\",\"polar\":{\"bgcolor\":\"#E5ECF6\",\"angularaxis\":{\"gridcolor\":\"white\",\"linecolor\":\"white\",\"ticks\":\"\"},\"radialaxis\":{\"gridcolor\":\"white\",\"linecolor\":\"white\",\"ticks\":\"\"}},\"ternary\":{\"bgcolor\":\"#E5ECF6\",\"aaxis\":{\"gridcolor\":\"white\",\"linecolor\":\"white\",\"ticks\":\"\"},\"baxis\":{\"gridcolor\":\"white\",\"linecolor\":\"white\",\"ticks\":\"\"},\"caxis\":{\"gridcolor\":\"white\",\"linecolor\":\"white\",\"ticks\":\"\"}},\"coloraxis\":{\"colorbar\":{\"outlinewidth\":0,\"ticks\":\"\"}},\"colorscale\":{\"sequential\":[[0.0,\"#0d0887\"],[0.1111111111111111,\"#46039f\"],[0.2222222222222222,\"#7201a8\"],[0.3333333333333333,\"#9c179e\"],[0.4444444444444444,\"#bd3786\"],[0.5555555555555556,\"#d8576b\"],[0.6666666666666666,\"#ed7953\"],[0.7777777777777778,\"#fb9f3a\"],[0.8888888888888888,\"#fdca26\"],[1.0,\"#f0f921\"]],\"sequentialminus\":[[0.0,\"#0d0887\"],[0.1111111111111111,\"#46039f\"],[0.2222222222222222,\"#7201a8\"],[0.3333333333333333,\"#9c179e\"],[0.4444444444444444,\"#bd3786\"],[0.5555555555555556,\"#d8576b\"],[0.6666666666666666,\"#ed7953\"],[0.7777777777777778,\"#fb9f3a\"],[0.8888888888888888,\"#fdca26\"],[1.0,\"#f0f921\"]],\"diverging\":[[0,\"#8e0152\"],[0.1,\"#c51b7d\"],[0.2,\"#de77ae\"],[0.3,\"#f1b6da\"],[0.4,\"#fde0ef\"],[0.5,\"#f7f7f7\"],[0.6,\"#e6f5d0\"],[0.7,\"#b8e186\"],[0.8,\"#7fbc41\"],[0.9,\"#4d9221\"],[1,\"#276419\"]]},\"xaxis\":{\"gridcolor\":\"white\",\"linecolor\":\"white\",\"ticks\":\"\",\"title\":{\"standoff\":15},\"zerolinecolor\":\"white\",\"automargin\":true,\"zerolinewidth\":2},\"yaxis\":{\"gridcolor\":\"white\",\"linecolor\":\"white\",\"ticks\":\"\",\"title\":{\"standoff\":15},\"zerolinecolor\":\"white\",\"automargin\":true,\"zerolinewidth\":2},\"scene\":{\"xaxis\":{\"backgroundcolor\":\"#E5ECF6\",\"gridcolor\":\"white\",\"linecolor\":\"white\",\"showbackground\":true,\"ticks\":\"\",\"zerolinecolor\":\"white\",\"gridwidth\":2},\"yaxis\":{\"backgroundcolor\":\"#E5ECF6\",\"gridcolor\":\"white\",\"linecolor\":\"white\",\"showbackground\":true,\"ticks\":\"\",\"zerolinecolor\":\"white\",\"gridwidth\":2},\"zaxis\":{\"backgroundcolor\":\"#E5ECF6\",\"gridcolor\":\"white\",\"linecolor\":\"white\",\"showbackground\":true,\"ticks\":\"\",\"zerolinecolor\":\"white\",\"gridwidth\":2}},\"shapedefaults\":{\"line\":{\"color\":\"#2a3f5f\"}},\"annotationdefaults\":{\"arrowcolor\":\"#2a3f5f\",\"arrowhead\":0,\"arrowwidth\":1},\"geo\":{\"bgcolor\":\"white\",\"landcolor\":\"#E5ECF6\",\"subunitcolor\":\"white\",\"showland\":true,\"showlakes\":true,\"lakecolor\":\"white\"},\"title\":{\"x\":0.05},\"mapbox\":{\"style\":\"light\"}}}},                        {\"responsive\": true}                    ).then(function(){\n",
              "                            \n",
              "var gd = document.getElementById('0dbd58de-f69f-45a9-8f9a-e32e88d19661');\n",
              "var x = new MutationObserver(function (mutations, observer) {{\n",
              "        var display = window.getComputedStyle(gd).display;\n",
              "        if (!display || display === 'none') {{\n",
              "            console.log([gd, 'removed!']);\n",
              "            Plotly.purge(gd);\n",
              "            observer.disconnect();\n",
              "        }}\n",
              "}});\n",
              "\n",
              "// Listen for the removal of the full notebook cells\n",
              "var notebookContainer = gd.closest('#notebook-container');\n",
              "if (notebookContainer) {{\n",
              "    x.observe(notebookContainer, {childList: true});\n",
              "}}\n",
              "\n",
              "// Listen for the clearing of the current output cell\n",
              "var outputEl = gd.closest('.output');\n",
              "if (outputEl) {{\n",
              "    x.observe(outputEl, {childList: true});\n",
              "}}\n",
              "\n",
              "                        })                };                            </script>        </div>\n",
              "</body>\n",
              "</html>"
            ]
          },
          "metadata": {}
        },
        {
          "output_type": "stream",
          "name": "stdout",
          "text": [
            "HasPhoneService \n",
            "Yes    4761\n",
            "No      521\n",
            "Name: HasPhoneService, dtype: int64 \n",
            "\n"
          ]
        },
        {
          "output_type": "display_data",
          "data": {
            "text/html": [
              "<html>\n",
              "<head><meta charset=\"utf-8\" /></head>\n",
              "<body>\n",
              "    <div>            <script src=\"https://cdnjs.cloudflare.com/ajax/libs/mathjax/2.7.5/MathJax.js?config=TeX-AMS-MML_SVG\"></script><script type=\"text/javascript\">if (window.MathJax && window.MathJax.Hub && window.MathJax.Hub.Config) {window.MathJax.Hub.Config({SVG: {font: \"STIX-Web\"}});}</script>                <script type=\"text/javascript\">window.PlotlyConfig = {MathJaxConfig: 'local'};</script>\n",
              "        <script charset=\"utf-8\" src=\"https://cdn.plot.ly/plotly-2.24.1.min.js\"></script>                <div id=\"d8eee174-d380-4fd4-9123-77eebfc3df9f\" class=\"plotly-graph-div\" style=\"height:525px; width:100%;\"></div>            <script type=\"text/javascript\">                                    window.PLOTLYENV=window.PLOTLYENV || {};                                    if (document.getElementById(\"d8eee174-d380-4fd4-9123-77eebfc3df9f\")) {                    Plotly.newPlot(                        \"d8eee174-d380-4fd4-9123-77eebfc3df9f\",                        [{\"labels\":[\"Yes\",\"No\"],\"values\":[4761,521],\"type\":\"pie\"}],                        {\"template\":{\"data\":{\"histogram2dcontour\":[{\"type\":\"histogram2dcontour\",\"colorbar\":{\"outlinewidth\":0,\"ticks\":\"\"},\"colorscale\":[[0.0,\"#0d0887\"],[0.1111111111111111,\"#46039f\"],[0.2222222222222222,\"#7201a8\"],[0.3333333333333333,\"#9c179e\"],[0.4444444444444444,\"#bd3786\"],[0.5555555555555556,\"#d8576b\"],[0.6666666666666666,\"#ed7953\"],[0.7777777777777778,\"#fb9f3a\"],[0.8888888888888888,\"#fdca26\"],[1.0,\"#f0f921\"]]}],\"choropleth\":[{\"type\":\"choropleth\",\"colorbar\":{\"outlinewidth\":0,\"ticks\":\"\"}}],\"histogram2d\":[{\"type\":\"histogram2d\",\"colorbar\":{\"outlinewidth\":0,\"ticks\":\"\"},\"colorscale\":[[0.0,\"#0d0887\"],[0.1111111111111111,\"#46039f\"],[0.2222222222222222,\"#7201a8\"],[0.3333333333333333,\"#9c179e\"],[0.4444444444444444,\"#bd3786\"],[0.5555555555555556,\"#d8576b\"],[0.6666666666666666,\"#ed7953\"],[0.7777777777777778,\"#fb9f3a\"],[0.8888888888888888,\"#fdca26\"],[1.0,\"#f0f921\"]]}],\"heatmap\":[{\"type\":\"heatmap\",\"colorbar\":{\"outlinewidth\":0,\"ticks\":\"\"},\"colorscale\":[[0.0,\"#0d0887\"],[0.1111111111111111,\"#46039f\"],[0.2222222222222222,\"#7201a8\"],[0.3333333333333333,\"#9c179e\"],[0.4444444444444444,\"#bd3786\"],[0.5555555555555556,\"#d8576b\"],[0.6666666666666666,\"#ed7953\"],[0.7777777777777778,\"#fb9f3a\"],[0.8888888888888888,\"#fdca26\"],[1.0,\"#f0f921\"]]}],\"heatmapgl\":[{\"type\":\"heatmapgl\",\"colorbar\":{\"outlinewidth\":0,\"ticks\":\"\"},\"colorscale\":[[0.0,\"#0d0887\"],[0.1111111111111111,\"#46039f\"],[0.2222222222222222,\"#7201a8\"],[0.3333333333333333,\"#9c179e\"],[0.4444444444444444,\"#bd3786\"],[0.5555555555555556,\"#d8576b\"],[0.6666666666666666,\"#ed7953\"],[0.7777777777777778,\"#fb9f3a\"],[0.8888888888888888,\"#fdca26\"],[1.0,\"#f0f921\"]]}],\"contourcarpet\":[{\"type\":\"contourcarpet\",\"colorbar\":{\"outlinewidth\":0,\"ticks\":\"\"}}],\"contour\":[{\"type\":\"contour\",\"colorbar\":{\"outlinewidth\":0,\"ticks\":\"\"},\"colorscale\":[[0.0,\"#0d0887\"],[0.1111111111111111,\"#46039f\"],[0.2222222222222222,\"#7201a8\"],[0.3333333333333333,\"#9c179e\"],[0.4444444444444444,\"#bd3786\"],[0.5555555555555556,\"#d8576b\"],[0.6666666666666666,\"#ed7953\"],[0.7777777777777778,\"#fb9f3a\"],[0.8888888888888888,\"#fdca26\"],[1.0,\"#f0f921\"]]}],\"surface\":[{\"type\":\"surface\",\"colorbar\":{\"outlinewidth\":0,\"ticks\":\"\"},\"colorscale\":[[0.0,\"#0d0887\"],[0.1111111111111111,\"#46039f\"],[0.2222222222222222,\"#7201a8\"],[0.3333333333333333,\"#9c179e\"],[0.4444444444444444,\"#bd3786\"],[0.5555555555555556,\"#d8576b\"],[0.6666666666666666,\"#ed7953\"],[0.7777777777777778,\"#fb9f3a\"],[0.8888888888888888,\"#fdca26\"],[1.0,\"#f0f921\"]]}],\"mesh3d\":[{\"type\":\"mesh3d\",\"colorbar\":{\"outlinewidth\":0,\"ticks\":\"\"}}],\"scatter\":[{\"fillpattern\":{\"fillmode\":\"overlay\",\"size\":10,\"solidity\":0.2},\"type\":\"scatter\"}],\"parcoords\":[{\"type\":\"parcoords\",\"line\":{\"colorbar\":{\"outlinewidth\":0,\"ticks\":\"\"}}}],\"scatterpolargl\":[{\"type\":\"scatterpolargl\",\"marker\":{\"colorbar\":{\"outlinewidth\":0,\"ticks\":\"\"}}}],\"bar\":[{\"error_x\":{\"color\":\"#2a3f5f\"},\"error_y\":{\"color\":\"#2a3f5f\"},\"marker\":{\"line\":{\"color\":\"#E5ECF6\",\"width\":0.5},\"pattern\":{\"fillmode\":\"overlay\",\"size\":10,\"solidity\":0.2}},\"type\":\"bar\"}],\"scattergeo\":[{\"type\":\"scattergeo\",\"marker\":{\"colorbar\":{\"outlinewidth\":0,\"ticks\":\"\"}}}],\"scatterpolar\":[{\"type\":\"scatterpolar\",\"marker\":{\"colorbar\":{\"outlinewidth\":0,\"ticks\":\"\"}}}],\"histogram\":[{\"marker\":{\"pattern\":{\"fillmode\":\"overlay\",\"size\":10,\"solidity\":0.2}},\"type\":\"histogram\"}],\"scattergl\":[{\"type\":\"scattergl\",\"marker\":{\"colorbar\":{\"outlinewidth\":0,\"ticks\":\"\"}}}],\"scatter3d\":[{\"type\":\"scatter3d\",\"line\":{\"colorbar\":{\"outlinewidth\":0,\"ticks\":\"\"}},\"marker\":{\"colorbar\":{\"outlinewidth\":0,\"ticks\":\"\"}}}],\"scattermapbox\":[{\"type\":\"scattermapbox\",\"marker\":{\"colorbar\":{\"outlinewidth\":0,\"ticks\":\"\"}}}],\"scatterternary\":[{\"type\":\"scatterternary\",\"marker\":{\"colorbar\":{\"outlinewidth\":0,\"ticks\":\"\"}}}],\"scattercarpet\":[{\"type\":\"scattercarpet\",\"marker\":{\"colorbar\":{\"outlinewidth\":0,\"ticks\":\"\"}}}],\"carpet\":[{\"aaxis\":{\"endlinecolor\":\"#2a3f5f\",\"gridcolor\":\"white\",\"linecolor\":\"white\",\"minorgridcolor\":\"white\",\"startlinecolor\":\"#2a3f5f\"},\"baxis\":{\"endlinecolor\":\"#2a3f5f\",\"gridcolor\":\"white\",\"linecolor\":\"white\",\"minorgridcolor\":\"white\",\"startlinecolor\":\"#2a3f5f\"},\"type\":\"carpet\"}],\"table\":[{\"cells\":{\"fill\":{\"color\":\"#EBF0F8\"},\"line\":{\"color\":\"white\"}},\"header\":{\"fill\":{\"color\":\"#C8D4E3\"},\"line\":{\"color\":\"white\"}},\"type\":\"table\"}],\"barpolar\":[{\"marker\":{\"line\":{\"color\":\"#E5ECF6\",\"width\":0.5},\"pattern\":{\"fillmode\":\"overlay\",\"size\":10,\"solidity\":0.2}},\"type\":\"barpolar\"}],\"pie\":[{\"automargin\":true,\"type\":\"pie\"}]},\"layout\":{\"autotypenumbers\":\"strict\",\"colorway\":[\"#636efa\",\"#EF553B\",\"#00cc96\",\"#ab63fa\",\"#FFA15A\",\"#19d3f3\",\"#FF6692\",\"#B6E880\",\"#FF97FF\",\"#FECB52\"],\"font\":{\"color\":\"#2a3f5f\"},\"hovermode\":\"closest\",\"hoverlabel\":{\"align\":\"left\"},\"paper_bgcolor\":\"white\",\"plot_bgcolor\":\"#E5ECF6\",\"polar\":{\"bgcolor\":\"#E5ECF6\",\"angularaxis\":{\"gridcolor\":\"white\",\"linecolor\":\"white\",\"ticks\":\"\"},\"radialaxis\":{\"gridcolor\":\"white\",\"linecolor\":\"white\",\"ticks\":\"\"}},\"ternary\":{\"bgcolor\":\"#E5ECF6\",\"aaxis\":{\"gridcolor\":\"white\",\"linecolor\":\"white\",\"ticks\":\"\"},\"baxis\":{\"gridcolor\":\"white\",\"linecolor\":\"white\",\"ticks\":\"\"},\"caxis\":{\"gridcolor\":\"white\",\"linecolor\":\"white\",\"ticks\":\"\"}},\"coloraxis\":{\"colorbar\":{\"outlinewidth\":0,\"ticks\":\"\"}},\"colorscale\":{\"sequential\":[[0.0,\"#0d0887\"],[0.1111111111111111,\"#46039f\"],[0.2222222222222222,\"#7201a8\"],[0.3333333333333333,\"#9c179e\"],[0.4444444444444444,\"#bd3786\"],[0.5555555555555556,\"#d8576b\"],[0.6666666666666666,\"#ed7953\"],[0.7777777777777778,\"#fb9f3a\"],[0.8888888888888888,\"#fdca26\"],[1.0,\"#f0f921\"]],\"sequentialminus\":[[0.0,\"#0d0887\"],[0.1111111111111111,\"#46039f\"],[0.2222222222222222,\"#7201a8\"],[0.3333333333333333,\"#9c179e\"],[0.4444444444444444,\"#bd3786\"],[0.5555555555555556,\"#d8576b\"],[0.6666666666666666,\"#ed7953\"],[0.7777777777777778,\"#fb9f3a\"],[0.8888888888888888,\"#fdca26\"],[1.0,\"#f0f921\"]],\"diverging\":[[0,\"#8e0152\"],[0.1,\"#c51b7d\"],[0.2,\"#de77ae\"],[0.3,\"#f1b6da\"],[0.4,\"#fde0ef\"],[0.5,\"#f7f7f7\"],[0.6,\"#e6f5d0\"],[0.7,\"#b8e186\"],[0.8,\"#7fbc41\"],[0.9,\"#4d9221\"],[1,\"#276419\"]]},\"xaxis\":{\"gridcolor\":\"white\",\"linecolor\":\"white\",\"ticks\":\"\",\"title\":{\"standoff\":15},\"zerolinecolor\":\"white\",\"automargin\":true,\"zerolinewidth\":2},\"yaxis\":{\"gridcolor\":\"white\",\"linecolor\":\"white\",\"ticks\":\"\",\"title\":{\"standoff\":15},\"zerolinecolor\":\"white\",\"automargin\":true,\"zerolinewidth\":2},\"scene\":{\"xaxis\":{\"backgroundcolor\":\"#E5ECF6\",\"gridcolor\":\"white\",\"linecolor\":\"white\",\"showbackground\":true,\"ticks\":\"\",\"zerolinecolor\":\"white\",\"gridwidth\":2},\"yaxis\":{\"backgroundcolor\":\"#E5ECF6\",\"gridcolor\":\"white\",\"linecolor\":\"white\",\"showbackground\":true,\"ticks\":\"\",\"zerolinecolor\":\"white\",\"gridwidth\":2},\"zaxis\":{\"backgroundcolor\":\"#E5ECF6\",\"gridcolor\":\"white\",\"linecolor\":\"white\",\"showbackground\":true,\"ticks\":\"\",\"zerolinecolor\":\"white\",\"gridwidth\":2}},\"shapedefaults\":{\"line\":{\"color\":\"#2a3f5f\"}},\"annotationdefaults\":{\"arrowcolor\":\"#2a3f5f\",\"arrowhead\":0,\"arrowwidth\":1},\"geo\":{\"bgcolor\":\"white\",\"landcolor\":\"#E5ECF6\",\"subunitcolor\":\"white\",\"showland\":true,\"showlakes\":true,\"lakecolor\":\"white\"},\"title\":{\"x\":0.05},\"mapbox\":{\"style\":\"light\"}}}},                        {\"responsive\": true}                    ).then(function(){\n",
              "                            \n",
              "var gd = document.getElementById('d8eee174-d380-4fd4-9123-77eebfc3df9f');\n",
              "var x = new MutationObserver(function (mutations, observer) {{\n",
              "        var display = window.getComputedStyle(gd).display;\n",
              "        if (!display || display === 'none') {{\n",
              "            console.log([gd, 'removed!']);\n",
              "            Plotly.purge(gd);\n",
              "            observer.disconnect();\n",
              "        }}\n",
              "}});\n",
              "\n",
              "// Listen for the removal of the full notebook cells\n",
              "var notebookContainer = gd.closest('#notebook-container');\n",
              "if (notebookContainer) {{\n",
              "    x.observe(notebookContainer, {childList: true});\n",
              "}}\n",
              "\n",
              "// Listen for the clearing of the current output cell\n",
              "var outputEl = gd.closest('.output');\n",
              "if (outputEl) {{\n",
              "    x.observe(outputEl, {childList: true});\n",
              "}}\n",
              "\n",
              "                        })                };                            </script>        </div>\n",
              "</body>\n",
              "</html>"
            ]
          },
          "metadata": {}
        },
        {
          "output_type": "stream",
          "name": "stdout",
          "text": [
            "HasMultiplePhoneNumbers \n",
            "No                  2511\n",
            "Yes                 2250\n",
            "No phone service     521\n",
            "Name: HasMultiplePhoneNumbers, dtype: int64 \n",
            "\n"
          ]
        },
        {
          "output_type": "display_data",
          "data": {
            "text/html": [
              "<html>\n",
              "<head><meta charset=\"utf-8\" /></head>\n",
              "<body>\n",
              "    <div>            <script src=\"https://cdnjs.cloudflare.com/ajax/libs/mathjax/2.7.5/MathJax.js?config=TeX-AMS-MML_SVG\"></script><script type=\"text/javascript\">if (window.MathJax && window.MathJax.Hub && window.MathJax.Hub.Config) {window.MathJax.Hub.Config({SVG: {font: \"STIX-Web\"}});}</script>                <script type=\"text/javascript\">window.PlotlyConfig = {MathJaxConfig: 'local'};</script>\n",
              "        <script charset=\"utf-8\" src=\"https://cdn.plot.ly/plotly-2.24.1.min.js\"></script>                <div id=\"c7a01c18-2c6f-469c-848c-b98bbb0e6a58\" class=\"plotly-graph-div\" style=\"height:525px; width:100%;\"></div>            <script type=\"text/javascript\">                                    window.PLOTLYENV=window.PLOTLYENV || {};                                    if (document.getElementById(\"c7a01c18-2c6f-469c-848c-b98bbb0e6a58\")) {                    Plotly.newPlot(                        \"c7a01c18-2c6f-469c-848c-b98bbb0e6a58\",                        [{\"labels\":[\"No\",\"Yes\",\"No phone service\"],\"values\":[2511,2250,521],\"type\":\"pie\"}],                        {\"template\":{\"data\":{\"histogram2dcontour\":[{\"type\":\"histogram2dcontour\",\"colorbar\":{\"outlinewidth\":0,\"ticks\":\"\"},\"colorscale\":[[0.0,\"#0d0887\"],[0.1111111111111111,\"#46039f\"],[0.2222222222222222,\"#7201a8\"],[0.3333333333333333,\"#9c179e\"],[0.4444444444444444,\"#bd3786\"],[0.5555555555555556,\"#d8576b\"],[0.6666666666666666,\"#ed7953\"],[0.7777777777777778,\"#fb9f3a\"],[0.8888888888888888,\"#fdca26\"],[1.0,\"#f0f921\"]]}],\"choropleth\":[{\"type\":\"choropleth\",\"colorbar\":{\"outlinewidth\":0,\"ticks\":\"\"}}],\"histogram2d\":[{\"type\":\"histogram2d\",\"colorbar\":{\"outlinewidth\":0,\"ticks\":\"\"},\"colorscale\":[[0.0,\"#0d0887\"],[0.1111111111111111,\"#46039f\"],[0.2222222222222222,\"#7201a8\"],[0.3333333333333333,\"#9c179e\"],[0.4444444444444444,\"#bd3786\"],[0.5555555555555556,\"#d8576b\"],[0.6666666666666666,\"#ed7953\"],[0.7777777777777778,\"#fb9f3a\"],[0.8888888888888888,\"#fdca26\"],[1.0,\"#f0f921\"]]}],\"heatmap\":[{\"type\":\"heatmap\",\"colorbar\":{\"outlinewidth\":0,\"ticks\":\"\"},\"colorscale\":[[0.0,\"#0d0887\"],[0.1111111111111111,\"#46039f\"],[0.2222222222222222,\"#7201a8\"],[0.3333333333333333,\"#9c179e\"],[0.4444444444444444,\"#bd3786\"],[0.5555555555555556,\"#d8576b\"],[0.6666666666666666,\"#ed7953\"],[0.7777777777777778,\"#fb9f3a\"],[0.8888888888888888,\"#fdca26\"],[1.0,\"#f0f921\"]]}],\"heatmapgl\":[{\"type\":\"heatmapgl\",\"colorbar\":{\"outlinewidth\":0,\"ticks\":\"\"},\"colorscale\":[[0.0,\"#0d0887\"],[0.1111111111111111,\"#46039f\"],[0.2222222222222222,\"#7201a8\"],[0.3333333333333333,\"#9c179e\"],[0.4444444444444444,\"#bd3786\"],[0.5555555555555556,\"#d8576b\"],[0.6666666666666666,\"#ed7953\"],[0.7777777777777778,\"#fb9f3a\"],[0.8888888888888888,\"#fdca26\"],[1.0,\"#f0f921\"]]}],\"contourcarpet\":[{\"type\":\"contourcarpet\",\"colorbar\":{\"outlinewidth\":0,\"ticks\":\"\"}}],\"contour\":[{\"type\":\"contour\",\"colorbar\":{\"outlinewidth\":0,\"ticks\":\"\"},\"colorscale\":[[0.0,\"#0d0887\"],[0.1111111111111111,\"#46039f\"],[0.2222222222222222,\"#7201a8\"],[0.3333333333333333,\"#9c179e\"],[0.4444444444444444,\"#bd3786\"],[0.5555555555555556,\"#d8576b\"],[0.6666666666666666,\"#ed7953\"],[0.7777777777777778,\"#fb9f3a\"],[0.8888888888888888,\"#fdca26\"],[1.0,\"#f0f921\"]]}],\"surface\":[{\"type\":\"surface\",\"colorbar\":{\"outlinewidth\":0,\"ticks\":\"\"},\"colorscale\":[[0.0,\"#0d0887\"],[0.1111111111111111,\"#46039f\"],[0.2222222222222222,\"#7201a8\"],[0.3333333333333333,\"#9c179e\"],[0.4444444444444444,\"#bd3786\"],[0.5555555555555556,\"#d8576b\"],[0.6666666666666666,\"#ed7953\"],[0.7777777777777778,\"#fb9f3a\"],[0.8888888888888888,\"#fdca26\"],[1.0,\"#f0f921\"]]}],\"mesh3d\":[{\"type\":\"mesh3d\",\"colorbar\":{\"outlinewidth\":0,\"ticks\":\"\"}}],\"scatter\":[{\"fillpattern\":{\"fillmode\":\"overlay\",\"size\":10,\"solidity\":0.2},\"type\":\"scatter\"}],\"parcoords\":[{\"type\":\"parcoords\",\"line\":{\"colorbar\":{\"outlinewidth\":0,\"ticks\":\"\"}}}],\"scatterpolargl\":[{\"type\":\"scatterpolargl\",\"marker\":{\"colorbar\":{\"outlinewidth\":0,\"ticks\":\"\"}}}],\"bar\":[{\"error_x\":{\"color\":\"#2a3f5f\"},\"error_y\":{\"color\":\"#2a3f5f\"},\"marker\":{\"line\":{\"color\":\"#E5ECF6\",\"width\":0.5},\"pattern\":{\"fillmode\":\"overlay\",\"size\":10,\"solidity\":0.2}},\"type\":\"bar\"}],\"scattergeo\":[{\"type\":\"scattergeo\",\"marker\":{\"colorbar\":{\"outlinewidth\":0,\"ticks\":\"\"}}}],\"scatterpolar\":[{\"type\":\"scatterpolar\",\"marker\":{\"colorbar\":{\"outlinewidth\":0,\"ticks\":\"\"}}}],\"histogram\":[{\"marker\":{\"pattern\":{\"fillmode\":\"overlay\",\"size\":10,\"solidity\":0.2}},\"type\":\"histogram\"}],\"scattergl\":[{\"type\":\"scattergl\",\"marker\":{\"colorbar\":{\"outlinewidth\":0,\"ticks\":\"\"}}}],\"scatter3d\":[{\"type\":\"scatter3d\",\"line\":{\"colorbar\":{\"outlinewidth\":0,\"ticks\":\"\"}},\"marker\":{\"colorbar\":{\"outlinewidth\":0,\"ticks\":\"\"}}}],\"scattermapbox\":[{\"type\":\"scattermapbox\",\"marker\":{\"colorbar\":{\"outlinewidth\":0,\"ticks\":\"\"}}}],\"scatterternary\":[{\"type\":\"scatterternary\",\"marker\":{\"colorbar\":{\"outlinewidth\":0,\"ticks\":\"\"}}}],\"scattercarpet\":[{\"type\":\"scattercarpet\",\"marker\":{\"colorbar\":{\"outlinewidth\":0,\"ticks\":\"\"}}}],\"carpet\":[{\"aaxis\":{\"endlinecolor\":\"#2a3f5f\",\"gridcolor\":\"white\",\"linecolor\":\"white\",\"minorgridcolor\":\"white\",\"startlinecolor\":\"#2a3f5f\"},\"baxis\":{\"endlinecolor\":\"#2a3f5f\",\"gridcolor\":\"white\",\"linecolor\":\"white\",\"minorgridcolor\":\"white\",\"startlinecolor\":\"#2a3f5f\"},\"type\":\"carpet\"}],\"table\":[{\"cells\":{\"fill\":{\"color\":\"#EBF0F8\"},\"line\":{\"color\":\"white\"}},\"header\":{\"fill\":{\"color\":\"#C8D4E3\"},\"line\":{\"color\":\"white\"}},\"type\":\"table\"}],\"barpolar\":[{\"marker\":{\"line\":{\"color\":\"#E5ECF6\",\"width\":0.5},\"pattern\":{\"fillmode\":\"overlay\",\"size\":10,\"solidity\":0.2}},\"type\":\"barpolar\"}],\"pie\":[{\"automargin\":true,\"type\":\"pie\"}]},\"layout\":{\"autotypenumbers\":\"strict\",\"colorway\":[\"#636efa\",\"#EF553B\",\"#00cc96\",\"#ab63fa\",\"#FFA15A\",\"#19d3f3\",\"#FF6692\",\"#B6E880\",\"#FF97FF\",\"#FECB52\"],\"font\":{\"color\":\"#2a3f5f\"},\"hovermode\":\"closest\",\"hoverlabel\":{\"align\":\"left\"},\"paper_bgcolor\":\"white\",\"plot_bgcolor\":\"#E5ECF6\",\"polar\":{\"bgcolor\":\"#E5ECF6\",\"angularaxis\":{\"gridcolor\":\"white\",\"linecolor\":\"white\",\"ticks\":\"\"},\"radialaxis\":{\"gridcolor\":\"white\",\"linecolor\":\"white\",\"ticks\":\"\"}},\"ternary\":{\"bgcolor\":\"#E5ECF6\",\"aaxis\":{\"gridcolor\":\"white\",\"linecolor\":\"white\",\"ticks\":\"\"},\"baxis\":{\"gridcolor\":\"white\",\"linecolor\":\"white\",\"ticks\":\"\"},\"caxis\":{\"gridcolor\":\"white\",\"linecolor\":\"white\",\"ticks\":\"\"}},\"coloraxis\":{\"colorbar\":{\"outlinewidth\":0,\"ticks\":\"\"}},\"colorscale\":{\"sequential\":[[0.0,\"#0d0887\"],[0.1111111111111111,\"#46039f\"],[0.2222222222222222,\"#7201a8\"],[0.3333333333333333,\"#9c179e\"],[0.4444444444444444,\"#bd3786\"],[0.5555555555555556,\"#d8576b\"],[0.6666666666666666,\"#ed7953\"],[0.7777777777777778,\"#fb9f3a\"],[0.8888888888888888,\"#fdca26\"],[1.0,\"#f0f921\"]],\"sequentialminus\":[[0.0,\"#0d0887\"],[0.1111111111111111,\"#46039f\"],[0.2222222222222222,\"#7201a8\"],[0.3333333333333333,\"#9c179e\"],[0.4444444444444444,\"#bd3786\"],[0.5555555555555556,\"#d8576b\"],[0.6666666666666666,\"#ed7953\"],[0.7777777777777778,\"#fb9f3a\"],[0.8888888888888888,\"#fdca26\"],[1.0,\"#f0f921\"]],\"diverging\":[[0,\"#8e0152\"],[0.1,\"#c51b7d\"],[0.2,\"#de77ae\"],[0.3,\"#f1b6da\"],[0.4,\"#fde0ef\"],[0.5,\"#f7f7f7\"],[0.6,\"#e6f5d0\"],[0.7,\"#b8e186\"],[0.8,\"#7fbc41\"],[0.9,\"#4d9221\"],[1,\"#276419\"]]},\"xaxis\":{\"gridcolor\":\"white\",\"linecolor\":\"white\",\"ticks\":\"\",\"title\":{\"standoff\":15},\"zerolinecolor\":\"white\",\"automargin\":true,\"zerolinewidth\":2},\"yaxis\":{\"gridcolor\":\"white\",\"linecolor\":\"white\",\"ticks\":\"\",\"title\":{\"standoff\":15},\"zerolinecolor\":\"white\",\"automargin\":true,\"zerolinewidth\":2},\"scene\":{\"xaxis\":{\"backgroundcolor\":\"#E5ECF6\",\"gridcolor\":\"white\",\"linecolor\":\"white\",\"showbackground\":true,\"ticks\":\"\",\"zerolinecolor\":\"white\",\"gridwidth\":2},\"yaxis\":{\"backgroundcolor\":\"#E5ECF6\",\"gridcolor\":\"white\",\"linecolor\":\"white\",\"showbackground\":true,\"ticks\":\"\",\"zerolinecolor\":\"white\",\"gridwidth\":2},\"zaxis\":{\"backgroundcolor\":\"#E5ECF6\",\"gridcolor\":\"white\",\"linecolor\":\"white\",\"showbackground\":true,\"ticks\":\"\",\"zerolinecolor\":\"white\",\"gridwidth\":2}},\"shapedefaults\":{\"line\":{\"color\":\"#2a3f5f\"}},\"annotationdefaults\":{\"arrowcolor\":\"#2a3f5f\",\"arrowhead\":0,\"arrowwidth\":1},\"geo\":{\"bgcolor\":\"white\",\"landcolor\":\"#E5ECF6\",\"subunitcolor\":\"white\",\"showland\":true,\"showlakes\":true,\"lakecolor\":\"white\"},\"title\":{\"x\":0.05},\"mapbox\":{\"style\":\"light\"}}}},                        {\"responsive\": true}                    ).then(function(){\n",
              "                            \n",
              "var gd = document.getElementById('c7a01c18-2c6f-469c-848c-b98bbb0e6a58');\n",
              "var x = new MutationObserver(function (mutations, observer) {{\n",
              "        var display = window.getComputedStyle(gd).display;\n",
              "        if (!display || display === 'none') {{\n",
              "            console.log([gd, 'removed!']);\n",
              "            Plotly.purge(gd);\n",
              "            observer.disconnect();\n",
              "        }}\n",
              "}});\n",
              "\n",
              "// Listen for the removal of the full notebook cells\n",
              "var notebookContainer = gd.closest('#notebook-container');\n",
              "if (notebookContainer) {{\n",
              "    x.observe(notebookContainer, {childList: true});\n",
              "}}\n",
              "\n",
              "// Listen for the clearing of the current output cell\n",
              "var outputEl = gd.closest('.output');\n",
              "if (outputEl) {{\n",
              "    x.observe(outputEl, {childList: true});\n",
              "}}\n",
              "\n",
              "                        })                };                            </script>        </div>\n",
              "</body>\n",
              "</html>"
            ]
          },
          "metadata": {}
        },
        {
          "output_type": "stream",
          "name": "stdout",
          "text": [
            "HasInternetService \n",
            "Fiber optic    2341\n",
            "DSL            1800\n",
            "No             1141\n",
            "Name: HasInternetService, dtype: int64 \n",
            "\n"
          ]
        },
        {
          "output_type": "display_data",
          "data": {
            "text/html": [
              "<html>\n",
              "<head><meta charset=\"utf-8\" /></head>\n",
              "<body>\n",
              "    <div>            <script src=\"https://cdnjs.cloudflare.com/ajax/libs/mathjax/2.7.5/MathJax.js?config=TeX-AMS-MML_SVG\"></script><script type=\"text/javascript\">if (window.MathJax && window.MathJax.Hub && window.MathJax.Hub.Config) {window.MathJax.Hub.Config({SVG: {font: \"STIX-Web\"}});}</script>                <script type=\"text/javascript\">window.PlotlyConfig = {MathJaxConfig: 'local'};</script>\n",
              "        <script charset=\"utf-8\" src=\"https://cdn.plot.ly/plotly-2.24.1.min.js\"></script>                <div id=\"04ead86c-4489-4dc6-9b3e-9bba2c9e8ac5\" class=\"plotly-graph-div\" style=\"height:525px; width:100%;\"></div>            <script type=\"text/javascript\">                                    window.PLOTLYENV=window.PLOTLYENV || {};                                    if (document.getElementById(\"04ead86c-4489-4dc6-9b3e-9bba2c9e8ac5\")) {                    Plotly.newPlot(                        \"04ead86c-4489-4dc6-9b3e-9bba2c9e8ac5\",                        [{\"labels\":[\"Fiber optic\",\"DSL\",\"No\"],\"values\":[2341,1800,1141],\"type\":\"pie\"}],                        {\"template\":{\"data\":{\"histogram2dcontour\":[{\"type\":\"histogram2dcontour\",\"colorbar\":{\"outlinewidth\":0,\"ticks\":\"\"},\"colorscale\":[[0.0,\"#0d0887\"],[0.1111111111111111,\"#46039f\"],[0.2222222222222222,\"#7201a8\"],[0.3333333333333333,\"#9c179e\"],[0.4444444444444444,\"#bd3786\"],[0.5555555555555556,\"#d8576b\"],[0.6666666666666666,\"#ed7953\"],[0.7777777777777778,\"#fb9f3a\"],[0.8888888888888888,\"#fdca26\"],[1.0,\"#f0f921\"]]}],\"choropleth\":[{\"type\":\"choropleth\",\"colorbar\":{\"outlinewidth\":0,\"ticks\":\"\"}}],\"histogram2d\":[{\"type\":\"histogram2d\",\"colorbar\":{\"outlinewidth\":0,\"ticks\":\"\"},\"colorscale\":[[0.0,\"#0d0887\"],[0.1111111111111111,\"#46039f\"],[0.2222222222222222,\"#7201a8\"],[0.3333333333333333,\"#9c179e\"],[0.4444444444444444,\"#bd3786\"],[0.5555555555555556,\"#d8576b\"],[0.6666666666666666,\"#ed7953\"],[0.7777777777777778,\"#fb9f3a\"],[0.8888888888888888,\"#fdca26\"],[1.0,\"#f0f921\"]]}],\"heatmap\":[{\"type\":\"heatmap\",\"colorbar\":{\"outlinewidth\":0,\"ticks\":\"\"},\"colorscale\":[[0.0,\"#0d0887\"],[0.1111111111111111,\"#46039f\"],[0.2222222222222222,\"#7201a8\"],[0.3333333333333333,\"#9c179e\"],[0.4444444444444444,\"#bd3786\"],[0.5555555555555556,\"#d8576b\"],[0.6666666666666666,\"#ed7953\"],[0.7777777777777778,\"#fb9f3a\"],[0.8888888888888888,\"#fdca26\"],[1.0,\"#f0f921\"]]}],\"heatmapgl\":[{\"type\":\"heatmapgl\",\"colorbar\":{\"outlinewidth\":0,\"ticks\":\"\"},\"colorscale\":[[0.0,\"#0d0887\"],[0.1111111111111111,\"#46039f\"],[0.2222222222222222,\"#7201a8\"],[0.3333333333333333,\"#9c179e\"],[0.4444444444444444,\"#bd3786\"],[0.5555555555555556,\"#d8576b\"],[0.6666666666666666,\"#ed7953\"],[0.7777777777777778,\"#fb9f3a\"],[0.8888888888888888,\"#fdca26\"],[1.0,\"#f0f921\"]]}],\"contourcarpet\":[{\"type\":\"contourcarpet\",\"colorbar\":{\"outlinewidth\":0,\"ticks\":\"\"}}],\"contour\":[{\"type\":\"contour\",\"colorbar\":{\"outlinewidth\":0,\"ticks\":\"\"},\"colorscale\":[[0.0,\"#0d0887\"],[0.1111111111111111,\"#46039f\"],[0.2222222222222222,\"#7201a8\"],[0.3333333333333333,\"#9c179e\"],[0.4444444444444444,\"#bd3786\"],[0.5555555555555556,\"#d8576b\"],[0.6666666666666666,\"#ed7953\"],[0.7777777777777778,\"#fb9f3a\"],[0.8888888888888888,\"#fdca26\"],[1.0,\"#f0f921\"]]}],\"surface\":[{\"type\":\"surface\",\"colorbar\":{\"outlinewidth\":0,\"ticks\":\"\"},\"colorscale\":[[0.0,\"#0d0887\"],[0.1111111111111111,\"#46039f\"],[0.2222222222222222,\"#7201a8\"],[0.3333333333333333,\"#9c179e\"],[0.4444444444444444,\"#bd3786\"],[0.5555555555555556,\"#d8576b\"],[0.6666666666666666,\"#ed7953\"],[0.7777777777777778,\"#fb9f3a\"],[0.8888888888888888,\"#fdca26\"],[1.0,\"#f0f921\"]]}],\"mesh3d\":[{\"type\":\"mesh3d\",\"colorbar\":{\"outlinewidth\":0,\"ticks\":\"\"}}],\"scatter\":[{\"fillpattern\":{\"fillmode\":\"overlay\",\"size\":10,\"solidity\":0.2},\"type\":\"scatter\"}],\"parcoords\":[{\"type\":\"parcoords\",\"line\":{\"colorbar\":{\"outlinewidth\":0,\"ticks\":\"\"}}}],\"scatterpolargl\":[{\"type\":\"scatterpolargl\",\"marker\":{\"colorbar\":{\"outlinewidth\":0,\"ticks\":\"\"}}}],\"bar\":[{\"error_x\":{\"color\":\"#2a3f5f\"},\"error_y\":{\"color\":\"#2a3f5f\"},\"marker\":{\"line\":{\"color\":\"#E5ECF6\",\"width\":0.5},\"pattern\":{\"fillmode\":\"overlay\",\"size\":10,\"solidity\":0.2}},\"type\":\"bar\"}],\"scattergeo\":[{\"type\":\"scattergeo\",\"marker\":{\"colorbar\":{\"outlinewidth\":0,\"ticks\":\"\"}}}],\"scatterpolar\":[{\"type\":\"scatterpolar\",\"marker\":{\"colorbar\":{\"outlinewidth\":0,\"ticks\":\"\"}}}],\"histogram\":[{\"marker\":{\"pattern\":{\"fillmode\":\"overlay\",\"size\":10,\"solidity\":0.2}},\"type\":\"histogram\"}],\"scattergl\":[{\"type\":\"scattergl\",\"marker\":{\"colorbar\":{\"outlinewidth\":0,\"ticks\":\"\"}}}],\"scatter3d\":[{\"type\":\"scatter3d\",\"line\":{\"colorbar\":{\"outlinewidth\":0,\"ticks\":\"\"}},\"marker\":{\"colorbar\":{\"outlinewidth\":0,\"ticks\":\"\"}}}],\"scattermapbox\":[{\"type\":\"scattermapbox\",\"marker\":{\"colorbar\":{\"outlinewidth\":0,\"ticks\":\"\"}}}],\"scatterternary\":[{\"type\":\"scatterternary\",\"marker\":{\"colorbar\":{\"outlinewidth\":0,\"ticks\":\"\"}}}],\"scattercarpet\":[{\"type\":\"scattercarpet\",\"marker\":{\"colorbar\":{\"outlinewidth\":0,\"ticks\":\"\"}}}],\"carpet\":[{\"aaxis\":{\"endlinecolor\":\"#2a3f5f\",\"gridcolor\":\"white\",\"linecolor\":\"white\",\"minorgridcolor\":\"white\",\"startlinecolor\":\"#2a3f5f\"},\"baxis\":{\"endlinecolor\":\"#2a3f5f\",\"gridcolor\":\"white\",\"linecolor\":\"white\",\"minorgridcolor\":\"white\",\"startlinecolor\":\"#2a3f5f\"},\"type\":\"carpet\"}],\"table\":[{\"cells\":{\"fill\":{\"color\":\"#EBF0F8\"},\"line\":{\"color\":\"white\"}},\"header\":{\"fill\":{\"color\":\"#C8D4E3\"},\"line\":{\"color\":\"white\"}},\"type\":\"table\"}],\"barpolar\":[{\"marker\":{\"line\":{\"color\":\"#E5ECF6\",\"width\":0.5},\"pattern\":{\"fillmode\":\"overlay\",\"size\":10,\"solidity\":0.2}},\"type\":\"barpolar\"}],\"pie\":[{\"automargin\":true,\"type\":\"pie\"}]},\"layout\":{\"autotypenumbers\":\"strict\",\"colorway\":[\"#636efa\",\"#EF553B\",\"#00cc96\",\"#ab63fa\",\"#FFA15A\",\"#19d3f3\",\"#FF6692\",\"#B6E880\",\"#FF97FF\",\"#FECB52\"],\"font\":{\"color\":\"#2a3f5f\"},\"hovermode\":\"closest\",\"hoverlabel\":{\"align\":\"left\"},\"paper_bgcolor\":\"white\",\"plot_bgcolor\":\"#E5ECF6\",\"polar\":{\"bgcolor\":\"#E5ECF6\",\"angularaxis\":{\"gridcolor\":\"white\",\"linecolor\":\"white\",\"ticks\":\"\"},\"radialaxis\":{\"gridcolor\":\"white\",\"linecolor\":\"white\",\"ticks\":\"\"}},\"ternary\":{\"bgcolor\":\"#E5ECF6\",\"aaxis\":{\"gridcolor\":\"white\",\"linecolor\":\"white\",\"ticks\":\"\"},\"baxis\":{\"gridcolor\":\"white\",\"linecolor\":\"white\",\"ticks\":\"\"},\"caxis\":{\"gridcolor\":\"white\",\"linecolor\":\"white\",\"ticks\":\"\"}},\"coloraxis\":{\"colorbar\":{\"outlinewidth\":0,\"ticks\":\"\"}},\"colorscale\":{\"sequential\":[[0.0,\"#0d0887\"],[0.1111111111111111,\"#46039f\"],[0.2222222222222222,\"#7201a8\"],[0.3333333333333333,\"#9c179e\"],[0.4444444444444444,\"#bd3786\"],[0.5555555555555556,\"#d8576b\"],[0.6666666666666666,\"#ed7953\"],[0.7777777777777778,\"#fb9f3a\"],[0.8888888888888888,\"#fdca26\"],[1.0,\"#f0f921\"]],\"sequentialminus\":[[0.0,\"#0d0887\"],[0.1111111111111111,\"#46039f\"],[0.2222222222222222,\"#7201a8\"],[0.3333333333333333,\"#9c179e\"],[0.4444444444444444,\"#bd3786\"],[0.5555555555555556,\"#d8576b\"],[0.6666666666666666,\"#ed7953\"],[0.7777777777777778,\"#fb9f3a\"],[0.8888888888888888,\"#fdca26\"],[1.0,\"#f0f921\"]],\"diverging\":[[0,\"#8e0152\"],[0.1,\"#c51b7d\"],[0.2,\"#de77ae\"],[0.3,\"#f1b6da\"],[0.4,\"#fde0ef\"],[0.5,\"#f7f7f7\"],[0.6,\"#e6f5d0\"],[0.7,\"#b8e186\"],[0.8,\"#7fbc41\"],[0.9,\"#4d9221\"],[1,\"#276419\"]]},\"xaxis\":{\"gridcolor\":\"white\",\"linecolor\":\"white\",\"ticks\":\"\",\"title\":{\"standoff\":15},\"zerolinecolor\":\"white\",\"automargin\":true,\"zerolinewidth\":2},\"yaxis\":{\"gridcolor\":\"white\",\"linecolor\":\"white\",\"ticks\":\"\",\"title\":{\"standoff\":15},\"zerolinecolor\":\"white\",\"automargin\":true,\"zerolinewidth\":2},\"scene\":{\"xaxis\":{\"backgroundcolor\":\"#E5ECF6\",\"gridcolor\":\"white\",\"linecolor\":\"white\",\"showbackground\":true,\"ticks\":\"\",\"zerolinecolor\":\"white\",\"gridwidth\":2},\"yaxis\":{\"backgroundcolor\":\"#E5ECF6\",\"gridcolor\":\"white\",\"linecolor\":\"white\",\"showbackground\":true,\"ticks\":\"\",\"zerolinecolor\":\"white\",\"gridwidth\":2},\"zaxis\":{\"backgroundcolor\":\"#E5ECF6\",\"gridcolor\":\"white\",\"linecolor\":\"white\",\"showbackground\":true,\"ticks\":\"\",\"zerolinecolor\":\"white\",\"gridwidth\":2}},\"shapedefaults\":{\"line\":{\"color\":\"#2a3f5f\"}},\"annotationdefaults\":{\"arrowcolor\":\"#2a3f5f\",\"arrowhead\":0,\"arrowwidth\":1},\"geo\":{\"bgcolor\":\"white\",\"landcolor\":\"#E5ECF6\",\"subunitcolor\":\"white\",\"showland\":true,\"showlakes\":true,\"lakecolor\":\"white\"},\"title\":{\"x\":0.05},\"mapbox\":{\"style\":\"light\"}}}},                        {\"responsive\": true}                    ).then(function(){\n",
              "                            \n",
              "var gd = document.getElementById('04ead86c-4489-4dc6-9b3e-9bba2c9e8ac5');\n",
              "var x = new MutationObserver(function (mutations, observer) {{\n",
              "        var display = window.getComputedStyle(gd).display;\n",
              "        if (!display || display === 'none') {{\n",
              "            console.log([gd, 'removed!']);\n",
              "            Plotly.purge(gd);\n",
              "            observer.disconnect();\n",
              "        }}\n",
              "}});\n",
              "\n",
              "// Listen for the removal of the full notebook cells\n",
              "var notebookContainer = gd.closest('#notebook-container');\n",
              "if (notebookContainer) {{\n",
              "    x.observe(notebookContainer, {childList: true});\n",
              "}}\n",
              "\n",
              "// Listen for the clearing of the current output cell\n",
              "var outputEl = gd.closest('.output');\n",
              "if (outputEl) {{\n",
              "    x.observe(outputEl, {childList: true});\n",
              "}}\n",
              "\n",
              "                        })                };                            </script>        </div>\n",
              "</body>\n",
              "</html>"
            ]
          },
          "metadata": {}
        },
        {
          "output_type": "stream",
          "name": "stdout",
          "text": [
            "HasOnlineSecurityService \n",
            "No                     2612\n",
            "Yes                    1529\n",
            "No internet service    1141\n",
            "Name: HasOnlineSecurityService, dtype: int64 \n",
            "\n"
          ]
        },
        {
          "output_type": "display_data",
          "data": {
            "text/html": [
              "<html>\n",
              "<head><meta charset=\"utf-8\" /></head>\n",
              "<body>\n",
              "    <div>            <script src=\"https://cdnjs.cloudflare.com/ajax/libs/mathjax/2.7.5/MathJax.js?config=TeX-AMS-MML_SVG\"></script><script type=\"text/javascript\">if (window.MathJax && window.MathJax.Hub && window.MathJax.Hub.Config) {window.MathJax.Hub.Config({SVG: {font: \"STIX-Web\"}});}</script>                <script type=\"text/javascript\">window.PlotlyConfig = {MathJaxConfig: 'local'};</script>\n",
              "        <script charset=\"utf-8\" src=\"https://cdn.plot.ly/plotly-2.24.1.min.js\"></script>                <div id=\"98b04b09-9f92-4c9d-b589-74477f5e1a2c\" class=\"plotly-graph-div\" style=\"height:525px; width:100%;\"></div>            <script type=\"text/javascript\">                                    window.PLOTLYENV=window.PLOTLYENV || {};                                    if (document.getElementById(\"98b04b09-9f92-4c9d-b589-74477f5e1a2c\")) {                    Plotly.newPlot(                        \"98b04b09-9f92-4c9d-b589-74477f5e1a2c\",                        [{\"labels\":[\"No\",\"Yes\",\"No internet service\"],\"values\":[2612,1529,1141],\"type\":\"pie\"}],                        {\"template\":{\"data\":{\"histogram2dcontour\":[{\"type\":\"histogram2dcontour\",\"colorbar\":{\"outlinewidth\":0,\"ticks\":\"\"},\"colorscale\":[[0.0,\"#0d0887\"],[0.1111111111111111,\"#46039f\"],[0.2222222222222222,\"#7201a8\"],[0.3333333333333333,\"#9c179e\"],[0.4444444444444444,\"#bd3786\"],[0.5555555555555556,\"#d8576b\"],[0.6666666666666666,\"#ed7953\"],[0.7777777777777778,\"#fb9f3a\"],[0.8888888888888888,\"#fdca26\"],[1.0,\"#f0f921\"]]}],\"choropleth\":[{\"type\":\"choropleth\",\"colorbar\":{\"outlinewidth\":0,\"ticks\":\"\"}}],\"histogram2d\":[{\"type\":\"histogram2d\",\"colorbar\":{\"outlinewidth\":0,\"ticks\":\"\"},\"colorscale\":[[0.0,\"#0d0887\"],[0.1111111111111111,\"#46039f\"],[0.2222222222222222,\"#7201a8\"],[0.3333333333333333,\"#9c179e\"],[0.4444444444444444,\"#bd3786\"],[0.5555555555555556,\"#d8576b\"],[0.6666666666666666,\"#ed7953\"],[0.7777777777777778,\"#fb9f3a\"],[0.8888888888888888,\"#fdca26\"],[1.0,\"#f0f921\"]]}],\"heatmap\":[{\"type\":\"heatmap\",\"colorbar\":{\"outlinewidth\":0,\"ticks\":\"\"},\"colorscale\":[[0.0,\"#0d0887\"],[0.1111111111111111,\"#46039f\"],[0.2222222222222222,\"#7201a8\"],[0.3333333333333333,\"#9c179e\"],[0.4444444444444444,\"#bd3786\"],[0.5555555555555556,\"#d8576b\"],[0.6666666666666666,\"#ed7953\"],[0.7777777777777778,\"#fb9f3a\"],[0.8888888888888888,\"#fdca26\"],[1.0,\"#f0f921\"]]}],\"heatmapgl\":[{\"type\":\"heatmapgl\",\"colorbar\":{\"outlinewidth\":0,\"ticks\":\"\"},\"colorscale\":[[0.0,\"#0d0887\"],[0.1111111111111111,\"#46039f\"],[0.2222222222222222,\"#7201a8\"],[0.3333333333333333,\"#9c179e\"],[0.4444444444444444,\"#bd3786\"],[0.5555555555555556,\"#d8576b\"],[0.6666666666666666,\"#ed7953\"],[0.7777777777777778,\"#fb9f3a\"],[0.8888888888888888,\"#fdca26\"],[1.0,\"#f0f921\"]]}],\"contourcarpet\":[{\"type\":\"contourcarpet\",\"colorbar\":{\"outlinewidth\":0,\"ticks\":\"\"}}],\"contour\":[{\"type\":\"contour\",\"colorbar\":{\"outlinewidth\":0,\"ticks\":\"\"},\"colorscale\":[[0.0,\"#0d0887\"],[0.1111111111111111,\"#46039f\"],[0.2222222222222222,\"#7201a8\"],[0.3333333333333333,\"#9c179e\"],[0.4444444444444444,\"#bd3786\"],[0.5555555555555556,\"#d8576b\"],[0.6666666666666666,\"#ed7953\"],[0.7777777777777778,\"#fb9f3a\"],[0.8888888888888888,\"#fdca26\"],[1.0,\"#f0f921\"]]}],\"surface\":[{\"type\":\"surface\",\"colorbar\":{\"outlinewidth\":0,\"ticks\":\"\"},\"colorscale\":[[0.0,\"#0d0887\"],[0.1111111111111111,\"#46039f\"],[0.2222222222222222,\"#7201a8\"],[0.3333333333333333,\"#9c179e\"],[0.4444444444444444,\"#bd3786\"],[0.5555555555555556,\"#d8576b\"],[0.6666666666666666,\"#ed7953\"],[0.7777777777777778,\"#fb9f3a\"],[0.8888888888888888,\"#fdca26\"],[1.0,\"#f0f921\"]]}],\"mesh3d\":[{\"type\":\"mesh3d\",\"colorbar\":{\"outlinewidth\":0,\"ticks\":\"\"}}],\"scatter\":[{\"fillpattern\":{\"fillmode\":\"overlay\",\"size\":10,\"solidity\":0.2},\"type\":\"scatter\"}],\"parcoords\":[{\"type\":\"parcoords\",\"line\":{\"colorbar\":{\"outlinewidth\":0,\"ticks\":\"\"}}}],\"scatterpolargl\":[{\"type\":\"scatterpolargl\",\"marker\":{\"colorbar\":{\"outlinewidth\":0,\"ticks\":\"\"}}}],\"bar\":[{\"error_x\":{\"color\":\"#2a3f5f\"},\"error_y\":{\"color\":\"#2a3f5f\"},\"marker\":{\"line\":{\"color\":\"#E5ECF6\",\"width\":0.5},\"pattern\":{\"fillmode\":\"overlay\",\"size\":10,\"solidity\":0.2}},\"type\":\"bar\"}],\"scattergeo\":[{\"type\":\"scattergeo\",\"marker\":{\"colorbar\":{\"outlinewidth\":0,\"ticks\":\"\"}}}],\"scatterpolar\":[{\"type\":\"scatterpolar\",\"marker\":{\"colorbar\":{\"outlinewidth\":0,\"ticks\":\"\"}}}],\"histogram\":[{\"marker\":{\"pattern\":{\"fillmode\":\"overlay\",\"size\":10,\"solidity\":0.2}},\"type\":\"histogram\"}],\"scattergl\":[{\"type\":\"scattergl\",\"marker\":{\"colorbar\":{\"outlinewidth\":0,\"ticks\":\"\"}}}],\"scatter3d\":[{\"type\":\"scatter3d\",\"line\":{\"colorbar\":{\"outlinewidth\":0,\"ticks\":\"\"}},\"marker\":{\"colorbar\":{\"outlinewidth\":0,\"ticks\":\"\"}}}],\"scattermapbox\":[{\"type\":\"scattermapbox\",\"marker\":{\"colorbar\":{\"outlinewidth\":0,\"ticks\":\"\"}}}],\"scatterternary\":[{\"type\":\"scatterternary\",\"marker\":{\"colorbar\":{\"outlinewidth\":0,\"ticks\":\"\"}}}],\"scattercarpet\":[{\"type\":\"scattercarpet\",\"marker\":{\"colorbar\":{\"outlinewidth\":0,\"ticks\":\"\"}}}],\"carpet\":[{\"aaxis\":{\"endlinecolor\":\"#2a3f5f\",\"gridcolor\":\"white\",\"linecolor\":\"white\",\"minorgridcolor\":\"white\",\"startlinecolor\":\"#2a3f5f\"},\"baxis\":{\"endlinecolor\":\"#2a3f5f\",\"gridcolor\":\"white\",\"linecolor\":\"white\",\"minorgridcolor\":\"white\",\"startlinecolor\":\"#2a3f5f\"},\"type\":\"carpet\"}],\"table\":[{\"cells\":{\"fill\":{\"color\":\"#EBF0F8\"},\"line\":{\"color\":\"white\"}},\"header\":{\"fill\":{\"color\":\"#C8D4E3\"},\"line\":{\"color\":\"white\"}},\"type\":\"table\"}],\"barpolar\":[{\"marker\":{\"line\":{\"color\":\"#E5ECF6\",\"width\":0.5},\"pattern\":{\"fillmode\":\"overlay\",\"size\":10,\"solidity\":0.2}},\"type\":\"barpolar\"}],\"pie\":[{\"automargin\":true,\"type\":\"pie\"}]},\"layout\":{\"autotypenumbers\":\"strict\",\"colorway\":[\"#636efa\",\"#EF553B\",\"#00cc96\",\"#ab63fa\",\"#FFA15A\",\"#19d3f3\",\"#FF6692\",\"#B6E880\",\"#FF97FF\",\"#FECB52\"],\"font\":{\"color\":\"#2a3f5f\"},\"hovermode\":\"closest\",\"hoverlabel\":{\"align\":\"left\"},\"paper_bgcolor\":\"white\",\"plot_bgcolor\":\"#E5ECF6\",\"polar\":{\"bgcolor\":\"#E5ECF6\",\"angularaxis\":{\"gridcolor\":\"white\",\"linecolor\":\"white\",\"ticks\":\"\"},\"radialaxis\":{\"gridcolor\":\"white\",\"linecolor\":\"white\",\"ticks\":\"\"}},\"ternary\":{\"bgcolor\":\"#E5ECF6\",\"aaxis\":{\"gridcolor\":\"white\",\"linecolor\":\"white\",\"ticks\":\"\"},\"baxis\":{\"gridcolor\":\"white\",\"linecolor\":\"white\",\"ticks\":\"\"},\"caxis\":{\"gridcolor\":\"white\",\"linecolor\":\"white\",\"ticks\":\"\"}},\"coloraxis\":{\"colorbar\":{\"outlinewidth\":0,\"ticks\":\"\"}},\"colorscale\":{\"sequential\":[[0.0,\"#0d0887\"],[0.1111111111111111,\"#46039f\"],[0.2222222222222222,\"#7201a8\"],[0.3333333333333333,\"#9c179e\"],[0.4444444444444444,\"#bd3786\"],[0.5555555555555556,\"#d8576b\"],[0.6666666666666666,\"#ed7953\"],[0.7777777777777778,\"#fb9f3a\"],[0.8888888888888888,\"#fdca26\"],[1.0,\"#f0f921\"]],\"sequentialminus\":[[0.0,\"#0d0887\"],[0.1111111111111111,\"#46039f\"],[0.2222222222222222,\"#7201a8\"],[0.3333333333333333,\"#9c179e\"],[0.4444444444444444,\"#bd3786\"],[0.5555555555555556,\"#d8576b\"],[0.6666666666666666,\"#ed7953\"],[0.7777777777777778,\"#fb9f3a\"],[0.8888888888888888,\"#fdca26\"],[1.0,\"#f0f921\"]],\"diverging\":[[0,\"#8e0152\"],[0.1,\"#c51b7d\"],[0.2,\"#de77ae\"],[0.3,\"#f1b6da\"],[0.4,\"#fde0ef\"],[0.5,\"#f7f7f7\"],[0.6,\"#e6f5d0\"],[0.7,\"#b8e186\"],[0.8,\"#7fbc41\"],[0.9,\"#4d9221\"],[1,\"#276419\"]]},\"xaxis\":{\"gridcolor\":\"white\",\"linecolor\":\"white\",\"ticks\":\"\",\"title\":{\"standoff\":15},\"zerolinecolor\":\"white\",\"automargin\":true,\"zerolinewidth\":2},\"yaxis\":{\"gridcolor\":\"white\",\"linecolor\":\"white\",\"ticks\":\"\",\"title\":{\"standoff\":15},\"zerolinecolor\":\"white\",\"automargin\":true,\"zerolinewidth\":2},\"scene\":{\"xaxis\":{\"backgroundcolor\":\"#E5ECF6\",\"gridcolor\":\"white\",\"linecolor\":\"white\",\"showbackground\":true,\"ticks\":\"\",\"zerolinecolor\":\"white\",\"gridwidth\":2},\"yaxis\":{\"backgroundcolor\":\"#E5ECF6\",\"gridcolor\":\"white\",\"linecolor\":\"white\",\"showbackground\":true,\"ticks\":\"\",\"zerolinecolor\":\"white\",\"gridwidth\":2},\"zaxis\":{\"backgroundcolor\":\"#E5ECF6\",\"gridcolor\":\"white\",\"linecolor\":\"white\",\"showbackground\":true,\"ticks\":\"\",\"zerolinecolor\":\"white\",\"gridwidth\":2}},\"shapedefaults\":{\"line\":{\"color\":\"#2a3f5f\"}},\"annotationdefaults\":{\"arrowcolor\":\"#2a3f5f\",\"arrowhead\":0,\"arrowwidth\":1},\"geo\":{\"bgcolor\":\"white\",\"landcolor\":\"#E5ECF6\",\"subunitcolor\":\"white\",\"showland\":true,\"showlakes\":true,\"lakecolor\":\"white\"},\"title\":{\"x\":0.05},\"mapbox\":{\"style\":\"light\"}}}},                        {\"responsive\": true}                    ).then(function(){\n",
              "                            \n",
              "var gd = document.getElementById('98b04b09-9f92-4c9d-b589-74477f5e1a2c');\n",
              "var x = new MutationObserver(function (mutations, observer) {{\n",
              "        var display = window.getComputedStyle(gd).display;\n",
              "        if (!display || display === 'none') {{\n",
              "            console.log([gd, 'removed!']);\n",
              "            Plotly.purge(gd);\n",
              "            observer.disconnect();\n",
              "        }}\n",
              "}});\n",
              "\n",
              "// Listen for the removal of the full notebook cells\n",
              "var notebookContainer = gd.closest('#notebook-container');\n",
              "if (notebookContainer) {{\n",
              "    x.observe(notebookContainer, {childList: true});\n",
              "}}\n",
              "\n",
              "// Listen for the clearing of the current output cell\n",
              "var outputEl = gd.closest('.output');\n",
              "if (outputEl) {{\n",
              "    x.observe(outputEl, {childList: true});\n",
              "}}\n",
              "\n",
              "                        })                };                            </script>        </div>\n",
              "</body>\n",
              "</html>"
            ]
          },
          "metadata": {}
        },
        {
          "output_type": "stream",
          "name": "stdout",
          "text": [
            "HasOnlineBackup \n",
            "No                     2332\n",
            "Yes                    1809\n",
            "No internet service    1141\n",
            "Name: HasOnlineBackup, dtype: int64 \n",
            "\n"
          ]
        },
        {
          "output_type": "display_data",
          "data": {
            "text/html": [
              "<html>\n",
              "<head><meta charset=\"utf-8\" /></head>\n",
              "<body>\n",
              "    <div>            <script src=\"https://cdnjs.cloudflare.com/ajax/libs/mathjax/2.7.5/MathJax.js?config=TeX-AMS-MML_SVG\"></script><script type=\"text/javascript\">if (window.MathJax && window.MathJax.Hub && window.MathJax.Hub.Config) {window.MathJax.Hub.Config({SVG: {font: \"STIX-Web\"}});}</script>                <script type=\"text/javascript\">window.PlotlyConfig = {MathJaxConfig: 'local'};</script>\n",
              "        <script charset=\"utf-8\" src=\"https://cdn.plot.ly/plotly-2.24.1.min.js\"></script>                <div id=\"464a3a68-64fe-44c6-8bb1-0fdb0dcfdb75\" class=\"plotly-graph-div\" style=\"height:525px; width:100%;\"></div>            <script type=\"text/javascript\">                                    window.PLOTLYENV=window.PLOTLYENV || {};                                    if (document.getElementById(\"464a3a68-64fe-44c6-8bb1-0fdb0dcfdb75\")) {                    Plotly.newPlot(                        \"464a3a68-64fe-44c6-8bb1-0fdb0dcfdb75\",                        [{\"labels\":[\"No\",\"Yes\",\"No internet service\"],\"values\":[2332,1809,1141],\"type\":\"pie\"}],                        {\"template\":{\"data\":{\"histogram2dcontour\":[{\"type\":\"histogram2dcontour\",\"colorbar\":{\"outlinewidth\":0,\"ticks\":\"\"},\"colorscale\":[[0.0,\"#0d0887\"],[0.1111111111111111,\"#46039f\"],[0.2222222222222222,\"#7201a8\"],[0.3333333333333333,\"#9c179e\"],[0.4444444444444444,\"#bd3786\"],[0.5555555555555556,\"#d8576b\"],[0.6666666666666666,\"#ed7953\"],[0.7777777777777778,\"#fb9f3a\"],[0.8888888888888888,\"#fdca26\"],[1.0,\"#f0f921\"]]}],\"choropleth\":[{\"type\":\"choropleth\",\"colorbar\":{\"outlinewidth\":0,\"ticks\":\"\"}}],\"histogram2d\":[{\"type\":\"histogram2d\",\"colorbar\":{\"outlinewidth\":0,\"ticks\":\"\"},\"colorscale\":[[0.0,\"#0d0887\"],[0.1111111111111111,\"#46039f\"],[0.2222222222222222,\"#7201a8\"],[0.3333333333333333,\"#9c179e\"],[0.4444444444444444,\"#bd3786\"],[0.5555555555555556,\"#d8576b\"],[0.6666666666666666,\"#ed7953\"],[0.7777777777777778,\"#fb9f3a\"],[0.8888888888888888,\"#fdca26\"],[1.0,\"#f0f921\"]]}],\"heatmap\":[{\"type\":\"heatmap\",\"colorbar\":{\"outlinewidth\":0,\"ticks\":\"\"},\"colorscale\":[[0.0,\"#0d0887\"],[0.1111111111111111,\"#46039f\"],[0.2222222222222222,\"#7201a8\"],[0.3333333333333333,\"#9c179e\"],[0.4444444444444444,\"#bd3786\"],[0.5555555555555556,\"#d8576b\"],[0.6666666666666666,\"#ed7953\"],[0.7777777777777778,\"#fb9f3a\"],[0.8888888888888888,\"#fdca26\"],[1.0,\"#f0f921\"]]}],\"heatmapgl\":[{\"type\":\"heatmapgl\",\"colorbar\":{\"outlinewidth\":0,\"ticks\":\"\"},\"colorscale\":[[0.0,\"#0d0887\"],[0.1111111111111111,\"#46039f\"],[0.2222222222222222,\"#7201a8\"],[0.3333333333333333,\"#9c179e\"],[0.4444444444444444,\"#bd3786\"],[0.5555555555555556,\"#d8576b\"],[0.6666666666666666,\"#ed7953\"],[0.7777777777777778,\"#fb9f3a\"],[0.8888888888888888,\"#fdca26\"],[1.0,\"#f0f921\"]]}],\"contourcarpet\":[{\"type\":\"contourcarpet\",\"colorbar\":{\"outlinewidth\":0,\"ticks\":\"\"}}],\"contour\":[{\"type\":\"contour\",\"colorbar\":{\"outlinewidth\":0,\"ticks\":\"\"},\"colorscale\":[[0.0,\"#0d0887\"],[0.1111111111111111,\"#46039f\"],[0.2222222222222222,\"#7201a8\"],[0.3333333333333333,\"#9c179e\"],[0.4444444444444444,\"#bd3786\"],[0.5555555555555556,\"#d8576b\"],[0.6666666666666666,\"#ed7953\"],[0.7777777777777778,\"#fb9f3a\"],[0.8888888888888888,\"#fdca26\"],[1.0,\"#f0f921\"]]}],\"surface\":[{\"type\":\"surface\",\"colorbar\":{\"outlinewidth\":0,\"ticks\":\"\"},\"colorscale\":[[0.0,\"#0d0887\"],[0.1111111111111111,\"#46039f\"],[0.2222222222222222,\"#7201a8\"],[0.3333333333333333,\"#9c179e\"],[0.4444444444444444,\"#bd3786\"],[0.5555555555555556,\"#d8576b\"],[0.6666666666666666,\"#ed7953\"],[0.7777777777777778,\"#fb9f3a\"],[0.8888888888888888,\"#fdca26\"],[1.0,\"#f0f921\"]]}],\"mesh3d\":[{\"type\":\"mesh3d\",\"colorbar\":{\"outlinewidth\":0,\"ticks\":\"\"}}],\"scatter\":[{\"fillpattern\":{\"fillmode\":\"overlay\",\"size\":10,\"solidity\":0.2},\"type\":\"scatter\"}],\"parcoords\":[{\"type\":\"parcoords\",\"line\":{\"colorbar\":{\"outlinewidth\":0,\"ticks\":\"\"}}}],\"scatterpolargl\":[{\"type\":\"scatterpolargl\",\"marker\":{\"colorbar\":{\"outlinewidth\":0,\"ticks\":\"\"}}}],\"bar\":[{\"error_x\":{\"color\":\"#2a3f5f\"},\"error_y\":{\"color\":\"#2a3f5f\"},\"marker\":{\"line\":{\"color\":\"#E5ECF6\",\"width\":0.5},\"pattern\":{\"fillmode\":\"overlay\",\"size\":10,\"solidity\":0.2}},\"type\":\"bar\"}],\"scattergeo\":[{\"type\":\"scattergeo\",\"marker\":{\"colorbar\":{\"outlinewidth\":0,\"ticks\":\"\"}}}],\"scatterpolar\":[{\"type\":\"scatterpolar\",\"marker\":{\"colorbar\":{\"outlinewidth\":0,\"ticks\":\"\"}}}],\"histogram\":[{\"marker\":{\"pattern\":{\"fillmode\":\"overlay\",\"size\":10,\"solidity\":0.2}},\"type\":\"histogram\"}],\"scattergl\":[{\"type\":\"scattergl\",\"marker\":{\"colorbar\":{\"outlinewidth\":0,\"ticks\":\"\"}}}],\"scatter3d\":[{\"type\":\"scatter3d\",\"line\":{\"colorbar\":{\"outlinewidth\":0,\"ticks\":\"\"}},\"marker\":{\"colorbar\":{\"outlinewidth\":0,\"ticks\":\"\"}}}],\"scattermapbox\":[{\"type\":\"scattermapbox\",\"marker\":{\"colorbar\":{\"outlinewidth\":0,\"ticks\":\"\"}}}],\"scatterternary\":[{\"type\":\"scatterternary\",\"marker\":{\"colorbar\":{\"outlinewidth\":0,\"ticks\":\"\"}}}],\"scattercarpet\":[{\"type\":\"scattercarpet\",\"marker\":{\"colorbar\":{\"outlinewidth\":0,\"ticks\":\"\"}}}],\"carpet\":[{\"aaxis\":{\"endlinecolor\":\"#2a3f5f\",\"gridcolor\":\"white\",\"linecolor\":\"white\",\"minorgridcolor\":\"white\",\"startlinecolor\":\"#2a3f5f\"},\"baxis\":{\"endlinecolor\":\"#2a3f5f\",\"gridcolor\":\"white\",\"linecolor\":\"white\",\"minorgridcolor\":\"white\",\"startlinecolor\":\"#2a3f5f\"},\"type\":\"carpet\"}],\"table\":[{\"cells\":{\"fill\":{\"color\":\"#EBF0F8\"},\"line\":{\"color\":\"white\"}},\"header\":{\"fill\":{\"color\":\"#C8D4E3\"},\"line\":{\"color\":\"white\"}},\"type\":\"table\"}],\"barpolar\":[{\"marker\":{\"line\":{\"color\":\"#E5ECF6\",\"width\":0.5},\"pattern\":{\"fillmode\":\"overlay\",\"size\":10,\"solidity\":0.2}},\"type\":\"barpolar\"}],\"pie\":[{\"automargin\":true,\"type\":\"pie\"}]},\"layout\":{\"autotypenumbers\":\"strict\",\"colorway\":[\"#636efa\",\"#EF553B\",\"#00cc96\",\"#ab63fa\",\"#FFA15A\",\"#19d3f3\",\"#FF6692\",\"#B6E880\",\"#FF97FF\",\"#FECB52\"],\"font\":{\"color\":\"#2a3f5f\"},\"hovermode\":\"closest\",\"hoverlabel\":{\"align\":\"left\"},\"paper_bgcolor\":\"white\",\"plot_bgcolor\":\"#E5ECF6\",\"polar\":{\"bgcolor\":\"#E5ECF6\",\"angularaxis\":{\"gridcolor\":\"white\",\"linecolor\":\"white\",\"ticks\":\"\"},\"radialaxis\":{\"gridcolor\":\"white\",\"linecolor\":\"white\",\"ticks\":\"\"}},\"ternary\":{\"bgcolor\":\"#E5ECF6\",\"aaxis\":{\"gridcolor\":\"white\",\"linecolor\":\"white\",\"ticks\":\"\"},\"baxis\":{\"gridcolor\":\"white\",\"linecolor\":\"white\",\"ticks\":\"\"},\"caxis\":{\"gridcolor\":\"white\",\"linecolor\":\"white\",\"ticks\":\"\"}},\"coloraxis\":{\"colorbar\":{\"outlinewidth\":0,\"ticks\":\"\"}},\"colorscale\":{\"sequential\":[[0.0,\"#0d0887\"],[0.1111111111111111,\"#46039f\"],[0.2222222222222222,\"#7201a8\"],[0.3333333333333333,\"#9c179e\"],[0.4444444444444444,\"#bd3786\"],[0.5555555555555556,\"#d8576b\"],[0.6666666666666666,\"#ed7953\"],[0.7777777777777778,\"#fb9f3a\"],[0.8888888888888888,\"#fdca26\"],[1.0,\"#f0f921\"]],\"sequentialminus\":[[0.0,\"#0d0887\"],[0.1111111111111111,\"#46039f\"],[0.2222222222222222,\"#7201a8\"],[0.3333333333333333,\"#9c179e\"],[0.4444444444444444,\"#bd3786\"],[0.5555555555555556,\"#d8576b\"],[0.6666666666666666,\"#ed7953\"],[0.7777777777777778,\"#fb9f3a\"],[0.8888888888888888,\"#fdca26\"],[1.0,\"#f0f921\"]],\"diverging\":[[0,\"#8e0152\"],[0.1,\"#c51b7d\"],[0.2,\"#de77ae\"],[0.3,\"#f1b6da\"],[0.4,\"#fde0ef\"],[0.5,\"#f7f7f7\"],[0.6,\"#e6f5d0\"],[0.7,\"#b8e186\"],[0.8,\"#7fbc41\"],[0.9,\"#4d9221\"],[1,\"#276419\"]]},\"xaxis\":{\"gridcolor\":\"white\",\"linecolor\":\"white\",\"ticks\":\"\",\"title\":{\"standoff\":15},\"zerolinecolor\":\"white\",\"automargin\":true,\"zerolinewidth\":2},\"yaxis\":{\"gridcolor\":\"white\",\"linecolor\":\"white\",\"ticks\":\"\",\"title\":{\"standoff\":15},\"zerolinecolor\":\"white\",\"automargin\":true,\"zerolinewidth\":2},\"scene\":{\"xaxis\":{\"backgroundcolor\":\"#E5ECF6\",\"gridcolor\":\"white\",\"linecolor\":\"white\",\"showbackground\":true,\"ticks\":\"\",\"zerolinecolor\":\"white\",\"gridwidth\":2},\"yaxis\":{\"backgroundcolor\":\"#E5ECF6\",\"gridcolor\":\"white\",\"linecolor\":\"white\",\"showbackground\":true,\"ticks\":\"\",\"zerolinecolor\":\"white\",\"gridwidth\":2},\"zaxis\":{\"backgroundcolor\":\"#E5ECF6\",\"gridcolor\":\"white\",\"linecolor\":\"white\",\"showbackground\":true,\"ticks\":\"\",\"zerolinecolor\":\"white\",\"gridwidth\":2}},\"shapedefaults\":{\"line\":{\"color\":\"#2a3f5f\"}},\"annotationdefaults\":{\"arrowcolor\":\"#2a3f5f\",\"arrowhead\":0,\"arrowwidth\":1},\"geo\":{\"bgcolor\":\"white\",\"landcolor\":\"#E5ECF6\",\"subunitcolor\":\"white\",\"showland\":true,\"showlakes\":true,\"lakecolor\":\"white\"},\"title\":{\"x\":0.05},\"mapbox\":{\"style\":\"light\"}}}},                        {\"responsive\": true}                    ).then(function(){\n",
              "                            \n",
              "var gd = document.getElementById('464a3a68-64fe-44c6-8bb1-0fdb0dcfdb75');\n",
              "var x = new MutationObserver(function (mutations, observer) {{\n",
              "        var display = window.getComputedStyle(gd).display;\n",
              "        if (!display || display === 'none') {{\n",
              "            console.log([gd, 'removed!']);\n",
              "            Plotly.purge(gd);\n",
              "            observer.disconnect();\n",
              "        }}\n",
              "}});\n",
              "\n",
              "// Listen for the removal of the full notebook cells\n",
              "var notebookContainer = gd.closest('#notebook-container');\n",
              "if (notebookContainer) {{\n",
              "    x.observe(notebookContainer, {childList: true});\n",
              "}}\n",
              "\n",
              "// Listen for the clearing of the current output cell\n",
              "var outputEl = gd.closest('.output');\n",
              "if (outputEl) {{\n",
              "    x.observe(outputEl, {childList: true});\n",
              "}}\n",
              "\n",
              "                        })                };                            </script>        </div>\n",
              "</body>\n",
              "</html>"
            ]
          },
          "metadata": {}
        },
        {
          "output_type": "stream",
          "name": "stdout",
          "text": [
            "HasDeviceProtection \n",
            "No                     2317\n",
            "Yes                    1824\n",
            "No internet service    1141\n",
            "Name: HasDeviceProtection, dtype: int64 \n",
            "\n"
          ]
        },
        {
          "output_type": "display_data",
          "data": {
            "text/html": [
              "<html>\n",
              "<head><meta charset=\"utf-8\" /></head>\n",
              "<body>\n",
              "    <div>            <script src=\"https://cdnjs.cloudflare.com/ajax/libs/mathjax/2.7.5/MathJax.js?config=TeX-AMS-MML_SVG\"></script><script type=\"text/javascript\">if (window.MathJax && window.MathJax.Hub && window.MathJax.Hub.Config) {window.MathJax.Hub.Config({SVG: {font: \"STIX-Web\"}});}</script>                <script type=\"text/javascript\">window.PlotlyConfig = {MathJaxConfig: 'local'};</script>\n",
              "        <script charset=\"utf-8\" src=\"https://cdn.plot.ly/plotly-2.24.1.min.js\"></script>                <div id=\"a3087cf9-0f50-47c9-b160-89e3c6c39850\" class=\"plotly-graph-div\" style=\"height:525px; width:100%;\"></div>            <script type=\"text/javascript\">                                    window.PLOTLYENV=window.PLOTLYENV || {};                                    if (document.getElementById(\"a3087cf9-0f50-47c9-b160-89e3c6c39850\")) {                    Plotly.newPlot(                        \"a3087cf9-0f50-47c9-b160-89e3c6c39850\",                        [{\"labels\":[\"No\",\"Yes\",\"No internet service\"],\"values\":[2317,1824,1141],\"type\":\"pie\"}],                        {\"template\":{\"data\":{\"histogram2dcontour\":[{\"type\":\"histogram2dcontour\",\"colorbar\":{\"outlinewidth\":0,\"ticks\":\"\"},\"colorscale\":[[0.0,\"#0d0887\"],[0.1111111111111111,\"#46039f\"],[0.2222222222222222,\"#7201a8\"],[0.3333333333333333,\"#9c179e\"],[0.4444444444444444,\"#bd3786\"],[0.5555555555555556,\"#d8576b\"],[0.6666666666666666,\"#ed7953\"],[0.7777777777777778,\"#fb9f3a\"],[0.8888888888888888,\"#fdca26\"],[1.0,\"#f0f921\"]]}],\"choropleth\":[{\"type\":\"choropleth\",\"colorbar\":{\"outlinewidth\":0,\"ticks\":\"\"}}],\"histogram2d\":[{\"type\":\"histogram2d\",\"colorbar\":{\"outlinewidth\":0,\"ticks\":\"\"},\"colorscale\":[[0.0,\"#0d0887\"],[0.1111111111111111,\"#46039f\"],[0.2222222222222222,\"#7201a8\"],[0.3333333333333333,\"#9c179e\"],[0.4444444444444444,\"#bd3786\"],[0.5555555555555556,\"#d8576b\"],[0.6666666666666666,\"#ed7953\"],[0.7777777777777778,\"#fb9f3a\"],[0.8888888888888888,\"#fdca26\"],[1.0,\"#f0f921\"]]}],\"heatmap\":[{\"type\":\"heatmap\",\"colorbar\":{\"outlinewidth\":0,\"ticks\":\"\"},\"colorscale\":[[0.0,\"#0d0887\"],[0.1111111111111111,\"#46039f\"],[0.2222222222222222,\"#7201a8\"],[0.3333333333333333,\"#9c179e\"],[0.4444444444444444,\"#bd3786\"],[0.5555555555555556,\"#d8576b\"],[0.6666666666666666,\"#ed7953\"],[0.7777777777777778,\"#fb9f3a\"],[0.8888888888888888,\"#fdca26\"],[1.0,\"#f0f921\"]]}],\"heatmapgl\":[{\"type\":\"heatmapgl\",\"colorbar\":{\"outlinewidth\":0,\"ticks\":\"\"},\"colorscale\":[[0.0,\"#0d0887\"],[0.1111111111111111,\"#46039f\"],[0.2222222222222222,\"#7201a8\"],[0.3333333333333333,\"#9c179e\"],[0.4444444444444444,\"#bd3786\"],[0.5555555555555556,\"#d8576b\"],[0.6666666666666666,\"#ed7953\"],[0.7777777777777778,\"#fb9f3a\"],[0.8888888888888888,\"#fdca26\"],[1.0,\"#f0f921\"]]}],\"contourcarpet\":[{\"type\":\"contourcarpet\",\"colorbar\":{\"outlinewidth\":0,\"ticks\":\"\"}}],\"contour\":[{\"type\":\"contour\",\"colorbar\":{\"outlinewidth\":0,\"ticks\":\"\"},\"colorscale\":[[0.0,\"#0d0887\"],[0.1111111111111111,\"#46039f\"],[0.2222222222222222,\"#7201a8\"],[0.3333333333333333,\"#9c179e\"],[0.4444444444444444,\"#bd3786\"],[0.5555555555555556,\"#d8576b\"],[0.6666666666666666,\"#ed7953\"],[0.7777777777777778,\"#fb9f3a\"],[0.8888888888888888,\"#fdca26\"],[1.0,\"#f0f921\"]]}],\"surface\":[{\"type\":\"surface\",\"colorbar\":{\"outlinewidth\":0,\"ticks\":\"\"},\"colorscale\":[[0.0,\"#0d0887\"],[0.1111111111111111,\"#46039f\"],[0.2222222222222222,\"#7201a8\"],[0.3333333333333333,\"#9c179e\"],[0.4444444444444444,\"#bd3786\"],[0.5555555555555556,\"#d8576b\"],[0.6666666666666666,\"#ed7953\"],[0.7777777777777778,\"#fb9f3a\"],[0.8888888888888888,\"#fdca26\"],[1.0,\"#f0f921\"]]}],\"mesh3d\":[{\"type\":\"mesh3d\",\"colorbar\":{\"outlinewidth\":0,\"ticks\":\"\"}}],\"scatter\":[{\"fillpattern\":{\"fillmode\":\"overlay\",\"size\":10,\"solidity\":0.2},\"type\":\"scatter\"}],\"parcoords\":[{\"type\":\"parcoords\",\"line\":{\"colorbar\":{\"outlinewidth\":0,\"ticks\":\"\"}}}],\"scatterpolargl\":[{\"type\":\"scatterpolargl\",\"marker\":{\"colorbar\":{\"outlinewidth\":0,\"ticks\":\"\"}}}],\"bar\":[{\"error_x\":{\"color\":\"#2a3f5f\"},\"error_y\":{\"color\":\"#2a3f5f\"},\"marker\":{\"line\":{\"color\":\"#E5ECF6\",\"width\":0.5},\"pattern\":{\"fillmode\":\"overlay\",\"size\":10,\"solidity\":0.2}},\"type\":\"bar\"}],\"scattergeo\":[{\"type\":\"scattergeo\",\"marker\":{\"colorbar\":{\"outlinewidth\":0,\"ticks\":\"\"}}}],\"scatterpolar\":[{\"type\":\"scatterpolar\",\"marker\":{\"colorbar\":{\"outlinewidth\":0,\"ticks\":\"\"}}}],\"histogram\":[{\"marker\":{\"pattern\":{\"fillmode\":\"overlay\",\"size\":10,\"solidity\":0.2}},\"type\":\"histogram\"}],\"scattergl\":[{\"type\":\"scattergl\",\"marker\":{\"colorbar\":{\"outlinewidth\":0,\"ticks\":\"\"}}}],\"scatter3d\":[{\"type\":\"scatter3d\",\"line\":{\"colorbar\":{\"outlinewidth\":0,\"ticks\":\"\"}},\"marker\":{\"colorbar\":{\"outlinewidth\":0,\"ticks\":\"\"}}}],\"scattermapbox\":[{\"type\":\"scattermapbox\",\"marker\":{\"colorbar\":{\"outlinewidth\":0,\"ticks\":\"\"}}}],\"scatterternary\":[{\"type\":\"scatterternary\",\"marker\":{\"colorbar\":{\"outlinewidth\":0,\"ticks\":\"\"}}}],\"scattercarpet\":[{\"type\":\"scattercarpet\",\"marker\":{\"colorbar\":{\"outlinewidth\":0,\"ticks\":\"\"}}}],\"carpet\":[{\"aaxis\":{\"endlinecolor\":\"#2a3f5f\",\"gridcolor\":\"white\",\"linecolor\":\"white\",\"minorgridcolor\":\"white\",\"startlinecolor\":\"#2a3f5f\"},\"baxis\":{\"endlinecolor\":\"#2a3f5f\",\"gridcolor\":\"white\",\"linecolor\":\"white\",\"minorgridcolor\":\"white\",\"startlinecolor\":\"#2a3f5f\"},\"type\":\"carpet\"}],\"table\":[{\"cells\":{\"fill\":{\"color\":\"#EBF0F8\"},\"line\":{\"color\":\"white\"}},\"header\":{\"fill\":{\"color\":\"#C8D4E3\"},\"line\":{\"color\":\"white\"}},\"type\":\"table\"}],\"barpolar\":[{\"marker\":{\"line\":{\"color\":\"#E5ECF6\",\"width\":0.5},\"pattern\":{\"fillmode\":\"overlay\",\"size\":10,\"solidity\":0.2}},\"type\":\"barpolar\"}],\"pie\":[{\"automargin\":true,\"type\":\"pie\"}]},\"layout\":{\"autotypenumbers\":\"strict\",\"colorway\":[\"#636efa\",\"#EF553B\",\"#00cc96\",\"#ab63fa\",\"#FFA15A\",\"#19d3f3\",\"#FF6692\",\"#B6E880\",\"#FF97FF\",\"#FECB52\"],\"font\":{\"color\":\"#2a3f5f\"},\"hovermode\":\"closest\",\"hoverlabel\":{\"align\":\"left\"},\"paper_bgcolor\":\"white\",\"plot_bgcolor\":\"#E5ECF6\",\"polar\":{\"bgcolor\":\"#E5ECF6\",\"angularaxis\":{\"gridcolor\":\"white\",\"linecolor\":\"white\",\"ticks\":\"\"},\"radialaxis\":{\"gridcolor\":\"white\",\"linecolor\":\"white\",\"ticks\":\"\"}},\"ternary\":{\"bgcolor\":\"#E5ECF6\",\"aaxis\":{\"gridcolor\":\"white\",\"linecolor\":\"white\",\"ticks\":\"\"},\"baxis\":{\"gridcolor\":\"white\",\"linecolor\":\"white\",\"ticks\":\"\"},\"caxis\":{\"gridcolor\":\"white\",\"linecolor\":\"white\",\"ticks\":\"\"}},\"coloraxis\":{\"colorbar\":{\"outlinewidth\":0,\"ticks\":\"\"}},\"colorscale\":{\"sequential\":[[0.0,\"#0d0887\"],[0.1111111111111111,\"#46039f\"],[0.2222222222222222,\"#7201a8\"],[0.3333333333333333,\"#9c179e\"],[0.4444444444444444,\"#bd3786\"],[0.5555555555555556,\"#d8576b\"],[0.6666666666666666,\"#ed7953\"],[0.7777777777777778,\"#fb9f3a\"],[0.8888888888888888,\"#fdca26\"],[1.0,\"#f0f921\"]],\"sequentialminus\":[[0.0,\"#0d0887\"],[0.1111111111111111,\"#46039f\"],[0.2222222222222222,\"#7201a8\"],[0.3333333333333333,\"#9c179e\"],[0.4444444444444444,\"#bd3786\"],[0.5555555555555556,\"#d8576b\"],[0.6666666666666666,\"#ed7953\"],[0.7777777777777778,\"#fb9f3a\"],[0.8888888888888888,\"#fdca26\"],[1.0,\"#f0f921\"]],\"diverging\":[[0,\"#8e0152\"],[0.1,\"#c51b7d\"],[0.2,\"#de77ae\"],[0.3,\"#f1b6da\"],[0.4,\"#fde0ef\"],[0.5,\"#f7f7f7\"],[0.6,\"#e6f5d0\"],[0.7,\"#b8e186\"],[0.8,\"#7fbc41\"],[0.9,\"#4d9221\"],[1,\"#276419\"]]},\"xaxis\":{\"gridcolor\":\"white\",\"linecolor\":\"white\",\"ticks\":\"\",\"title\":{\"standoff\":15},\"zerolinecolor\":\"white\",\"automargin\":true,\"zerolinewidth\":2},\"yaxis\":{\"gridcolor\":\"white\",\"linecolor\":\"white\",\"ticks\":\"\",\"title\":{\"standoff\":15},\"zerolinecolor\":\"white\",\"automargin\":true,\"zerolinewidth\":2},\"scene\":{\"xaxis\":{\"backgroundcolor\":\"#E5ECF6\",\"gridcolor\":\"white\",\"linecolor\":\"white\",\"showbackground\":true,\"ticks\":\"\",\"zerolinecolor\":\"white\",\"gridwidth\":2},\"yaxis\":{\"backgroundcolor\":\"#E5ECF6\",\"gridcolor\":\"white\",\"linecolor\":\"white\",\"showbackground\":true,\"ticks\":\"\",\"zerolinecolor\":\"white\",\"gridwidth\":2},\"zaxis\":{\"backgroundcolor\":\"#E5ECF6\",\"gridcolor\":\"white\",\"linecolor\":\"white\",\"showbackground\":true,\"ticks\":\"\",\"zerolinecolor\":\"white\",\"gridwidth\":2}},\"shapedefaults\":{\"line\":{\"color\":\"#2a3f5f\"}},\"annotationdefaults\":{\"arrowcolor\":\"#2a3f5f\",\"arrowhead\":0,\"arrowwidth\":1},\"geo\":{\"bgcolor\":\"white\",\"landcolor\":\"#E5ECF6\",\"subunitcolor\":\"white\",\"showland\":true,\"showlakes\":true,\"lakecolor\":\"white\"},\"title\":{\"x\":0.05},\"mapbox\":{\"style\":\"light\"}}}},                        {\"responsive\": true}                    ).then(function(){\n",
              "                            \n",
              "var gd = document.getElementById('a3087cf9-0f50-47c9-b160-89e3c6c39850');\n",
              "var x = new MutationObserver(function (mutations, observer) {{\n",
              "        var display = window.getComputedStyle(gd).display;\n",
              "        if (!display || display === 'none') {{\n",
              "            console.log([gd, 'removed!']);\n",
              "            Plotly.purge(gd);\n",
              "            observer.disconnect();\n",
              "        }}\n",
              "}});\n",
              "\n",
              "// Listen for the removal of the full notebook cells\n",
              "var notebookContainer = gd.closest('#notebook-container');\n",
              "if (notebookContainer) {{\n",
              "    x.observe(notebookContainer, {childList: true});\n",
              "}}\n",
              "\n",
              "// Listen for the clearing of the current output cell\n",
              "var outputEl = gd.closest('.output');\n",
              "if (outputEl) {{\n",
              "    x.observe(outputEl, {childList: true});\n",
              "}}\n",
              "\n",
              "                        })                };                            </script>        </div>\n",
              "</body>\n",
              "</html>"
            ]
          },
          "metadata": {}
        },
        {
          "output_type": "stream",
          "name": "stdout",
          "text": [
            "HasTechSupportAccess \n",
            "No                     2604\n",
            "Yes                    1537\n",
            "No internet service    1141\n",
            "Name: HasTechSupportAccess, dtype: int64 \n",
            "\n"
          ]
        },
        {
          "output_type": "display_data",
          "data": {
            "text/html": [
              "<html>\n",
              "<head><meta charset=\"utf-8\" /></head>\n",
              "<body>\n",
              "    <div>            <script src=\"https://cdnjs.cloudflare.com/ajax/libs/mathjax/2.7.5/MathJax.js?config=TeX-AMS-MML_SVG\"></script><script type=\"text/javascript\">if (window.MathJax && window.MathJax.Hub && window.MathJax.Hub.Config) {window.MathJax.Hub.Config({SVG: {font: \"STIX-Web\"}});}</script>                <script type=\"text/javascript\">window.PlotlyConfig = {MathJaxConfig: 'local'};</script>\n",
              "        <script charset=\"utf-8\" src=\"https://cdn.plot.ly/plotly-2.24.1.min.js\"></script>                <div id=\"740880da-7be3-4ff9-af8e-99769031cb3a\" class=\"plotly-graph-div\" style=\"height:525px; width:100%;\"></div>            <script type=\"text/javascript\">                                    window.PLOTLYENV=window.PLOTLYENV || {};                                    if (document.getElementById(\"740880da-7be3-4ff9-af8e-99769031cb3a\")) {                    Plotly.newPlot(                        \"740880da-7be3-4ff9-af8e-99769031cb3a\",                        [{\"labels\":[\"No\",\"Yes\",\"No internet service\"],\"values\":[2604,1537,1141],\"type\":\"pie\"}],                        {\"template\":{\"data\":{\"histogram2dcontour\":[{\"type\":\"histogram2dcontour\",\"colorbar\":{\"outlinewidth\":0,\"ticks\":\"\"},\"colorscale\":[[0.0,\"#0d0887\"],[0.1111111111111111,\"#46039f\"],[0.2222222222222222,\"#7201a8\"],[0.3333333333333333,\"#9c179e\"],[0.4444444444444444,\"#bd3786\"],[0.5555555555555556,\"#d8576b\"],[0.6666666666666666,\"#ed7953\"],[0.7777777777777778,\"#fb9f3a\"],[0.8888888888888888,\"#fdca26\"],[1.0,\"#f0f921\"]]}],\"choropleth\":[{\"type\":\"choropleth\",\"colorbar\":{\"outlinewidth\":0,\"ticks\":\"\"}}],\"histogram2d\":[{\"type\":\"histogram2d\",\"colorbar\":{\"outlinewidth\":0,\"ticks\":\"\"},\"colorscale\":[[0.0,\"#0d0887\"],[0.1111111111111111,\"#46039f\"],[0.2222222222222222,\"#7201a8\"],[0.3333333333333333,\"#9c179e\"],[0.4444444444444444,\"#bd3786\"],[0.5555555555555556,\"#d8576b\"],[0.6666666666666666,\"#ed7953\"],[0.7777777777777778,\"#fb9f3a\"],[0.8888888888888888,\"#fdca26\"],[1.0,\"#f0f921\"]]}],\"heatmap\":[{\"type\":\"heatmap\",\"colorbar\":{\"outlinewidth\":0,\"ticks\":\"\"},\"colorscale\":[[0.0,\"#0d0887\"],[0.1111111111111111,\"#46039f\"],[0.2222222222222222,\"#7201a8\"],[0.3333333333333333,\"#9c179e\"],[0.4444444444444444,\"#bd3786\"],[0.5555555555555556,\"#d8576b\"],[0.6666666666666666,\"#ed7953\"],[0.7777777777777778,\"#fb9f3a\"],[0.8888888888888888,\"#fdca26\"],[1.0,\"#f0f921\"]]}],\"heatmapgl\":[{\"type\":\"heatmapgl\",\"colorbar\":{\"outlinewidth\":0,\"ticks\":\"\"},\"colorscale\":[[0.0,\"#0d0887\"],[0.1111111111111111,\"#46039f\"],[0.2222222222222222,\"#7201a8\"],[0.3333333333333333,\"#9c179e\"],[0.4444444444444444,\"#bd3786\"],[0.5555555555555556,\"#d8576b\"],[0.6666666666666666,\"#ed7953\"],[0.7777777777777778,\"#fb9f3a\"],[0.8888888888888888,\"#fdca26\"],[1.0,\"#f0f921\"]]}],\"contourcarpet\":[{\"type\":\"contourcarpet\",\"colorbar\":{\"outlinewidth\":0,\"ticks\":\"\"}}],\"contour\":[{\"type\":\"contour\",\"colorbar\":{\"outlinewidth\":0,\"ticks\":\"\"},\"colorscale\":[[0.0,\"#0d0887\"],[0.1111111111111111,\"#46039f\"],[0.2222222222222222,\"#7201a8\"],[0.3333333333333333,\"#9c179e\"],[0.4444444444444444,\"#bd3786\"],[0.5555555555555556,\"#d8576b\"],[0.6666666666666666,\"#ed7953\"],[0.7777777777777778,\"#fb9f3a\"],[0.8888888888888888,\"#fdca26\"],[1.0,\"#f0f921\"]]}],\"surface\":[{\"type\":\"surface\",\"colorbar\":{\"outlinewidth\":0,\"ticks\":\"\"},\"colorscale\":[[0.0,\"#0d0887\"],[0.1111111111111111,\"#46039f\"],[0.2222222222222222,\"#7201a8\"],[0.3333333333333333,\"#9c179e\"],[0.4444444444444444,\"#bd3786\"],[0.5555555555555556,\"#d8576b\"],[0.6666666666666666,\"#ed7953\"],[0.7777777777777778,\"#fb9f3a\"],[0.8888888888888888,\"#fdca26\"],[1.0,\"#f0f921\"]]}],\"mesh3d\":[{\"type\":\"mesh3d\",\"colorbar\":{\"outlinewidth\":0,\"ticks\":\"\"}}],\"scatter\":[{\"fillpattern\":{\"fillmode\":\"overlay\",\"size\":10,\"solidity\":0.2},\"type\":\"scatter\"}],\"parcoords\":[{\"type\":\"parcoords\",\"line\":{\"colorbar\":{\"outlinewidth\":0,\"ticks\":\"\"}}}],\"scatterpolargl\":[{\"type\":\"scatterpolargl\",\"marker\":{\"colorbar\":{\"outlinewidth\":0,\"ticks\":\"\"}}}],\"bar\":[{\"error_x\":{\"color\":\"#2a3f5f\"},\"error_y\":{\"color\":\"#2a3f5f\"},\"marker\":{\"line\":{\"color\":\"#E5ECF6\",\"width\":0.5},\"pattern\":{\"fillmode\":\"overlay\",\"size\":10,\"solidity\":0.2}},\"type\":\"bar\"}],\"scattergeo\":[{\"type\":\"scattergeo\",\"marker\":{\"colorbar\":{\"outlinewidth\":0,\"ticks\":\"\"}}}],\"scatterpolar\":[{\"type\":\"scatterpolar\",\"marker\":{\"colorbar\":{\"outlinewidth\":0,\"ticks\":\"\"}}}],\"histogram\":[{\"marker\":{\"pattern\":{\"fillmode\":\"overlay\",\"size\":10,\"solidity\":0.2}},\"type\":\"histogram\"}],\"scattergl\":[{\"type\":\"scattergl\",\"marker\":{\"colorbar\":{\"outlinewidth\":0,\"ticks\":\"\"}}}],\"scatter3d\":[{\"type\":\"scatter3d\",\"line\":{\"colorbar\":{\"outlinewidth\":0,\"ticks\":\"\"}},\"marker\":{\"colorbar\":{\"outlinewidth\":0,\"ticks\":\"\"}}}],\"scattermapbox\":[{\"type\":\"scattermapbox\",\"marker\":{\"colorbar\":{\"outlinewidth\":0,\"ticks\":\"\"}}}],\"scatterternary\":[{\"type\":\"scatterternary\",\"marker\":{\"colorbar\":{\"outlinewidth\":0,\"ticks\":\"\"}}}],\"scattercarpet\":[{\"type\":\"scattercarpet\",\"marker\":{\"colorbar\":{\"outlinewidth\":0,\"ticks\":\"\"}}}],\"carpet\":[{\"aaxis\":{\"endlinecolor\":\"#2a3f5f\",\"gridcolor\":\"white\",\"linecolor\":\"white\",\"minorgridcolor\":\"white\",\"startlinecolor\":\"#2a3f5f\"},\"baxis\":{\"endlinecolor\":\"#2a3f5f\",\"gridcolor\":\"white\",\"linecolor\":\"white\",\"minorgridcolor\":\"white\",\"startlinecolor\":\"#2a3f5f\"},\"type\":\"carpet\"}],\"table\":[{\"cells\":{\"fill\":{\"color\":\"#EBF0F8\"},\"line\":{\"color\":\"white\"}},\"header\":{\"fill\":{\"color\":\"#C8D4E3\"},\"line\":{\"color\":\"white\"}},\"type\":\"table\"}],\"barpolar\":[{\"marker\":{\"line\":{\"color\":\"#E5ECF6\",\"width\":0.5},\"pattern\":{\"fillmode\":\"overlay\",\"size\":10,\"solidity\":0.2}},\"type\":\"barpolar\"}],\"pie\":[{\"automargin\":true,\"type\":\"pie\"}]},\"layout\":{\"autotypenumbers\":\"strict\",\"colorway\":[\"#636efa\",\"#EF553B\",\"#00cc96\",\"#ab63fa\",\"#FFA15A\",\"#19d3f3\",\"#FF6692\",\"#B6E880\",\"#FF97FF\",\"#FECB52\"],\"font\":{\"color\":\"#2a3f5f\"},\"hovermode\":\"closest\",\"hoverlabel\":{\"align\":\"left\"},\"paper_bgcolor\":\"white\",\"plot_bgcolor\":\"#E5ECF6\",\"polar\":{\"bgcolor\":\"#E5ECF6\",\"angularaxis\":{\"gridcolor\":\"white\",\"linecolor\":\"white\",\"ticks\":\"\"},\"radialaxis\":{\"gridcolor\":\"white\",\"linecolor\":\"white\",\"ticks\":\"\"}},\"ternary\":{\"bgcolor\":\"#E5ECF6\",\"aaxis\":{\"gridcolor\":\"white\",\"linecolor\":\"white\",\"ticks\":\"\"},\"baxis\":{\"gridcolor\":\"white\",\"linecolor\":\"white\",\"ticks\":\"\"},\"caxis\":{\"gridcolor\":\"white\",\"linecolor\":\"white\",\"ticks\":\"\"}},\"coloraxis\":{\"colorbar\":{\"outlinewidth\":0,\"ticks\":\"\"}},\"colorscale\":{\"sequential\":[[0.0,\"#0d0887\"],[0.1111111111111111,\"#46039f\"],[0.2222222222222222,\"#7201a8\"],[0.3333333333333333,\"#9c179e\"],[0.4444444444444444,\"#bd3786\"],[0.5555555555555556,\"#d8576b\"],[0.6666666666666666,\"#ed7953\"],[0.7777777777777778,\"#fb9f3a\"],[0.8888888888888888,\"#fdca26\"],[1.0,\"#f0f921\"]],\"sequentialminus\":[[0.0,\"#0d0887\"],[0.1111111111111111,\"#46039f\"],[0.2222222222222222,\"#7201a8\"],[0.3333333333333333,\"#9c179e\"],[0.4444444444444444,\"#bd3786\"],[0.5555555555555556,\"#d8576b\"],[0.6666666666666666,\"#ed7953\"],[0.7777777777777778,\"#fb9f3a\"],[0.8888888888888888,\"#fdca26\"],[1.0,\"#f0f921\"]],\"diverging\":[[0,\"#8e0152\"],[0.1,\"#c51b7d\"],[0.2,\"#de77ae\"],[0.3,\"#f1b6da\"],[0.4,\"#fde0ef\"],[0.5,\"#f7f7f7\"],[0.6,\"#e6f5d0\"],[0.7,\"#b8e186\"],[0.8,\"#7fbc41\"],[0.9,\"#4d9221\"],[1,\"#276419\"]]},\"xaxis\":{\"gridcolor\":\"white\",\"linecolor\":\"white\",\"ticks\":\"\",\"title\":{\"standoff\":15},\"zerolinecolor\":\"white\",\"automargin\":true,\"zerolinewidth\":2},\"yaxis\":{\"gridcolor\":\"white\",\"linecolor\":\"white\",\"ticks\":\"\",\"title\":{\"standoff\":15},\"zerolinecolor\":\"white\",\"automargin\":true,\"zerolinewidth\":2},\"scene\":{\"xaxis\":{\"backgroundcolor\":\"#E5ECF6\",\"gridcolor\":\"white\",\"linecolor\":\"white\",\"showbackground\":true,\"ticks\":\"\",\"zerolinecolor\":\"white\",\"gridwidth\":2},\"yaxis\":{\"backgroundcolor\":\"#E5ECF6\",\"gridcolor\":\"white\",\"linecolor\":\"white\",\"showbackground\":true,\"ticks\":\"\",\"zerolinecolor\":\"white\",\"gridwidth\":2},\"zaxis\":{\"backgroundcolor\":\"#E5ECF6\",\"gridcolor\":\"white\",\"linecolor\":\"white\",\"showbackground\":true,\"ticks\":\"\",\"zerolinecolor\":\"white\",\"gridwidth\":2}},\"shapedefaults\":{\"line\":{\"color\":\"#2a3f5f\"}},\"annotationdefaults\":{\"arrowcolor\":\"#2a3f5f\",\"arrowhead\":0,\"arrowwidth\":1},\"geo\":{\"bgcolor\":\"white\",\"landcolor\":\"#E5ECF6\",\"subunitcolor\":\"white\",\"showland\":true,\"showlakes\":true,\"lakecolor\":\"white\"},\"title\":{\"x\":0.05},\"mapbox\":{\"style\":\"light\"}}}},                        {\"responsive\": true}                    ).then(function(){\n",
              "                            \n",
              "var gd = document.getElementById('740880da-7be3-4ff9-af8e-99769031cb3a');\n",
              "var x = new MutationObserver(function (mutations, observer) {{\n",
              "        var display = window.getComputedStyle(gd).display;\n",
              "        if (!display || display === 'none') {{\n",
              "            console.log([gd, 'removed!']);\n",
              "            Plotly.purge(gd);\n",
              "            observer.disconnect();\n",
              "        }}\n",
              "}});\n",
              "\n",
              "// Listen for the removal of the full notebook cells\n",
              "var notebookContainer = gd.closest('#notebook-container');\n",
              "if (notebookContainer) {{\n",
              "    x.observe(notebookContainer, {childList: true});\n",
              "}}\n",
              "\n",
              "// Listen for the clearing of the current output cell\n",
              "var outputEl = gd.closest('.output');\n",
              "if (outputEl) {{\n",
              "    x.observe(outputEl, {childList: true});\n",
              "}}\n",
              "\n",
              "                        })                };                            </script>        </div>\n",
              "</body>\n",
              "</html>"
            ]
          },
          "metadata": {}
        },
        {
          "output_type": "stream",
          "name": "stdout",
          "text": [
            "HasOnlineTV \n",
            "No                     2099\n",
            "Yes                    2042\n",
            "No internet service    1141\n",
            "Name: HasOnlineTV, dtype: int64 \n",
            "\n"
          ]
        },
        {
          "output_type": "display_data",
          "data": {
            "text/html": [
              "<html>\n",
              "<head><meta charset=\"utf-8\" /></head>\n",
              "<body>\n",
              "    <div>            <script src=\"https://cdnjs.cloudflare.com/ajax/libs/mathjax/2.7.5/MathJax.js?config=TeX-AMS-MML_SVG\"></script><script type=\"text/javascript\">if (window.MathJax && window.MathJax.Hub && window.MathJax.Hub.Config) {window.MathJax.Hub.Config({SVG: {font: \"STIX-Web\"}});}</script>                <script type=\"text/javascript\">window.PlotlyConfig = {MathJaxConfig: 'local'};</script>\n",
              "        <script charset=\"utf-8\" src=\"https://cdn.plot.ly/plotly-2.24.1.min.js\"></script>                <div id=\"d3d32a79-0d0e-4a15-8089-d15376db9eb9\" class=\"plotly-graph-div\" style=\"height:525px; width:100%;\"></div>            <script type=\"text/javascript\">                                    window.PLOTLYENV=window.PLOTLYENV || {};                                    if (document.getElementById(\"d3d32a79-0d0e-4a15-8089-d15376db9eb9\")) {                    Plotly.newPlot(                        \"d3d32a79-0d0e-4a15-8089-d15376db9eb9\",                        [{\"labels\":[\"No\",\"Yes\",\"No internet service\"],\"values\":[2099,2042,1141],\"type\":\"pie\"}],                        {\"template\":{\"data\":{\"histogram2dcontour\":[{\"type\":\"histogram2dcontour\",\"colorbar\":{\"outlinewidth\":0,\"ticks\":\"\"},\"colorscale\":[[0.0,\"#0d0887\"],[0.1111111111111111,\"#46039f\"],[0.2222222222222222,\"#7201a8\"],[0.3333333333333333,\"#9c179e\"],[0.4444444444444444,\"#bd3786\"],[0.5555555555555556,\"#d8576b\"],[0.6666666666666666,\"#ed7953\"],[0.7777777777777778,\"#fb9f3a\"],[0.8888888888888888,\"#fdca26\"],[1.0,\"#f0f921\"]]}],\"choropleth\":[{\"type\":\"choropleth\",\"colorbar\":{\"outlinewidth\":0,\"ticks\":\"\"}}],\"histogram2d\":[{\"type\":\"histogram2d\",\"colorbar\":{\"outlinewidth\":0,\"ticks\":\"\"},\"colorscale\":[[0.0,\"#0d0887\"],[0.1111111111111111,\"#46039f\"],[0.2222222222222222,\"#7201a8\"],[0.3333333333333333,\"#9c179e\"],[0.4444444444444444,\"#bd3786\"],[0.5555555555555556,\"#d8576b\"],[0.6666666666666666,\"#ed7953\"],[0.7777777777777778,\"#fb9f3a\"],[0.8888888888888888,\"#fdca26\"],[1.0,\"#f0f921\"]]}],\"heatmap\":[{\"type\":\"heatmap\",\"colorbar\":{\"outlinewidth\":0,\"ticks\":\"\"},\"colorscale\":[[0.0,\"#0d0887\"],[0.1111111111111111,\"#46039f\"],[0.2222222222222222,\"#7201a8\"],[0.3333333333333333,\"#9c179e\"],[0.4444444444444444,\"#bd3786\"],[0.5555555555555556,\"#d8576b\"],[0.6666666666666666,\"#ed7953\"],[0.7777777777777778,\"#fb9f3a\"],[0.8888888888888888,\"#fdca26\"],[1.0,\"#f0f921\"]]}],\"heatmapgl\":[{\"type\":\"heatmapgl\",\"colorbar\":{\"outlinewidth\":0,\"ticks\":\"\"},\"colorscale\":[[0.0,\"#0d0887\"],[0.1111111111111111,\"#46039f\"],[0.2222222222222222,\"#7201a8\"],[0.3333333333333333,\"#9c179e\"],[0.4444444444444444,\"#bd3786\"],[0.5555555555555556,\"#d8576b\"],[0.6666666666666666,\"#ed7953\"],[0.7777777777777778,\"#fb9f3a\"],[0.8888888888888888,\"#fdca26\"],[1.0,\"#f0f921\"]]}],\"contourcarpet\":[{\"type\":\"contourcarpet\",\"colorbar\":{\"outlinewidth\":0,\"ticks\":\"\"}}],\"contour\":[{\"type\":\"contour\",\"colorbar\":{\"outlinewidth\":0,\"ticks\":\"\"},\"colorscale\":[[0.0,\"#0d0887\"],[0.1111111111111111,\"#46039f\"],[0.2222222222222222,\"#7201a8\"],[0.3333333333333333,\"#9c179e\"],[0.4444444444444444,\"#bd3786\"],[0.5555555555555556,\"#d8576b\"],[0.6666666666666666,\"#ed7953\"],[0.7777777777777778,\"#fb9f3a\"],[0.8888888888888888,\"#fdca26\"],[1.0,\"#f0f921\"]]}],\"surface\":[{\"type\":\"surface\",\"colorbar\":{\"outlinewidth\":0,\"ticks\":\"\"},\"colorscale\":[[0.0,\"#0d0887\"],[0.1111111111111111,\"#46039f\"],[0.2222222222222222,\"#7201a8\"],[0.3333333333333333,\"#9c179e\"],[0.4444444444444444,\"#bd3786\"],[0.5555555555555556,\"#d8576b\"],[0.6666666666666666,\"#ed7953\"],[0.7777777777777778,\"#fb9f3a\"],[0.8888888888888888,\"#fdca26\"],[1.0,\"#f0f921\"]]}],\"mesh3d\":[{\"type\":\"mesh3d\",\"colorbar\":{\"outlinewidth\":0,\"ticks\":\"\"}}],\"scatter\":[{\"fillpattern\":{\"fillmode\":\"overlay\",\"size\":10,\"solidity\":0.2},\"type\":\"scatter\"}],\"parcoords\":[{\"type\":\"parcoords\",\"line\":{\"colorbar\":{\"outlinewidth\":0,\"ticks\":\"\"}}}],\"scatterpolargl\":[{\"type\":\"scatterpolargl\",\"marker\":{\"colorbar\":{\"outlinewidth\":0,\"ticks\":\"\"}}}],\"bar\":[{\"error_x\":{\"color\":\"#2a3f5f\"},\"error_y\":{\"color\":\"#2a3f5f\"},\"marker\":{\"line\":{\"color\":\"#E5ECF6\",\"width\":0.5},\"pattern\":{\"fillmode\":\"overlay\",\"size\":10,\"solidity\":0.2}},\"type\":\"bar\"}],\"scattergeo\":[{\"type\":\"scattergeo\",\"marker\":{\"colorbar\":{\"outlinewidth\":0,\"ticks\":\"\"}}}],\"scatterpolar\":[{\"type\":\"scatterpolar\",\"marker\":{\"colorbar\":{\"outlinewidth\":0,\"ticks\":\"\"}}}],\"histogram\":[{\"marker\":{\"pattern\":{\"fillmode\":\"overlay\",\"size\":10,\"solidity\":0.2}},\"type\":\"histogram\"}],\"scattergl\":[{\"type\":\"scattergl\",\"marker\":{\"colorbar\":{\"outlinewidth\":0,\"ticks\":\"\"}}}],\"scatter3d\":[{\"type\":\"scatter3d\",\"line\":{\"colorbar\":{\"outlinewidth\":0,\"ticks\":\"\"}},\"marker\":{\"colorbar\":{\"outlinewidth\":0,\"ticks\":\"\"}}}],\"scattermapbox\":[{\"type\":\"scattermapbox\",\"marker\":{\"colorbar\":{\"outlinewidth\":0,\"ticks\":\"\"}}}],\"scatterternary\":[{\"type\":\"scatterternary\",\"marker\":{\"colorbar\":{\"outlinewidth\":0,\"ticks\":\"\"}}}],\"scattercarpet\":[{\"type\":\"scattercarpet\",\"marker\":{\"colorbar\":{\"outlinewidth\":0,\"ticks\":\"\"}}}],\"carpet\":[{\"aaxis\":{\"endlinecolor\":\"#2a3f5f\",\"gridcolor\":\"white\",\"linecolor\":\"white\",\"minorgridcolor\":\"white\",\"startlinecolor\":\"#2a3f5f\"},\"baxis\":{\"endlinecolor\":\"#2a3f5f\",\"gridcolor\":\"white\",\"linecolor\":\"white\",\"minorgridcolor\":\"white\",\"startlinecolor\":\"#2a3f5f\"},\"type\":\"carpet\"}],\"table\":[{\"cells\":{\"fill\":{\"color\":\"#EBF0F8\"},\"line\":{\"color\":\"white\"}},\"header\":{\"fill\":{\"color\":\"#C8D4E3\"},\"line\":{\"color\":\"white\"}},\"type\":\"table\"}],\"barpolar\":[{\"marker\":{\"line\":{\"color\":\"#E5ECF6\",\"width\":0.5},\"pattern\":{\"fillmode\":\"overlay\",\"size\":10,\"solidity\":0.2}},\"type\":\"barpolar\"}],\"pie\":[{\"automargin\":true,\"type\":\"pie\"}]},\"layout\":{\"autotypenumbers\":\"strict\",\"colorway\":[\"#636efa\",\"#EF553B\",\"#00cc96\",\"#ab63fa\",\"#FFA15A\",\"#19d3f3\",\"#FF6692\",\"#B6E880\",\"#FF97FF\",\"#FECB52\"],\"font\":{\"color\":\"#2a3f5f\"},\"hovermode\":\"closest\",\"hoverlabel\":{\"align\":\"left\"},\"paper_bgcolor\":\"white\",\"plot_bgcolor\":\"#E5ECF6\",\"polar\":{\"bgcolor\":\"#E5ECF6\",\"angularaxis\":{\"gridcolor\":\"white\",\"linecolor\":\"white\",\"ticks\":\"\"},\"radialaxis\":{\"gridcolor\":\"white\",\"linecolor\":\"white\",\"ticks\":\"\"}},\"ternary\":{\"bgcolor\":\"#E5ECF6\",\"aaxis\":{\"gridcolor\":\"white\",\"linecolor\":\"white\",\"ticks\":\"\"},\"baxis\":{\"gridcolor\":\"white\",\"linecolor\":\"white\",\"ticks\":\"\"},\"caxis\":{\"gridcolor\":\"white\",\"linecolor\":\"white\",\"ticks\":\"\"}},\"coloraxis\":{\"colorbar\":{\"outlinewidth\":0,\"ticks\":\"\"}},\"colorscale\":{\"sequential\":[[0.0,\"#0d0887\"],[0.1111111111111111,\"#46039f\"],[0.2222222222222222,\"#7201a8\"],[0.3333333333333333,\"#9c179e\"],[0.4444444444444444,\"#bd3786\"],[0.5555555555555556,\"#d8576b\"],[0.6666666666666666,\"#ed7953\"],[0.7777777777777778,\"#fb9f3a\"],[0.8888888888888888,\"#fdca26\"],[1.0,\"#f0f921\"]],\"sequentialminus\":[[0.0,\"#0d0887\"],[0.1111111111111111,\"#46039f\"],[0.2222222222222222,\"#7201a8\"],[0.3333333333333333,\"#9c179e\"],[0.4444444444444444,\"#bd3786\"],[0.5555555555555556,\"#d8576b\"],[0.6666666666666666,\"#ed7953\"],[0.7777777777777778,\"#fb9f3a\"],[0.8888888888888888,\"#fdca26\"],[1.0,\"#f0f921\"]],\"diverging\":[[0,\"#8e0152\"],[0.1,\"#c51b7d\"],[0.2,\"#de77ae\"],[0.3,\"#f1b6da\"],[0.4,\"#fde0ef\"],[0.5,\"#f7f7f7\"],[0.6,\"#e6f5d0\"],[0.7,\"#b8e186\"],[0.8,\"#7fbc41\"],[0.9,\"#4d9221\"],[1,\"#276419\"]]},\"xaxis\":{\"gridcolor\":\"white\",\"linecolor\":\"white\",\"ticks\":\"\",\"title\":{\"standoff\":15},\"zerolinecolor\":\"white\",\"automargin\":true,\"zerolinewidth\":2},\"yaxis\":{\"gridcolor\":\"white\",\"linecolor\":\"white\",\"ticks\":\"\",\"title\":{\"standoff\":15},\"zerolinecolor\":\"white\",\"automargin\":true,\"zerolinewidth\":2},\"scene\":{\"xaxis\":{\"backgroundcolor\":\"#E5ECF6\",\"gridcolor\":\"white\",\"linecolor\":\"white\",\"showbackground\":true,\"ticks\":\"\",\"zerolinecolor\":\"white\",\"gridwidth\":2},\"yaxis\":{\"backgroundcolor\":\"#E5ECF6\",\"gridcolor\":\"white\",\"linecolor\":\"white\",\"showbackground\":true,\"ticks\":\"\",\"zerolinecolor\":\"white\",\"gridwidth\":2},\"zaxis\":{\"backgroundcolor\":\"#E5ECF6\",\"gridcolor\":\"white\",\"linecolor\":\"white\",\"showbackground\":true,\"ticks\":\"\",\"zerolinecolor\":\"white\",\"gridwidth\":2}},\"shapedefaults\":{\"line\":{\"color\":\"#2a3f5f\"}},\"annotationdefaults\":{\"arrowcolor\":\"#2a3f5f\",\"arrowhead\":0,\"arrowwidth\":1},\"geo\":{\"bgcolor\":\"white\",\"landcolor\":\"#E5ECF6\",\"subunitcolor\":\"white\",\"showland\":true,\"showlakes\":true,\"lakecolor\":\"white\"},\"title\":{\"x\":0.05},\"mapbox\":{\"style\":\"light\"}}}},                        {\"responsive\": true}                    ).then(function(){\n",
              "                            \n",
              "var gd = document.getElementById('d3d32a79-0d0e-4a15-8089-d15376db9eb9');\n",
              "var x = new MutationObserver(function (mutations, observer) {{\n",
              "        var display = window.getComputedStyle(gd).display;\n",
              "        if (!display || display === 'none') {{\n",
              "            console.log([gd, 'removed!']);\n",
              "            Plotly.purge(gd);\n",
              "            observer.disconnect();\n",
              "        }}\n",
              "}});\n",
              "\n",
              "// Listen for the removal of the full notebook cells\n",
              "var notebookContainer = gd.closest('#notebook-container');\n",
              "if (notebookContainer) {{\n",
              "    x.observe(notebookContainer, {childList: true});\n",
              "}}\n",
              "\n",
              "// Listen for the clearing of the current output cell\n",
              "var outputEl = gd.closest('.output');\n",
              "if (outputEl) {{\n",
              "    x.observe(outputEl, {childList: true});\n",
              "}}\n",
              "\n",
              "                        })                };                            </script>        </div>\n",
              "</body>\n",
              "</html>"
            ]
          },
          "metadata": {}
        },
        {
          "output_type": "stream",
          "name": "stdout",
          "text": [
            "HasMovieSubscription \n",
            "No                     2081\n",
            "Yes                    2060\n",
            "No internet service    1141\n",
            "Name: HasMovieSubscription, dtype: int64 \n",
            "\n"
          ]
        },
        {
          "output_type": "display_data",
          "data": {
            "text/html": [
              "<html>\n",
              "<head><meta charset=\"utf-8\" /></head>\n",
              "<body>\n",
              "    <div>            <script src=\"https://cdnjs.cloudflare.com/ajax/libs/mathjax/2.7.5/MathJax.js?config=TeX-AMS-MML_SVG\"></script><script type=\"text/javascript\">if (window.MathJax && window.MathJax.Hub && window.MathJax.Hub.Config) {window.MathJax.Hub.Config({SVG: {font: \"STIX-Web\"}});}</script>                <script type=\"text/javascript\">window.PlotlyConfig = {MathJaxConfig: 'local'};</script>\n",
              "        <script charset=\"utf-8\" src=\"https://cdn.plot.ly/plotly-2.24.1.min.js\"></script>                <div id=\"21126e5d-e769-4ae3-9089-f70b49c9c90c\" class=\"plotly-graph-div\" style=\"height:525px; width:100%;\"></div>            <script type=\"text/javascript\">                                    window.PLOTLYENV=window.PLOTLYENV || {};                                    if (document.getElementById(\"21126e5d-e769-4ae3-9089-f70b49c9c90c\")) {                    Plotly.newPlot(                        \"21126e5d-e769-4ae3-9089-f70b49c9c90c\",                        [{\"labels\":[\"No\",\"Yes\",\"No internet service\"],\"values\":[2081,2060,1141],\"type\":\"pie\"}],                        {\"template\":{\"data\":{\"histogram2dcontour\":[{\"type\":\"histogram2dcontour\",\"colorbar\":{\"outlinewidth\":0,\"ticks\":\"\"},\"colorscale\":[[0.0,\"#0d0887\"],[0.1111111111111111,\"#46039f\"],[0.2222222222222222,\"#7201a8\"],[0.3333333333333333,\"#9c179e\"],[0.4444444444444444,\"#bd3786\"],[0.5555555555555556,\"#d8576b\"],[0.6666666666666666,\"#ed7953\"],[0.7777777777777778,\"#fb9f3a\"],[0.8888888888888888,\"#fdca26\"],[1.0,\"#f0f921\"]]}],\"choropleth\":[{\"type\":\"choropleth\",\"colorbar\":{\"outlinewidth\":0,\"ticks\":\"\"}}],\"histogram2d\":[{\"type\":\"histogram2d\",\"colorbar\":{\"outlinewidth\":0,\"ticks\":\"\"},\"colorscale\":[[0.0,\"#0d0887\"],[0.1111111111111111,\"#46039f\"],[0.2222222222222222,\"#7201a8\"],[0.3333333333333333,\"#9c179e\"],[0.4444444444444444,\"#bd3786\"],[0.5555555555555556,\"#d8576b\"],[0.6666666666666666,\"#ed7953\"],[0.7777777777777778,\"#fb9f3a\"],[0.8888888888888888,\"#fdca26\"],[1.0,\"#f0f921\"]]}],\"heatmap\":[{\"type\":\"heatmap\",\"colorbar\":{\"outlinewidth\":0,\"ticks\":\"\"},\"colorscale\":[[0.0,\"#0d0887\"],[0.1111111111111111,\"#46039f\"],[0.2222222222222222,\"#7201a8\"],[0.3333333333333333,\"#9c179e\"],[0.4444444444444444,\"#bd3786\"],[0.5555555555555556,\"#d8576b\"],[0.6666666666666666,\"#ed7953\"],[0.7777777777777778,\"#fb9f3a\"],[0.8888888888888888,\"#fdca26\"],[1.0,\"#f0f921\"]]}],\"heatmapgl\":[{\"type\":\"heatmapgl\",\"colorbar\":{\"outlinewidth\":0,\"ticks\":\"\"},\"colorscale\":[[0.0,\"#0d0887\"],[0.1111111111111111,\"#46039f\"],[0.2222222222222222,\"#7201a8\"],[0.3333333333333333,\"#9c179e\"],[0.4444444444444444,\"#bd3786\"],[0.5555555555555556,\"#d8576b\"],[0.6666666666666666,\"#ed7953\"],[0.7777777777777778,\"#fb9f3a\"],[0.8888888888888888,\"#fdca26\"],[1.0,\"#f0f921\"]]}],\"contourcarpet\":[{\"type\":\"contourcarpet\",\"colorbar\":{\"outlinewidth\":0,\"ticks\":\"\"}}],\"contour\":[{\"type\":\"contour\",\"colorbar\":{\"outlinewidth\":0,\"ticks\":\"\"},\"colorscale\":[[0.0,\"#0d0887\"],[0.1111111111111111,\"#46039f\"],[0.2222222222222222,\"#7201a8\"],[0.3333333333333333,\"#9c179e\"],[0.4444444444444444,\"#bd3786\"],[0.5555555555555556,\"#d8576b\"],[0.6666666666666666,\"#ed7953\"],[0.7777777777777778,\"#fb9f3a\"],[0.8888888888888888,\"#fdca26\"],[1.0,\"#f0f921\"]]}],\"surface\":[{\"type\":\"surface\",\"colorbar\":{\"outlinewidth\":0,\"ticks\":\"\"},\"colorscale\":[[0.0,\"#0d0887\"],[0.1111111111111111,\"#46039f\"],[0.2222222222222222,\"#7201a8\"],[0.3333333333333333,\"#9c179e\"],[0.4444444444444444,\"#bd3786\"],[0.5555555555555556,\"#d8576b\"],[0.6666666666666666,\"#ed7953\"],[0.7777777777777778,\"#fb9f3a\"],[0.8888888888888888,\"#fdca26\"],[1.0,\"#f0f921\"]]}],\"mesh3d\":[{\"type\":\"mesh3d\",\"colorbar\":{\"outlinewidth\":0,\"ticks\":\"\"}}],\"scatter\":[{\"fillpattern\":{\"fillmode\":\"overlay\",\"size\":10,\"solidity\":0.2},\"type\":\"scatter\"}],\"parcoords\":[{\"type\":\"parcoords\",\"line\":{\"colorbar\":{\"outlinewidth\":0,\"ticks\":\"\"}}}],\"scatterpolargl\":[{\"type\":\"scatterpolargl\",\"marker\":{\"colorbar\":{\"outlinewidth\":0,\"ticks\":\"\"}}}],\"bar\":[{\"error_x\":{\"color\":\"#2a3f5f\"},\"error_y\":{\"color\":\"#2a3f5f\"},\"marker\":{\"line\":{\"color\":\"#E5ECF6\",\"width\":0.5},\"pattern\":{\"fillmode\":\"overlay\",\"size\":10,\"solidity\":0.2}},\"type\":\"bar\"}],\"scattergeo\":[{\"type\":\"scattergeo\",\"marker\":{\"colorbar\":{\"outlinewidth\":0,\"ticks\":\"\"}}}],\"scatterpolar\":[{\"type\":\"scatterpolar\",\"marker\":{\"colorbar\":{\"outlinewidth\":0,\"ticks\":\"\"}}}],\"histogram\":[{\"marker\":{\"pattern\":{\"fillmode\":\"overlay\",\"size\":10,\"solidity\":0.2}},\"type\":\"histogram\"}],\"scattergl\":[{\"type\":\"scattergl\",\"marker\":{\"colorbar\":{\"outlinewidth\":0,\"ticks\":\"\"}}}],\"scatter3d\":[{\"type\":\"scatter3d\",\"line\":{\"colorbar\":{\"outlinewidth\":0,\"ticks\":\"\"}},\"marker\":{\"colorbar\":{\"outlinewidth\":0,\"ticks\":\"\"}}}],\"scattermapbox\":[{\"type\":\"scattermapbox\",\"marker\":{\"colorbar\":{\"outlinewidth\":0,\"ticks\":\"\"}}}],\"scatterternary\":[{\"type\":\"scatterternary\",\"marker\":{\"colorbar\":{\"outlinewidth\":0,\"ticks\":\"\"}}}],\"scattercarpet\":[{\"type\":\"scattercarpet\",\"marker\":{\"colorbar\":{\"outlinewidth\":0,\"ticks\":\"\"}}}],\"carpet\":[{\"aaxis\":{\"endlinecolor\":\"#2a3f5f\",\"gridcolor\":\"white\",\"linecolor\":\"white\",\"minorgridcolor\":\"white\",\"startlinecolor\":\"#2a3f5f\"},\"baxis\":{\"endlinecolor\":\"#2a3f5f\",\"gridcolor\":\"white\",\"linecolor\":\"white\",\"minorgridcolor\":\"white\",\"startlinecolor\":\"#2a3f5f\"},\"type\":\"carpet\"}],\"table\":[{\"cells\":{\"fill\":{\"color\":\"#EBF0F8\"},\"line\":{\"color\":\"white\"}},\"header\":{\"fill\":{\"color\":\"#C8D4E3\"},\"line\":{\"color\":\"white\"}},\"type\":\"table\"}],\"barpolar\":[{\"marker\":{\"line\":{\"color\":\"#E5ECF6\",\"width\":0.5},\"pattern\":{\"fillmode\":\"overlay\",\"size\":10,\"solidity\":0.2}},\"type\":\"barpolar\"}],\"pie\":[{\"automargin\":true,\"type\":\"pie\"}]},\"layout\":{\"autotypenumbers\":\"strict\",\"colorway\":[\"#636efa\",\"#EF553B\",\"#00cc96\",\"#ab63fa\",\"#FFA15A\",\"#19d3f3\",\"#FF6692\",\"#B6E880\",\"#FF97FF\",\"#FECB52\"],\"font\":{\"color\":\"#2a3f5f\"},\"hovermode\":\"closest\",\"hoverlabel\":{\"align\":\"left\"},\"paper_bgcolor\":\"white\",\"plot_bgcolor\":\"#E5ECF6\",\"polar\":{\"bgcolor\":\"#E5ECF6\",\"angularaxis\":{\"gridcolor\":\"white\",\"linecolor\":\"white\",\"ticks\":\"\"},\"radialaxis\":{\"gridcolor\":\"white\",\"linecolor\":\"white\",\"ticks\":\"\"}},\"ternary\":{\"bgcolor\":\"#E5ECF6\",\"aaxis\":{\"gridcolor\":\"white\",\"linecolor\":\"white\",\"ticks\":\"\"},\"baxis\":{\"gridcolor\":\"white\",\"linecolor\":\"white\",\"ticks\":\"\"},\"caxis\":{\"gridcolor\":\"white\",\"linecolor\":\"white\",\"ticks\":\"\"}},\"coloraxis\":{\"colorbar\":{\"outlinewidth\":0,\"ticks\":\"\"}},\"colorscale\":{\"sequential\":[[0.0,\"#0d0887\"],[0.1111111111111111,\"#46039f\"],[0.2222222222222222,\"#7201a8\"],[0.3333333333333333,\"#9c179e\"],[0.4444444444444444,\"#bd3786\"],[0.5555555555555556,\"#d8576b\"],[0.6666666666666666,\"#ed7953\"],[0.7777777777777778,\"#fb9f3a\"],[0.8888888888888888,\"#fdca26\"],[1.0,\"#f0f921\"]],\"sequentialminus\":[[0.0,\"#0d0887\"],[0.1111111111111111,\"#46039f\"],[0.2222222222222222,\"#7201a8\"],[0.3333333333333333,\"#9c179e\"],[0.4444444444444444,\"#bd3786\"],[0.5555555555555556,\"#d8576b\"],[0.6666666666666666,\"#ed7953\"],[0.7777777777777778,\"#fb9f3a\"],[0.8888888888888888,\"#fdca26\"],[1.0,\"#f0f921\"]],\"diverging\":[[0,\"#8e0152\"],[0.1,\"#c51b7d\"],[0.2,\"#de77ae\"],[0.3,\"#f1b6da\"],[0.4,\"#fde0ef\"],[0.5,\"#f7f7f7\"],[0.6,\"#e6f5d0\"],[0.7,\"#b8e186\"],[0.8,\"#7fbc41\"],[0.9,\"#4d9221\"],[1,\"#276419\"]]},\"xaxis\":{\"gridcolor\":\"white\",\"linecolor\":\"white\",\"ticks\":\"\",\"title\":{\"standoff\":15},\"zerolinecolor\":\"white\",\"automargin\":true,\"zerolinewidth\":2},\"yaxis\":{\"gridcolor\":\"white\",\"linecolor\":\"white\",\"ticks\":\"\",\"title\":{\"standoff\":15},\"zerolinecolor\":\"white\",\"automargin\":true,\"zerolinewidth\":2},\"scene\":{\"xaxis\":{\"backgroundcolor\":\"#E5ECF6\",\"gridcolor\":\"white\",\"linecolor\":\"white\",\"showbackground\":true,\"ticks\":\"\",\"zerolinecolor\":\"white\",\"gridwidth\":2},\"yaxis\":{\"backgroundcolor\":\"#E5ECF6\",\"gridcolor\":\"white\",\"linecolor\":\"white\",\"showbackground\":true,\"ticks\":\"\",\"zerolinecolor\":\"white\",\"gridwidth\":2},\"zaxis\":{\"backgroundcolor\":\"#E5ECF6\",\"gridcolor\":\"white\",\"linecolor\":\"white\",\"showbackground\":true,\"ticks\":\"\",\"zerolinecolor\":\"white\",\"gridwidth\":2}},\"shapedefaults\":{\"line\":{\"color\":\"#2a3f5f\"}},\"annotationdefaults\":{\"arrowcolor\":\"#2a3f5f\",\"arrowhead\":0,\"arrowwidth\":1},\"geo\":{\"bgcolor\":\"white\",\"landcolor\":\"#E5ECF6\",\"subunitcolor\":\"white\",\"showland\":true,\"showlakes\":true,\"lakecolor\":\"white\"},\"title\":{\"x\":0.05},\"mapbox\":{\"style\":\"light\"}}}},                        {\"responsive\": true}                    ).then(function(){\n",
              "                            \n",
              "var gd = document.getElementById('21126e5d-e769-4ae3-9089-f70b49c9c90c');\n",
              "var x = new MutationObserver(function (mutations, observer) {{\n",
              "        var display = window.getComputedStyle(gd).display;\n",
              "        if (!display || display === 'none') {{\n",
              "            console.log([gd, 'removed!']);\n",
              "            Plotly.purge(gd);\n",
              "            observer.disconnect();\n",
              "        }}\n",
              "}});\n",
              "\n",
              "// Listen for the removal of the full notebook cells\n",
              "var notebookContainer = gd.closest('#notebook-container');\n",
              "if (notebookContainer) {{\n",
              "    x.observe(notebookContainer, {childList: true});\n",
              "}}\n",
              "\n",
              "// Listen for the clearing of the current output cell\n",
              "var outputEl = gd.closest('.output');\n",
              "if (outputEl) {{\n",
              "    x.observe(outputEl, {childList: true});\n",
              "}}\n",
              "\n",
              "                        })                };                            </script>        </div>\n",
              "</body>\n",
              "</html>"
            ]
          },
          "metadata": {}
        },
        {
          "output_type": "stream",
          "name": "stdout",
          "text": [
            "HasContractPhone \n",
            "Month-to-month    2920\n",
            "Two year          1280\n",
            "One year          1082\n",
            "Name: HasContractPhone, dtype: int64 \n",
            "\n"
          ]
        },
        {
          "output_type": "display_data",
          "data": {
            "text/html": [
              "<html>\n",
              "<head><meta charset=\"utf-8\" /></head>\n",
              "<body>\n",
              "    <div>            <script src=\"https://cdnjs.cloudflare.com/ajax/libs/mathjax/2.7.5/MathJax.js?config=TeX-AMS-MML_SVG\"></script><script type=\"text/javascript\">if (window.MathJax && window.MathJax.Hub && window.MathJax.Hub.Config) {window.MathJax.Hub.Config({SVG: {font: \"STIX-Web\"}});}</script>                <script type=\"text/javascript\">window.PlotlyConfig = {MathJaxConfig: 'local'};</script>\n",
              "        <script charset=\"utf-8\" src=\"https://cdn.plot.ly/plotly-2.24.1.min.js\"></script>                <div id=\"832c8e3d-57a0-4712-9ea9-8e62915706e6\" class=\"plotly-graph-div\" style=\"height:525px; width:100%;\"></div>            <script type=\"text/javascript\">                                    window.PLOTLYENV=window.PLOTLYENV || {};                                    if (document.getElementById(\"832c8e3d-57a0-4712-9ea9-8e62915706e6\")) {                    Plotly.newPlot(                        \"832c8e3d-57a0-4712-9ea9-8e62915706e6\",                        [{\"labels\":[\"Month-to-month\",\"Two year\",\"One year\"],\"values\":[2920,1280,1082],\"type\":\"pie\"}],                        {\"template\":{\"data\":{\"histogram2dcontour\":[{\"type\":\"histogram2dcontour\",\"colorbar\":{\"outlinewidth\":0,\"ticks\":\"\"},\"colorscale\":[[0.0,\"#0d0887\"],[0.1111111111111111,\"#46039f\"],[0.2222222222222222,\"#7201a8\"],[0.3333333333333333,\"#9c179e\"],[0.4444444444444444,\"#bd3786\"],[0.5555555555555556,\"#d8576b\"],[0.6666666666666666,\"#ed7953\"],[0.7777777777777778,\"#fb9f3a\"],[0.8888888888888888,\"#fdca26\"],[1.0,\"#f0f921\"]]}],\"choropleth\":[{\"type\":\"choropleth\",\"colorbar\":{\"outlinewidth\":0,\"ticks\":\"\"}}],\"histogram2d\":[{\"type\":\"histogram2d\",\"colorbar\":{\"outlinewidth\":0,\"ticks\":\"\"},\"colorscale\":[[0.0,\"#0d0887\"],[0.1111111111111111,\"#46039f\"],[0.2222222222222222,\"#7201a8\"],[0.3333333333333333,\"#9c179e\"],[0.4444444444444444,\"#bd3786\"],[0.5555555555555556,\"#d8576b\"],[0.6666666666666666,\"#ed7953\"],[0.7777777777777778,\"#fb9f3a\"],[0.8888888888888888,\"#fdca26\"],[1.0,\"#f0f921\"]]}],\"heatmap\":[{\"type\":\"heatmap\",\"colorbar\":{\"outlinewidth\":0,\"ticks\":\"\"},\"colorscale\":[[0.0,\"#0d0887\"],[0.1111111111111111,\"#46039f\"],[0.2222222222222222,\"#7201a8\"],[0.3333333333333333,\"#9c179e\"],[0.4444444444444444,\"#bd3786\"],[0.5555555555555556,\"#d8576b\"],[0.6666666666666666,\"#ed7953\"],[0.7777777777777778,\"#fb9f3a\"],[0.8888888888888888,\"#fdca26\"],[1.0,\"#f0f921\"]]}],\"heatmapgl\":[{\"type\":\"heatmapgl\",\"colorbar\":{\"outlinewidth\":0,\"ticks\":\"\"},\"colorscale\":[[0.0,\"#0d0887\"],[0.1111111111111111,\"#46039f\"],[0.2222222222222222,\"#7201a8\"],[0.3333333333333333,\"#9c179e\"],[0.4444444444444444,\"#bd3786\"],[0.5555555555555556,\"#d8576b\"],[0.6666666666666666,\"#ed7953\"],[0.7777777777777778,\"#fb9f3a\"],[0.8888888888888888,\"#fdca26\"],[1.0,\"#f0f921\"]]}],\"contourcarpet\":[{\"type\":\"contourcarpet\",\"colorbar\":{\"outlinewidth\":0,\"ticks\":\"\"}}],\"contour\":[{\"type\":\"contour\",\"colorbar\":{\"outlinewidth\":0,\"ticks\":\"\"},\"colorscale\":[[0.0,\"#0d0887\"],[0.1111111111111111,\"#46039f\"],[0.2222222222222222,\"#7201a8\"],[0.3333333333333333,\"#9c179e\"],[0.4444444444444444,\"#bd3786\"],[0.5555555555555556,\"#d8576b\"],[0.6666666666666666,\"#ed7953\"],[0.7777777777777778,\"#fb9f3a\"],[0.8888888888888888,\"#fdca26\"],[1.0,\"#f0f921\"]]}],\"surface\":[{\"type\":\"surface\",\"colorbar\":{\"outlinewidth\":0,\"ticks\":\"\"},\"colorscale\":[[0.0,\"#0d0887\"],[0.1111111111111111,\"#46039f\"],[0.2222222222222222,\"#7201a8\"],[0.3333333333333333,\"#9c179e\"],[0.4444444444444444,\"#bd3786\"],[0.5555555555555556,\"#d8576b\"],[0.6666666666666666,\"#ed7953\"],[0.7777777777777778,\"#fb9f3a\"],[0.8888888888888888,\"#fdca26\"],[1.0,\"#f0f921\"]]}],\"mesh3d\":[{\"type\":\"mesh3d\",\"colorbar\":{\"outlinewidth\":0,\"ticks\":\"\"}}],\"scatter\":[{\"fillpattern\":{\"fillmode\":\"overlay\",\"size\":10,\"solidity\":0.2},\"type\":\"scatter\"}],\"parcoords\":[{\"type\":\"parcoords\",\"line\":{\"colorbar\":{\"outlinewidth\":0,\"ticks\":\"\"}}}],\"scatterpolargl\":[{\"type\":\"scatterpolargl\",\"marker\":{\"colorbar\":{\"outlinewidth\":0,\"ticks\":\"\"}}}],\"bar\":[{\"error_x\":{\"color\":\"#2a3f5f\"},\"error_y\":{\"color\":\"#2a3f5f\"},\"marker\":{\"line\":{\"color\":\"#E5ECF6\",\"width\":0.5},\"pattern\":{\"fillmode\":\"overlay\",\"size\":10,\"solidity\":0.2}},\"type\":\"bar\"}],\"scattergeo\":[{\"type\":\"scattergeo\",\"marker\":{\"colorbar\":{\"outlinewidth\":0,\"ticks\":\"\"}}}],\"scatterpolar\":[{\"type\":\"scatterpolar\",\"marker\":{\"colorbar\":{\"outlinewidth\":0,\"ticks\":\"\"}}}],\"histogram\":[{\"marker\":{\"pattern\":{\"fillmode\":\"overlay\",\"size\":10,\"solidity\":0.2}},\"type\":\"histogram\"}],\"scattergl\":[{\"type\":\"scattergl\",\"marker\":{\"colorbar\":{\"outlinewidth\":0,\"ticks\":\"\"}}}],\"scatter3d\":[{\"type\":\"scatter3d\",\"line\":{\"colorbar\":{\"outlinewidth\":0,\"ticks\":\"\"}},\"marker\":{\"colorbar\":{\"outlinewidth\":0,\"ticks\":\"\"}}}],\"scattermapbox\":[{\"type\":\"scattermapbox\",\"marker\":{\"colorbar\":{\"outlinewidth\":0,\"ticks\":\"\"}}}],\"scatterternary\":[{\"type\":\"scatterternary\",\"marker\":{\"colorbar\":{\"outlinewidth\":0,\"ticks\":\"\"}}}],\"scattercarpet\":[{\"type\":\"scattercarpet\",\"marker\":{\"colorbar\":{\"outlinewidth\":0,\"ticks\":\"\"}}}],\"carpet\":[{\"aaxis\":{\"endlinecolor\":\"#2a3f5f\",\"gridcolor\":\"white\",\"linecolor\":\"white\",\"minorgridcolor\":\"white\",\"startlinecolor\":\"#2a3f5f\"},\"baxis\":{\"endlinecolor\":\"#2a3f5f\",\"gridcolor\":\"white\",\"linecolor\":\"white\",\"minorgridcolor\":\"white\",\"startlinecolor\":\"#2a3f5f\"},\"type\":\"carpet\"}],\"table\":[{\"cells\":{\"fill\":{\"color\":\"#EBF0F8\"},\"line\":{\"color\":\"white\"}},\"header\":{\"fill\":{\"color\":\"#C8D4E3\"},\"line\":{\"color\":\"white\"}},\"type\":\"table\"}],\"barpolar\":[{\"marker\":{\"line\":{\"color\":\"#E5ECF6\",\"width\":0.5},\"pattern\":{\"fillmode\":\"overlay\",\"size\":10,\"solidity\":0.2}},\"type\":\"barpolar\"}],\"pie\":[{\"automargin\":true,\"type\":\"pie\"}]},\"layout\":{\"autotypenumbers\":\"strict\",\"colorway\":[\"#636efa\",\"#EF553B\",\"#00cc96\",\"#ab63fa\",\"#FFA15A\",\"#19d3f3\",\"#FF6692\",\"#B6E880\",\"#FF97FF\",\"#FECB52\"],\"font\":{\"color\":\"#2a3f5f\"},\"hovermode\":\"closest\",\"hoverlabel\":{\"align\":\"left\"},\"paper_bgcolor\":\"white\",\"plot_bgcolor\":\"#E5ECF6\",\"polar\":{\"bgcolor\":\"#E5ECF6\",\"angularaxis\":{\"gridcolor\":\"white\",\"linecolor\":\"white\",\"ticks\":\"\"},\"radialaxis\":{\"gridcolor\":\"white\",\"linecolor\":\"white\",\"ticks\":\"\"}},\"ternary\":{\"bgcolor\":\"#E5ECF6\",\"aaxis\":{\"gridcolor\":\"white\",\"linecolor\":\"white\",\"ticks\":\"\"},\"baxis\":{\"gridcolor\":\"white\",\"linecolor\":\"white\",\"ticks\":\"\"},\"caxis\":{\"gridcolor\":\"white\",\"linecolor\":\"white\",\"ticks\":\"\"}},\"coloraxis\":{\"colorbar\":{\"outlinewidth\":0,\"ticks\":\"\"}},\"colorscale\":{\"sequential\":[[0.0,\"#0d0887\"],[0.1111111111111111,\"#46039f\"],[0.2222222222222222,\"#7201a8\"],[0.3333333333333333,\"#9c179e\"],[0.4444444444444444,\"#bd3786\"],[0.5555555555555556,\"#d8576b\"],[0.6666666666666666,\"#ed7953\"],[0.7777777777777778,\"#fb9f3a\"],[0.8888888888888888,\"#fdca26\"],[1.0,\"#f0f921\"]],\"sequentialminus\":[[0.0,\"#0d0887\"],[0.1111111111111111,\"#46039f\"],[0.2222222222222222,\"#7201a8\"],[0.3333333333333333,\"#9c179e\"],[0.4444444444444444,\"#bd3786\"],[0.5555555555555556,\"#d8576b\"],[0.6666666666666666,\"#ed7953\"],[0.7777777777777778,\"#fb9f3a\"],[0.8888888888888888,\"#fdca26\"],[1.0,\"#f0f921\"]],\"diverging\":[[0,\"#8e0152\"],[0.1,\"#c51b7d\"],[0.2,\"#de77ae\"],[0.3,\"#f1b6da\"],[0.4,\"#fde0ef\"],[0.5,\"#f7f7f7\"],[0.6,\"#e6f5d0\"],[0.7,\"#b8e186\"],[0.8,\"#7fbc41\"],[0.9,\"#4d9221\"],[1,\"#276419\"]]},\"xaxis\":{\"gridcolor\":\"white\",\"linecolor\":\"white\",\"ticks\":\"\",\"title\":{\"standoff\":15},\"zerolinecolor\":\"white\",\"automargin\":true,\"zerolinewidth\":2},\"yaxis\":{\"gridcolor\":\"white\",\"linecolor\":\"white\",\"ticks\":\"\",\"title\":{\"standoff\":15},\"zerolinecolor\":\"white\",\"automargin\":true,\"zerolinewidth\":2},\"scene\":{\"xaxis\":{\"backgroundcolor\":\"#E5ECF6\",\"gridcolor\":\"white\",\"linecolor\":\"white\",\"showbackground\":true,\"ticks\":\"\",\"zerolinecolor\":\"white\",\"gridwidth\":2},\"yaxis\":{\"backgroundcolor\":\"#E5ECF6\",\"gridcolor\":\"white\",\"linecolor\":\"white\",\"showbackground\":true,\"ticks\":\"\",\"zerolinecolor\":\"white\",\"gridwidth\":2},\"zaxis\":{\"backgroundcolor\":\"#E5ECF6\",\"gridcolor\":\"white\",\"linecolor\":\"white\",\"showbackground\":true,\"ticks\":\"\",\"zerolinecolor\":\"white\",\"gridwidth\":2}},\"shapedefaults\":{\"line\":{\"color\":\"#2a3f5f\"}},\"annotationdefaults\":{\"arrowcolor\":\"#2a3f5f\",\"arrowhead\":0,\"arrowwidth\":1},\"geo\":{\"bgcolor\":\"white\",\"landcolor\":\"#E5ECF6\",\"subunitcolor\":\"white\",\"showland\":true,\"showlakes\":true,\"lakecolor\":\"white\"},\"title\":{\"x\":0.05},\"mapbox\":{\"style\":\"light\"}}}},                        {\"responsive\": true}                    ).then(function(){\n",
              "                            \n",
              "var gd = document.getElementById('832c8e3d-57a0-4712-9ea9-8e62915706e6');\n",
              "var x = new MutationObserver(function (mutations, observer) {{\n",
              "        var display = window.getComputedStyle(gd).display;\n",
              "        if (!display || display === 'none') {{\n",
              "            console.log([gd, 'removed!']);\n",
              "            Plotly.purge(gd);\n",
              "            observer.disconnect();\n",
              "        }}\n",
              "}});\n",
              "\n",
              "// Listen for the removal of the full notebook cells\n",
              "var notebookContainer = gd.closest('#notebook-container');\n",
              "if (notebookContainer) {{\n",
              "    x.observe(notebookContainer, {childList: true});\n",
              "}}\n",
              "\n",
              "// Listen for the clearing of the current output cell\n",
              "var outputEl = gd.closest('.output');\n",
              "if (outputEl) {{\n",
              "    x.observe(outputEl, {childList: true});\n",
              "}}\n",
              "\n",
              "                        })                };                            </script>        </div>\n",
              "</body>\n",
              "</html>"
            ]
          },
          "metadata": {}
        },
        {
          "output_type": "stream",
          "name": "stdout",
          "text": [
            "IsBillingPaperless \n",
            "Yes    3148\n",
            "No     2134\n",
            "Name: IsBillingPaperless, dtype: int64 \n",
            "\n"
          ]
        },
        {
          "output_type": "display_data",
          "data": {
            "text/html": [
              "<html>\n",
              "<head><meta charset=\"utf-8\" /></head>\n",
              "<body>\n",
              "    <div>            <script src=\"https://cdnjs.cloudflare.com/ajax/libs/mathjax/2.7.5/MathJax.js?config=TeX-AMS-MML_SVG\"></script><script type=\"text/javascript\">if (window.MathJax && window.MathJax.Hub && window.MathJax.Hub.Config) {window.MathJax.Hub.Config({SVG: {font: \"STIX-Web\"}});}</script>                <script type=\"text/javascript\">window.PlotlyConfig = {MathJaxConfig: 'local'};</script>\n",
              "        <script charset=\"utf-8\" src=\"https://cdn.plot.ly/plotly-2.24.1.min.js\"></script>                <div id=\"6f7370f0-15ad-456c-bee4-666bfe319884\" class=\"plotly-graph-div\" style=\"height:525px; width:100%;\"></div>            <script type=\"text/javascript\">                                    window.PLOTLYENV=window.PLOTLYENV || {};                                    if (document.getElementById(\"6f7370f0-15ad-456c-bee4-666bfe319884\")) {                    Plotly.newPlot(                        \"6f7370f0-15ad-456c-bee4-666bfe319884\",                        [{\"labels\":[\"Yes\",\"No\"],\"values\":[3148,2134],\"type\":\"pie\"}],                        {\"template\":{\"data\":{\"histogram2dcontour\":[{\"type\":\"histogram2dcontour\",\"colorbar\":{\"outlinewidth\":0,\"ticks\":\"\"},\"colorscale\":[[0.0,\"#0d0887\"],[0.1111111111111111,\"#46039f\"],[0.2222222222222222,\"#7201a8\"],[0.3333333333333333,\"#9c179e\"],[0.4444444444444444,\"#bd3786\"],[0.5555555555555556,\"#d8576b\"],[0.6666666666666666,\"#ed7953\"],[0.7777777777777778,\"#fb9f3a\"],[0.8888888888888888,\"#fdca26\"],[1.0,\"#f0f921\"]]}],\"choropleth\":[{\"type\":\"choropleth\",\"colorbar\":{\"outlinewidth\":0,\"ticks\":\"\"}}],\"histogram2d\":[{\"type\":\"histogram2d\",\"colorbar\":{\"outlinewidth\":0,\"ticks\":\"\"},\"colorscale\":[[0.0,\"#0d0887\"],[0.1111111111111111,\"#46039f\"],[0.2222222222222222,\"#7201a8\"],[0.3333333333333333,\"#9c179e\"],[0.4444444444444444,\"#bd3786\"],[0.5555555555555556,\"#d8576b\"],[0.6666666666666666,\"#ed7953\"],[0.7777777777777778,\"#fb9f3a\"],[0.8888888888888888,\"#fdca26\"],[1.0,\"#f0f921\"]]}],\"heatmap\":[{\"type\":\"heatmap\",\"colorbar\":{\"outlinewidth\":0,\"ticks\":\"\"},\"colorscale\":[[0.0,\"#0d0887\"],[0.1111111111111111,\"#46039f\"],[0.2222222222222222,\"#7201a8\"],[0.3333333333333333,\"#9c179e\"],[0.4444444444444444,\"#bd3786\"],[0.5555555555555556,\"#d8576b\"],[0.6666666666666666,\"#ed7953\"],[0.7777777777777778,\"#fb9f3a\"],[0.8888888888888888,\"#fdca26\"],[1.0,\"#f0f921\"]]}],\"heatmapgl\":[{\"type\":\"heatmapgl\",\"colorbar\":{\"outlinewidth\":0,\"ticks\":\"\"},\"colorscale\":[[0.0,\"#0d0887\"],[0.1111111111111111,\"#46039f\"],[0.2222222222222222,\"#7201a8\"],[0.3333333333333333,\"#9c179e\"],[0.4444444444444444,\"#bd3786\"],[0.5555555555555556,\"#d8576b\"],[0.6666666666666666,\"#ed7953\"],[0.7777777777777778,\"#fb9f3a\"],[0.8888888888888888,\"#fdca26\"],[1.0,\"#f0f921\"]]}],\"contourcarpet\":[{\"type\":\"contourcarpet\",\"colorbar\":{\"outlinewidth\":0,\"ticks\":\"\"}}],\"contour\":[{\"type\":\"contour\",\"colorbar\":{\"outlinewidth\":0,\"ticks\":\"\"},\"colorscale\":[[0.0,\"#0d0887\"],[0.1111111111111111,\"#46039f\"],[0.2222222222222222,\"#7201a8\"],[0.3333333333333333,\"#9c179e\"],[0.4444444444444444,\"#bd3786\"],[0.5555555555555556,\"#d8576b\"],[0.6666666666666666,\"#ed7953\"],[0.7777777777777778,\"#fb9f3a\"],[0.8888888888888888,\"#fdca26\"],[1.0,\"#f0f921\"]]}],\"surface\":[{\"type\":\"surface\",\"colorbar\":{\"outlinewidth\":0,\"ticks\":\"\"},\"colorscale\":[[0.0,\"#0d0887\"],[0.1111111111111111,\"#46039f\"],[0.2222222222222222,\"#7201a8\"],[0.3333333333333333,\"#9c179e\"],[0.4444444444444444,\"#bd3786\"],[0.5555555555555556,\"#d8576b\"],[0.6666666666666666,\"#ed7953\"],[0.7777777777777778,\"#fb9f3a\"],[0.8888888888888888,\"#fdca26\"],[1.0,\"#f0f921\"]]}],\"mesh3d\":[{\"type\":\"mesh3d\",\"colorbar\":{\"outlinewidth\":0,\"ticks\":\"\"}}],\"scatter\":[{\"fillpattern\":{\"fillmode\":\"overlay\",\"size\":10,\"solidity\":0.2},\"type\":\"scatter\"}],\"parcoords\":[{\"type\":\"parcoords\",\"line\":{\"colorbar\":{\"outlinewidth\":0,\"ticks\":\"\"}}}],\"scatterpolargl\":[{\"type\":\"scatterpolargl\",\"marker\":{\"colorbar\":{\"outlinewidth\":0,\"ticks\":\"\"}}}],\"bar\":[{\"error_x\":{\"color\":\"#2a3f5f\"},\"error_y\":{\"color\":\"#2a3f5f\"},\"marker\":{\"line\":{\"color\":\"#E5ECF6\",\"width\":0.5},\"pattern\":{\"fillmode\":\"overlay\",\"size\":10,\"solidity\":0.2}},\"type\":\"bar\"}],\"scattergeo\":[{\"type\":\"scattergeo\",\"marker\":{\"colorbar\":{\"outlinewidth\":0,\"ticks\":\"\"}}}],\"scatterpolar\":[{\"type\":\"scatterpolar\",\"marker\":{\"colorbar\":{\"outlinewidth\":0,\"ticks\":\"\"}}}],\"histogram\":[{\"marker\":{\"pattern\":{\"fillmode\":\"overlay\",\"size\":10,\"solidity\":0.2}},\"type\":\"histogram\"}],\"scattergl\":[{\"type\":\"scattergl\",\"marker\":{\"colorbar\":{\"outlinewidth\":0,\"ticks\":\"\"}}}],\"scatter3d\":[{\"type\":\"scatter3d\",\"line\":{\"colorbar\":{\"outlinewidth\":0,\"ticks\":\"\"}},\"marker\":{\"colorbar\":{\"outlinewidth\":0,\"ticks\":\"\"}}}],\"scattermapbox\":[{\"type\":\"scattermapbox\",\"marker\":{\"colorbar\":{\"outlinewidth\":0,\"ticks\":\"\"}}}],\"scatterternary\":[{\"type\":\"scatterternary\",\"marker\":{\"colorbar\":{\"outlinewidth\":0,\"ticks\":\"\"}}}],\"scattercarpet\":[{\"type\":\"scattercarpet\",\"marker\":{\"colorbar\":{\"outlinewidth\":0,\"ticks\":\"\"}}}],\"carpet\":[{\"aaxis\":{\"endlinecolor\":\"#2a3f5f\",\"gridcolor\":\"white\",\"linecolor\":\"white\",\"minorgridcolor\":\"white\",\"startlinecolor\":\"#2a3f5f\"},\"baxis\":{\"endlinecolor\":\"#2a3f5f\",\"gridcolor\":\"white\",\"linecolor\":\"white\",\"minorgridcolor\":\"white\",\"startlinecolor\":\"#2a3f5f\"},\"type\":\"carpet\"}],\"table\":[{\"cells\":{\"fill\":{\"color\":\"#EBF0F8\"},\"line\":{\"color\":\"white\"}},\"header\":{\"fill\":{\"color\":\"#C8D4E3\"},\"line\":{\"color\":\"white\"}},\"type\":\"table\"}],\"barpolar\":[{\"marker\":{\"line\":{\"color\":\"#E5ECF6\",\"width\":0.5},\"pattern\":{\"fillmode\":\"overlay\",\"size\":10,\"solidity\":0.2}},\"type\":\"barpolar\"}],\"pie\":[{\"automargin\":true,\"type\":\"pie\"}]},\"layout\":{\"autotypenumbers\":\"strict\",\"colorway\":[\"#636efa\",\"#EF553B\",\"#00cc96\",\"#ab63fa\",\"#FFA15A\",\"#19d3f3\",\"#FF6692\",\"#B6E880\",\"#FF97FF\",\"#FECB52\"],\"font\":{\"color\":\"#2a3f5f\"},\"hovermode\":\"closest\",\"hoverlabel\":{\"align\":\"left\"},\"paper_bgcolor\":\"white\",\"plot_bgcolor\":\"#E5ECF6\",\"polar\":{\"bgcolor\":\"#E5ECF6\",\"angularaxis\":{\"gridcolor\":\"white\",\"linecolor\":\"white\",\"ticks\":\"\"},\"radialaxis\":{\"gridcolor\":\"white\",\"linecolor\":\"white\",\"ticks\":\"\"}},\"ternary\":{\"bgcolor\":\"#E5ECF6\",\"aaxis\":{\"gridcolor\":\"white\",\"linecolor\":\"white\",\"ticks\":\"\"},\"baxis\":{\"gridcolor\":\"white\",\"linecolor\":\"white\",\"ticks\":\"\"},\"caxis\":{\"gridcolor\":\"white\",\"linecolor\":\"white\",\"ticks\":\"\"}},\"coloraxis\":{\"colorbar\":{\"outlinewidth\":0,\"ticks\":\"\"}},\"colorscale\":{\"sequential\":[[0.0,\"#0d0887\"],[0.1111111111111111,\"#46039f\"],[0.2222222222222222,\"#7201a8\"],[0.3333333333333333,\"#9c179e\"],[0.4444444444444444,\"#bd3786\"],[0.5555555555555556,\"#d8576b\"],[0.6666666666666666,\"#ed7953\"],[0.7777777777777778,\"#fb9f3a\"],[0.8888888888888888,\"#fdca26\"],[1.0,\"#f0f921\"]],\"sequentialminus\":[[0.0,\"#0d0887\"],[0.1111111111111111,\"#46039f\"],[0.2222222222222222,\"#7201a8\"],[0.3333333333333333,\"#9c179e\"],[0.4444444444444444,\"#bd3786\"],[0.5555555555555556,\"#d8576b\"],[0.6666666666666666,\"#ed7953\"],[0.7777777777777778,\"#fb9f3a\"],[0.8888888888888888,\"#fdca26\"],[1.0,\"#f0f921\"]],\"diverging\":[[0,\"#8e0152\"],[0.1,\"#c51b7d\"],[0.2,\"#de77ae\"],[0.3,\"#f1b6da\"],[0.4,\"#fde0ef\"],[0.5,\"#f7f7f7\"],[0.6,\"#e6f5d0\"],[0.7,\"#b8e186\"],[0.8,\"#7fbc41\"],[0.9,\"#4d9221\"],[1,\"#276419\"]]},\"xaxis\":{\"gridcolor\":\"white\",\"linecolor\":\"white\",\"ticks\":\"\",\"title\":{\"standoff\":15},\"zerolinecolor\":\"white\",\"automargin\":true,\"zerolinewidth\":2},\"yaxis\":{\"gridcolor\":\"white\",\"linecolor\":\"white\",\"ticks\":\"\",\"title\":{\"standoff\":15},\"zerolinecolor\":\"white\",\"automargin\":true,\"zerolinewidth\":2},\"scene\":{\"xaxis\":{\"backgroundcolor\":\"#E5ECF6\",\"gridcolor\":\"white\",\"linecolor\":\"white\",\"showbackground\":true,\"ticks\":\"\",\"zerolinecolor\":\"white\",\"gridwidth\":2},\"yaxis\":{\"backgroundcolor\":\"#E5ECF6\",\"gridcolor\":\"white\",\"linecolor\":\"white\",\"showbackground\":true,\"ticks\":\"\",\"zerolinecolor\":\"white\",\"gridwidth\":2},\"zaxis\":{\"backgroundcolor\":\"#E5ECF6\",\"gridcolor\":\"white\",\"linecolor\":\"white\",\"showbackground\":true,\"ticks\":\"\",\"zerolinecolor\":\"white\",\"gridwidth\":2}},\"shapedefaults\":{\"line\":{\"color\":\"#2a3f5f\"}},\"annotationdefaults\":{\"arrowcolor\":\"#2a3f5f\",\"arrowhead\":0,\"arrowwidth\":1},\"geo\":{\"bgcolor\":\"white\",\"landcolor\":\"#E5ECF6\",\"subunitcolor\":\"white\",\"showland\":true,\"showlakes\":true,\"lakecolor\":\"white\"},\"title\":{\"x\":0.05},\"mapbox\":{\"style\":\"light\"}}}},                        {\"responsive\": true}                    ).then(function(){\n",
              "                            \n",
              "var gd = document.getElementById('6f7370f0-15ad-456c-bee4-666bfe319884');\n",
              "var x = new MutationObserver(function (mutations, observer) {{\n",
              "        var display = window.getComputedStyle(gd).display;\n",
              "        if (!display || display === 'none') {{\n",
              "            console.log([gd, 'removed!']);\n",
              "            Plotly.purge(gd);\n",
              "            observer.disconnect();\n",
              "        }}\n",
              "}});\n",
              "\n",
              "// Listen for the removal of the full notebook cells\n",
              "var notebookContainer = gd.closest('#notebook-container');\n",
              "if (notebookContainer) {{\n",
              "    x.observe(notebookContainer, {childList: true});\n",
              "}}\n",
              "\n",
              "// Listen for the clearing of the current output cell\n",
              "var outputEl = gd.closest('.output');\n",
              "if (outputEl) {{\n",
              "    x.observe(outputEl, {childList: true});\n",
              "}}\n",
              "\n",
              "                        })                };                            </script>        </div>\n",
              "</body>\n",
              "</html>"
            ]
          },
          "metadata": {}
        },
        {
          "output_type": "stream",
          "name": "stdout",
          "text": [
            "PaymentMethod \n",
            "Electronic check             1786\n",
            "Mailed check                 1194\n",
            "Bank transfer (automatic)    1159\n",
            "Credit card (automatic)      1143\n",
            "Name: PaymentMethod, dtype: int64 \n",
            "\n"
          ]
        },
        {
          "output_type": "display_data",
          "data": {
            "text/html": [
              "<html>\n",
              "<head><meta charset=\"utf-8\" /></head>\n",
              "<body>\n",
              "    <div>            <script src=\"https://cdnjs.cloudflare.com/ajax/libs/mathjax/2.7.5/MathJax.js?config=TeX-AMS-MML_SVG\"></script><script type=\"text/javascript\">if (window.MathJax && window.MathJax.Hub && window.MathJax.Hub.Config) {window.MathJax.Hub.Config({SVG: {font: \"STIX-Web\"}});}</script>                <script type=\"text/javascript\">window.PlotlyConfig = {MathJaxConfig: 'local'};</script>\n",
              "        <script charset=\"utf-8\" src=\"https://cdn.plot.ly/plotly-2.24.1.min.js\"></script>                <div id=\"f70288a8-f707-4bb9-8c09-44add23a000b\" class=\"plotly-graph-div\" style=\"height:525px; width:100%;\"></div>            <script type=\"text/javascript\">                                    window.PLOTLYENV=window.PLOTLYENV || {};                                    if (document.getElementById(\"f70288a8-f707-4bb9-8c09-44add23a000b\")) {                    Plotly.newPlot(                        \"f70288a8-f707-4bb9-8c09-44add23a000b\",                        [{\"labels\":[\"Electronic check\",\"Mailed check\",\"Bank transfer (automatic)\",\"Credit card (automatic)\"],\"values\":[1786,1194,1159,1143],\"type\":\"pie\"}],                        {\"template\":{\"data\":{\"histogram2dcontour\":[{\"type\":\"histogram2dcontour\",\"colorbar\":{\"outlinewidth\":0,\"ticks\":\"\"},\"colorscale\":[[0.0,\"#0d0887\"],[0.1111111111111111,\"#46039f\"],[0.2222222222222222,\"#7201a8\"],[0.3333333333333333,\"#9c179e\"],[0.4444444444444444,\"#bd3786\"],[0.5555555555555556,\"#d8576b\"],[0.6666666666666666,\"#ed7953\"],[0.7777777777777778,\"#fb9f3a\"],[0.8888888888888888,\"#fdca26\"],[1.0,\"#f0f921\"]]}],\"choropleth\":[{\"type\":\"choropleth\",\"colorbar\":{\"outlinewidth\":0,\"ticks\":\"\"}}],\"histogram2d\":[{\"type\":\"histogram2d\",\"colorbar\":{\"outlinewidth\":0,\"ticks\":\"\"},\"colorscale\":[[0.0,\"#0d0887\"],[0.1111111111111111,\"#46039f\"],[0.2222222222222222,\"#7201a8\"],[0.3333333333333333,\"#9c179e\"],[0.4444444444444444,\"#bd3786\"],[0.5555555555555556,\"#d8576b\"],[0.6666666666666666,\"#ed7953\"],[0.7777777777777778,\"#fb9f3a\"],[0.8888888888888888,\"#fdca26\"],[1.0,\"#f0f921\"]]}],\"heatmap\":[{\"type\":\"heatmap\",\"colorbar\":{\"outlinewidth\":0,\"ticks\":\"\"},\"colorscale\":[[0.0,\"#0d0887\"],[0.1111111111111111,\"#46039f\"],[0.2222222222222222,\"#7201a8\"],[0.3333333333333333,\"#9c179e\"],[0.4444444444444444,\"#bd3786\"],[0.5555555555555556,\"#d8576b\"],[0.6666666666666666,\"#ed7953\"],[0.7777777777777778,\"#fb9f3a\"],[0.8888888888888888,\"#fdca26\"],[1.0,\"#f0f921\"]]}],\"heatmapgl\":[{\"type\":\"heatmapgl\",\"colorbar\":{\"outlinewidth\":0,\"ticks\":\"\"},\"colorscale\":[[0.0,\"#0d0887\"],[0.1111111111111111,\"#46039f\"],[0.2222222222222222,\"#7201a8\"],[0.3333333333333333,\"#9c179e\"],[0.4444444444444444,\"#bd3786\"],[0.5555555555555556,\"#d8576b\"],[0.6666666666666666,\"#ed7953\"],[0.7777777777777778,\"#fb9f3a\"],[0.8888888888888888,\"#fdca26\"],[1.0,\"#f0f921\"]]}],\"contourcarpet\":[{\"type\":\"contourcarpet\",\"colorbar\":{\"outlinewidth\":0,\"ticks\":\"\"}}],\"contour\":[{\"type\":\"contour\",\"colorbar\":{\"outlinewidth\":0,\"ticks\":\"\"},\"colorscale\":[[0.0,\"#0d0887\"],[0.1111111111111111,\"#46039f\"],[0.2222222222222222,\"#7201a8\"],[0.3333333333333333,\"#9c179e\"],[0.4444444444444444,\"#bd3786\"],[0.5555555555555556,\"#d8576b\"],[0.6666666666666666,\"#ed7953\"],[0.7777777777777778,\"#fb9f3a\"],[0.8888888888888888,\"#fdca26\"],[1.0,\"#f0f921\"]]}],\"surface\":[{\"type\":\"surface\",\"colorbar\":{\"outlinewidth\":0,\"ticks\":\"\"},\"colorscale\":[[0.0,\"#0d0887\"],[0.1111111111111111,\"#46039f\"],[0.2222222222222222,\"#7201a8\"],[0.3333333333333333,\"#9c179e\"],[0.4444444444444444,\"#bd3786\"],[0.5555555555555556,\"#d8576b\"],[0.6666666666666666,\"#ed7953\"],[0.7777777777777778,\"#fb9f3a\"],[0.8888888888888888,\"#fdca26\"],[1.0,\"#f0f921\"]]}],\"mesh3d\":[{\"type\":\"mesh3d\",\"colorbar\":{\"outlinewidth\":0,\"ticks\":\"\"}}],\"scatter\":[{\"fillpattern\":{\"fillmode\":\"overlay\",\"size\":10,\"solidity\":0.2},\"type\":\"scatter\"}],\"parcoords\":[{\"type\":\"parcoords\",\"line\":{\"colorbar\":{\"outlinewidth\":0,\"ticks\":\"\"}}}],\"scatterpolargl\":[{\"type\":\"scatterpolargl\",\"marker\":{\"colorbar\":{\"outlinewidth\":0,\"ticks\":\"\"}}}],\"bar\":[{\"error_x\":{\"color\":\"#2a3f5f\"},\"error_y\":{\"color\":\"#2a3f5f\"},\"marker\":{\"line\":{\"color\":\"#E5ECF6\",\"width\":0.5},\"pattern\":{\"fillmode\":\"overlay\",\"size\":10,\"solidity\":0.2}},\"type\":\"bar\"}],\"scattergeo\":[{\"type\":\"scattergeo\",\"marker\":{\"colorbar\":{\"outlinewidth\":0,\"ticks\":\"\"}}}],\"scatterpolar\":[{\"type\":\"scatterpolar\",\"marker\":{\"colorbar\":{\"outlinewidth\":0,\"ticks\":\"\"}}}],\"histogram\":[{\"marker\":{\"pattern\":{\"fillmode\":\"overlay\",\"size\":10,\"solidity\":0.2}},\"type\":\"histogram\"}],\"scattergl\":[{\"type\":\"scattergl\",\"marker\":{\"colorbar\":{\"outlinewidth\":0,\"ticks\":\"\"}}}],\"scatter3d\":[{\"type\":\"scatter3d\",\"line\":{\"colorbar\":{\"outlinewidth\":0,\"ticks\":\"\"}},\"marker\":{\"colorbar\":{\"outlinewidth\":0,\"ticks\":\"\"}}}],\"scattermapbox\":[{\"type\":\"scattermapbox\",\"marker\":{\"colorbar\":{\"outlinewidth\":0,\"ticks\":\"\"}}}],\"scatterternary\":[{\"type\":\"scatterternary\",\"marker\":{\"colorbar\":{\"outlinewidth\":0,\"ticks\":\"\"}}}],\"scattercarpet\":[{\"type\":\"scattercarpet\",\"marker\":{\"colorbar\":{\"outlinewidth\":0,\"ticks\":\"\"}}}],\"carpet\":[{\"aaxis\":{\"endlinecolor\":\"#2a3f5f\",\"gridcolor\":\"white\",\"linecolor\":\"white\",\"minorgridcolor\":\"white\",\"startlinecolor\":\"#2a3f5f\"},\"baxis\":{\"endlinecolor\":\"#2a3f5f\",\"gridcolor\":\"white\",\"linecolor\":\"white\",\"minorgridcolor\":\"white\",\"startlinecolor\":\"#2a3f5f\"},\"type\":\"carpet\"}],\"table\":[{\"cells\":{\"fill\":{\"color\":\"#EBF0F8\"},\"line\":{\"color\":\"white\"}},\"header\":{\"fill\":{\"color\":\"#C8D4E3\"},\"line\":{\"color\":\"white\"}},\"type\":\"table\"}],\"barpolar\":[{\"marker\":{\"line\":{\"color\":\"#E5ECF6\",\"width\":0.5},\"pattern\":{\"fillmode\":\"overlay\",\"size\":10,\"solidity\":0.2}},\"type\":\"barpolar\"}],\"pie\":[{\"automargin\":true,\"type\":\"pie\"}]},\"layout\":{\"autotypenumbers\":\"strict\",\"colorway\":[\"#636efa\",\"#EF553B\",\"#00cc96\",\"#ab63fa\",\"#FFA15A\",\"#19d3f3\",\"#FF6692\",\"#B6E880\",\"#FF97FF\",\"#FECB52\"],\"font\":{\"color\":\"#2a3f5f\"},\"hovermode\":\"closest\",\"hoverlabel\":{\"align\":\"left\"},\"paper_bgcolor\":\"white\",\"plot_bgcolor\":\"#E5ECF6\",\"polar\":{\"bgcolor\":\"#E5ECF6\",\"angularaxis\":{\"gridcolor\":\"white\",\"linecolor\":\"white\",\"ticks\":\"\"},\"radialaxis\":{\"gridcolor\":\"white\",\"linecolor\":\"white\",\"ticks\":\"\"}},\"ternary\":{\"bgcolor\":\"#E5ECF6\",\"aaxis\":{\"gridcolor\":\"white\",\"linecolor\":\"white\",\"ticks\":\"\"},\"baxis\":{\"gridcolor\":\"white\",\"linecolor\":\"white\",\"ticks\":\"\"},\"caxis\":{\"gridcolor\":\"white\",\"linecolor\":\"white\",\"ticks\":\"\"}},\"coloraxis\":{\"colorbar\":{\"outlinewidth\":0,\"ticks\":\"\"}},\"colorscale\":{\"sequential\":[[0.0,\"#0d0887\"],[0.1111111111111111,\"#46039f\"],[0.2222222222222222,\"#7201a8\"],[0.3333333333333333,\"#9c179e\"],[0.4444444444444444,\"#bd3786\"],[0.5555555555555556,\"#d8576b\"],[0.6666666666666666,\"#ed7953\"],[0.7777777777777778,\"#fb9f3a\"],[0.8888888888888888,\"#fdca26\"],[1.0,\"#f0f921\"]],\"sequentialminus\":[[0.0,\"#0d0887\"],[0.1111111111111111,\"#46039f\"],[0.2222222222222222,\"#7201a8\"],[0.3333333333333333,\"#9c179e\"],[0.4444444444444444,\"#bd3786\"],[0.5555555555555556,\"#d8576b\"],[0.6666666666666666,\"#ed7953\"],[0.7777777777777778,\"#fb9f3a\"],[0.8888888888888888,\"#fdca26\"],[1.0,\"#f0f921\"]],\"diverging\":[[0,\"#8e0152\"],[0.1,\"#c51b7d\"],[0.2,\"#de77ae\"],[0.3,\"#f1b6da\"],[0.4,\"#fde0ef\"],[0.5,\"#f7f7f7\"],[0.6,\"#e6f5d0\"],[0.7,\"#b8e186\"],[0.8,\"#7fbc41\"],[0.9,\"#4d9221\"],[1,\"#276419\"]]},\"xaxis\":{\"gridcolor\":\"white\",\"linecolor\":\"white\",\"ticks\":\"\",\"title\":{\"standoff\":15},\"zerolinecolor\":\"white\",\"automargin\":true,\"zerolinewidth\":2},\"yaxis\":{\"gridcolor\":\"white\",\"linecolor\":\"white\",\"ticks\":\"\",\"title\":{\"standoff\":15},\"zerolinecolor\":\"white\",\"automargin\":true,\"zerolinewidth\":2},\"scene\":{\"xaxis\":{\"backgroundcolor\":\"#E5ECF6\",\"gridcolor\":\"white\",\"linecolor\":\"white\",\"showbackground\":true,\"ticks\":\"\",\"zerolinecolor\":\"white\",\"gridwidth\":2},\"yaxis\":{\"backgroundcolor\":\"#E5ECF6\",\"gridcolor\":\"white\",\"linecolor\":\"white\",\"showbackground\":true,\"ticks\":\"\",\"zerolinecolor\":\"white\",\"gridwidth\":2},\"zaxis\":{\"backgroundcolor\":\"#E5ECF6\",\"gridcolor\":\"white\",\"linecolor\":\"white\",\"showbackground\":true,\"ticks\":\"\",\"zerolinecolor\":\"white\",\"gridwidth\":2}},\"shapedefaults\":{\"line\":{\"color\":\"#2a3f5f\"}},\"annotationdefaults\":{\"arrowcolor\":\"#2a3f5f\",\"arrowhead\":0,\"arrowwidth\":1},\"geo\":{\"bgcolor\":\"white\",\"landcolor\":\"#E5ECF6\",\"subunitcolor\":\"white\",\"showland\":true,\"showlakes\":true,\"lakecolor\":\"white\"},\"title\":{\"x\":0.05},\"mapbox\":{\"style\":\"light\"}}}},                        {\"responsive\": true}                    ).then(function(){\n",
              "                            \n",
              "var gd = document.getElementById('f70288a8-f707-4bb9-8c09-44add23a000b');\n",
              "var x = new MutationObserver(function (mutations, observer) {{\n",
              "        var display = window.getComputedStyle(gd).display;\n",
              "        if (!display || display === 'none') {{\n",
              "            console.log([gd, 'removed!']);\n",
              "            Plotly.purge(gd);\n",
              "            observer.disconnect();\n",
              "        }}\n",
              "}});\n",
              "\n",
              "// Listen for the removal of the full notebook cells\n",
              "var notebookContainer = gd.closest('#notebook-container');\n",
              "if (notebookContainer) {{\n",
              "    x.observe(notebookContainer, {childList: true});\n",
              "}}\n",
              "\n",
              "// Listen for the clearing of the current output cell\n",
              "var outputEl = gd.closest('.output');\n",
              "if (outputEl) {{\n",
              "    x.observe(outputEl, {childList: true});\n",
              "}}\n",
              "\n",
              "                        })                };                            </script>        </div>\n",
              "</body>\n",
              "</html>"
            ]
          },
          "metadata": {}
        }
      ]
    },
    {
      "cell_type": "code",
      "source": [
        "# 2)\n",
        "sns.histplot(data['Churn'], color='royalblue')"
      ],
      "metadata": {
        "colab": {
          "base_uri": "https://localhost:8080/",
          "height": 467
        },
        "id": "Bgi9wD5KQ4Jt",
        "outputId": "f7b35d26-b5c9-4537-def6-d44a266f1b36"
      },
      "execution_count": null,
      "outputs": [
        {
          "output_type": "execute_result",
          "data": {
            "text/plain": [
              "<Axes: xlabel='Churn', ylabel='Count'>"
            ]
          },
          "metadata": {},
          "execution_count": 56
        },
        {
          "output_type": "display_data",
          "data": {
            "text/plain": [
              "<Figure size 640x480 with 1 Axes>"
            ],
            "image/png": "[encoded data removed]"
          },
          "metadata": {}
        }
      ]
    },
    {
      "cell_type": "code",
      "source": [
        "data[data.Churn == 0].shape[0] / data[data.Churn == 1].shape[0] #несбалансированные, но не сильно (0 класса в 3 раза больше 1)"
      ],
      "metadata": {
        "colab": {
          "base_uri": "https://localhost:8080/"
        },
        "id": "gKXwJBmKRs7X",
        "outputId": "5b4ac742-11c5-4a44-e417-3681642d6e18"
      },
      "execution_count": null,
      "outputs": [
        {
          "output_type": "execute_result",
          "data": {
            "text/plain": [
              "2.816473988439306"
            ]
          },
          "metadata": {},
          "execution_count": 59
        }
      ]
    },
    {
      "cell_type": "code",
      "source": [
        "sns.heatmap(data[['ClientPeriod', 'MonthlySpending', 'TotalSpent', 'Churn']].corr(), annot=True)"
      ],
      "metadata": {
        "colab": {
          "base_uri": "https://localhost:8080/",
          "height": 560
        },
        "id": "ZYZueGKYYCPN",
        "outputId": "fe8a366c-23b0-47ea-b1b5-f455a8470956"
      },
      "execution_count": 21,
      "outputs": [
        {
          "output_type": "execute_result",
          "data": {
            "text/plain": [
              "<Axes: >"
            ]
          },
          "metadata": {},
          "execution_count": 21
        },
        {
          "output_type": "display_data",
          "data": {
            "text/plain": [
              "<Figure size 640x480 with 2 Axes>"
            ],
            "image/png": "[encoded data removed]"
          },
          "metadata": {}
        }
      ]
    },
    {
      "cell_type": "code",
      "source": [
        "for col in cat_cols:\n",
        "  crosstab = pd.crosstab(data['Churn'], data[col])\n",
        "  chi2_, p_ = chi2_contingency(crosstab)[:2]\n",
        "\n",
        "  if p_ < 0.05:\n",
        "    c='yes'\n",
        "  else:\n",
        "    c='no'\n",
        "  print(f\"{col} \\n {c} p={round(p_,2)} chi2={round(chi2_,2)}\")"
      ],
      "metadata": {
        "colab": {
          "base_uri": "https://localhost:8080/"
        },
        "id": "s6TRDmoiX73I",
        "outputId": "57f928ef-c1ad-4baf-e98f-7cafe6b3ae37"
      },
      "execution_count": 33,
      "outputs": [
        {
          "output_type": "stream",
          "name": "stdout",
          "text": [
            "Sex \n",
            " no p=0.57 chi2=0.33\n",
            "IsSeniorCitizen \n",
            " yes p=0.0 chi2=129.01\n",
            "HasPartner \n",
            " yes p=0.0 chi2=115.57\n",
            "HasChild \n",
            " yes p=0.0 chi2=140.58\n",
            "HasPhoneService \n",
            " no p=0.46 chi2=0.54\n",
            "HasMultiplePhoneNumbers \n",
            " yes p=0.02 chi2=8.27\n",
            "HasInternetService \n",
            " yes p=0.0 chi2=527.04\n",
            "HasOnlineSecurityService \n",
            " yes p=0.0 chi2=671.04\n",
            "HasOnlineBackup \n",
            " yes p=0.0 chi2=458.86\n",
            "HasDeviceProtection \n",
            " yes p=0.0 chi2=421.19\n",
            "HasTechSupportAccess \n",
            " yes p=0.0 chi2=620.79\n",
            "HasOnlineTV \n",
            " yes p=0.0 chi2=280.16\n",
            "HasMovieSubscription \n",
            " yes p=0.0 chi2=284.99\n",
            "HasContractPhone \n",
            " yes p=0.0 chi2=881.64\n",
            "IsBillingPaperless \n",
            " yes p=0.0 chi2=197.98\n",
            "PaymentMethod \n",
            " yes p=0.0 chi2=472.06\n"
          ]
        }
      ]
    },
    {
      "cell_type": "markdown",
      "source": [
        "Cтатистически значимая корреляция между категориальными признаками и целевым отсутствует у Sex и HasPhoneService"
      ],
      "metadata": {
        "id": "aPGl0uxjXrVp"
      }
    },
    {
      "cell_type": "markdown",
      "metadata": {
        "id": "DviiJd8REEZK"
      },
      "source": [
        "## Применение линейных моделей (3 балла)\n",
        "\n",
        "1) Обработайте данные для того, чтобы к ним можно было применить LogisticRegression. Т.е. отнормируйте числовые признаки, а категориальные закодируйте с помощью one-hot-encoding'а.\n",
        "\n",
        "2) С помощью кроссвалидации или разделения на train/valid выборку протестируйте разные значения гиперпараметра C и выберите лучший (можно тестировать С=100, 10, 1, 0.1, 0.01, 0.001) по метрике ROC-AUC.\n",
        "\n",
        "Если вы разделяете на train/valid, то используйте LogisticRegressionCV. Он сам при вызове .fit() подберет параметр С. (не забудьте передать scroing='roc_auc', чтобы при кроссвалидации сравнивались значения этой метрики, и refit=True, чтобы при потом модель обучилась на всем датасете с лучшим параметром C).\n",
        "\n",
        "\n",
        "(более сложный вариант) Если вы будете использовать кроссвалидацию, то преобразования данных и LogisticRegression нужно соединить в один Pipeline с помощью make_pipeline, как это делалось во втором семинаре. Потом pipeline надо передать в GridSearchCV. Для one-hot-encoding'a можно испльзовать комбинацию LabelEncoder + OneHotEncoder (сначала превращаем строчки в числа, а потом числа првращаем в one-hot вектора.)"
      ]
    },
    {
      "cell_type": "code",
      "metadata": {
        "id": "P2Yv3uYtEEZO"
      },
      "source": [
        "drop_cols = ['Sex', 'HasPhoneService', 'Churn']\n",
        "X = data.drop(drop_cols, axis=1)\n",
        "\n",
        "cat_cols=X.select_dtypes(include='object').columns\n",
        "num_cols=X.select_dtypes(exclude='object').columns\n",
        "\n",
        "X_num_log = np.log1p(X[num_cols])\n",
        "\n",
        "X_cat = pd.get_dummies(X[cat_cols], drop_first=True)\n",
        "\n",
        "X_=X_num_log.join(X_cat)"
      ],
      "execution_count": 133,
      "outputs": []
    },
    {
      "cell_type": "code",
      "source": [
        "X_test = data_test.drop(drop_cols[:-1], axis=1)\n",
        "\n",
        "X_test_num_log = np.log1p(X_test[num_cols])\n",
        "\n",
        "X_test_cat = pd.get_dummies(X_test[cat_cols], drop_first=True)\n",
        "\n",
        "X_test_=X_test_num_log.join(X_test_cat)"
      ],
      "metadata": {
        "id": "B6c406Nte1fq"
      },
      "execution_count": 134,
      "outputs": []
    },
    {
      "cell_type": "code",
      "source": [
        "y = data['Churn']"
      ],
      "metadata": {
        "id": "03VaNJ-JsYkT"
      },
      "execution_count": 135,
      "outputs": []
    },
    {
      "cell_type": "code",
      "source": [
        "x_train, x_test, y_train, y_test = train_test_split(X_, y, stratify=y, train_size = 0.8, random_state = 1)"
      ],
      "metadata": {
        "id": "Hs_jtbQASSlp"
      },
      "execution_count": 173,
      "outputs": []
    },
    {
      "cell_type": "code",
      "source": [
        "model = LogisticRegressionCV(cv=5, scoring='roc_auc', refit=True, solver='newton-cholesky')\n",
        "\n",
        "model.fit(x_train, y_train)"
      ],
      "metadata": {
        "colab": {
          "base_uri": "https://localhost:8080/",
          "height": 74
        },
        "id": "_cE3WSYSSldE",
        "outputId": "a0badec3-137e-4596-bc79-07c876d3cf91"
      },
      "execution_count": 181,
      "outputs": [
        {
          "output_type": "execute_result",
          "data": {
            "text/plain": [
              "LogisticRegressionCV(cv=2, scoring='roc_auc', solver='newton-cholesky')"
            ],
            "text/html": [
              "<style>#sk-container-id-7 {color: black;background-color: white;}#sk-container-id-7 pre{padding: 0;}#sk-container-id-7 div.sk-toggleable {background-color: white;}#sk-container-id-7 label.sk-toggleable__label {cursor: pointer;display: block;width: 100%;margin-bottom: 0;padding: 0.3em;box-sizing: border-box;text-align: center;}#sk-container-id-7 label.sk-toggleable__label-arrow:before {content: \"▸\";float: left;margin-right: 0.25em;color: #696969;}#sk-container-id-7 label.sk-toggleable__label-arrow:hover:before {color: black;}#sk-container-id-7 div.sk-estimator:hover label.sk-toggleable__label-arrow:before {color: black;}#sk-container-id-7 div.sk-toggleable__content {max-height: 0;max-width: 0;overflow: hidden;text-align: left;background-color: #f0f8ff;}#sk-container-id-7 div.sk-toggleable__content pre {margin: 0.2em;color: black;border-radius: 0.25em;background-color: #f0f8ff;}#sk-container-id-7 input.sk-toggleable__control:checked~div.sk-toggleable__content {max-height: 200px;max-width: 100%;overflow: auto;}#sk-container-id-7 input.sk-toggleable__control:checked~label.sk-toggleable__label-arrow:before {content: \"▾\";}#sk-container-id-7 div.sk-estimator input.sk-toggleable__control:checked~label.sk-toggleable__label {background-color: #d4ebff;}#sk-container-id-7 div.sk-label input.sk-toggleable__control:checked~label.sk-toggleable__label {background-color: #d4ebff;}#sk-container-id-7 input.sk-hidden--visually {border: 0;clip: rect(1px 1px 1px 1px);clip: rect(1px, 1px, 1px, 1px);height: 1px;margin: -1px;overflow: hidden;padding: 0;position: absolute;width: 1px;}#sk-container-id-7 div.sk-estimator {font-family: monospace;background-color: #f0f8ff;border: 1px dotted black;border-radius: 0.25em;box-sizing: border-box;margin-bottom: 0.5em;}#sk-container-id-7 div.sk-estimator:hover {background-color: #d4ebff;}#sk-container-id-7 div.sk-parallel-item::after {content: \"\";width: 100%;border-bottom: 1px solid gray;flex-grow: 1;}#sk-container-id-7 div.sk-label:hover label.sk-toggleable__label {background-color: #d4ebff;}#sk-container-id-7 div.sk-serial::before {content: \"\";position: absolute;border-left: 1px solid gray;box-sizing: border-box;top: 0;bottom: 0;left: 50%;z-index: 0;}#sk-container-id-7 div.sk-serial {display: flex;flex-direction: column;align-items: center;background-color: white;padding-right: 0.2em;padding-left: 0.2em;position: relative;}#sk-container-id-7 div.sk-item {position: relative;z-index: 1;}#sk-container-id-7 div.sk-parallel {display: flex;align-items: stretch;justify-content: center;background-color: white;position: relative;}#sk-container-id-7 div.sk-item::before, #sk-container-id-7 div.sk-parallel-item::before {content: \"\";position: absolute;border-left: 1px solid gray;box-sizing: border-box;top: 0;bottom: 0;left: 50%;z-index: -1;}#sk-container-id-7 div.sk-parallel-item {display: flex;flex-direction: column;z-index: 1;position: relative;background-color: white;}#sk-container-id-7 div.sk-parallel-item:first-child::after {align-self: flex-end;width: 50%;}#sk-container-id-7 div.sk-parallel-item:last-child::after {align-self: flex-start;width: 50%;}#sk-container-id-7 div.sk-parallel-item:only-child::after {width: 0;}#sk-container-id-7 div.sk-dashed-wrapped {border: 1px dashed gray;margin: 0 0.4em 0.5em 0.4em;box-sizing: border-box;padding-bottom: 0.4em;background-color: white;}#sk-container-id-7 div.sk-label label {font-family: monospace;font-weight: bold;display: inline-block;line-height: 1.2em;}#sk-container-id-7 div.sk-label-container {text-align: center;}#sk-container-id-7 div.sk-container {/* jupyter's `normalize.less` sets `[hidden] { display: none; }` but bootstrap.min.css set `[hidden] { display: none !important; }` so we also need the `!important` here to be able to override the default hidden behavior on the sphinx rendered scikit-learn.org. See: https://github.com/scikit-learn/scikit-learn/issues/21755 */display: inline-block !important;position: relative;}#sk-container-id-7 div.sk-text-repr-fallback {display: none;}</style><div id=\"sk-container-id-7\" class=\"sk-top-container\"><div class=\"sk-text-repr-fallback\"><pre>LogisticRegressionCV(cv=2, scoring=&#x27;roc_auc&#x27;, solver=&#x27;newton-cholesky&#x27;)</pre><b>In a Jupyter environment, please rerun this cell to show the HTML representation or trust the notebook. <br />On GitHub, the HTML representation is unable to render, please try loading this page with nbviewer.org.</b></div><div class=\"sk-container\" hidden><div class=\"sk-item\"><div class=\"sk-estimator sk-toggleable\"><input class=\"sk-toggleable__control sk-hidden--visually\" id=\"sk-estimator-id-7\" type=\"checkbox\" checked><label for=\"sk-estimator-id-7\" class=\"sk-toggleable__label sk-toggleable__label-arrow\">LogisticRegressionCV</label><div class=\"sk-toggleable__content\"><pre>LogisticRegressionCV(cv=2, scoring=&#x27;roc_auc&#x27;, solver=&#x27;newton-cholesky&#x27;)</pre></div></div></div></div></div>"
            ]
          },
          "metadata": {},
          "execution_count": 181
        }
      ]
    },
    {
      "cell_type": "code",
      "source": [
        "prediction = model.predict(x_test)\n",
        "\n",
        "roc_auc = roc_auc_score(y_test, prediction)\n",
        "\n",
        "print(f'ROC-AUC: {roc_auc:.5f}')"
      ],
      "metadata": {
        "colab": {
          "base_uri": "https://localhost:8080/"
        },
        "id": "dCQZCBalVSk_",
        "outputId": "3d1ab104-45cd-48bf-84d3-75421d53a466"
      },
      "execution_count": 182,
      "outputs": [
        {
          "output_type": "stream",
          "name": "stdout",
          "text": [
            "ROC-AUC: 0.71506\n"
          ]
        }
      ]
    },
    {
      "cell_type": "markdown",
      "source": [
        "---"
      ],
      "metadata": {
        "id": "1F6-FFhByVq-"
      }
    },
    {
      "cell_type": "code",
      "source": [
        "svm_model = SVC(kernel='linear', probability=True)\n",
        "\n",
        "svm_model.fit(x_train, y_train)\n",
        "\n",
        "prediction = svm_model.predict_proba(x_test)[:, 1]\n",
        "\n",
        "roc_auc = roc_auc_score(y_test, prediction)\n",
        "print(f'ROC-AUC: {roc_auc:.5f}')"
      ],
      "metadata": {
        "colab": {
          "base_uri": "https://localhost:8080/"
        },
        "id": "qXQGeu7TyWXb",
        "outputId": "607e7a5d-0bef-4901-d303-4c2db9ff81ee"
      },
      "execution_count": 139,
      "outputs": [
        {
          "output_type": "stream",
          "name": "stdout",
          "text": [
            "ROC-AUC: 0.84778\n"
          ]
        }
      ]
    },
    {
      "cell_type": "markdown",
      "source": [
        "---"
      ],
      "metadata": {
        "id": "kmXZi0-C3Ajp"
      }
    },
    {
      "cell_type": "code",
      "source": [
        "random_forest = RandomForestClassifier()\n",
        "\n",
        "random_forest.fit(x_train, y_train)\n",
        "\n",
        "prediction = random_forest.predict_proba(x_test)[:, 1]\n",
        "\n",
        "roc_auc = roc_auc_score(y_test, prediction)\n",
        "print(f\"Test ROC AUC: {roc_auc:.5f}\")"
      ],
      "metadata": {
        "colab": {
          "base_uri": "https://localhost:8080/"
        },
        "id": "43vcyJU-3ARY",
        "outputId": "97593f54-f782-490c-b9fe-775fb949bc17"
      },
      "execution_count": 152,
      "outputs": [
        {
          "output_type": "stream",
          "name": "stdout",
          "text": [
            "Test ROC AUC: 0.82521\n"
          ]
        }
      ]
    },
    {
      "cell_type": "markdown",
      "metadata": {
        "id": "BlTeVy7fEEZR"
      },
      "source": [
        "## Применение градиентного бустинга (2 балла)\n",
        "\n",
        "Если вы хотите получить баллы за точный ответ, то стоит попробовать градиентный бустинг. Часто градиентный бустинг с параметрами по умолчанию даст вам 80% результата за 0% усилий.\n",
        "\n",
        "Мы будем использовать catboost, поэтому нам не надо кодировать категориальные признаки. Catboost сделает это сам (в .fit() надо передать cat_features=cat_cols). А численные признаки нормировать для моделей, основанных на деревьях не нужно.\n",
        "\n",
        "1) Разделите выборку на train/valid. Протестируйте catboost cо стандартными параметрами.\n",
        "\n",
        "2) Протестируйте разные занчения параметроа количества деревьев и learning_rate'а и выберите лучшую по метрике ROC-AUC комбинацию.\n",
        "\n",
        "(Дополнительно) Есть некоторые сложности с тем, чтобы использовать CatBoostClassifier вместе с GridSearchCV, поэтому мы не просим использовать кроссвалидацию. Но можете попробовать)"
      ]
    },
    {
      "cell_type": "code",
      "source": [
        "cat_features_=list(x_train.select_dtypes(include='object').columns)\n",
        "\n",
        "# train_pool = Pool(data=x_train, label=y_train, cat_features=cat_features_)\n",
        "# test_pool = Pool(data=x_test, cat_features=cat_features_)\n",
        "\n",
        "train_pool = Pool(data=X_, label=data['Churn'], cat_features=cat_features_)\n",
        "test_pool = Pool(data=X_test_, cat_features=cat_features_)"
      ],
      "metadata": {
        "id": "mmlD3H8mY41F"
      },
      "execution_count": 169,
      "outputs": []
    },
    {
      "cell_type": "code",
      "source": [
        "param_grid = {'iterations': [100, 500, 1000],\n",
        "              'depth': [2, 4, 6, 8],\n",
        "              'learning_rate': [0.01, 0.06, 0.1]}"
      ],
      "metadata": {
        "id": "Cciht30JZgSo"
      },
      "execution_count": 87,
      "outputs": []
    },
    {
      "cell_type": "code",
      "source": [
        "model = CatBoostClassifier()\n",
        "\n",
        "roc_auc_scorer = make_scorer(roc_auc_score, needs_proba=True)\n",
        "\n",
        "grid_search = GridSearchCV(model, param_grid, cv=3, scoring=roc_auc_scorer)\n",
        "\n",
        "grid_search.fit(X_, y)\n",
        "\n",
        "best_params = grid_search.best_params_"
      ],
      "metadata": {
        "id": "dYdQaecPZ7qv"
      },
      "execution_count": null,
      "outputs": []
    },
    {
      "cell_type": "code",
      "source": [
        "best_params"
      ],
      "metadata": {
        "colab": {
          "base_uri": "https://localhost:8080/"
        },
        "id": "3PVsuXh_drA0",
        "outputId": "23fef9f7-ce62-4ae8-e6a3-84f8a34d612c"
      },
      "execution_count": 90,
      "outputs": [
        {
          "output_type": "execute_result",
          "data": {
            "text/plain": [
              "{'depth': 2, 'iterations': 1000, 'learning_rate': 0.01}"
            ]
          },
          "metadata": {},
          "execution_count": 90
        }
      ]
    },
    {
      "cell_type": "code",
      "source": [
        "best_params_ ={'depth': 2, 'iterations': 1000, 'learning_rate': 0.01}"
      ],
      "metadata": {
        "id": "SiPXa8Qfq2Fz"
      },
      "execution_count": 68,
      "outputs": []
    },
    {
      "cell_type": "code",
      "source": [
        "model = CatBoostClassifier(**best_params_)\n",
        "\n",
        "model.fit(train_pool)"
      ],
      "metadata": {
        "id": "RFf97VUnY-fe"
      },
      "execution_count": null,
      "outputs": []
    },
    {
      "cell_type": "code",
      "source": [
        "prediction = model.predict_proba(test_pool)[:, 1]\n",
        "\n",
        "roc_auc = roc_auc_score(y_test, prediction)\n",
        "\n",
        "print(f'ROC-AUC: {roc_auc:.5f}')"
      ],
      "metadata": {
        "id": "fBYvY6WqZCUp",
        "colab": {
          "base_uri": "https://localhost:8080/"
        },
        "outputId": "60fb4acc-c2bc-4e6f-b5f5-28a7163d4c7a"
      },
      "execution_count": 142,
      "outputs": [
        {
          "output_type": "stream",
          "name": "stdout",
          "text": [
            "ROC-AUC: 0.85441\n"
          ]
        }
      ]
    },
    {
      "cell_type": "code",
      "source": [
        "models = []\n",
        "for i in range(3):\n",
        "  model = CatBoostClassifier(**best_params_,\n",
        "                             random_seed=i\n",
        "                            )\n",
        "  model.fit(train_pool)\n",
        "  models.append(model)"
      ],
      "metadata": {
        "id": "mX0LhtESvQBM"
      },
      "execution_count": null,
      "outputs": []
    },
    {
      "cell_type": "code",
      "source": [
        "prediction = [model.predict_proba(test_pool)[:, 1] for model in models]\n",
        "avg_prediction = np.mean(prediction, axis=0)"
      ],
      "metadata": {
        "id": "KJ4xjeYlwDR7"
      },
      "execution_count": 171,
      "outputs": []
    },
    {
      "cell_type": "code",
      "source": [
        "roc_auc = roc_auc_score(y_test, avg_prediction)\n",
        "\n",
        "print(f'ROC-AUC: {roc_auc:.5f}')"
      ],
      "metadata": {
        "colab": {
          "base_uri": "https://localhost:8080/"
        },
        "id": "XLWPLfz-0_Wu",
        "outputId": "4a39d2b6-b93c-4d4f-ef94-1ad662469f04"
      },
      "execution_count": 145,
      "outputs": [
        {
          "output_type": "stream",
          "name": "stdout",
          "text": [
            "ROC-AUC: 0.85432\n"
          ]
        }
      ]
    },
    {
      "cell_type": "markdown",
      "metadata": {
        "id": "rf4Kjt96EEZU"
      },
      "source": [
        "Выпишите, какое лучшее качество и с какими параметрами вам удалось получить"
      ]
    },
    {
      "cell_type": "markdown",
      "metadata": {
        "id": "d2d9GolXEEZV"
      },
      "source": [
        "Лучшее качество на kaggle 0.85329\n",
        "\n",
        "Все признаки, корме 'Sex' и 'HasPhoneService'\n",
        "\n",
        "Числовые прологорифмированы, категориальные one-hot\n",
        "\n",
        "Параметры подобраны с помощью GridSearchCV: `{'depth': 2, 'iterations': 1000, 'learning_rate': 0.01}`\n",
        "\n",
        "Лучший результат на ансамбле из трех моделей CatBoostClassifier с разным random_state"
      ]
    },
    {
      "cell_type": "markdown",
      "metadata": {
        "id": "dDMXbvNZEEZV"
      },
      "source": [
        "# Предсказания"
      ]
    },
    {
      "cell_type": "code",
      "metadata": {
        "id": "G_P4wFNaEEZW"
      },
      "source": [
        "best_model = #ансамбль CatBoostClassifier с параметрами {'depth': 2, 'iterations': 1000, 'learning_rate': 0.01} и разным random_state"
      ],
      "execution_count": null,
      "outputs": []
    },
    {
      "cell_type": "code",
      "source": [
        "submission = pd.read_csv('./submission.csv')\n",
        "\n",
        "submission['Churn'] = avg_prediction\n",
        "submission.to_csv('./my_submission.csv', index=False)\n",
        "files.download('my_submission.csv')"
      ],
      "metadata": {
        "colab": {
          "base_uri": "https://localhost:8080/",
          "height": 17
        },
        "id": "_ojIzfx0fN12",
        "outputId": "01eade8a-ee52-4363-98b8-3688878015e8"
      },
      "execution_count": 172,
      "outputs": [
        {
          "output_type": "display_data",
          "data": {
            "text/plain": [
              "<IPython.core.display.Javascript object>"
            ],
            "application/javascript": [
              "\n",
              "    async function download(id, filename, size) {\n",
              "      if (!google.colab.kernel.accessAllowed) {\n",
              "        return;\n",
              "      }\n",
              "      const div = document.createElement('div');\n",
              "      const label = document.createElement('label');\n",
              "      label.textContent = `Downloading \"${filename}\": `;\n",
              "      div.appendChild(label);\n",
              "      const progress = document.createElement('progress');\n",
              "      progress.max = size;\n",
              "      div.appendChild(progress);\n",
              "      document.body.appendChild(div);\n",
              "\n",
              "      const buffers = [];\n",
              "      let downloaded = 0;\n",
              "\n",
              "      const channel = await google.colab.kernel.comms.open(id);\n",
              "      // Send a message to notify the kernel that we're ready.\n",
              "      channel.send({})\n",
              "\n",
              "      for await (const message of channel.messages) {\n",
              "        // Send a message to notify the kernel that we're ready.\n",
              "        channel.send({})\n",
              "        if (message.buffers) {\n",
              "          for (const buffer of message.buffers) {\n",
              "            buffers.push(buffer);\n",
              "            downloaded += buffer.byteLength;\n",
              "            progress.value = downloaded;\n",
              "          }\n",
              "        }\n",
              "      }\n",
              "      const blob = new Blob(buffers, {type: 'application/binary'});\n",
              "      const a = document.createElement('a');\n",
              "      a.href = window.URL.createObjectURL(blob);\n",
              "      a.download = filename;\n",
              "      div.appendChild(a);\n",
              "      a.click();\n",
              "      div.remove();\n",
              "    }\n",
              "  "
            ]
          },
          "metadata": {}
        },
        {
          "output_type": "display_data",
          "data": {
            "text/plain": [
              "<IPython.core.display.Javascript object>"
            ],
            "application/javascript": [
              "download(\"download_fd59fc96-6078-4d1d-9cdd-151e1a7e5b85\", \"my_submission.csv\", 42436)"
            ]
          },
          "metadata": {}
        }
      ]
    },
    {
      "cell_type": "markdown",
      "source": [
        "---\n",
        "feature_importances"
      ],
      "metadata": {
        "id": "bR4otDSZ6uk8"
      }
    },
    {
      "cell_type": "code",
      "source": [
        "feature_importance = model.feature_importances_\n",
        "sorted_idx = np.argsort(feature_importance)\n",
        "\n",
        "plt.figure(figsize=(10, 8))\n",
        "plt.barh(range(len(sorted_idx)), feature_importance[sorted_idx], align='center')\n",
        "plt.yticks(range(len(sorted_idx)), [X_.columns[i] for i in sorted_idx])\n",
        "plt.xlabel('Важность признаков')\n",
        "plt.ylabel('Признаки')\n",
        "plt.title('Feature Importance')\n",
        "plt.show()"
      ],
      "metadata": {
        "id": "eoNce9Yu0OM5",
        "colab": {
          "base_uri": "https://localhost:8080/",
          "height": 718
        },
        "outputId": "af9cb712-b972-4347-cb3d-0bf92e659609"
      },
      "execution_count": null,
      "outputs": [
        {
          "output_type": "display_data",
          "data": {
            "text/plain": [
              "<Figure size 1000x800 with 1 Axes>"
            ],
            "image/png": "[encoded data removed]"
          },
          "metadata": {}
        }
      ]
    },
    {
      "cell_type": "code",
      "source": [
        "drop_cols = [X_.columns[i] for i in sorted_idx][:7]"
      ],
      "metadata": {
        "colab": {
          "base_uri": "https://localhost:8080/"
        },
        "id": "opGr5q1PxyqN",
        "outputId": "fe8e33c8-249b-4c9e-bfef-d6b291960de7"
      },
      "execution_count": null,
      "outputs": [
        {
          "output_type": "execute_result",
          "data": {
            "text/plain": [
              "['HasMovieSubscription',\n",
              " 'Sex',\n",
              " 'HasPartner',\n",
              " 'HasDeviceProtection',\n",
              " 'HasOnlineTV',\n",
              " 'HasPhoneService',\n",
              " 'HasChild']"
            ]
          },
          "metadata": {},
          "execution_count": 141
        }
      ]
    }
  ]
}