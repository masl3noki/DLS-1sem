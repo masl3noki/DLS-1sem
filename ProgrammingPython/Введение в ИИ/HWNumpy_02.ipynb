{
  "cells": [
    {
      "cell_type": "markdown",
      "metadata": {
        "id": "8HLE1cJ9k6HW"
      },
      "source": [
        "# Домашнее задание. Линейная алгебра и библиотека NumPy\n",
        "В этом домашнем задании вам предстоит самостоятельно реализовать линейно-алгебраические операции с помощью чистого Python, а затем попрактиковаться в использовании уже готовых реализаций из numpy. Кроме того, вы сравните время работы вашей реализации с реализацией из библиотеки NumPy и убедитесь, что скорость работы \"коробочных\" реализаций выше."
      ]
    },
    {
      "cell_type": "code",
      "execution_count": 1,
      "metadata": {
        "id": "YEJ8DQ4QK7kx"
      },
      "outputs": [
        {
          "ename": "ModuleNotFoundError",
          "evalue": "No module named 'scipy'",
          "output_type": "error",
          "traceback": [
            "\u001b[1;31m---------------------------------------------------------------------------\u001b[0m",
            "\u001b[1;31mModuleNotFoundError\u001b[0m                       Traceback (most recent call last)",
            "\u001b[1;32mc:\\Users\\masle\\Documents\\Deep Learning School\\ProgrammingPython\\hw_linear_algebra_numpy.ipynb Cell 2\u001b[0m line \u001b[0;36m3\n\u001b[0;32m      <a href='vscode-notebook-cell:/c%3A/Users/masle/Documents/Deep%20Learning%20School/ProgrammingPython/hw_linear_algebra_numpy.ipynb#W1sZmlsZQ%3D%3D?line=0'>1</a>\u001b[0m \u001b[39mimport\u001b[39;00m \u001b[39mnumpy\u001b[39;00m \u001b[39mas\u001b[39;00m \u001b[39mnp\u001b[39;00m\n\u001b[0;32m      <a href='vscode-notebook-cell:/c%3A/Users/masle/Documents/Deep%20Learning%20School/ProgrammingPython/hw_linear_algebra_numpy.ipynb#W1sZmlsZQ%3D%3D?line=1'>2</a>\u001b[0m \u001b[39mimport\u001b[39;00m \u001b[39mrandom\u001b[39;00m\n\u001b[1;32m----> <a href='vscode-notebook-cell:/c%3A/Users/masle/Documents/Deep%20Learning%20School/ProgrammingPython/hw_linear_algebra_numpy.ipynb#W1sZmlsZQ%3D%3D?line=2'>3</a>\u001b[0m \u001b[39mimport\u001b[39;00m \u001b[39mscipy\u001b[39;00m\u001b[39m.\u001b[39;00m\u001b[39mstats\u001b[39;00m \u001b[39mas\u001b[39;00m \u001b[39msps\u001b[39;00m\n",
            "\u001b[1;31mModuleNotFoundError\u001b[0m: No module named 'scipy'"
          ]
        }
      ],
      "source": [
        "import numpy as np\n",
        "import random\n",
        "import scipy.stats as sps"
      ]
    },
    {
      "cell_type": "markdown",
      "metadata": {
        "id": "BCemQSq-aEbO"
      },
      "source": [
        "## Задание 1\n",
        "Вам подаются на вход два вектора `a` и `b` в трехмерном пространстве. Заполните их случайными числами. Реализуйте их скалярное произведение с помощью  `NumPy` и без. Засеките время работы, как это показано в заданиях выше."
      ]
    },
    {
      "cell_type": "code",
      "execution_count": null,
      "metadata": {
        "colab": {
          "base_uri": "https://localhost:8080/"
        },
        "id": "lWhr_gPSZ9o_",
        "outputId": "78800ae7-d578-4649-c233-0d3d72239185"
      },
      "outputs": [
        {
          "name": "stdout",
          "output_type": "stream",
          "text": [
            "<class 'numpy.ndarray'> [0.25517625 0.34595235 0.36132484]\n"
          ]
        }
      ],
      "source": [
        "a = np.random.sample((1, 3))\n",
        "a = list(a)[0]\n",
        "b = np.random.sample((1, 3))\n",
        "b = list(b)[0]\n",
        "print(a, b)"
      ]
    },
    {
      "cell_type": "code",
      "execution_count": null,
      "metadata": {
        "id": "GjlkcHIWZ_ae"
      },
      "outputs": [],
      "source": [
        "def no_numpy_scalar(v1, v2):\n",
        "    \"\"\"\n",
        "    v1: list[n] --- первый вектор-аргумент длиной n\n",
        "    v2: list[n] --- второй вектор-аргумент длиной n\n",
        "    return c: float  --- результат скалярного произведения векторов v1 и v2\n",
        "\n",
        "    Функция принимает на вход два вектора длиной n\n",
        "    Возвращает число, равное их скалярному произведению v1 и v2\n",
        "\n",
        "    Реализуйте скалярное умножение векторов, не используя функции из пакета numpy\n",
        "\n",
        "    \"\"\"\n",
        "    result = #YOUR CODE\n",
        "    return result"
      ]
    },
    {
      "cell_type": "code",
      "execution_count": null,
      "metadata": {
        "id": "C2M-OAp5Z_6a"
      },
      "outputs": [],
      "source": [
        "def numpy_scalar(v1, v2):\n",
        "    \"\"\"\n",
        "    v1: np.array[n] --- первый вектор-аргумент длиной n\n",
        "    v2: np.array[n] --- второй вектор-аргумент длиной n\n",
        "    return c: float  --- результат скалярного произведения векторов v1 и v2\n",
        "\n",
        "    Функция принимает на вход два вектора длиной n\n",
        "    Возвращает число, равное их скалярному произведению\n",
        "\n",
        "    Реализуйте скалярное умножение векторов, используя функции из пакета numpy\n",
        "    \"\"\"\n",
        "    result = #YOUR CODE\n",
        "    return result"
      ]
    },
    {
      "cell_type": "code",
      "execution_count": null,
      "metadata": {
        "id": "BOQfYf-2aCQJ",
        "scrolled": true
      },
      "outputs": [],
      "source": [
        "%time product_1 = no_numpy_scalar(a,b)\n",
        "%time product_2 = numpy_scalar(a,b)\n",
        "\n",
        "# проверим корректность:\n",
        "assert np.allclose(product_1, product_2)"
      ]
    },
    {
      "cell_type": "markdown",
      "metadata": {
        "id": "hYXhVX0eK7k2"
      },
      "source": [
        "## Задание 2\n",
        "Вам предлагается перемножить две квадратные матрицы двумя способами -- без использования пакета `numpy` и с ним."
      ]
    },
    {
      "cell_type": "code",
      "execution_count": null,
      "metadata": {
        "colab": {
          "base_uri": "https://localhost:8080/"
        },
        "id": "zJR8EANzK7k3",
        "outputId": "2f85a0d3-be9d-411b-c35f-09590130f3c9"
      },
      "outputs": [
        {
          "name": "stdout",
          "output_type": "stream",
          "text": [
            "[[0.395839   0.21379428 0.07247983 ... 0.64980615 0.64291476 0.32526086]\n",
            " [0.99447693 0.63253878 0.10648252 ... 0.09038331 0.08219018 0.63331995]\n",
            " [0.03470463 0.83264811 0.00266264 ... 0.41459466 0.20456353 0.88582864]\n",
            " ...\n",
            " [0.6902504  0.10926463 0.64770747 ... 0.7091193  0.19629277 0.9975028 ]\n",
            " [0.64204202 0.65320852 0.35489944 ... 0.00704072 0.78367391 0.59237454]\n",
            " [0.84137914 0.89991396 0.55261748 ... 0.3186097  0.48761123 0.91937383]]\n",
            "[[0.19223844 0.02409304 0.41697875 ... 0.2896223  0.03328157 0.64914984]\n",
            " [0.59910385 0.40862453 0.40050159 ... 0.89650084 0.46264964 0.90442002]\n",
            " [0.87800265 0.28263125 0.82332552 ... 0.71561631 0.51356527 0.58747008]\n",
            " ...\n",
            " [0.83887046 0.24098338 0.29652699 ... 0.75683419 0.17818834 0.37654114]\n",
            " [0.26376756 0.33976523 0.95381248 ... 0.8179511  0.18956817 0.70542156]\n",
            " [0.02341907 0.56668502 0.53320765 ... 0.52531754 0.27821011 0.91949749]]\n"
          ]
        }
      ],
      "source": [
        "# Для генерации матриц используем фукнцию random -- она используется для генерации случайных объектов\n",
        "# функция sample создает случайную выборку. В качестве аргумента ей передается кортеж (i,j),\n",
        "# здесь i -- число строк, j -- число столбцов.\n",
        "a = np.random.sample((100, 100))\n",
        "b = np.random.sample((100, 100))\n",
        "\n",
        "# Выведите размерность (ранг) каждой матрицы с помощью функции ndim.\n",
        "# Используйте функцию shape, что она вывела?\n",
        "\n",
        "# ========\n",
        "# Ваш код здесь\n",
        "# ========\n",
        "print(a)\n",
        "print(b)"
      ]
    },
    {
      "cell_type": "code",
      "execution_count": null,
      "metadata": {
        "id": "bkWCI4TPK7k8"
      },
      "outputs": [],
      "source": [
        "def no_numpy_mult(a, b):\n",
        "    \"\"\"\n",
        "    A: list of \"size\" lists, each contains \"size\" floats --- первая матрица-аргумент\n",
        "    B: list of \"size\" lists, each contains \"size\" floats --- вторая матрица-аргумент\n",
        "    return C: list of \"size\" lists, each contains \"size\" floats --- матрица, являющаяся результатом умножения матриц a и b\n",
        "\n",
        "    Функция принимает на вход две матрицы: A и B размерностью size x size\n",
        "    Возвращает матрицу их произведения A * B = C\n",
        "\n",
        "    Реализуйте умножение матриц без использования функций из пакета numpy\n",
        "    \"\"\"\n",
        "    pass"
      ]
    },
    {
      "cell_type": "code",
      "execution_count": null,
      "metadata": {
        "id": "IIgYD1W5K7lB"
      },
      "outputs": [],
      "source": [
        "def numpy_mult(a, b):\n",
        "    \"\"\"\n",
        "    A: np.array[size, size]              --- первая матрица-аргумент\n",
        "    B: np.array[size, size]              --- вторая матрица-аргумент\n",
        "    return C: np.array[size, size]       --- матрица, являющаяся результатом умножения матриц A и B\n",
        "\n",
        "    Функция принимает на вход две матрицы: A и B размерностью size x size\n",
        "    Возвращает матрицу их произведения A * B = C\n",
        "\n",
        "    Реализуйте умножение матриц, используя функции из пакета numpy\n",
        "    \"\"\"\n",
        "    pass"
      ]
    },
    {
      "cell_type": "code",
      "execution_count": null,
      "metadata": {
        "id": "tktkYzUHK7lE"
      },
      "outputs": [],
      "source": [
        "%%time\n",
        "# засечем время работы функции без NumPy\n",
        "M1 = mult(a, b)"
      ]
    },
    {
      "cell_type": "code",
      "execution_count": null,
      "metadata": {
        "id": "TmD0adgHK7lK"
      },
      "outputs": [],
      "source": [
        "%%time\n",
        "# засечем время работы функции с NumPy\n",
        "M2 = np_mult(a, b)"
      ]
    },
    {
      "cell_type": "code",
      "execution_count": null,
      "metadata": {
        "id": "oftqyANQK7lS"
      },
      "outputs": [],
      "source": [
        "# проверим корректность\n",
        "assert np.allclose(np.array(M1), M2)"
      ]
    }
  ],
  "metadata": {
    "colab": {
      "provenance": []
    },
    "kernelspec": {
      "display_name": "Python 3",
      "name": "python3"
    },
    "language_info": {
      "codemirror_mode": {
        "name": "ipython",
        "version": 3
      },
      "file_extension": ".py",
      "mimetype": "text/x-python",
      "name": "python",
      "nbconvert_exporter": "python",
      "pygments_lexer": "ipython3",
      "version": "3.10.11"
    }
  },
  "nbformat": 4,
  "nbformat_minor": 0
}
